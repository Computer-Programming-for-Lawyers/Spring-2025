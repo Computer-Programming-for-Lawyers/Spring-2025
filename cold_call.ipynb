{
 "cells": [
  {
   "cell_type": "code",
   "execution_count": 1,
   "metadata": {},
   "outputs": [
    {
     "name": "stdout",
     "output_type": "stream",
     "text": [
      "other error\n"
     ]
    }
   ],
   "source": [
    "# cold_call.ipynb\n",
    "# created by Rachel Orey, Fall 2024\n",
    "# randomly selects student by name\n",
    "\n",
    "import random\n",
    "\n",
    "# load student names from file\n",
    "students = open('lecture/week-4/exercises/f24-students.csv').read().split(\"\\n\")\n",
    "\n",
    "# create empty list to store first names\n",
    "first_names = []\n",
    "\n",
    "# extract first names using for loop\n",
    "for student in students:\n",
    "    first_names.append(student.split(\" \")[0])\n",
    "\n",
    "#remove absent students\n",
    "absent_students = input(\"Provide the first names of absent students: \").split(\",\")\n",
    "\n",
    "if len(absent_students) > 1:\n",
    "    try:\n",
    "        for absent_student in absent_students:\n",
    "            first_names.remove(absent_student)\n",
    "    except:\n",
    "        print(\"other error\")"
   ]
  },
  {
   "cell_type": "code",
   "execution_count": 8,
   "metadata": {},
   "outputs": [
    {
     "name": "stdout",
     "output_type": "stream",
     "text": [
      "Selected student: Kelina\n"
     ]
    }
   ],
   "source": [
    "# if not all students have been called, randomly select\n",
    "if first_names:\n",
    "    selected = random.choice(first_names) # randomly select student\n",
    "    print(f\"Selected student: {selected}\") # print selection\n",
    "    first_names.remove(selected) # remove them from list so they don't get called again til everyone else has been called\n",
    "\n",
    "# if all students have been called (list empty), regenerate using cell above\n",
    "else:\n",
    "    print(\"All students have been called. Regenerate list.\")\n",
    "\n",
    "    # hint to students: we could put the entire above code block here so it would automatically regenerate when the list runs out. \n",
    "    # while it might seem counterintuitive to put the start of the code in the \"else\" category, because \"first_names\" wouldn't have been\n",
    "    # created yet, the first if statement would fail and the program would start here"
   ]
  }
 ],
 "metadata": {
  "kernelspec": {
   "display_name": "base",
   "language": "python",
   "name": "python3"
  },
  "language_info": {
   "codemirror_mode": {
    "name": "ipython",
    "version": 3
   },
   "file_extension": ".py",
   "mimetype": "text/x-python",
   "name": "python",
   "nbconvert_exporter": "python",
   "pygments_lexer": "ipython3",
   "version": "3.11.5"
  }
 },
 "nbformat": 4,
 "nbformat_minor": 2
}
