{
 "cells": [
  {
   "cell_type": "markdown",
   "metadata": {},
   "source": [
    "![Image1](ReyKona%20-%20Week1.jpg)"
   ]
  },
  {
   "cell_type": "markdown",
   "metadata": {},
   "source": [
    "# Computer Programming for Laywers, Intro.\n",
    "# Spring 2025.\n",
    "# Lab 1, January 16, 2025.\n",
    "## Agenda\n",
    "### 1. Introductions\n",
    "### 2. Logistics, Lab Policies, & Questions\n",
    "### 3. Lab Exercises"
   ]
  },
  {
   "cell_type": "markdown",
   "metadata": {},
   "source": [
    "![Image2](Week1_me.jpg)"
   ]
  },
  {
   "cell_type": "markdown",
   "metadata": {},
   "source": [
    "# 1. Introductions\n",
    "\n",
    "## Who am I?\n",
    "### Hoon Kim, 3L, Tech Law, ex-data science / ex-consultant / ex-soldier.\n",
    "<br>\n",
    "\n",
    "## Other miscellaneous facts.\n",
    "### Fur babies: Kona (bordoodle, 4) and Rey(kjavik) (Domestic longhair, 9)\n",
    "### Married. Live in Northern Virginia.\n",
    "### Born in South Korea, raised in Sudan, lived/worked in Tokyo, Philly, Boston, Denver.\n",
    "### I run (slowly), bike (poorly), and ski (perilously).\n",
    "<br>\n",
    "\n",
    "## And you are...?\n",
    "### I may forget your names during the next couple of weeks. I will try to prevent this from happening."
   ]
  },
  {
   "cell_type": "markdown",
   "metadata": {},
   "source": [
    "# 2. Logistics, Lab Policies, & Questions.\n",
    "\n",
    "## a. Lab Logistics: \n",
    "### Lab is at Thursdyas 15:30 in this room unless otherwise announced. \n",
    "### My Office Hours are Fridays and Saturdays at 11:00-12:00.\n",
    "<br>\n",
    "\n",
    "## b. Lab Policies:\n",
    "### Lab attendance is mandatory. Email me and Prof. Orey if you need to miss lab.\n",
    "### Cold calls?\n",
    "### Lab learning goals: prep you for weekly homework assignments with similar tasks.\n",
    "<br>\n",
    "\n",
    "## c. Questions?\n",
    "\n",
    "<br><br>"
   ]
  },
  {
   "cell_type": "markdown",
   "metadata": {},
   "source": [
    "![Git](Week1_git_light.jpeg)"
   ]
  },
  {
   "cell_type": "markdown",
   "metadata": {},
   "source": [
    "# 3. Programming Things.\n",
    "\n",
    "## a. Programming Infrastructure Related Issues\n",
    "\n",
    "### 0. Github Repo vs Codespaces. \n",
    "\n",
    "### i. Git: add, commit, push.\n",
    "\n",
    "### ii. Pseudocode: Planning your code in natural language.\n",
    "\n",
    "### iii. Modularization and variation: doing less work. If you think you need to do a thing multiple times, make it a module!\n",
    "\n",
    "\n"
   ]
  },
  {
   "cell_type": "markdown",
   "metadata": {},
   "source": [
    "## b. Actual Python Programming.\n",
    "\n",
    "### i. String concatenation. (using \"+\")\n",
    "\n",
    "### ii. Boolean Review (true/false; and/or/not; common gotchas (\"a==b and c\"))\n",
    "\n",
    "### iii. functions: input() & print()\n",
    "\n",
    "### iv. types and conversions int() and str()."
   ]
  },
  {
   "cell_type": "code",
   "execution_count": null,
   "metadata": {},
   "outputs": [],
   "source": [
    "# Exercise. Is it the weekend yet?\n",
    "\n",
    "# Basic US calendars.\n",
    "# Boolean islamic days of the week question.\n",
    "# Numbers to days (1~7 -> Monday~Sunday)."
   ]
  }
 ],
 "metadata": {
  "kernelspec": {
   "display_name": "Python 3",
   "language": "python",
   "name": "python3"
  },
  "language_info": {
   "name": "python",
   "version": "3.12.1"
  }
 },
 "nbformat": 4,
 "nbformat_minor": 2
}
