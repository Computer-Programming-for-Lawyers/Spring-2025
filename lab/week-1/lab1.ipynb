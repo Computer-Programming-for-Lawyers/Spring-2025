{
 "cells": [
  {
   "cell_type": "markdown",
   "metadata": {},
   "source": [
    "![Image1](ReyKona%20-%20Week1.jpg)"
   ]
  },
  {
   "cell_type": "markdown",
   "metadata": {},
   "source": [
    "# Computer Programming for Laywers, Intro.\n",
    "# Spring 2025.\n",
    "# Lab 1, January 16, 2025.\n",
    "## Agenda\n",
    "### 1. Introductions\n",
    "### 2. Logistics, Lab Policies, & Questions\n",
    "### 3. Lab Exercises"
   ]
  },
  {
   "cell_type": "markdown",
   "metadata": {},
   "source": [
    "![Image2](Week1_me.jpg)"
   ]
  },
  {
   "cell_type": "markdown",
   "metadata": {},
   "source": [
    "# 1. Introductions\n",
    "\n",
    "## Who am I?\n",
    "### Hoon Kim, 3L, Tech Law, ex-data science / ex-consultant / ex-soldier.\n",
    "<br>\n",
    "\n",
    "## Other miscellaneous facts.\n",
    "### Fur babies: Kona (bordoodle, 4) and Rey(kjavik) (Domestic longhair, 9)\n",
    "### Married. Live in Northern Virginia.\n",
    "### Born in South Korea, raised in Sudan, lived/worked in Tokyo, Philly, Boston, Denver.\n",
    "### I run (slowly), bike (poorly), and ski (perilously).\n",
    "<br>\n",
    "\n",
    "## And you are...?\n",
    "### I may forget your names during the next couple of weeks. I will try to prevent this from happening."
   ]
  },
  {
   "cell_type": "markdown",
   "metadata": {},
   "source": [
    "# 2. Logistics, Lab Policies, & Questions.\n",
    "\n",
    "## a. Lab Logistics: \n",
    "### Lab is at Thursdyas 15:30 in this room unless otherwise announced. \n",
    "### My Office Hours are Fridays and Saturdays at 11:00-12:00.\n",
    "<br>\n",
    "\n",
    "## b. Lab Policies:\n",
    "### Lab attendance is mandatory. Email me and Prof. Orey if you need to miss lab.\n",
    "### Cold calls?\n",
    "### Lab learning goals: prep you for weekly homework assignments with similar tasks.\n",
    "<br>\n",
    "\n",
    "## c. Questions?\n",
    "\n",
    "<br><br>"
   ]
  },
  {
   "cell_type": "markdown",
   "metadata": {},
   "source": [
    "![Git](Week1_git_light.jpeg)"
   ]
  },
  {
   "cell_type": "markdown",
   "metadata": {},
   "source": [
    "# 3. Programming Things.\n",
    "\n",
    "## a. Programming Infrastructure Related Issues\n",
    "\n",
    "### 0. Github Repo vs Codespaces. \n",
    "\n",
    "### i. Git: add, commit, push.\n",
    "\n",
    "### ii. Pseudocode: Planning your code in natural language.\n",
    "\n",
    "### iii. Modularization and variation: doing less work. If you think you need to do a thing multiple times, make it a module!\n",
    "\n",
    "\n"
   ]
  },
  {
   "cell_type": "markdown",
   "metadata": {},
   "source": [
    "## b. Actual Python Programming.\n",
    "\n",
    "### i. String concatenation. (using \"+\")\n",
    "\n",
    "### ii. Boolean Review (true/false; and/or/not; common gotchas (\"a==b and c\"))\n",
    "\n",
    "### iii. functions: input() & print()\n",
    "\n",
    "### iv. types and conversions int() and str()."
   ]
  },
  {
   "cell_type": "code",
   "execution_count": 15,
   "metadata": {},
   "outputs": [
    {
     "ename": "SyntaxError",
     "evalue": "incomplete input (574799853.py, line 25)",
     "output_type": "error",
     "traceback": [
      "\u001b[0;36m  Cell \u001b[0;32mIn[15], line 25\u001b[0;36m\u001b[0m\n\u001b[0;31m    # desired outcome: print 'hello world 2025'\u001b[0m\n\u001b[0m                                               ^\u001b[0m\n\u001b[0;31mSyntaxError\u001b[0m\u001b[0;31m:\u001b[0m incomplete input\n"
     ]
    }
   ],
   "source": [
    "x = 'hello'\n",
    "y = 'world'\n",
    "z = str(2025)\n",
    "a = int('1')\n",
    "\n",
    "\n",
    "i = 0\n",
    "isi100 = i == 100\n",
    "print(isi100)\n",
    "\n",
    "# i should be one hundred\n",
    "i = 100\n",
    "# check if i is one hundred\n",
    "isi100 = i == 100\n",
    "# \n",
    "print(isi100)\n",
    "\n",
    "# is a number x equal to 10 or 11??\n",
    "x = 11\n",
    "y = 'z'\n",
    "\n",
    "x == 11 and y == 'z' # -> good things happen\n",
    "\n",
    "tenoreleven = (x == 10 and 11)\n",
    "\n",
    "while tenoreleven:\n",
    "\n",
    "\n",
    "# desired outcome: print 'hello world 2025'"
   ]
  },
  {
   "cell_type": "code",
   "execution_count": null,
   "metadata": {},
   "outputs": [
    {
     "name": "stdout",
     "output_type": "stream",
     "text": [
      "saturday\n",
      "today is a weekday False\n"
     ]
    }
   ],
   "source": [
    "# Exercise. Is it the weekend yet?\n",
    "# Let's say we want a python program that tells us whether a given day of the week is the weekend or not.\n",
    "# We need the program to return Boolean values because we may want to use this program to generate inputs for a larger program.\n",
    "# What would be a real-world use case for such a feature?\n",
    "\n",
    "# What would be the components of such a program?\n",
    "t = input('Enter the day of week today:')\n",
    "#### things happened\n",
    "## actually it's friday\n",
    "print(t)\n",
    "# Q: Is it a weekday?\n",
    "# M -> TRUE\n",
    "# T -> TRUE\n",
    "...\n",
    "# Sat -> FALSE\n",
    "# Sun -> FALSE\n",
    "# let's pretend t\n",
    "\n",
    "# isweekday v1~v3 all do the same thing\n",
    "isweekday = t == 'monday' or t == 'tuesday' or t == 'wednesday' or t== 'thursday' or t== 'friday'\n",
    "isweekday2 = not(t == 'saturday' or t == 'sunday')\n",
    "isweekday3 = (t != 'saturday' and t != 'sunday')\n",
    "\n",
    "print('today is a weekday '+ str(isweekday))\n",
    "\n",
    "\n",
    "\n",
    "\n",
    "# US calendars.\n",
    "# Boolean islamic days of the week question.\n",
    "# Numbers to days (1~7 -> Monday~Sunday)."
   ]
  }
 ],
 "metadata": {
  "kernelspec": {
   "display_name": "Python 3",
   "language": "python",
   "name": "python3"
  },
  "language_info": {
   "codemirror_mode": {
    "name": "ipython",
    "version": 3
   },
   "file_extension": ".py",
   "mimetype": "text/x-python",
   "name": "python",
   "nbconvert_exporter": "python",
   "pygments_lexer": "ipython3",
   "version": "3.12.1"
  }
 },
 "nbformat": 4,
 "nbformat_minor": 2
}
