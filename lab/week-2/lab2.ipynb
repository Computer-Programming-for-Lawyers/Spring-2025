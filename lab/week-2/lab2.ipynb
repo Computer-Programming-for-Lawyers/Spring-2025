{
 "cells": [
  {
   "cell_type": "markdown",
   "metadata": {},
   "source": [
    "# Lab 2 - January 30\n",
    "\n",
    "## Today's Learning Goals\n",
    "### 1. Review boolean logic. (See Agenda Item #2)\n",
    "### 2. Get familiar with logic flows: if-elif-else & while loops. (See Agenda Item #3)\n",
    "\n",
    "# Today's Agenda\n",
    "\n",
    "### 1. Warmup\n",
    "\n",
    "\n",
    "### 2. Hot Lanes Review\n",
    "\n",
    "\n",
    "### 3. The exciting world of bot-driven Therapy."
   ]
  },
  {
   "cell_type": "markdown",
   "metadata": {},
   "source": [
    "![Image0](konapup.jpg)"
   ]
  },
  {
   "cell_type": "markdown",
   "metadata": {},
   "source": [
    "# Warmup Questions\n",
    "\n",
    "Can every else statement be rewritten as an elif statement? Why or why not?\n",
    "\n",
    "Why does Python need indentation?\n",
    "\n",
    "Can you ever create an infinite if-statement? Why or why not?\n",
    "\n",
    "Your program has an outer while-loop that runs for 10 iterations. It has two inner while-loops that run one following the other. The first inner while loop runs for 7 iterations and contains one print statement. The second inner while loop runs for 5 iterations and contains two print statements. How many times does the program print?\n",
    "\n",
    "Do if-statements have types? Do while-loops have types?\n"
   ]
  },
  {
   "cell_type": "markdown",
   "metadata": {},
   "source": [
    "![Image1](i66toll.webp)"
   ]
  },
  {
   "cell_type": "code",
   "execution_count": 3,
   "metadata": {},
   "outputs": [],
   "source": [
    "##### Hot Lanes #####\n",
    "\n",
    "## Pseudocoding Hot Lanes\n",
    "# In a nutshell, what are you trying to achieve in hotlanes?\n",
    "\n",
    "# The rules of the road:\n",
    "# I-42 is an obnoxious toll road that has the following rules:\n",
    "# 1. Tolls on eastbound cars in the morning.\n",
    "# 2. Tolls on westbound cars in the afternoon.\n",
    "# 3. No tolls for 3+ passenger vehicles at any time.\n",
    "\n",
    "## Coding Tool 1: Divide and Conquer\n",
    "### Subtask 1:\n",
    "### Subtask 2:\n",
    "### Subtask 3:\n",
    "\n",
    "## Coding Tool 2: Truth Tables"
   ]
  },
  {
   "cell_type": "markdown",
   "metadata": {},
   "source": [
    "[Bot-driven Therapy](https://www.fastcompany.com/91198644/people-are-using-chatgpt-as-a-therapist-mental-health-experts-have-some-concerns)\n",
    "\n",
    "[Eliza the OG Therapy-bot](https://psych.fullerton.edu/mbirnbaum/psych101/Eliza.htm)"
   ]
  },
  {
   "cell_type": "code",
   "execution_count": 4,
   "metadata": {},
   "outputs": [],
   "source": [
    "# Building therapist-bot v 0.0001\n",
    "\n",
    "# Therapist welcomes \"the patient\"\n",
    "\n",
    "# Allow the patient to say something\n",
    "\n",
    "# Any other ideas?\n",
    "\n",
    "# Therapist bot never gets tired, so it can keep giving \"advice\" (= answers).\n",
    "\n",
    "# However, the user should have a way to end their session.\n",
    "\n"
   ]
  }
 ],
 "metadata": {
  "kernelspec": {
   "display_name": "Python 3",
   "language": "python",
   "name": "python3"
  },
  "language_info": {
   "codemirror_mode": {
    "name": "ipython",
    "version": 3
   },
   "file_extension": ".py",
   "mimetype": "text/x-python",
   "name": "python",
   "nbconvert_exporter": "python",
   "pygments_lexer": "ipython3",
   "version": "3.12.1"
  }
 },
 "nbformat": 4,
 "nbformat_minor": 2
}
