{
 "cells": [
  {
   "cell_type": "markdown",
   "metadata": {},
   "source": [
    "![thumbnail](thumbnail.png)\n",
    "\n",
    "# Administrivia & Prior HW Review (10-15 minutes)\n",
    "\n",
    "### * No Q&A after lab today.\n",
    "\n",
    "### * If you want to follow along today, download cplhash.py and words.txt from\n",
    "![alt text](QR.png)\n",
    "\n",
    "### * Office Hours: Fri & Sat 11:00 am - 12:00 pm. \n",
    "### ** Anyone who cannot make these hours and would like to meet -> email me @ hk934@georgetown.edu\n",
    "\n",
    "### * Any pain points from HW2?"
   ]
  },
  {
   "cell_type": "code",
   "execution_count": null,
   "metadata": {},
   "outputs": [],
   "source": [
    "# Q & A Scratchpad\n",
    "again = True\n",
    "\n",
    "while again == True:\n",
    "    print(\"in copyright\") # ... \n",
    "\n",
    "    againinput = input(\"Again?\")\n",
    "    if againinput == 'yes':\n",
    "        again = True\n",
    "    else:\n",
    "        again = False\n",
    "\n",
    "# Alternative \"pythonic\" while loop\n",
    "# ask the questions\n",
    "\n",
    "# do the things\n",
    "while True:\n",
    "    # do the things\n",
    "\n",
    "\n",
    "    input_var = input(\"again\"\n",
    "                      )\n",
    "    if input_var != 'yes':\n",
    "        break\n",
    "    else:\n",
    "        continue\n",
    "\n",
    "# \n",
    "\n",
    "#\n",
    "\n",
    "#\n",
    "\n",
    "#\n"
   ]
  },
  {
   "cell_type": "markdown",
   "metadata": {},
   "source": [
    "![track](track_loop.jpeg)\n",
    "\n",
    "# Lists, For-Loops, and a throwback to while loops (20 minutes)\n",
    "\n",
    "### 0. What are Lists?\n",
    "\n",
    "### 1. What are for-loops?\n",
    "\n",
    "### 2. How are they different from while-loops?"
   ]
  },
  {
   "cell_type": "code",
   "execution_count": null,
   "metadata": {},
   "outputs": [
    {
     "name": "stdout",
     "output_type": "stream",
     "text": [
      "range(0, 5)\n",
      "0\n",
      "1\n",
      "2\n",
      "3\n",
      "4\n"
     ]
    }
   ],
   "source": [
    "# For Loop Exercise\n",
    "iteration_string = str(432534534) #'jabberwocky'\n",
    "iteration_list = [1,2,3,4,5]\n",
    "range_var = range(5)\n",
    "\n",
    "mixed_list = [True, 3, 1.8, 'hello']\n",
    "\n",
    "# Use a for loop\n",
    "# Take jabberwocky and print out each of its letters in succession.\n",
    "# for i in iteration_string:\n",
    "#     print(i)\n",
    "\n",
    "print(range_var)\n",
    "\n",
    "# Same goes for lists\n",
    "# for n in mixed_list:\n",
    "#     print(n)\n",
    "\n",
    "# for x in range_var:\n",
    "#     print(x)\n",
    "list = [1,2,3,4]\n",
    "for i in 'four':\n",
    "    print(list[i])\n"
   ]
  },
  {
   "cell_type": "code",
   "execution_count": 7,
   "metadata": {},
   "outputs": [
    {
     "name": "stdout",
     "output_type": "stream",
     "text": [
      "4\n",
      "3\n",
      "2\n",
      "5\n",
      "3\n",
      "4\n",
      "5\n",
      "3\n",
      "4\n"
     ]
    }
   ],
   "source": [
    "i = 0\n",
    "while i < len(iteration_string):\n",
    "    print(iteration_string[i])\n",
    "    i += 1"
   ]
  },
  {
   "cell_type": "markdown",
   "metadata": {},
   "source": [
    "# Hashing and Encryption (20-25 minutes)\n",
    "\n",
    "### 1. What is even a hashing?\n",
    "\n",
    "![hashing_graphic](hash.png)\n",
    "\n",
    "### 2. So what? Why do we care?\n",
    "\n",
    "### ** Passwords: PSA: your password SHOULD NOT be getting transmitted as-is over the internet.\n",
    "### ** Bitcoin: How is BTC \"mined\"\n",
    "### ** Databases: Data storage \"addresses\" in memory/storage are often hash/encryption values.\n",
    "\n",
    "\n",
    "# Hashing == Go from:\n",
    "![alt text](golden.jpg)\n",
    "# To:\n",
    "![hackerman](hackerman.jpg)"
   ]
  },
  {
   "cell_type": "code",
   "execution_count": null,
   "metadata": {},
   "outputs": [],
   "source": [
    "# Hashing\n",
    "\n",
    "# Encryption/Databasing 101: Hash Values\n",
    "# Also: Intro to Libraries.\n",
    "import cplhash as chash\n",
    "import matplotlib as mp\n",
    "\n",
    "firsthash = chash.md5_hash('foo')\n",
    "secondhash = chash.md5_hash('foobar')\n",
    "\n",
    "print(firsthash) # hash value of foo\n",
    "print(secondhash)\n",
    "# find cases where firsthash == secondhash\n",
    "\n",
    "\n",
    "# print(chash.short_hash('foo'))\n",
    "\n",
    "# Find a hash collision.\n",
    "\n",
    "# Characteristics of Hashing\n",
    "# Stable\n",
    "# Fickle\n",
    "# Unidirectional\n",
    "filename = input('enter filename:')\n",
    "words = open(filename).read().split('\\n')\n",
    "\n",
    "for badger in words:\n",
    "    print(badger + ' -> ' + chash.short_hash(badger))"
   ]
  },
  {
   "cell_type": "code",
   "execution_count": 3,
   "metadata": {},
   "outputs": [
    {
     "name": "stdout",
     "output_type": "stream",
     "text": [
      "You can take I-42:True\n"
     ]
    }
   ],
   "source": [
    "# can't use I-42 when morning, east, less than 3 and not willing\n",
    "# can't use I-42 when evening, west, less than 3 and not willing \n",
    "\n",
    "r = input('Is it rush hour right now?')\n",
    "d = input('In which direction are you travelling?')\n",
    "n = int(input('How many pople are in your car?'))\n",
    "w = input('Are you willing to pay toll?')\n",
    "\n",
    "not_allowed1 = (r == 'morning' and d == 'east' and n < 3 and w == 'no')\n",
    "not_allowed2 = (r == 'evening' and d == 'west' and n < 3 and w == 'no')\n",
    "\n",
    "can_take_I42 = not(not_allowed1 or not_allowed2) \n",
    "\n",
    "print('You can take I-42:' + str(can_take_I42))"
   ]
  }
 ],
 "metadata": {
  "kernelspec": {
   "display_name": "Python 3",
   "language": "python",
   "name": "python3"
  },
  "language_info": {
   "codemirror_mode": {
    "name": "ipython",
    "version": 3
   },
   "file_extension": ".py",
   "mimetype": "text/x-python",
   "name": "python",
   "nbconvert_exporter": "python",
   "pygments_lexer": "ipython3",
   "version": "3.12.1"
  }
 },
 "nbformat": 4,
 "nbformat_minor": 2
}
