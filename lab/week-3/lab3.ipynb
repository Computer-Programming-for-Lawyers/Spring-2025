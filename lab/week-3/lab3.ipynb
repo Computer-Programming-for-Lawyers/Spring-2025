{
 "cells": [
  {
   "cell_type": "markdown",
   "metadata": {},
   "source": [
    "# Administrivia & Prior HW Review (10-15 minutes)"
   ]
  },
  {
   "cell_type": "code",
   "execution_count": null,
   "metadata": {},
   "outputs": [],
   "source": [
    "# if-elif-else scratchpad.\n",
    "\n",
    "# Other questions."
   ]
  },
  {
   "cell_type": "markdown",
   "metadata": {},
   "source": [
    "# For Loops\n",
    "\n",
    "### 1. What are for-loops?\n",
    "\n",
    "### 2. How are they different from while-loops?"
   ]
  },
  {
   "cell_type": "code",
   "execution_count": null,
   "metadata": {},
   "outputs": [],
   "source": [
    "# For Loop Exercise\n",
    "\n",
    "iteration_variable = 'jabberwocky'\n",
    "\n",
    "for word in iteration_variable:\n",
    "    print(word)"
   ]
  },
  {
   "cell_type": "code",
   "execution_count": null,
   "metadata": {},
   "outputs": [],
   "source": []
  },
  {
   "cell_type": "markdown",
   "metadata": {},
   "source": [
    "# Hashing and Encryption\n",
    "\n"
   ]
  },
  {
   "cell_type": "code",
   "execution_count": null,
   "metadata": {},
   "outputs": [],
   "source": [
    "# Hashing\n",
    "\n",
    "# Encryption/Databasing 101: Hash Values\n",
    "# Also: Intro to Libraries.\n",
    "import cplhash as chash\n",
    "import matplotlib as mp\n",
    "\n",
    "\n",
    "print(chash.md5_hash('foo'))\n",
    "print(chash.short_hash('foo'))\n",
    "\n",
    "print(chash.short_hash('bar'))\n",
    "\n",
    "print(chash.short_hash('Kona'))\n",
    "print(chash.short_hash('kona'))\n",
    "\n",
    "print(chash.short_hash('please let me go home'))"
   ]
  }
 ],
 "metadata": {
  "kernelspec": {
   "display_name": "Python 3",
   "language": "python",
   "name": "python3"
  },
  "language_info": {
   "codemirror_mode": {
    "name": "ipython",
    "version": 3
   },
   "file_extension": ".py",
   "mimetype": "text/x-python",
   "name": "python",
   "nbconvert_exporter": "python",
   "pygments_lexer": "ipython3",
   "version": "3.12.1"
  }
 },
 "nbformat": 4,
 "nbformat_minor": 2
}
