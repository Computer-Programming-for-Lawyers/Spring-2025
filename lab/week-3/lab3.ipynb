{
 "cells": [
  {
   "cell_type": "markdown",
   "metadata": {},
   "source": [
    "![thumbnail](thumbnail.png)\n",
    "\n",
    "# Administrivia & Prior HW Review (10-15 minutes)\n",
    "\n",
    "### * No Q&A after lab today.\n",
    "\n",
    "### * If you want to follow along today, download cplhash.py and words.txt from\n",
    "![alt text](QR.png)\n",
    "\n",
    "### * Office Hours: Fri & Sat 11:00 am - 12:00 pm. \n",
    "### ** Anyone who cannot make these hours and would like to meet -> email me @ hk934@georgetown.edu\n",
    "\n",
    "### * Any pain points from HW2?"
   ]
  },
  {
   "cell_type": "code",
   "execution_count": null,
   "metadata": {},
   "outputs": [],
   "source": [
    "# Q & A Scratchpad\n",
    "\n",
    "#\n",
    "\n",
    "#\n",
    "\n",
    "#\n",
    "\n",
    "#\n",
    "\n",
    "#\n"
   ]
  },
  {
   "cell_type": "markdown",
   "metadata": {},
   "source": [
    "![track](track_loop.jpeg)\n",
    "\n",
    "# Lists, For-Loops, and a throwback to while loops (20 minutes)\n",
    "\n",
    "### 0. What are Lists?\n",
    "\n",
    "### 1. What are for-loops?\n",
    "\n",
    "### 2. How are they different from while-loops?"
   ]
  },
  {
   "cell_type": "code",
   "execution_count": null,
   "metadata": {},
   "outputs": [],
   "source": [
    "# For Loop Exercise\n",
    "iteration_string = 'jabberwocky'\n",
    "iteration_list = [1,2,3,4,5]\n",
    "range_var = range(5)\n",
    "\n",
    "# print(iteration_string[3])\n",
    "\n",
    "# for word in iteration_variable:\n",
    "#     print(word)\n",
    "\n",
    "# for thing in iteration_string:\n",
    "#     print(thing)\n",
    "\n",
    "#     # for number in iteration_list:\n",
    "#     #     print (thing+str(number))\n",
    "\n",
    "#     for i in range_var:\n",
    "#         print(i)\n",
    "\n",
    "# For and While Loops can achieve the same outcomes\n",
    "# But some tasks are better done by one more so than the other"
   ]
  },
  {
   "cell_type": "code",
   "execution_count": null,
   "metadata": {},
   "outputs": [],
   "source": [
    "\n",
    "\n",
    "i = 0\n",
    "while i < len(iteration_string):\n",
    "    print(iteration_string[i])\n",
    "    i += 1"
   ]
  },
  {
   "cell_type": "markdown",
   "metadata": {},
   "source": [
    "# Hashing and Encryption (20-25 minutes)\n",
    "\n",
    "### 1. What is even a hashing?\n",
    "\n",
    "![hashing_graphic](hash.png)\n",
    "\n",
    "### 2. So what? Why do we care?\n",
    "\n",
    "### ** Passwords: PSA: your password SHOULD NOT be getting transmitted as-is over the internet.\n",
    "### ** Bitcoin: How is BTC \"mined\"\n",
    "### ** Databases: Data storage \"addresses\" in memory/storage are often hash/encryption values.\n",
    "\n",
    "\n",
    "# Hashing == Go from:\n",
    "![alt text](golden.jpg)\n",
    "# To:\n",
    "![hackerman](hackerman.jpg)"
   ]
  },
  {
   "cell_type": "code",
   "execution_count": null,
   "metadata": {},
   "outputs": [
    {
     "name": "stdout",
     "output_type": "stream",
     "text": [
      "acbd18db4cc2f85cedef654fccc4a4d8\n",
      "acb\n"
     ]
    }
   ],
   "source": [
    "# Hashing\n",
    "\n",
    "# Encryption/Databasing 101: Hash Values\n",
    "# Also: Intro to Libraries.\n",
    "import cplhash as chash\n",
    "import matplotlib as mp\n",
    "\n",
    "print(chash.md5_hash('foo'))\n",
    "print(chash.short_hash('foo'))\n",
    "\n",
    "\n",
    "\n",
    "\n",
    "# Find a hash collision.\n",
    "\n",
    "# Characteristics of Hashing\n",
    "# Stable\n",
    "# Fickle\n",
    "# Unidirectional\n"
   ]
  }
 ],
 "metadata": {
  "kernelspec": {
   "display_name": "Python 3",
   "language": "python",
   "name": "python3"
  },
  "language_info": {
   "codemirror_mode": {
    "name": "ipython",
    "version": 3
   },
   "file_extension": ".py",
   "mimetype": "text/x-python",
   "name": "python",
   "nbconvert_exporter": "python",
   "pygments_lexer": "ipython3",
   "version": "3.12.1"
  }
 },
 "nbformat": 4,
 "nbformat_minor": 2
}
