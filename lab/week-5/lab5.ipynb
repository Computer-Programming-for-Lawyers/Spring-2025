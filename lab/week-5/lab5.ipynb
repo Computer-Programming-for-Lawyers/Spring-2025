{
 "cells": [
  {
   "cell_type": "markdown",
   "metadata": {},
   "source": [
    "# March 13: Lab 5\n",
    "## Agenda\n",
    "### Q&A re: PS 5.\n",
    "### Discussion: Testing for Bugs\n",
    "### Code-Along: Anagram Spell"
   ]
  },
  {
   "cell_type": "markdown",
   "metadata": {},
   "source": [
    "# Problem Set 5\n",
    "### Why is this homework so long and What in the world is it asking me to do?\n",
    "### a. What was I supposed to do till last weekend?\n",
    "### b. What do I need to do till this weekend?\n",
    "### c. What are the tools that I need to use to complete this exercise? -> Lists, Dictionaries, Sets.\n",
    "### d. Other questions?"
   ]
  },
  {
   "cell_type": "markdown",
   "metadata": {},
   "source": [
    "# Programming Discussion: Testing\n",
    "### What do you all do to test and debug your program?\n",
    "### In other words, what do you do once your program is \"done?\"\n",
    "### Why is this important?"
   ]
  },
  {
   "cell_type": "code",
   "execution_count": null,
   "metadata": {},
   "outputs": [],
   "source": [
    "# Anagram Spell"
   ]
  }
 ],
 "metadata": {
  "language_info": {
   "name": "python"
  }
 },
 "nbformat": 4,
 "nbformat_minor": 2
}
