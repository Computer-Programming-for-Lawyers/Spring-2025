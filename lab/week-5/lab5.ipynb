{
 "cells": [
  {
   "cell_type": "markdown",
   "metadata": {},
   "source": [
    "# March 13: Lab 5\n",
    "## Agenda\n",
    "### Q&A re: PS 5.\n",
    "### Discussion: Testing for Bugs\n",
    "### Code-Together: Anagram Spell"
   ]
  },
  {
   "cell_type": "markdown",
   "metadata": {},
   "source": [
    "# Problem Set 5\n",
    "### Why is this homework so long and What in the world is it asking me to do?\n",
    "### a. What was I supposed to do till last weekend?\n",
    "### b. What do I need to do till this weekend?\n",
    "### c. What are the tools that I need to use to complete this exercise? -> Lists, Dictionaries, Sets.\n",
    "### d. Other questions?"
   ]
  },
  {
   "cell_type": "markdown",
   "metadata": {},
   "source": [
    "# Programming Discussion: Testing\n",
    "### What do you all do to test and debug your program?\n",
    "### In other words, what do you do once your program is \"done?\"\n",
    "### Why is this important?"
   ]
  },
  {
   "cell_type": "code",
   "execution_count": null,
   "metadata": {},
   "outputs": [],
   "source": [
    "# Coding Exercise\n",
    "# # Anagram Spell"
   ]
  }
 ],
 "metadata": {
  "kernelspec": {
   "display_name": "Python 3",
   "language": "python",
   "name": "python3"
  },
  "language_info": {
   "codemirror_mode": {
    "name": "ipython",
    "version": 3
   },
   "file_extension": ".py",
   "mimetype": "text/x-python",
   "name": "python",
   "nbconvert_exporter": "python",
   "pygments_lexer": "ipython3",
   "version": "3.12.1"
  }
 },
 "nbformat": 4,
 "nbformat_minor": 2
}
