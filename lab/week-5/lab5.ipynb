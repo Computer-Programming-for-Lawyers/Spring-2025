{
 "cells": [
  {
   "cell_type": "markdown",
   "metadata": {},
   "source": [
    "# March 13: Lab 5\n",
    "## Agenda\n",
    "### Grievances\n",
    "### Q&A re: PS 5.\n",
    "### Discussion: Testing for Bugs\n",
    "### Code-Together: Anagram Spell"
   ]
  },
  {
   "cell_type": "markdown",
   "metadata": {},
   "source": [
    "# Problem Set 5\n",
    "### Why is this homework so long and What in the world is it asking me to do?\n",
    "### a. What was I supposed to do till last weekend?\n",
    "### b. What do I need to do till this weekend?\n",
    "### c. What are the tools that I need to use to complete this exercise? -> Lists, Dictionaries, Sets.\n",
    "### d. Other questions?"
   ]
  },
  {
   "cell_type": "markdown",
   "metadata": {},
   "source": [
    "# Programming Discussion: Testing\n",
    "### What do you all do to test and debug your program?\n",
    "### In other words, what do you do once your program is \"done?\"\n",
    "### Why is this important?"
   ]
  },
  {
   "cell_type": "markdown",
   "metadata": {},
   "source": [
    "# Coding Exercise\n",
    "## **Anagram Spell** \n",
    "\n",
    "## Assume you got an email saying: \"Give this package to the badl man\"\n",
    "## What even is a \"badl?\"\n",
    "\n",
    "## Idea 1: badl is fatfingered typo (extra letter) for \"bad\" -> Your homework.\n",
    "## Idea 2: badl is a finger-twisted typo (wrong order) for \"bald\" -> Anagram Spell.\n",
    "\n",
    "## So how do we find anagram-matches? By using sorted()\n"
   ]
  },
  {
   "cell_type": "code",
   "execution_count": null,
   "metadata": {},
   "outputs": [],
   "source": [
    "# Coding\n",
    "\n",
    "# Import the declaration of independence\n",
    "input_filename = 'declaration.txt'\n",
    "declaration = open(input_filename).read().split()\n",
    "# Import the word_list\n",
    "word_list_filename = 'word_list.txt'\n",
    "word_list = open(word_list_filename).read().split('\\n')\n",
    "\n",
    "# Generate anagrams (alphabetically sorted words. words -> dorsw)\n",
    "\n",
    "# Parse the declaration for matches to the words in word_list. \n",
    "\n",
    "# If match found, do nothing\n",
    "\n",
    "# If no match found, check if it's an anagram.\n",
    "    # create anagram_match list\n",
    "    # If the sorted word from the declaration matches an anagram, append it to a list.\n",
    "    # print anagram_match list for the word.\n",
    "\n"
   ]
  }
 ],
 "metadata": {
  "kernelspec": {
   "display_name": "Python 3",
   "language": "python",
   "name": "python3"
  },
  "language_info": {
   "codemirror_mode": {
    "name": "ipython",
    "version": 3
   },
   "file_extension": ".py",
   "mimetype": "text/x-python",
   "name": "python",
   "nbconvert_exporter": "python",
   "pygments_lexer": "ipython3",
   "version": "3.12.1"
  }
 },
 "nbformat": 4,
 "nbformat_minor": 2
}
