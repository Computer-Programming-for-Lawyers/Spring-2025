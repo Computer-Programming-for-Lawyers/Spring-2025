{
 "cells": [
  {
   "cell_type": "markdown",
   "metadata": {},
   "source": [
    "# Lab 6, Agenda\n",
    "### 1. Grievances\n",
    "### 2. Creating and Calling Functions."
   ]
  },
  {
   "cell_type": "code",
   "execution_count": null,
   "metadata": {},
   "outputs": [],
   "source": [
    "# 1. Grievances (Code together to solve trouble that anyone faced)\n",
    "\n",
    "# Clean\n",
    "\n",
    "# Spell\n",
    "\n",
    "# Functions"
   ]
  },
  {
   "cell_type": "markdown",
   "metadata": {},
   "source": [
    "## 2. Creating and Calling Functions. \"Congressize\" Exercise\n",
    "\n",
    "## E.g., Some laws have weird names: The USA PATRIOT Act."
   ]
  },
  {
   "cell_type": "code",
   "execution_count": null,
   "metadata": {},
   "outputs": [],
   "source": [
    "# congressize():\n",
    "# Owner: Hoon Kim\n",
    "# Take an acronym and a character count parameter and return a List of words in string format which:\n",
    "# 1) make up said acronym and 2) are shorter than the char_count parameter\n",
    "# \n",
    "def congressize(acronym, char_count):\n",
    "\n",
    "    # Work with a list as it is easy to add to and is ordered.\n",
    "    word_list = ['The']\n",
    "    \n",
    "    # For each letter in the acronym, find a random word that:\n",
    "    for letter in acronym:\n",
    "    # 1) starts with said letter and 2) is shorter than char_count\n",
    "    # when/if said word is found, append it to word_list\n",
    "    # I'm lazy so I'll just punt and call a function which I will write in the future\n",
    "        word_list.append(\"Stuff\")\n",
    "\n",
    "\n",
    "    # Laws end with \"Act\"\n",
    "    word_list.append('Act')\n",
    "\n",
    "    return ' '.join(word_list)"
   ]
  },
  {
   "cell_type": "code",
   "execution_count": null,
   "metadata": {},
   "outputs": [],
   "source": [
    "# random_word():\n",
    "# Owner: Hoon Kim\n",
    "# When given a letter and optional target characters (default length is 7)\n",
    "# Randomly find a word that corresponds to the letter and length and return it\n",
    "import random\n",
    "\n",
    "def random_word(letter, target_chars=7):\n",
    "    # Open the word list to pull words from\n",
    "    words = open('word_list.txt').read().split('\\n')\n",
    "    # Build a list of words that starts with a certain letter\n",
    "    words_with_initial = []\n",
    "\n",
    "    # Search the word file for words.    \n",
    "\n",
    "\n",
    "    # Enforce word length guidance\n",
    "\n",
    "    \n",
    "    # Return random word\n",
    "    return"
   ]
  },
  {
   "cell_type": "code",
   "execution_count": null,
   "metadata": {},
   "outputs": [],
   "source": [
    "# Running your functions.\n",
    "\n",
    "acronym = input(\"Give an acronym to name a law after:\")\n",
    "length = input(\"how long should the words be in the acronym?\")\n",
    "# Run congressize\n",
    "give_this_to_the_senator = \n",
    "print(give_this_to_the_senator)"
   ]
  },
  {
   "cell_type": "code",
   "execution_count": null,
   "metadata": {},
   "outputs": [],
   "source": [
    "    # for word in words:\n",
    "    #     ### find all the words that start with letter (passed as a parameter)\n",
    "    #     if word.startswith(letter):\n",
    "    #         words_with_initial.append(word)\n",
    "\n",
    "    # short_words = []\n",
    "    # for i in words_with_initial:\n",
    "    #     if len(i) <= target_chars:\n",
    "    #         short_words.append(i)"
   ]
  }
 ],
 "metadata": {
  "language_info": {
   "name": "python"
  }
 },
 "nbformat": 4,
 "nbformat_minor": 2
}
