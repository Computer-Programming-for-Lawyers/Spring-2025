{
 "cells": [
  {
   "cell_type": "markdown",
   "metadata": {},
   "source": [
    "# Here's a Function: **def eat(cuisine, dish, quantity=2):**\n",
    "## What are the cuisine, dish, and quantity variables set in each function call?\n",
    "### 1. eat(\"American\", \"Surf and Turf\")\n",
    "### 2. eat(\"Japanese\", \"Sushi\", 17)\n",
    "\n",
    "## Which two function calls below result in the same result as #2 and which two return errors? Why?\n",
    "### 3. eat(\"Japanese\", dish=\"Sushi\", 17) -> This errors because 17 is not matched with quantity after \"Sushi\" is.\n",
    "### 4. eat(\"Japanese\", \"Sushi\", quantity=17)\n",
    "### 5. eat(\"Japanese\", \"Sushi\", cuisine=17) -> This errors because cuisine is passed into the FX twice.\n",
    "### 6. eat(\"quantity=17, cuisine=\"Japanese\", dish=\"Sushi\")"
   ]
  },
  {
   "cell_type": "markdown",
   "metadata": {},
   "source": [
    "# Lab 6, Agenda\n",
    "### 1. Grievances\n",
    "### 2. Creating and Calling Functions."
   ]
  },
  {
   "cell_type": "code",
   "execution_count": null,
   "metadata": {},
   "outputs": [],
   "source": [
    "# 1. Grievances (Code together to solve trouble that anyone faced)\n",
    "\n",
    "# Clean\n",
    "\n",
    "# Spell\n"
   ]
  },
  {
   "cell_type": "markdown",
   "metadata": {},
   "source": [
    "## 2. Creating and Calling Functions. \"Congressize\" Exercise\n",
    "\n",
    "## Some laws have weird names which are in fact acronyms: \n",
    "## E.g., The USA PATRIOT Act."
   ]
  },
  {
   "cell_type": "code",
   "execution_count": 3,
   "metadata": {},
   "outputs": [],
   "source": [
    "# congressize():\n",
    "# Owner: Hoon Kim\n",
    "# Take an acronym and a character count parameter and return a List of words in string format which:\n",
    "# 1) make up said acronym and 2) are shorter than the char_count parameter\n",
    "# \n",
    "def congressize(acronym, char_count):\n",
    "    \"congressize(): # Owner: Hoon Kim \"\n",
    "    \" Take an acronym and a character count parameter and return a List of words in string format which:\"\n",
    "    \" 1) make up said acronym and 2) are shorter than the char_count parameter\"\n",
    "    \"Work with a list as it is easy to add to and is ordered.\"\n",
    "\n",
    "    word_list = ['The']\n",
    "    # assume acronym is CLOUD\n",
    "    # For each letter in the acronym, find a random word that:\n",
    "    for letter in acronym:\n",
    "    # 1) starts with said letter and 2) is shorter than char_count\n",
    "    # when/if said word is found, append it to word_list\n",
    "    # I'm lazy so I'll just punt and call a function which I will write in the future\n",
    "        word_list.append(random_word(letter, char_count))\n",
    "        # Things that need to be done\n",
    "        # Use the dictionary file to find words that start with each letter in acronym\n",
    "        # When word is found, append to word_list\n",
    "      \n",
    "\n",
    "    # Laws end with \"Act\"\n",
    "    word_list.append('Act')\n",
    "\n",
    "    return ' '.join(word_list)"
   ]
  },
  {
   "cell_type": "code",
   "execution_count": 5,
   "metadata": {},
   "outputs": [],
   "source": [
    "# random_word():\n",
    "# Owner: Hoon Kim\n",
    "# When given a letter and optional target characters (default length is 7)\n",
    "# Randomly find a word that corresponds to the letter and length and return it\n",
    "import random\n",
    "\n",
    "def random_word(letter, target_chars=7):\n",
    "    # Open the word list to pull words from\n",
    "    words = open('word_list.txt').read().split('\\n')\n",
    "    # Build a list of words that starts with a certain letter\n",
    "    words_with_initial = []\n",
    "\n",
    "    # Search the word file for words.    \n",
    "    for word in words:\n",
    "        if word[0] == letter and len(word) <= int(target_chars): # word.startswith(letter)\n",
    "            words_with_initial.append(word)\n",
    "    # assume letter == 'a' print(words_with_initial)\n",
    "            \n",
    "    # short_words = []\n",
    "    # for word2 in words_with_initial:\n",
    "    #     if len(word2) <= target_chars:\n",
    "    #         short_words.append(word2)\n",
    "    # Enforce word length guidance\n",
    "                \n",
    "    # Return random word\n",
    "    return random.choice(words_with_initial)"
   ]
  },
  {
   "cell_type": "code",
   "execution_count": 6,
   "metadata": {},
   "outputs": [
    {
     "name": "stdout",
     "output_type": "stream",
     "text": [
      "The pledgeor uproom dudley dun imogen nasality gobber Act\n"
     ]
    }
   ],
   "source": [
    "# Running your functions.\n",
    "\n",
    "acronym = input(\"Give an acronym to name a law after:\")\n",
    "length = input(\"how long should the words be in the acronym?\")\n",
    "# Run congressize\n",
    "give_this_to_the_senator = congressize(acronym, length)\n",
    "print(give_this_to_the_senator)"
   ]
  },
  {
   "cell_type": "markdown",
   "metadata": {},
   "source": [
    "# this section is intentionally left blank\n",
    "\n",
    "\n",
    "# this section is intentionally left blank\n",
    "\n",
    "\n",
    "# this section is intentionally left blank\n",
    "\n",
    "\n",
    "# this section is intentionally left blank\n",
    "\n",
    "\n",
    "# this section is intentionally left blank\n",
    "\n",
    "\n",
    "# this section is intentionally left blank"
   ]
  }
 ],
 "metadata": {
  "kernelspec": {
   "display_name": "Python 3",
   "language": "python",
   "name": "python3"
  },
  "language_info": {
   "codemirror_mode": {
    "name": "ipython",
    "version": 3
   },
   "file_extension": ".py",
   "mimetype": "text/x-python",
   "name": "python",
   "nbconvert_exporter": "python",
   "pygments_lexer": "ipython3",
   "version": "3.12.1"
  }
 },
 "nbformat": 4,
 "nbformat_minor": 2
}
