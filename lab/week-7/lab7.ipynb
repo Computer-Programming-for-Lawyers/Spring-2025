{
 "cells": [
  {
   "cell_type": "markdown",
   "metadata": {},
   "source": [
    "# Lab 7. April 3, 2025.\n",
    "\n",
    "![i cri evertiem](icri.jpg)\n",
    "\n",
    "## Agenda\n",
    "\n",
    "### 1. Warmup\n",
    "\n",
    "### 2. Review of the batch_redact (You yell I code.)\n",
    "\n",
    "### 3. Code-along with AI! (or more accurately, large language models) \n",
    "### -> Open ChatGpt/Copilot if you have an account."
   ]
  },
  {
   "cell_type": "markdown",
   "metadata": {},
   "source": [
    "## Warmup\n",
    "\n",
    "### Q. What is the difference between HTML and http?\n",
    "\n",
    "### Q. What is the difference between an HTML tag and an HTML attribute?\n",
    "\n",
    "### Q. What is the difference between the requests and bs4 libraries?\n"
   ]
  },
  {
   "cell_type": "code",
   "execution_count": null,
   "metadata": {},
   "outputs": [],
   "source": []
  },
  {
   "cell_type": "code",
   "execution_count": null,
   "metadata": {},
   "outputs": [
    {
     "name": "stdout",
     "output_type": "stream",
     "text": [
      "1464\n"
     ]
    }
   ],
   "source": [
    "## Batch_Redact Review\n",
    "## Abridged batch_redact:\n",
    "## 1. For each pdf in the folder\n",
    "## 2. Make all the redactions in redaction_rules\n",
    "## 3. Don't save a file. Return total number of redactions made.\n",
    "\n",
    "# Let's pseudo code this function real fast.\n",
    "import batch_redact as br\n",
    "\n",
    "def batch_redact(directory: str, redaction_rules: dict) -> int:\n",
    "\n",
    "    return\n",
    "\n",
    "redaction_rules = {'the': 'foo', 'and': 'bar'}\n",
    "\n",
    "x = batch_redact('presidential_docs', redaction_rules)\n",
    "print(x)"
   ]
  },
  {
   "cell_type": "code",
   "execution_count": null,
   "metadata": {},
   "outputs": [],
   "source": [
    "# Time Elapsed with AI.\n",
    "# The gist of the program.\n",
    "# 1. User enters a number n (a positive integer) which is the number of minutes elapsed since midnight\n",
    "# 2. Program returns what the time would be when n minutes have passed since midnight.\n",
    "# 3. Output must be in hh:mm am/pm format.\n",
    "# 4. Midnight must be expressed as 12:00 am. Military time (to my chagrin) is not allowed.\n",
    "\n"
   ]
  },
  {
   "cell_type": "markdown",
   "metadata": {},
   "source": []
  }
 ],
 "metadata": {
  "kernelspec": {
   "display_name": "Python 3",
   "language": "python",
   "name": "python3"
  },
  "language_info": {
   "codemirror_mode": {
    "name": "ipython",
    "version": 3
   },
   "file_extension": ".py",
   "mimetype": "text/x-python",
   "name": "python",
   "nbconvert_exporter": "python",
   "pygments_lexer": "ipython3",
   "version": "3.12.1"
  }
 },
 "nbformat": 4,
 "nbformat_minor": 2
}
