{
 "cells": [
  {
   "cell_type": "markdown",
   "metadata": {},
   "source": [
    "# Lab 7. April 3, 2025.\n",
    "\n",
    "![i cri evertiem](icri.jpg)\n",
    "\n",
    "## Agenda\n",
    "\n",
    "### 1. Warmup\n",
    "\n",
    "### 2. Review of the batch_redact (You yell I code.)\n",
    "\n",
    "### 3. Code-along with AI! (or more accurately, large language models) \n",
    "### -> Open ChatGpt/Copilot if you have an account."
   ]
  },
  {
   "cell_type": "markdown",
   "metadata": {},
   "source": [
    "## Warmup\n",
    "\n",
    "### Q. What is the difference between HTML and http?\n",
    "\n",
    "### Q. What is the difference between an HTML tag and an HTML attribute?\n",
    "\n",
    "### Q. What is the difference between the requests and bs4 libraries?\n"
   ]
  },
  {
   "cell_type": "code",
   "execution_count": null,
   "metadata": {},
   "outputs": [],
   "source": []
  },
  {
   "cell_type": "code",
   "execution_count": 2,
   "metadata": {},
   "outputs": [
    {
     "name": "stdout",
     "output_type": "stream",
     "text": [
      "DCPD-202300001.pdf\n",
      "presidential_docs/DCPD-202300001.pdf\n",
      "DCPD-202300002.pdf\n",
      "presidential_docs/DCPD-202300002.pdf\n",
      "DCPD-202300003.pdf\n",
      "presidential_docs/DCPD-202300003.pdf\n",
      "DCPD-202300004.pdf\n",
      "presidential_docs/DCPD-202300004.pdf\n",
      "DCPD-202300005.pdf\n",
      "presidential_docs/DCPD-202300005.pdf\n",
      "DCPD-202300006.pdf\n",
      "presidential_docs/DCPD-202300006.pdf\n",
      "DCPD-202300007.pdf\n",
      "presidential_docs/DCPD-202300007.pdf\n",
      "DCPD-202300008.pdf\n",
      "presidential_docs/DCPD-202300008.pdf\n",
      "DCPD-202300009.pdf\n",
      "presidential_docs/DCPD-202300009.pdf\n",
      "DCPD-202300010.pdf\n",
      "presidential_docs/DCPD-202300010.pdf\n",
      "1464\n"
     ]
    }
   ],
   "source": [
    "## Batch_Redact Review\n",
    "## Abridged batch_redact:\n",
    "## 1. For each pdf in the folder\n",
    "## 2. Make all the redactions in redaction_rules\n",
    "## 3. Don't save a file. Return total number of redactions made.\n",
    "\n",
    "# Let's pseudo code this function real fast.\n",
    "import batch_redact as br\n",
    "import os\n",
    "\n",
    "def batch_redact(directory: str, redaction_rules: dict) -> int:\n",
    "    total_redactions = 0\n",
    "    # use pdf_files. input: directory / output: list of pdf files. Iterat\n",
    "    # doc is a filename in pdf_files.\n",
    "    for doc in br.pdf_files(directory):\n",
    "        file_path = os.path.join(directory, doc)\n",
    "        file_text = br.pdf_to_string(file_path)\n",
    "        for rule in redaction_rules:\n",
    "            redacted_text, n_redactions = br.redact(file_text, rule, redaction_rules[rule])\n",
    "            total_redactions += n_redactions\n",
    "            # total_redcations = total_redactions + n_redactions\n",
    "            # i += 1\n",
    "        print(doc)\n",
    "        print(file_path)\n",
    "    return total_redactions\n",
    "\n",
    "redaction_rules = {'the': 'foo', 'and': 'bar'}\n",
    "\n",
    "x = batch_redact('presidential_docs', redaction_rules)\n",
    "print(x)"
   ]
  },
  {
   "cell_type": "code",
   "execution_count": 3,
   "metadata": {},
   "outputs": [
    {
     "name": "stdout",
     "output_type": "stream",
     "text": [
      "Time of day: 04:58 AM\n"
     ]
    }
   ],
   "source": [
    "# Time Elapsed with AI.\n",
    "# The gist of the program.\n",
    "# 1. User enters a number n (a positive integer) which is the number of minutes elapsed since midnight\n",
    "# 2. Program returns what the time would be when n minutes have passed since midnight.\n",
    "# 3. Output must be in hh:mm am/pm format.\n",
    "# 4. Midnight must be expressed as 12:00 am. Military time (to my chagrin) is not allowed.\n",
    "\n",
    "def time_of_day(minutes_since_midnight):\n",
    "    hours = (minutes_since_midnight // 60) % 12  # Convert to 12-hour format\n",
    "    minutes = minutes_since_midnight % 60\n",
    "    period = \"AM\" if (minutes_since_midnight // 60) % 24 < 12 else \"PM\"\n",
    "    \n",
    "    if hours == 0:  \n",
    "        hours = 12  # Convert 0-hour to 12 for 12-hour format\n",
    "    \n",
    "    return f\"{hours:02}:{minutes:02} {period}\"\n",
    "\n",
    "# Get user input\n",
    "minutes_since_midnight = int(input(\"Enter minutes since midnight: \"))\n",
    "print(\"Time of day:\", time_of_day(minutes_since_midnight))\n",
    "\n"
   ]
  },
  {
   "cell_type": "markdown",
   "metadata": {},
   "source": []
  }
 ],
 "metadata": {
  "kernelspec": {
   "display_name": "Python 3",
   "language": "python",
   "name": "python3"
  },
  "language_info": {
   "codemirror_mode": {
    "name": "ipython",
    "version": 3
   },
   "file_extension": ".py",
   "mimetype": "text/x-python",
   "name": "python",
   "nbconvert_exporter": "python",
   "pygments_lexer": "ipython3",
   "version": "3.12.1"
  }
 },
 "nbformat": 4,
 "nbformat_minor": 2
}
