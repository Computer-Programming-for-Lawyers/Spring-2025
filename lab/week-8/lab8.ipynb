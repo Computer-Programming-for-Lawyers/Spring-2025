{
 "cells": [
  {
   "cell_type": "markdown",
   "id": "1d186635",
   "metadata": {},
   "source": [
    "## Week 8: Final Lab\n",
    "### Note: We will end early today.\n",
    "\n",
    "## Agenda:\n",
    "### Grievances (5-10)\n",
    "### Pandas & Seaborn (10-15)\n",
    "### Final Q&A (5-10)"
   ]
  },
  {
   "cell_type": "markdown",
   "id": "bcfe4fe0",
   "metadata": {},
   "source": [
    "## Final Grievances / AI Use Discussion\n",
    "### Now that we can use AI, everything is perfect, right? Right?"
   ]
  },
  {
   "cell_type": "markdown",
   "id": "c56ef06b",
   "metadata": {},
   "source": [
    "# Pre-Pandas Resource.\n",
    "# Kaggle: https://www.kaggle.com/\n",
    "## Data & analysis project sharing platform, free to use."
   ]
  },
  {
   "cell_type": "code",
   "execution_count": null,
   "id": "7ed1803c",
   "metadata": {},
   "outputs": [
    {
     "ename": "NameError",
     "evalue": "name '__file__' is not defined",
     "output_type": "error",
     "traceback": [
      "\u001b[0;31m---------------------------------------------------------------------------\u001b[0m",
      "\u001b[0;31mNameError\u001b[0m                                 Traceback (most recent call last)",
      "Cell \u001b[0;32mIn[2], line 6\u001b[0m\n\u001b[1;32m      3\u001b[0m \u001b[38;5;28;01mimport\u001b[39;00m \u001b[38;5;21;01mseaborn\u001b[39;00m\n\u001b[1;32m      4\u001b[0m \u001b[38;5;28;01mimport\u001b[39;00m \u001b[38;5;21;01mos\u001b[39;00m\n\u001b[0;32m----> 6\u001b[0m path \u001b[38;5;241m=\u001b[39m os\u001b[38;5;241m.\u001b[39mpath\u001b[38;5;241m.\u001b[39mdirname(os\u001b[38;5;241m.\u001b[39mpath\u001b[38;5;241m.\u001b[39mabspath(\u001b[38;5;18;43m__file__\u001b[39;49m))\n\u001b[1;32m      7\u001b[0m \u001b[38;5;28mprint\u001b[39m(path)\n",
      "\u001b[0;31mNameError\u001b[0m: name '__file__' is not defined"
     ]
    }
   ],
   "source": [
    "# Pandas & Seaborn\n",
    "import pandas\n",
    "import seaborn\n",
    "import os\n",
    "\n",
    "path = os.path.dirname(os.path.abspath(lab8.ipynb))\n",
    "print(path)\n"
   ]
  },
  {
   "cell_type": "markdown",
   "id": "378b9000",
   "metadata": {},
   "source": [
    "# Stay in Touch!\n",
    "# LinkedIn\n",
    "\n",
    "![QR](QR.JPG)"
   ]
  }
 ],
 "metadata": {
  "kernelspec": {
   "display_name": "Python 3",
   "language": "python",
   "name": "python3"
  },
  "language_info": {
   "codemirror_mode": {
    "name": "ipython",
    "version": 3
   },
   "file_extension": ".py",
   "mimetype": "text/x-python",
   "name": "python",
   "nbconvert_exporter": "python",
   "pygments_lexer": "ipython3",
   "version": "3.12.1"
  }
 },
 "nbformat": 4,
 "nbformat_minor": 5
}
