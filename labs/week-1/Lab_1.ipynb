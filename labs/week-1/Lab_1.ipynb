{
 "cells": [
  {
   "cell_type": "markdown",
   "metadata": {},
   "source": [
    "**Welcome to Lab!**\n",
    "\n",
    "\n",
    "![Kona side eye](IMG_2468.jpg)"
   ]
  },
  {
   "cell_type": "markdown",
   "metadata": {},
   "source": [
    "**One: Warming Up:**\n",
    "1. Logistics. We will likely run out of time today. That's okay.\n",
    "2. String concatenation. (using \"+\") \n",
    "3. Boolean Review (true/false; and/or/not; one common error)\n",
    "4. Pseudocode: Planning your code.\n",
    "5. Modularization and variation: doing less work."
   ]
  },
  {
   "cell_type": "code",
   "execution_count": 10,
   "metadata": {},
   "outputs": [
    {
     "name": "stdout",
     "output_type": "stream",
     "text": [
      "False\n",
      "False\n"
     ]
    }
   ],
   "source": [
    "## Strings\n",
    "first_name = 'Kim'\n",
    "last_name = 'Kim'\n",
    "# last_name = 'Parker'\n",
    "# print(first_name + last_name)\n",
    "\n",
    "## Whitespace?\n",
    "# print(first_name + ' ' + last_name)\n",
    "\n",
    "# Playing with booleans\n",
    "truth = 4\n",
    "lies = False\n",
    "# print(str(truth and lies)) # both are true -> true; otherwise -> false\n",
    "# print(str(truth or lies)) # either is true -> true; neither is true -> false\n",
    "print(not(truth))\n",
    "\n",
    "## Careful with your equals around booleans.\n",
    "is_Hoon = str(first_name == ('Hoon' or 'Kim'))\n",
    "print(is_Hoon)\n"
   ]
  },
  {
   "cell_type": "markdown",
   "metadata": {},
   "source": [
    "**Two: Login_Checker_1**\n",
    "\n",
    "Let's write a program that does the following:\n",
    "1. Accept a typed username.\n",
    "2. Accept a typed password.\n",
    "3. Returns a message: \"Hi [Username]! Your password is [password]\"\n",
    "\n",
    "How should we think through this program?"
   ]
  },
  {
   "cell_type": "code",
   "execution_count": 13,
   "metadata": {},
   "outputs": [
    {
     "name": "stdout",
     "output_type": "stream",
     "text": [
      "Hi Larry! Your password is King\n"
     ]
    }
   ],
   "source": [
    "# Type in Program below using input() and print() only.\n",
    "\n",
    "# Step 1: Take user name from user.\n",
    "user_name = input(\"Please enter your user name:\")\n",
    "# Step 2: Take password from user.\n",
    "password = input(\"Please enter password:\")\n",
    "# Step 3: Return message.\n",
    "print(\"Hi \" + user_name + \"! Your password is \" + password)\n",
    "# str(something_that_isnt_a_string)"
   ]
  },
  {
   "cell_type": "markdown",
   "metadata": {},
   "source": [
    "**Three: Login_Checker_2**\n",
    "\n",
    "Let's customize the program for a user called Larry.\n",
    "1. Larry is (obviously) called 'Larry'\n",
    "2. Larry's preferred password is 'coding_is_fun'\n",
    "3. The program should tell the user whether a) they are Larry and b) the password entered matches Larry's. \n",
    "\n",
    "In other words, if the username and password entered match Larry's credentials, the program should return **True**. Otherwise, it should return **False**.\n",
    "\n",
    "How can we make this happen?"
   ]
  },
  {
   "cell_type": "code",
   "execution_count": 18,
   "metadata": {},
   "outputs": [],
   "source": [
    "# Type in Larry's Program below using input(), print(), and boolean logic only. NO IF STATEMENTS!!\n",
    "# What can we reuse from the above?\n",
    "\n",
    "# Step 1: Take user name from user.\n",
    "user_name = input(\"Please enter your user name:\")\n",
    "# Step 2: Take password from user.\n",
    "password = input(\"Please enter password:\")\n",
    "# Step 3: Is it Larry????? Is it his password?\n",
    "outcome = (user_name == 'Larry' and password == 'coding_is_fun')\n",
    "\n"
   ]
  },
  {
   "cell_type": "markdown",
   "metadata": {},
   "source": [
    "**Four: Login_Checker_3**\n",
    "\n",
    "Final step: Add more users!\n",
    "Larry decided to add more friends to his login checker.\n",
    "We want the new program to accept the following users and passwords:\n",
    "1. Larry; coding_is_fun\n",
    "2. Falken; Joshua\n",
    "3. Setec Astronomy; too many secrets\n",
    "4. Neo; False\n",
    "\n",
    "How can we change the program above to include Falken, Setec, and Neo?"
   ]
  },
  {
   "cell_type": "code",
   "execution_count": 22,
   "metadata": {},
   "outputs": [
    {
     "name": "stdout",
     "output_type": "stream",
     "text": [
      "True\n"
     ]
    }
   ],
   "source": [
    "# Type in Larry's Upgraded Program below: input(), print(), and boolean logic only. NO IF STATEMENTS!!\n",
    "# What can we reuse from the above?\n",
    "\n",
    "# Step 1: Take user name from user.\n",
    "user_name = input(\"Please enter your user name:\")\n",
    "# Step 2: Take password from user.\n",
    "password = input(\"Please enter password:\")\n",
    "# Step 3: Is it Larry????? Is it his password? Or is it any of his friends?\n",
    "is_larry = (user_name == 'Larry' and password == 'coding_is_fun') \n",
    "is_falken = (user_name == 'Falken' and password == 'Joshua')\n",
    "is_setec = (user_name == 'Setec Astronomy' and password == 'too many secrets')\n",
    "is_neo = (user_name == 'Neo' and password == 'False')\n",
    "\n",
    "# Step 4 print the outcome!\n",
    "print(is_larry or is_falken or is_setec or is_neo)"
   ]
  },
  {
   "cell_type": "markdown",
   "metadata": {},
   "source": [
    "**Five: Is it the weekend yet?**\n",
    "\n",
    "Let's write a program that tells the user whether the day they entered (e.g., 'Monday') is in the weekend."
   ]
  },
  {
   "cell_type": "code",
   "execution_count": 23,
   "metadata": {},
   "outputs": [
    {
     "name": "stdout",
     "output_type": "stream",
     "text": [
      "True\n"
     ]
    }
   ],
   "source": [
    "# Weekend Program Below using input(), print(), and boolean logic only. NO IF STATEMENTS!!\n",
    "\n",
    "# Step 1: take user input\n",
    "day_user_input = input(\"Please input a day of the week:\")\n",
    "\n",
    "# Step 2: check if saturday or sunday\n",
    "is_weekend = (day_user_input == 'Saturday' or day_user_input == 'Sunday')\n",
    "\n",
    "# Step 3: Print\n",
    "print(is_weekend)\n",
    "\n",
    "# Step 4:"
   ]
  }
 ],
 "metadata": {
  "kernelspec": {
   "display_name": "Python 3",
   "language": "python",
   "name": "python3"
  },
  "language_info": {
   "codemirror_mode": {
    "name": "ipython",
    "version": 3
   },
   "file_extension": ".py",
   "mimetype": "text/x-python",
   "name": "python",
   "nbconvert_exporter": "python",
   "pygments_lexer": "ipython3",
   "version": "3.12.1"
  }
 },
 "nbformat": 4,
 "nbformat_minor": 2
}
