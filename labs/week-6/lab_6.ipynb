{
 "cells": [
  {
   "cell_type": "markdown",
   "metadata": {},
   "source": [
    "![Tired](Untitled.png)\n",
    "# Lab 6\n",
    "\n",
    "### Agenda\n",
    "### 0. We are tired. Programming is a lot of work, but the end is nigh.\n",
    "### NEXT WEEK (LAB 7) IS THE LAST LAB. DON'T COME TO LAB 10/23~.\n",
    "<br>\n",
    "\n",
    "### 1. Homework and Functions Grievances\n",
    "<br>\n",
    "\n",
    "### 2. Functions -> congressize.ipynb. (Code-together exercise)\n",
    "### Everyone have an empty codespace open please.\n",
    "### Also download word_list.txt in the lab folder on Canvas.\n",
    "\n"
   ]
  },
  {
   "cell_type": "markdown",
   "metadata": {},
   "source": [
    "![EIB](EIB.png)\n",
    "\n",
    "# 1. Grievances (5 minutes)\n",
    "<br><br>\n",
    "\n",
    "## 1-a. Grievances: Clean\n",
    "### Any lingering problems?\n",
    "<br><br>\n",
    "\n",
    "## 1-b. Grievances: Spell\n",
    "### Any trip-ups?\n",
    "<br><br>\n",
    "\n",
    "## 1-c. Grievances: Functions\n",
    "### 1-c-i. What is a Function?\n",
    "### f(x)? Math anyone?"
   ]
  },
  {
   "cell_type": "markdown",
   "metadata": {},
   "source": [
    "![C](Capitol.jpg)\n",
    "\n",
    "# 2. Congressize.py and the art of using functions to make your code nicer\n",
    "\n",
    "## Any ex-Hill interns, lobbying firm analysts, or legislative policy analysts here?\n",
    "\n",
    "<br><br><br><br><br><br><br>\n",
    "\n",
    "## **Examples of Whacky Acronyms as Bill Names**\n",
    "## The **STABLE GENIUS ACT** H.R.3736, 116th Congress (2019-2020)\n",
    "## The **USA PATRIOT ACT**,\tPub. L. 107–56, 107th Congress (2001)\n",
    "\n",
    "\n",
    "<br><br><br>"
   ]
  },
  {
   "cell_type": "markdown",
   "metadata": {},
   "source": [
    "![Confusion](confused-nick-young-.jpg)\n",
    "\n",
    "## ... How the hell are these people coming up with these acronyms??\n",
    "## In the alternative, why are our tax dollars being spent on this tomfoolery?\n",
    "<br><br>\n",
    "<br><br>\n",
    "<br><br>\n",
    "<br><br>\n",
    "\n",
    "# Problems of Public Policy\n",
    "# Making a poor 20-something year old come up with these while running on 2 hours of sleep and cheap coffee seems to be an 8th Amendment violation.\n",
    "## **\". . .[N]or cruel and unusual punishments inflicted.\"** U.S. Const. Amd. 8\n",
    "<br>\n",
    "\n",
    "# In the alternative, paying people to do this is bad for Congress who is tasked with protecting the public fisc.\n",
    "## (Separately, unpaid internships are essentially indentured servitude agreements so they go against the 13th Amendment.)\n",
    "## **\"No Money shall be drawn from the Treasury, but in Consequence of Appropriations made by Law ...\"** U.S. Const. Art. 1 § 9(7)\n",
    "\n",
    "<br><br>\n",
    "<br><br>\n",
    "<br><br>\n",
    "\n",
    "\n",
    "# Okay, tldr plz fix thx. Got it."
   ]
  },
  {
   "cell_type": "code",
   "execution_count": 10,
   "metadata": {},
   "outputs": [],
   "source": [
    "# Enter congressize().\n",
    "# 1. Receive an acronym from your U.S. Rep or U.S. Senator. What is an acronym?\n",
    "# 2. Return a phrase that consists of words whose first letters correspond to the letters in the acronym provided.\n",
    "# 3. (Implied) Use functions to implement.\n",
    "\n",
    "def congressize(acronym, char_count):\n",
    "\n",
    "    word_list = ['The']\n",
    "        # acronym == string\n",
    "        # 'CLOUD'\n",
    "    for letter in acronym:\n",
    "        # find a word that starts with the letter in the dictionary/word_list file  \n",
    "        word_list.append(random_word(letter, char_count))\n",
    "\n",
    "    word_list.append('Act')\n",
    "\n",
    "    return ' '.join(word_list)"
   ]
  },
  {
   "cell_type": "code",
   "execution_count": 11,
   "metadata": {},
   "outputs": [],
   "source": [
    "# Cool. but \"finging\" a word from an acronym is easier said than done. How do?\n",
    "# random_word()\n",
    "import random\n",
    "\n",
    "def random_word(letter, target_chars=7):\n",
    "    words = open('word_list.txt').read().split('\\n')\n",
    "    words_with_initial = []\n",
    "    \n",
    "    for word in words:\n",
    "        ### find all the words that start with letter (passed as a parameter)\n",
    "        if word.startswith(letter):\n",
    "            words_with_initial.append(word)\n",
    "\n",
    "    short_words = []\n",
    "\n",
    "    for i in words_with_initial:\n",
    "        if len(i) <= target_chars:\n",
    "            short_words.append(i)\n",
    "\n",
    "    return random.choice(short_words)\n",
    "\n",
    "# candidate = random.choice(words_with_initial)\n",
    "# while len(candidate) > target_chars:\n",
    "#   candidate = random.choice(words_with_initial)\n",
    "# return candidate"
   ]
  },
  {
   "cell_type": "code",
   "execution_count": 12,
   "metadata": {},
   "outputs": [
    {
     "name": "stdout",
     "output_type": "stream",
     "text": [
      "The shilla mosquito impennes lingwort edental Act\n"
     ]
    }
   ],
   "source": [
    "# Run Congressize here\n",
    "# This is what the Senator/Representative said\n",
    "acronym = 'smile'\n",
    "length = 8\n",
    "\n",
    "# Run congressize.\n",
    "give_congressmember = congressize(acronym, 8)\n",
    "\n",
    "# Print congressize.\n",
    "print(give_congressmember)\n"
   ]
  }
 ],
 "metadata": {
  "kernelspec": {
   "display_name": "Python 3",
   "language": "python",
   "name": "python3"
  },
  "language_info": {
   "codemirror_mode": {
    "name": "ipython",
    "version": 3
   },
   "file_extension": ".py",
   "mimetype": "text/x-python",
   "name": "python",
   "nbconvert_exporter": "python",
   "pygments_lexer": "ipython3",
   "version": "3.12.1"
  }
 },
 "nbformat": 4,
 "nbformat_minor": 2
}
