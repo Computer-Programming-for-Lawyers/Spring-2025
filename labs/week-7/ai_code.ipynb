{
 "cells": [
  {
   "cell_type": "code",
   "execution_count": 1,
   "metadata": {},
   "outputs": [
    {
     "name": "stdout",
     "output_type": "stream",
     "text": [
      "You need to pay a toll to travel on I-42 east during morning.\n"
     ]
    }
   ],
   "source": [
    "roads_with_tolls = [\"I-42\", \"I-76\", \"I-95\"]\n",
    "\n",
    "# Function to determine whether a road has a toll based on time and direction\n",
    "def can_travel_without_toll(road_name, direction, time_of_day):\n",
    "    if road_name == \"I-42\":\n",
    "        if direction == \"east\" and time_of_day == \"morning\":\n",
    "            return False\n",
    "        elif direction == \"west\" and time_of_day == \"evening\":\n",
    "            return False\n",
    "        else:\n",
    "            return True\n",
    "    return True\n",
    "\n",
    "# Main function\n",
    "def main():\n",
    "    road_name = input(\"Enter the road name (e.g., 'I-42'): \")\n",
    "    direction = input(\"Enter the direction traveled (e.g., 'east' or 'west'): \")\n",
    "    time_of_day = input(\"Enter the time of day (e.g., 'morning', 'evening', or 'off'): \")\n",
    "    \n",
    "    # Check if the road is I-42\n",
    "    if road_name == \"I-42\":\n",
    "        if can_travel_without_toll(road_name, direction, time_of_day):\n",
    "            print(f\"You can travel on {road_name} {direction} during {time_of_day} without tolls.\")\n",
    "        else:\n",
    "            print(f\"You need to pay a toll to travel on {road_name} {direction} during {time_of_day}.\")\n",
    "    else:\n",
    "        print(f\"Information about {road_name} is not available.\")\n",
    "\n",
    "# Run the main function\n",
    "if __name__ == \"__main__\":\n",
    "    main()"
   ]
  }
 ],
 "metadata": {
  "kernelspec": {
   "display_name": "Python 3",
   "language": "python",
   "name": "python3"
  },
  "language_info": {
   "codemirror_mode": {
    "name": "ipython",
    "version": 3
   },
   "file_extension": ".py",
   "mimetype": "text/x-python",
   "name": "python",
   "nbconvert_exporter": "python",
   "pygments_lexer": "ipython3",
   "version": "3.12.1"
  }
 },
 "nbformat": 4,
 "nbformat_minor": 2
}
