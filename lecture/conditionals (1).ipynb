{
 "cells": [
  {
   "cell_type": "markdown",
   "metadata": {},
   "source": [
    "# Lecture 2: Conditionals (If, Else, Elif, and While)"
   ]
  },
  {
   "cell_type": "markdown",
   "metadata": {},
   "source": [
    "## In Class Activity: If Statements with Login Checker\n",
    "\n",
    "The formal Python structure for creating conditional behavior is known as an `if-statement`.\n",
    "  * First, type the keyword `if` at the beginning of a line. That signals to Python that you're starting an if-statement.\n",
    "  * Then, you type in a boolean expression (aka `sample_variable == 5` or `username == \"hummingbird\"`)\n",
    "  * At the end of the line, type in a colon.\n",
    "  * On the lines that follow, we can type in one or more lines of code that we want to happen if that boolean expression is True.\n",
    "    * How do we distinguish the conditional code from the rest of the program? Indent it!\n"
   ]
  },
  {
   "cell_type": "code",
   "execution_count": 13,
   "metadata": {},
   "outputs": [
    {
     "name": "stdout",
     "output_type": "stream",
     "text": [
      "False\n"
     ]
    }
   ],
   "source": [
    "wear_jacket = False\n",
    "if wear_jacket:\n",
    "    print(\"test\")\n",
    "    \n",
    "print(wear_jacket)\n",
    "    # make a decision"
   ]
  },
  {
   "cell_type": "code",
   "execution_count": 14,
   "metadata": {},
   "outputs": [
    {
     "name": "stdout",
     "output_type": "stream",
     "text": [
      "Access granted\n"
     ]
    }
   ],
   "source": [
    "# Filename: login_checker.ipynb\n",
    "# Description: Check whether a user-provided username and password match prescribed values. \n",
    "# Print \"Access Granted\" if it does.\n",
    "\n",
    "username = input(\"Username:\")\n",
    "password = input(\"Password:\")\n",
    "\n",
    "correct_username = False\n",
    "correct_password = False\n",
    "\n",
    "if username == \"hummingbird\":\n",
    "    correct_username = True\n",
    "\n",
    "if password == \"password\":\n",
    "    correct_password = True\n",
    "\n",
    "if correct_username and correct_password:\n",
    "    print(\"Access granted\")\n",
    "\n",
    "if not correct_username or not correct_password:\n",
    "    print(\"Access denied\")"
   ]
  },
  {
   "cell_type": "code",
   "execution_count": 15,
   "metadata": {},
   "outputs": [
    {
     "name": "stdout",
     "output_type": "stream",
     "text": [
      "Access denied\n"
     ]
    }
   ],
   "source": [
    "# Filename: login_checker.ipynb\n",
    "# Description: Check whether a user-provided username and password match prescribed values. \n",
    "# Print \"Access Granted\" if it does.\n",
    "\n",
    "username = input(\"Username:\")\n",
    "password = input(\"Password:\")\n",
    "\n",
    "correct_username = False\n",
    "correct_password = False\n",
    "\n",
    "if username == \"hummingbird\":\n",
    "    correct_username = True\n",
    "\n",
    "if password == \"password\":\n",
    "    correct_password = True\n",
    "\n",
    "if correct_username and correct_password:\n",
    "    print(\"Access granted\")\n",
    "else:\n",
    "    print(\"Access denied\")"
   ]
  },
  {
   "cell_type": "markdown",
   "metadata": {},
   "source": [
    "### Splitting Long Lines of Code\n",
    "\n",
    "In our style guide, we told you that no line of code should be longer than 100 characters. But what do you do if you really really need a line to be longer than that? You can break it up over multiple lines. \n",
    "\n",
    "Within parentheses, you can create new lines by splitting at operators or commas."
   ]
  },
  {
   "cell_type": "code",
   "execution_count": 16,
   "metadata": {},
   "outputs": [
    {
     "name": "stdout",
     "output_type": "stream",
     "text": [
      "You should wear a jacket: True\n"
     ]
    }
   ],
   "source": [
    "is_it_raining = input(\"Is it raining?\")\n",
    "temp_outside = input(\"What temperature is it outside?\")\n",
    "wear_jacket = ((int(temp_outside) < 65) \n",
    "               or \n",
    "              (is_it_raining == \"Yes\"))\n",
    "print(\"You should wear a jacket:\",wear_jacket)"
   ]
  },
  {
   "cell_type": "markdown",
   "metadata": {},
   "source": [
    "### Nested if-statements\n",
    "\n",
    "You can have if-statements inside other if-statements. This is called *nesting*."
   ]
  },
  {
   "cell_type": "code",
   "execution_count": 17,
   "metadata": {},
   "outputs": [],
   "source": [
    "# Add a warning message for logged-in users whose passwords are particularly short.\n",
    "\n",
    "username = input(\"Username:\")\n",
    "password = input(\"Password:\")\n",
    "\n",
    "correct_username = False\n",
    "correct_password = False\n",
    "\n",
    "if username == \"hummingbird\":\n",
    "    correct_username = True\n",
    "    if len(username) < 10:\n",
    "        print(\"Your username no longer meets length criteria\")\n",
    "\n",
    "if password == \"password\":\n",
    "    correct_password = True\n",
    "\n",
    "if correct_username and correct_password:\n",
    "    print(\"Access granted\")"
   ]
  },
  {
   "cell_type": "markdown",
   "metadata": {},
   "source": [
    "### Else\n",
    "\n",
    "How do we print `'Access Denied'` when the password is wrong?\n",
    "\n",
    "Python provides an easy way to do this: `else`\n",
    "* Once we're done with the if-statement's code block, we can type the word `else` followed by a colon.\n",
    "* This should be indented to the same level as the corresponding `if` keyword.\n",
    "* The `else` statement also gets its own code-block."
   ]
  },
  {
   "cell_type": "code",
   "execution_count": 18,
   "metadata": {},
   "outputs": [
    {
     "name": "stdout",
     "output_type": "stream",
     "text": [
      "Access granted\n"
     ]
    }
   ],
   "source": [
    "# Add a warning message for logged-in users whose passwords are particularly short.\n",
    "\n",
    "\n",
    "username = input(\"Username:\")\n",
    "password = input(\"Password:\")\n",
    "\n",
    "correct_username = False\n",
    "correct_password = False\n",
    "\n",
    "if username == \"hummingbird\":\n",
    "    correct_username = True\n",
    "    if len(username) < 10:\n",
    "        print(\"Your username no longer meets length criteria\")\n",
    "\n",
    "if password == \"password\":\n",
    "    correct_password = True\n",
    "\n",
    "if correct_username and correct_password:\n",
    "    print(\"Access granted\")\n",
    "else:\n",
    "    print(\"Access denied\")\n"
   ]
  },
  {
   "cell_type": "markdown",
   "metadata": {},
   "source": [
    "# In Class Activity: If, Elif, and Else to Determine Tax Rate\n",
    "\n",
    "Based on a user's provided income, determine the tax rate for a single individual, incorporating a standard deduction of $12,400 (aka, the individual's income minus the standard deduction).\n",
    "\n",
    "**[Tax Rates (2020)](https://taxfoundation.org/data/all/federal/2020-tax-brackets/):**\n",
    "\n",
    "| Rate | For Single Individuals       |\n",
    "|------|------------------------------|\n",
    "| 10%  | Up to $9,875                |\n",
    "| 12%  | $9,876 to $40,125           |\n",
    "| 22%  | $40,126 to $85,525          |\n",
    "| 24%  | $85,526 to $163,300         |\n",
    "| 32%  | $163,301 to $207,350        |\n",
    "| 35%  | $207,351 to $518,400        |\n",
    "| 37%  | $518,401 or more            |"
   ]
  },
  {
   "cell_type": "code",
   "execution_count": 19,
   "metadata": {},
   "outputs": [],
   "source": [
    "indv_income = int(input(\"What's your income?\"))\n",
    "STD_DEDUCTION = 12400\n",
    "\n",
    "adj_income = indv_income - STD_DEDUCTION\n",
    "\n",
    "if adj_income < 9875:\n",
    "    rate = 10\n",
    "elif adj_income < 40125:\n",
    "    rate = 12\n",
    "elif adj_income < 85525:\n",
    "    rate = 22\n",
    "elif adj_income < 163300:\n",
    "    rate = 24\n",
    "elif adj_income < 207350:\n",
    "    rate = 32\n",
    "elif adj_income < 518400:\n",
    "    rate = 35\n",
    "else:\n",
    "    rate = 37"
   ]
  },
  {
   "cell_type": "markdown",
   "metadata": {},
   "source": [
    "Now, how might you identify different rates for different filing statuses?\n",
    "\n",
    "| Rate | For Single Individuals       | For Married Individuals Filing Joint Returns | For Heads of Households     |\n",
    "|------|------------------------------|---------------------------------------------|-----------------------------|\n",
    "| 10%  | Up to $9,875                | Up to $19,750                              | Up to $14,100              |\n",
    "| 12%  | $9,876 to $40,125           | $19,751 to $80,250                         | $14,101 to $53,700         |\n",
    "| 22%  | $40,126 to $85,525          | $80,251 to $171,050                        | $53,701 to $85,500         |\n",
    "| 24%  | $85,526 to $163,300         | $171,051 to $326,600                       | $85,501 to $163,300        |\n",
    "| 32%  | $163,301 to $207,350        | $326,601 to $414,700                       | $163,301 to $207,350       |\n",
    "| 35%  | $207,351 to $518,400        | $414,701 to $622,050                       | $207,351 to $518,400       |\n",
    "| 37%  | $518,401 or more            | $622,051 or more                           | $518,401 or more           |"
   ]
  },
  {
   "cell_type": "code",
   "execution_count": 20,
   "metadata": {},
   "outputs": [
    {
     "name": "stdout",
     "output_type": "stream",
     "text": [
      "married other cat\n"
     ]
    }
   ],
   "source": [
    "indv_income = int(input(\"What's your income?\"))\n",
    "\n",
    "STD_DEDUCTION = 12400\n",
    "\n",
    "adj_income = indv_income - STD_DEDUCTION\n",
    "\n",
    "# setting these variables here as a quick shortcut\n",
    "# normally, you'd probably take these as inputs or make them conditional on something else\n",
    "single_filer = False\n",
    "married = True\n",
    "head_house = True\n",
    "\n",
    "if single_filer:\n",
    "    if adj_income < 9875:\n",
    "        rate = 10\n",
    "    elif adj_income < 40125:\n",
    "        rate = 12\n",
    "    elif adj_income < 85525:\n",
    "        rate = 22\n",
    "    elif adj_income < 163300:\n",
    "        rate = 24\n",
    "    elif adj_income < 207350:\n",
    "        rate = 32\n",
    "    elif adj_income < 518400:\n",
    "        rate = 35\n",
    "    else:\n",
    "        rate = 37\n",
    "    print(rate)\n",
    "elif married:\n",
    "    print(\"married other cat\")\n",
    "else:\n",
    "    print(\"head of household\")\n"
   ]
  },
  {
   "cell_type": "markdown",
   "metadata": {},
   "source": [
    "## While Loops"
   ]
  },
  {
   "cell_type": "markdown",
   "metadata": {},
   "source": [
    "Explain what this code is doing:"
   ]
  },
  {
   "cell_type": "code",
   "execution_count": 21,
   "metadata": {},
   "outputs": [
    {
     "name": "stdout",
     "output_type": "stream",
     "text": [
      "Hello, world! 0\n"
     ]
    }
   ],
   "source": [
    "# Set a counter variable to zero.\n",
    "i = 0\n",
    "\n",
    "# Print.\n",
    "if i < 5:\n",
    "    print('Hello, world! ' + str(i))\n",
    "    i = i + 1"
   ]
  },
  {
   "cell_type": "markdown",
   "metadata": {},
   "source": [
    "What happens if we replace if with while?"
   ]
  },
  {
   "cell_type": "code",
   "execution_count": 22,
   "metadata": {},
   "outputs": [
    {
     "name": "stdout",
     "output_type": "stream",
     "text": [
      "Hello, world! 0\n",
      "Hello, world! 1\n",
      "Hello, world! 2\n",
      "Hello, world! 3\n",
      "Hello, world! 4\n"
     ]
    }
   ],
   "source": [
    "# Set a counter variable to zero.\n",
    "i = 0\n",
    "\n",
    "# Print.\n",
    "while i < 5:\n",
    "    print('Hello, world! ' + str(i))\n",
    "    i = i + 1"
   ]
  },
  {
   "cell_type": "markdown",
   "metadata": {},
   "source": [
    "While loops and if-statements have identical structure.\n",
    "* They begin with a keyword (`if` or `while`).\n",
    "* They run a boolean test that determines whether the body will execute. If the test is `True`, the body will indeed execute; if it is `False`; the body won't execute and it will move onto the code afterwards.\n",
    "\n",
    "But there's a key difference: what happens after the body has executed.\n",
    "* In an if-statement, once the body has executed, we simply keep on moving top to bottom, executing the next non-indented line of code after the if-statement.\n",
    "* In a while-loop, we return to the `while` statement, execute the boolean test again, and repeat the process. We keep repeating this process until the boolean test is `False`, at which point we exit and execute the code after the loop."
   ]
  },
  {
   "cell_type": "markdown",
   "metadata": {},
   "source": []
  },
  {
   "cell_type": "code",
   "execution_count": 23,
   "metadata": {},
   "outputs": [],
   "source": [
    "# Set a counter variable to zero.\n",
    "i = 0\n",
    "\n",
    "## IF YOU RUN THIS IT WILL RUN FOREVER -- REMOVED OUTPUT FOR FILE SIZE ISSUES\n",
    "# Print.\n",
    "while i > -5:\n",
    "    print('Hello, world! ' + str(i))\n",
    "    i = i + 1"
   ]
  },
  {
   "cell_type": "code",
   "execution_count": 24,
   "metadata": {},
   "outputs": [
    {
     "name": "stdout",
     "output_type": "stream",
     "text": [
      "Hello, world! 0\n",
      "Hello, world! 1\n",
      "Hello, world! 2\n",
      "Hello, world! 3\n",
      "Hello, world! 4\n",
      "Hello, world! 5\n",
      "Hello, world! 6\n",
      "Hello, world! 7\n",
      "Hello, world! 8\n",
      "Hello, world! 9\n",
      "Hello, world! 10\n",
      "Hello, world! 11\n",
      "Hello, world! 12\n",
      "Hello, world! 13\n",
      "Hello, world! 14\n",
      "Hello, world! 15\n",
      "Hello, world! 16\n",
      "Hello, world! 17\n",
      "Hello, world! 18\n",
      "Hello, world! 19\n",
      "Hello, world! 20\n",
      "Hello, world! 21\n",
      "Hello, world! 22\n",
      "Hello, world! 23\n",
      "Hello, world! 24\n",
      "Hello, world! 25\n",
      "Hello, world! 26\n",
      "Hello, world! 27\n",
      "Hello, world! 28\n",
      "Hello, world! 29\n",
      "Hello, world! 30\n",
      "Hello, world! 31\n",
      "Hello, world! 32\n",
      "Hello, world! 33\n",
      "Hello, world! 34\n",
      "Hello, world! 35\n",
      "Hello, world! 36\n",
      "Hello, world! 37\n",
      "Hello, world! 38\n",
      "Hello, world! 39\n",
      "Hello, world! 40\n",
      "Hello, world! 41\n",
      "Hello, world! 42\n",
      "Hello, world! 43\n",
      "Hello, world! 44\n",
      "Hello, world! 45\n",
      "Hello, world! 46\n",
      "Hello, world! 47\n",
      "Hello, world! 48\n",
      "Hello, world! 49\n",
      "Hello, world! 50\n",
      "Hello, world! 51\n",
      "Hello, world! 52\n",
      "Hello, world! 53\n",
      "Hello, world! 54\n",
      "Hello, world! 55\n",
      "Hello, world! 56\n",
      "Hello, world! 57\n",
      "Hello, world! 58\n",
      "Hello, world! 59\n",
      "Hello, world! 60\n",
      "Hello, world! 61\n",
      "Hello, world! 62\n",
      "Hello, world! 63\n",
      "Hello, world! 64\n",
      "Hello, world! 65\n",
      "Hello, world! 66\n",
      "Hello, world! 67\n",
      "Hello, world! 68\n",
      "Hello, world! 69\n",
      "Hello, world! 70\n",
      "Hello, world! 71\n",
      "Hello, world! 72\n",
      "Hello, world! 73\n",
      "Hello, world! 74\n",
      "Hello, world! 75\n",
      "Hello, world! 76\n",
      "Hello, world! 77\n",
      "Hello, world! 78\n",
      "Hello, world! 79\n",
      "Hello, world! 80\n",
      "Hello, world! 81\n",
      "Hello, world! 82\n",
      "Hello, world! 83\n",
      "Hello, world! 84\n",
      "Hello, world! 85\n",
      "Hello, world! 86\n",
      "Hello, world! 87\n",
      "Hello, world! 88\n",
      "Hello, world! 89\n",
      "Hello, world! 90\n",
      "Hello, world! 91\n",
      "Hello, world! 92\n",
      "Hello, world! 93\n",
      "Hello, world! 94\n",
      "Hello, world! 95\n",
      "Hello, world! 96\n",
      "Hello, world! 97\n",
      "Hello, world! 98\n",
      "Hello, world! 99\n"
     ]
    }
   ],
   "source": [
    "# Set a counter variable to zero.\n",
    "i = 0\n",
    "\n",
    "# Print.\n",
    "while True: #this will always be true, need \"break\" to stop the loop\n",
    "    print('Hello, world! ' + str(i))\n",
    "    i = i + 1\n",
    "    if i == 100:\n",
    "        break\n",
    "\n",
    "## same thing, but in my opinion it is better code. there are instances where a 'while true' is appropriate too (ie complex logic with ifs, elifs)\n",
    "\n",
    "while i < 100:\n",
    "    print('Hello, world! ' + str(i))\n",
    "    i = i + 1"
   ]
  }
 ],
 "metadata": {
  "kernelspec": {
   "display_name": "Python 3",
   "language": "python",
   "name": "python3"
  },
  "language_info": {
   "codemirror_mode": {
    "name": "ipython",
    "version": 3
   },
   "file_extension": ".py",
   "mimetype": "text/x-python",
   "name": "python",
   "nbconvert_exporter": "python",
   "pygments_lexer": "ipython3",
   "version": "3.12.1"
  }
 },
 "nbformat": 4,
 "nbformat_minor": 2
}
