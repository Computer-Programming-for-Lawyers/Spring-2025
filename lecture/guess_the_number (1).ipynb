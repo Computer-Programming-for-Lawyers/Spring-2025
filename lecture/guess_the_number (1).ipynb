{
 "cells": [
  {
   "cell_type": "markdown",
   "metadata": {},
   "source": [
    "### Guess the Number Game\n",
    "\n",
    "In class activity to demonstrate if-statements and while loops.\n",
    "\n",
    "Let's start simple: Given a pre-defined answer (aka, answer = 33), take a user input and tell the user whether they guessed the number right. "
   ]
  },
  {
   "cell_type": "code",
   "execution_count": 1,
   "metadata": {},
   "outputs": [
    {
     "data": {
      "text/plain": [
       "True"
      ]
     },
     "execution_count": 1,
     "metadata": {},
     "output_type": "execute_result"
    }
   ],
   "source": [
    "answer = 33\n",
    "user_number = int(input(\"Guess the number:\"))\n",
    "\n",
    "correct = user_number == answer\n",
    "\n",
    "correct"
   ]
  },
  {
   "cell_type": "markdown",
   "metadata": {},
   "source": [
    "#### Brief Aside on Libraries\n",
    "\n",
    "Python comes with several **built-in functions** like `print()`, `input()`, and `len()`. These are included by default, but Python offers much more functionality through additional tools called **libraries**.\n",
    "\n",
    "---\n",
    "\n",
    "##### Libraries: Beyond Built-in Functions\n",
    "- Python is **extensible**, allowing us to use or create bundles of code called **libraries**.\n",
    "- Libraries (also called \"modules\" or \"packages\") let us:\n",
    "  - Avoid writing code from scratch.\n",
    "  - Use well-tested, reusable code.\n",
    "- **Abstraction**: We don’t need to understand how a library works—just how to use it.\n",
    "\n",
    "---\n",
    "\n",
    "##### Standard Libraries\n",
    "- When you install Python, it includes **standard libraries** for common tasks.\n",
    "- Standard libraries are not built-in like print() or len(), so they require the import command.\n",
    "- To use a library, you must first **import** it. Example: `import random`\n",
    "- Sometimes, you also need to **install** libraries before you can import them. You would do this in the terminal with the command: `pip install [library name]`\n",
    "---\n",
    "##### Creating your own libraries\n",
    "You can import your own Python (.py) files just like libraries, we'll learn more about this later in the semester."
   ]
  },
  {
   "cell_type": "markdown",
   "metadata": {},
   "source": [
    "### Using a Library to Create a Random Number\n",
    "\n",
    "Now, let's use a library to make the answer random, that way you really have to guess. "
   ]
  },
  {
   "cell_type": "code",
   "execution_count": 7,
   "metadata": {},
   "outputs": [
    {
     "name": "stdout",
     "output_type": "stream",
     "text": [
      "78\n"
     ]
    }
   ],
   "source": [
    "import random\n",
    "\n",
    "# Pick a random number between 1 and 100.\n",
    "answer = random.randint(1, 100)\n",
    "print(answer)"
   ]
  },
  {
   "cell_type": "markdown",
   "metadata": {},
   "source": [
    "## Tell a user whether their number is higher or lower than the correct value."
   ]
  },
  {
   "cell_type": "code",
   "execution_count": null,
   "metadata": {},
   "outputs": [
    {
     "name": "stdout",
     "output_type": "stream",
     "text": [
      "You guessed it wrong.\n",
      "Guess lower.\n",
      "You guessed it wrong.\n",
      "Guess lower.\n",
      "You guessed it wrong.\n",
      "Guess higher.\n"
     ]
    },
    {
     "ename": "ValueError",
     "evalue": "invalid literal for int() with base 10: ''",
     "output_type": "error",
     "traceback": [
      "\u001b[0;31m---------------------------------------------------------------------------\u001b[0m",
      "\u001b[0;31mValueError\u001b[0m                                Traceback (most recent call last)",
      "Cell \u001b[0;32mIn[11], line 18\u001b[0m\n\u001b[1;32m     16\u001b[0m     \u001b[38;5;28mprint\u001b[39m(\u001b[38;5;124m\"\u001b[39m\u001b[38;5;124mGuess lower.\u001b[39m\u001b[38;5;124m\"\u001b[39m)\n\u001b[1;32m     17\u001b[0m \u001b[38;5;66;03m#\u001b[39;00m\n\u001b[0;32m---> 18\u001b[0m user_response \u001b[38;5;241m=\u001b[39m \u001b[38;5;28;43mint\u001b[39;49m\u001b[43m(\u001b[49m\u001b[38;5;28;43minput\u001b[39;49m\u001b[43m(\u001b[49m\u001b[38;5;124;43m\"\u001b[39;49m\u001b[38;5;124;43mGuess the number again.\u001b[39;49m\u001b[38;5;124;43m\"\u001b[39;49m\u001b[43m)\u001b[49m\u001b[43m)\u001b[49m\n",
      "\u001b[0;31mValueError\u001b[0m: invalid literal for int() with base 10: ''"
     ]
    }
   ],
   "source": [
    "import random\n",
    "\n",
    "# Pick a random number between 1 and 100.\n",
    "answer = random.randint(1, 100)\n",
    "\n",
    "user_response = int(input(\"Guess the number!\"))\n",
    "\n",
    "if user_response == answer:\n",
    "    print(\"You got it right!\")\n",
    "else:\n",
    "    while user_response != answer:\n",
    "        print(\"You guessed it wrong.\")\n",
    "        if user_response < answer:\n",
    "            print(\"Guess higher.\") \n",
    "        elif user_response > answer:\n",
    "            print(\"Guess lower.\")\n",
    "        #\n",
    "        user_response = int(input(\"Guess the number again.\"))\n",
    "        \n",
    "    print(\"Well done! You got it right.\")"
   ]
  },
  {
   "cell_type": "markdown",
   "metadata": {},
   "source": [
    "Other ways to make this more complicated:\n",
    "* Tell the user whether they're hot or cold, and keep taking guesses until they get it right.\n",
    "* Keep a counter of how many guesses someone has made, and print it out at the end."
   ]
  }
 ],
 "metadata": {
  "kernelspec": {
   "display_name": "Python 3",
   "language": "python",
   "name": "python3"
  },
  "language_info": {
   "codemirror_mode": {
    "name": "ipython",
    "version": 3
   },
   "file_extension": ".py",
   "mimetype": "text/x-python",
   "name": "python",
   "nbconvert_exporter": "python",
   "pygments_lexer": "ipython3",
   "version": "3.12.1"
  }
 },
 "nbformat": 4,
 "nbformat_minor": 2
}
