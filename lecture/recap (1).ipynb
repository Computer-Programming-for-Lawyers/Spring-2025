{
 "cells": [
  {
   "cell_type": "markdown",
   "metadata": {},
   "source": [
    "# Week 1 Recap: print, input, and booleans"
   ]
  },
  {
   "cell_type": "markdown",
   "metadata": {},
   "source": [
    "Print function refresh\n",
    "* Combining strings and printing variables\n",
    "* \"sep\""
   ]
  },
  {
   "cell_type": "code",
   "execution_count": 5,
   "metadata": {},
   "outputs": [
    {
     "name": "stdout",
     "output_type": "stream",
     "text": [
      "priussubaruhonda;2\n"
     ]
    }
   ],
   "source": [
    "car1 = \"prius\"\n",
    "car2 = \"subaru\"\n",
    "car3 = \"honda\"\n",
    "\n",
    "print(car1+car2+car3,2,sep=\";\")"
   ]
  },
  {
   "cell_type": "markdown",
   "metadata": {},
   "source": [
    "Input function refresh\n",
    "* storing inputs as variables\n",
    "* printing inputs\n",
    "* print input times 4 (str vs int)"
   ]
  },
  {
   "cell_type": "code",
   "execution_count": 8,
   "metadata": {},
   "outputs": [
    {
     "name": "stdout",
     "output_type": "stream",
     "text": [
      "purple\n",
      "Check whether input is blue: False\n"
     ]
    }
   ],
   "source": [
    "color = input(\"Put your favorite color here:\")\n",
    "print(color)\n",
    "print(\"Check whether input is blue:\",color==\"blue\")"
   ]
  },
  {
   "cell_type": "code",
   "execution_count": 13,
   "metadata": {},
   "outputs": [
    {
     "name": "stdout",
     "output_type": "stream",
     "text": [
      "7\n",
      "check whether number is seven: True\n"
     ]
    }
   ],
   "source": [
    "seven = int(input(\"enter the number seven:\"))\n",
    "print(seven)\n",
    "print(\"check whether number is seven:\",seven==7)"
   ]
  },
  {
   "cell_type": "markdown",
   "metadata": {},
   "source": [
    "Booleans\n",
    "* As you'll recall, boolean variables take on one of two value: True or False.\n",
    "  * We create booleans by performing comparisons on other expressions.\n",
    "  * We use the == operator to test whether two expressions are equal.\n",
    "  * We use the != to test whether they're not equal.\n",
    "  * For numbers, we can also use >, <, <=, and >= to compare whethether something is bigger or smaller.\n",
    "  * We also have compound boolean operators like `and`, `or`, and `not` that allow us to build bigger logical expressions.\n",
    "\n",
    "Activities:\n",
    "* write a simple program to tell me whether I need to wear a jacket\n",
    "* wear a jacket if it's raining or if it's below 65 degrees"
   ]
  },
  {
   "cell_type": "code",
   "execution_count": 17,
   "metadata": {},
   "outputs": [
    {
     "name": "stdout",
     "output_type": "stream",
     "text": [
      "You should wear a jacket: True\n"
     ]
    }
   ],
   "source": [
    "is_it_raining = input(\"Is it raining?\")\n",
    "temp_outside = input(\"What temperature is it outside?\")\n",
    "wear_jacket = ((int(temp_outside) < 65) \n",
    "               or \n",
    "              (is_it_raining == \"Yes\"))\n",
    "print(\"You should wear a jacket:\",wear_jacket)"
   ]
  },
  {
   "cell_type": "code",
   "execution_count": 7,
   "metadata": {},
   "outputs": [],
   "source": [
    "response = int(input(\"What temperature is it outside?\"))"
   ]
  },
  {
   "cell_type": "code",
   "execution_count": 8,
   "metadata": {},
   "outputs": [
    {
     "data": {
      "text/plain": [
       "int"
      ]
     },
     "execution_count": 8,
     "metadata": {},
     "output_type": "execute_result"
    }
   ],
   "source": [
    "type(response)"
   ]
  },
  {
   "cell_type": "markdown",
   "metadata": {},
   "source": [
    "Git commands refresh\n",
    "- open files\n",
    "- commiting and pushing"
   ]
  }
 ],
 "metadata": {
  "kernelspec": {
   "display_name": "Python 3",
   "language": "python",
   "name": "python3"
  },
  "language_info": {
   "codemirror_mode": {
    "name": "ipython",
    "version": 3
   },
   "file_extension": ".py",
   "mimetype": "text/x-python",
   "name": "python",
   "nbconvert_exporter": "python",
   "pygments_lexer": "ipython3",
   "version": "3.12.1"
  }
 },
 "nbformat": 4,
 "nbformat_minor": 2
}
