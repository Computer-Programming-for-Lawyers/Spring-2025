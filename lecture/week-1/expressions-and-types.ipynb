{
 "cells": [
  {
   "cell_type": "markdown",
   "metadata": {},
   "source": [
    "## Python Expressions and Types\n",
    "\n",
    "At its simplest, Python is a calculator\n",
    "You can enter numbers into the Console, and it will dutifully reply with that number."
   ]
  },
  {
   "cell_type": "code",
   "execution_count": null,
   "metadata": {},
   "outputs": [],
   "source": [
    "5"
   ]
  },
  {
   "cell_type": "markdown",
   "metadata": {},
   "source": [
    "You can also enter arithmetic computations, such as `2 + 3`\n",
    "- We refer to these as \"expressions\".\n",
    "- Think of expressions like the atomic unit of computer programming.\n",
    "  - The key is that an expression can be simplified down to a single value.\n",
    "  - A single number is a really simple expression. Its value is the same as the number itself.\n",
    "  - An arithmetic computation is a slightly more complex expression, that still simplifies to a single value."
   ]
  },
  {
   "cell_type": "code",
   "execution_count": null,
   "metadata": {},
   "outputs": [],
   "source": [
    "# Example\n",
    "2 + 3"
   ]
  },
  {
   "cell_type": "markdown",
   "metadata": {},
   "source": [
    "Addition, subtraction, and multiplication.\n"
   ]
  },
  {
   "cell_type": "code",
   "execution_count": null,
   "metadata": {},
   "outputs": [],
   "source": [
    "3 + 7"
   ]
  },
  {
   "cell_type": "code",
   "execution_count": null,
   "metadata": {},
   "outputs": [],
   "source": [
    "10 - 4"
   ]
  },
  {
   "cell_type": "code",
   "execution_count": null,
   "metadata": {},
   "outputs": [],
   "source": [
    "6 * 9"
   ]
  },
  {
   "cell_type": "markdown",
   "metadata": {},
   "source": [
    "Parentheses allow you to modify the order of operations.\n",
    "\n",
    "Consider ``2 + 3 * 5``. Pause before hitting enter.\n",
    "\n",
    "The answer isn't 25, as you might guess. It's 17."
   ]
  },
  {
   "cell_type": "code",
   "execution_count": null,
   "metadata": {},
   "outputs": [],
   "source": [
    "2 + 3 * 5"
   ]
  },
  {
   "cell_type": "markdown",
   "metadata": {},
   "source": [
    "The reason: The order of operations.\n",
    "* PEMDAS. Parenthesis address this: ``(2 + 3) * 5``\n",
    "* Little secret: even experienced programmers get burned by the order of operations, so they learn to just use parentheses to avoid the unexpected problem.\n",
    "    * E.g. ``2 + (3 * 5)``. Superfluous, but reassuring!"
   ]
  },
  {
   "cell_type": "markdown",
   "metadata": {},
   "source": [
    "Next: Division"
   ]
  },
  {
   "cell_type": "code",
   "execution_count": null,
   "metadata": {},
   "outputs": [],
   "source": [
    "10 / 5"
   ]
  },
  {
   "cell_type": "code",
   "execution_count": null,
   "metadata": {},
   "outputs": [],
   "source": [
    "9/5"
   ]
  },
  {
   "cell_type": "markdown",
   "metadata": {},
   "source": [
    "There's another form of division with two slashes"
   ]
  },
  {
   "cell_type": "code",
   "execution_count": null,
   "metadata": {},
   "outputs": [],
   "source": [
    "10 // 5"
   ]
  },
  {
   "cell_type": "markdown",
   "metadata": {},
   "source": [
    "But what happens with ``9 // 5``?\n",
    "* ``//`` lops off the fractional/decimal part. This isn't \"rounding\" like you learned in elementary school.\n",
    "* A hint to both PS#1 and the lab's exercise."
   ]
  },
  {
   "cell_type": "code",
   "execution_count": null,
   "metadata": {},
   "outputs": [],
   "source": [
    "9//5"
   ]
  },
  {
   "cell_type": "markdown",
   "metadata": {},
   "source": [
    "Exponents: ``**``"
   ]
  },
  {
   "cell_type": "code",
   "execution_count": null,
   "metadata": {},
   "outputs": [],
   "source": [
    "3 ** 9"
   ]
  },
  {
   "cell_type": "markdown",
   "metadata": {},
   "source": [
    "Modulus operator `%` \n",
    "\n",
    "When you divide two numbers, the quotient is the result of the division, and the modulus operator gives you the remainder."
   ]
  },
  {
   "cell_type": "code",
   "execution_count": null,
   "metadata": {},
   "outputs": [],
   "source": [
    "9 % 5"
   ]
  },
  {
   "cell_type": "markdown",
   "metadata": {},
   "source": [
    "#### Syntax Errors\n",
    "\n",
    "Explain that errors are okay, and that they happen very frequently. They can sometimes be cryptic, and googling them is usually an effective way to make sense of them."
   ]
  },
  {
   "cell_type": "code",
   "execution_count": null,
   "metadata": {},
   "outputs": [],
   "source": [
    "2 +"
   ]
  },
  {
   "cell_type": "code",
   "execution_count": null,
   "metadata": {},
   "outputs": [],
   "source": [
    "5 5"
   ]
  },
  {
   "cell_type": "markdown",
   "metadata": {},
   "source": [
    "#### Runtime error.\n",
    "* Explain the difference between this error and the previous ones. The earlier errors were that the program was badly formed and the computer couldn't understand it. This one is that the program did something illegal in the course of executing, so it crashed.\n",
    "* A runtime error in programming occurs when a program is syntactically correct and successfully compiles but encounters a problem during execution that prevents it from completing its task. Unlike syntax errors, which are identified by the interpreter or compiler before the program runs, runtime errors only become apparent when the program is running."
   ]
  },
  {
   "cell_type": "code",
   "execution_count": null,
   "metadata": {},
   "outputs": [],
   "source": [
    "5 / 0"
   ]
  },
  {
   "cell_type": "markdown",
   "metadata": {},
   "source": [
    "### Difference Between an Integer and a Floating-Point Number\n",
    "\n",
    "An integer and a floating-point number are both types of numerical data in Python, but they represent numbers in different ways and are used for different purposes.\n",
    "\n",
    "Integer (`int`):\n",
    "- **Definition:** An integer is a whole number that can be positive, negative, or zero, and it has no fractional or decimal component.\n",
    "- **Examples:** `-3`, `0`, `7`, `42`\n",
    "- **Usage:** Integers are used when you need to represent whole numbers, such as counting items, indexing elements in a list, or performing operations where fractions or decimals aren't needed.\n",
    "\n",
    "Floating-Point Number (`float`):\n",
    "- **Definition:** A floating-point number is a number that can represent both whole numbers and numbers with a fractional part, i.e., numbers that include a decimal point.\n",
    "- **Examples:** `3.14`, `-0.001`, `2.0`, `42.5`\n",
    "- **Usage:** Floats are used when you need to represent numbers that are not whole, such as measurements, averages, or any calculations involving fractions or decimals.\n",
    "\n",
    "Key Differences:\n",
    "1. **Precision:**\n",
    "   - **Integers:** Represent exact whole numbers.\n",
    "   - **Floats:** Can represent numbers with a fractional component, but because of how computers store these numbers, they may not always be exact. This can lead to small rounding errors, especially in complex calculations.\n",
    "\n",
    "2. **Memory Usage:**\n",
    "   - **Integers:** Typically use less memory because they store whole numbers without any fractional part.\n",
    "   - **Floats:** Use more memory because they store both the whole part and the fractional part of a number, and they include additional information about the position of the decimal point.\n",
    "\n",
    "3. **Operations:**\n",
    "   - **Integers:** When performing arithmetic operations with integers, the result is usually also an integer (except when division is involved, which can result in a float).\n",
    "   - **Floats:** Operations involving floats will typically result in a float, even if both operands are integers."
   ]
  },
  {
   "cell_type": "code",
   "execution_count": null,
   "metadata": {},
   "outputs": [],
   "source": [
    "5"
   ]
  },
  {
   "cell_type": "code",
   "execution_count": null,
   "metadata": {},
   "outputs": [],
   "source": [
    "5.0"
   ]
  },
  {
   "cell_type": "markdown",
   "metadata": {},
   "source": [
    "**Automatic Conversion:** Python automatically converts an integer to a float if necessary during calculations."
   ]
  },
  {
   "cell_type": "code",
   "execution_count": null,
   "metadata": {},
   "outputs": [],
   "source": [
    "5 + 2.5  # 5 is an integer, 2.5 is a float"
   ]
  },
  {
   "cell_type": "markdown",
   "metadata": {},
   "source": [
    "### More on Types\n",
    "1. At its heart, a program is all about processing information.\n",
    "2. Different kinds of information can be processed in different ways. For example, we can do math with numbers, but we can't do math with words.\n",
    "3. Python identifies five fundamental types of data out of which you can build any other kind of information you need.\n",
    "4. We've already met two of them: integers and floating point numbers. By the end of this lecture, you're going to have met all five.\n",
    "5. If you want to find out the type of something, you can use the `type` command.\n",
    "   - (Tell them you'll explain the parentheses later; haven't learned functions yet)\n",
    "   "
   ]
  },
  {
   "cell_type": "code",
   "execution_count": null,
   "metadata": {},
   "outputs": [],
   "source": [
    "type(42)"
   ]
  },
  {
   "cell_type": "code",
   "execution_count": null,
   "metadata": {},
   "outputs": [],
   "source": [
    "type(3.14)"
   ]
  },
  {
   "cell_type": "markdown",
   "metadata": {},
   "source": [
    "#### Strings\n",
    "\n",
    "Strings are sequences of characters, which can be words, sentences, or any other characters.\n",
    "   \n",
    "**Must be enclosed in matching quotes.** Could be matching single quotes (`'`), double quotes (`\"`), or even triple quotes for multi-line strings."
   ]
  },
  {
   "cell_type": "code",
   "execution_count": null,
   "metadata": {},
   "outputs": [],
   "source": [
    "'Hello, World!'  # Single quotes"
   ]
  },
  {
   "cell_type": "code",
   "execution_count": null,
   "metadata": {},
   "outputs": [],
   "source": [
    "\"Python is fun!\"  # Double quotes"
   ]
  },
  {
   "cell_type": "code",
   "execution_count": null,
   "metadata": {},
   "outputs": [],
   "source": [
    "'''This is a multi-line\n",
    "string example.'''  # Triple quotes"
   ]
  },
  {
   "cell_type": "markdown",
   "metadata": {},
   "source": [
    "Python will raise a `SyntaxError` if a string is not properly closed."
   ]
  },
  {
   "cell_type": "code",
   "execution_count": null,
   "metadata": {},
   "outputs": [],
   "source": [
    "'string"
   ]
  },
  {
   "cell_type": "markdown",
   "metadata": {},
   "source": [
    "You can concatenate (join) two strings together using the `+` operator."
   ]
  },
  {
   "cell_type": "code",
   "execution_count": null,
   "metadata": {},
   "outputs": [],
   "source": [
    "\"hello\"+\"world\""
   ]
  },
  {
   "cell_type": "markdown",
   "metadata": {},
   "source": [
    "If you try to add a string and a number, you will get a `TypeError`, since they are of different types. You can only use `+` on a string and another string."
   ]
  },
  {
   "cell_type": "code",
   "execution_count": null,
   "metadata": {},
   "outputs": [],
   "source": [
    "\"The answer is \" + 42\n"
   ]
  },
  {
   "cell_type": "markdown",
   "metadata": {},
   "source": [
    "The `*` operator can be used to repeat a string multiple times."
   ]
  },
  {
   "cell_type": "code",
   "execution_count": null,
   "metadata": {},
   "outputs": [],
   "source": [
    "\"hi\"*4"
   ]
  },
  {
   "cell_type": "markdown",
   "metadata": {},
   "source": [
    "The `*` operator can't be used between two strings; it will raise a `TypeError`."
   ]
  },
  {
   "cell_type": "code",
   "execution_count": null,
   "metadata": {},
   "outputs": [],
   "source": [
    "\"ha\"*\"ha\""
   ]
  },
  {
   "cell_type": "markdown",
   "metadata": {},
   "source": [
    "This is a situation where the distinction between floats and integers matters a lot. What does it even mean to repeat a string `4.5` times? Python will raise a `TypeError`."
   ]
  },
  {
   "cell_type": "code",
   "execution_count": null,
   "metadata": {},
   "outputs": [],
   "source": [
    "'ha'*4.5"
   ]
  },
  {
   "cell_type": "markdown",
   "metadata": {},
   "source": [
    "An empty string is simply a string with no characters in it. It is not the same as a space."
   ]
  },
  {
   "cell_type": "code",
   "execution_count": null,
   "metadata": {},
   "outputs": [],
   "source": [
    "''"
   ]
  },
  {
   "cell_type": "markdown",
   "metadata": {},
   "source": [
    "### Variables\n",
    "We've seen how to use Python like a calculator, but what if we want to store information for later?\n"
   ]
  },
  {
   "cell_type": "code",
   "execution_count": null,
   "metadata": {},
   "outputs": [],
   "source": [
    "a = 1"
   ]
  },
  {
   "cell_type": "markdown",
   "metadata": {},
   "source": [
    "Notice how interactive python doesn't display anything.\n",
    "It's because this expression doesn't result in a value. Instead, it just stores the expression to the right of the equals sign inside the variable a. If you want to see the value, you have to type `a`, which tells Python to evaluate the expression `a` by retriving the value stored in `a.\n",
    "* Technically speaking, assignment isn't an expression. It's a \"statement\".\n",
    "* It's pretty important to understand what an expression is.\n",
    "\t* It's far less important to understand what a statement is. Don't get bogged down too much in \"statements\"."
   ]
  },
  {
   "cell_type": "code",
   "execution_count": null,
   "metadata": {},
   "outputs": [],
   "source": [
    "a"
   ]
  },
  {
   "cell_type": "code",
   "execution_count": null,
   "metadata": {},
   "outputs": [],
   "source": [
    "b = 2"
   ]
  },
  {
   "cell_type": "code",
   "execution_count": null,
   "metadata": {},
   "outputs": [],
   "source": [
    "a + b"
   ]
  },
  {
   "cell_type": "code",
   "execution_count": null,
   "metadata": {},
   "outputs": [],
   "source": [
    "a = 10\n",
    "a + b"
   ]
  },
  {
   "cell_type": "code",
   "execution_count": null,
   "metadata": {},
   "outputs": [],
   "source": [
    "# We can do the same thing with strings\n",
    "\n",
    "var = \"test\""
   ]
  },
  {
   "cell_type": "code",
   "execution_count": null,
   "metadata": {},
   "outputs": [],
   "source": [
    "var"
   ]
  },
  {
   "cell_type": "markdown",
   "metadata": {},
   "source": [
    "#### Naming rules for variables\n",
    "* Can have letters, numbers, and underscores, must start with a letter or an underscore.\n",
    "    * Try creating one that starts with a number\n",
    "* *I cannot stress enough how important it is to use meaningful variable names! Maybe the #1 point that beginning programmers don't understand or do well.*\n",
    "* Variables are case sensitive\n",
    "    * Show two different variables that are distinct because of case sensitivity.\n",
    "\n",
    "\n",
    "We use underscore_case in this class. This is a style requirement. If you use variables without underscore_case, we will deduct.\n",
    "* `underscore_case` is a naming convention where words in a variable name are separated by underscores (`_`). All the letters are typically in lowercase. This convention is widely used in Python to make variable names more readable, especially when the names consist of multiple words.\n",
    "\n",
    "**Examples:**\n",
    "\n",
    "    - `total_amount`\n",
    "    - `number_of_students`\n",
    "    - `average_score`\n",
    "\n"
   ]
  },
  {
   "cell_type": "markdown",
   "metadata": {},
   "source": [
    "#### Example: Adding up numbers with variables\n",
    "1. Let's suppose I'm working on an accounting, and I need to add up the values of several transactions.\n",
    "2. I'm going to create a variable called `total` to keep track of all of my running total of transactions.\n",
    "\n",
    "3. Initially, `total = 0` since I'm starting at 0."
   ]
  },
  {
   "cell_type": "code",
   "execution_count": null,
   "metadata": {},
   "outputs": [],
   "source": [
    "total = 0\n",
    "\n",
    "# 4. Now, I find a transaction for 5 dollars. So I want to update total to store 5 instead of 0.\n",
    "total = total + 5\n",
    "print(total)  # Output: 5\n",
    "\n",
    "# 5. We can then check that `total` has the value 5.\n",
    "\n",
    "# 6. Now I find a second transaction for $6.50. So I want to add `6.5` to `total`.\n",
    "total = total + 6.5\n",
    "print(total)  # Output: 11.5\n",
    "\n",
    "# 7. Using the `+=` operator to add another transaction of $7.\n",
    "total += 7\n",
    "print(total)  # Output: 18.5\n",
    "\n",
    "# 8. There are special operators for `*=`, `/=`, `-=`, etc.\n",
    "# Example of using the `*=` operator:\n",
    "total *= 2\n",
    "print(total)  # Output: 37.0\n",
    "\n",
    "# Example of using the `/=` operator:\n",
    "total /= 4\n",
    "print(total)  # Output: 9.25\n",
    "\n",
    "# 9. Notice the pattern here. We set `total` equal to 0—nothing—and then we slowly added things to `total`.\n",
    "\n",
    "# We can do the same thing with a string. Suppose I want to create a list of names, like, \"Sonia, Elena, Samuel, John\"\n",
    "\n",
    "# 1. First, I create a variable called `list_of_names` and I set it equal to `\"\"`,\n",
    "# the empty string - nothing. It's the equivalent of zero, except for strings.\n",
    "\n",
    "list_of_names = \"\"\n",
    "\n",
    "# 2. Then, I can add names to it.\n",
    "list_of_names += \"Sonia\"\n",
    "print(list_of_names)  # Output: Sonia\n",
    "\n",
    "# 3. Add another name\n",
    "list_of_names += \", \" + \"Elena\"\n",
    "print(list_of_names)  # Output: Sonia, Elena\n",
    "\n",
    "# 4. Continue adding names\n",
    "list_of_names += \", \" + \"Samuel\"\n",
    "list_of_names += \", \" + \"John\"\n",
    "print(list_of_names)  # Output: Sonia, Elena, Samuel, John\n",
    "\n",
    "# 5. Notice the same pattern. This is a really useful pattern, often referred to as an idiom."
   ]
  },
  {
   "cell_type": "markdown",
   "metadata": {},
   "source": [
    "### Booleans\n",
    "\n",
    "Your fourth data type (after int, float, string) is a Boolean value, a logical true or false\n",
    "\n",
    "* Show setting a variable to True and display it\n",
    "* Show setting a variable to False and displaying it\n",
    "* Try setting a variable to “true” and show the error that follows. True and False are special keywords that must start with a capital letter.\n",
    "* Explain that True and False are the only boolean values that exist. We use them for doing logic."
   ]
  },
  {
   "cell_type": "code",
   "execution_count": null,
   "metadata": {},
   "outputs": [],
   "source": [
    "a = True\n",
    "a"
   ]
  },
  {
   "cell_type": "markdown",
   "metadata": {},
   "source": [
    "b = False\n",
    "b"
   ]
  },
  {
   "cell_type": "markdown",
   "metadata": {},
   "source": [
    "a = true"
   ]
  },
  {
   "cell_type": "markdown",
   "metadata": {},
   "source": [
    "Last year, this didn't sink in. This year, try this approach to help:\n",
    "\n",
    "1. **A mini-preview:** Why do expressions matter, and why do boolean expressions matter in particular?\n",
    "   - Experience has shown that booleans are the most counter-intuitive type, and in many ways, the most fundamentally important.\n",
    "   - Because programs make decisions, and they base those decisions on the output of boolean expressions.\n",
    "\n",
    "2. **Example:** Have we finished processing every comment on the FCC website?\n",
    "   - If `False`, meaning we have not finished, then download the next link.\n",
    "   - If `True`, meaning this was the last comment, then move on to the processing step.\n",
    "\n",
    "How do we use boolean values in practice? Comparisons.\n",
    "\n",
    "1. **Show equality and inequality of integers, strings, and other booleans.**\n",
    "   - `=` and `==`. This is a trap. You will lose hours over this. Be totally attentive to it.\n"
   ]
  },
  {
   "cell_type": "code",
   "execution_count": null,
   "metadata": {},
   "outputs": [],
   "source": [
    "a = 5\n",
    "b = 10\n",
    "print(a == b)"
   ]
  },
  {
   "cell_type": "code",
   "execution_count": null,
   "metadata": {},
   "outputs": [],
   "source": [
    "a = b"
   ]
  },
  {
   "cell_type": "code",
   "execution_count": null,
   "metadata": {},
   "outputs": [],
   "source": [
    "# what do you think the value of a and b are now?\n",
    "print(\"a: \",a)\n",
    "print(\"b: \",b)"
   ]
  },
  {
   "cell_type": "code",
   "execution_count": null,
   "metadata": {},
   "outputs": [],
   "source": [
    "c = \"Hello\"\n",
    "d = \"hello\"\n",
    "print(c == d)"
   ]
  },
  {
   "cell_type": "code",
   "execution_count": null,
   "metadata": {},
   "outputs": [],
   "source": [
    "e = True\n",
    "f = False\n",
    "print(e != f)"
   ]
  },
  {
   "cell_type": "markdown",
   "metadata": {},
   "source": [
    "**Other boolean operators (>, <, >=, <=)**\n",
    "\n",
    "SLOW DOWN A LOT and show them a lot of examples. Pause before hitting enter to see if they can divine the correct answers."
   ]
  },
  {
   "cell_type": "code",
   "execution_count": null,
   "metadata": {},
   "outputs": [],
   "source": [
    "# Example 1: Basic comparison with integers\n",
    "a = 5\n",
    "b = 10\n",
    "print(a > b)  # Expected: False\n",
    "print(a < b)  # Expected: True\n",
    "print(a >= b)  # Expected: False\n",
    "print(a <= b)  # Expected: True"
   ]
  },
  {
   "cell_type": "code",
   "execution_count": null,
   "metadata": {},
   "outputs": [],
   "source": [
    "# Example 2: Comparing integers and floats\n",
    "x = 7\n",
    "y = 7.0\n",
    "print(x > y)   # Expected: False\n",
    "print(x < y)   # Expected: False\n",
    "print(x >= y)  # Expected: True\n",
    "print(x <= y)  # Expected: True"
   ]
  },
  {
   "cell_type": "code",
   "execution_count": null,
   "metadata": {},
   "outputs": [],
   "source": [
    "# Example 3: String comparisons (lexicographical order - english alphabetical)\n",
    "str1 = \"apple\"\n",
    "str2 = \"banana\"\n",
    "print(str1 > str2)  # Expected: False (because 'a' < 'b')\n",
    "print(str1 < str2)  # Expected: True\n",
    "print(str1 >= str2)  # Expected: False\n",
    "print(str1 <= str2)  # Expected: True"
   ]
  },
  {
   "cell_type": "code",
   "execution_count": null,
   "metadata": {},
   "outputs": [],
   "source": [
    "# Example 4: Comparing boolean values\n",
    "true_val = True\n",
    "false_val = False\n",
    "print(true_val > false_val)  # Expected: True (because True is 1, False is 0)\n",
    "print(true_val < false_val)  # Expected: False\n",
    "print(true_val >= false_val)  # Expected: True\n",
    "print(true_val <= false_val)  # Expected: False"
   ]
  },
  {
   "cell_type": "code",
   "execution_count": null,
   "metadata": {},
   "outputs": [],
   "source": [
    "# Example 6: Comparisons involving negative numbers\n",
    "a = -5\n",
    "b = -10\n",
    "print(a > b)  # Expected: True (because -5 is greater than -10)\n",
    "print(a < b)  # Expected: False\n",
    "print(a >= b)  # Expected: True\n",
    "print(a <= b)  # Expected: False"
   ]
  },
  {
   "cell_type": "code",
   "execution_count": null,
   "metadata": {},
   "outputs": [],
   "source": [
    "# Example 7: Comparisons involving zero\n",
    "zero = 0\n",
    "negative = -1\n",
    "positive = 1\n",
    "print(zero > negative)  # Expected: True\n",
    "print(zero < positive)  # Expected: True\n",
    "print(zero >= positive) # Expected: False\n",
    "print(negative <= zero) # Expected: True"
   ]
  },
  {
   "cell_type": "markdown",
   "metadata": {},
   "source": [
    "### The three binary boolean operators: and, or, not"
   ]
  },
  {
   "cell_type": "code",
   "execution_count": null,
   "metadata": {},
   "outputs": [],
   "source": [
    "# Truth tables for 'and', 'or', and 'not'\n",
    "print(\"True and True:\", True and True)   # Output: True\n",
    "print(\"True and False:\", True and False) # Output: False\n",
    "print(\"False and True:\", False and True) # Output: False\n",
    "print(\"False and False:\", False and False) # Output: False\n",
    "\n",
    "print(\"True or True:\", True or True)   # Output: True\n",
    "print(\"True or False:\", True or False) # Output: True\n",
    "print(\"False or True:\", False or True) # Output: True\n",
    "print(\"False or False:\", False or False) # Output: False\n",
    "\n",
    "print(\"Not True:\", not True)   # Output: False\n",
    "print(\"Not False:\", not False) # Output: True"
   ]
  },
  {
   "cell_type": "code",
   "execution_count": null,
   "metadata": {},
   "outputs": [],
   "source": [
    "# Example 1: Do you need to wear a jacket?\n",
    "# You need to wear a jacket if it's raining outside, cold outside, or both.\n",
    "\n",
    "# Try a few combinations\n",
    "cold = True\n",
    "raining = False\n",
    "\n",
    "# Check if you need a jacket\n",
    "need_a_jacket = raining or cold\n",
    "print(\"Need a jacket:\", need_a_jacket)  # Output: True\n",
    "\n",
    "# Try other combinations\n",
    "cold = False\n",
    "raining = False\n",
    "\n",
    "# Check again\n",
    "need_a_jacket = raining or cold\n",
    "print(\"Need a jacket:\", need_a_jacket)  # Output: False\n",
    "\n",
    "# The only time you don't need a jacket is if it's not raining and not cold\n",
    "dont_need_a_jacket = (not raining) and (not cold)\n",
    "print(\"Don't need a jacket:\", dont_need_a_jacket)  # Output: True\n"
   ]
  },
  {
   "cell_type": "code",
   "execution_count": null,
   "metadata": {},
   "outputs": [],
   "source": [
    "# Example 2: Getting your law school application ready\n",
    "# To apply to Georgetown, you need to write an essay, submit your transcript, get recommendations, and take either the LSAT or the GRE.\n",
    "\n",
    "essay_written = True\n",
    "transcript_submitted = True\n",
    "recommendations_sent = True\n",
    "lsat_taken = False\n",
    "gre_taken = True\n",
    "\n",
    "# Check if ready to apply\n",
    "ready_to_apply = essay_written and transcript_submitted and recommendations_sent and (lsat_taken or gre_taken)\n",
    "print(\"Ready to apply:\", ready_to_apply)  # Output: True"
   ]
  },
  {
   "cell_type": "code",
   "execution_count": null,
   "metadata": {},
   "outputs": [],
   "source": [
    "# Example 3: Eligibility for this class\n",
    "# To be eligible for this class, you can't have taken a programming class in college or have mastered one programming language.\n",
    "\n",
    "taken_a_programming_class_in_college = False\n",
    "mastered_one_programming_language = False\n",
    "free_time_per_week = 6\n",
    "\n",
    "# Check if eligible for the class\n",
    "eligible_for_this_class = (not taken_a_programming_class_in_college) and (not mastered_one_programming_language) and (free_time_per_week > 5)\n",
    "print(\"Eligible for this class:\", eligible_for_this_class)  # Output: True"
   ]
  },
  {
   "cell_type": "code",
   "execution_count": null,
   "metadata": {},
   "outputs": [],
   "source": [
    "# Other values that evaluate to False: Specifically 0, 0.0, and the empty string.\n",
    "print(\"bool(0):\", bool(0))        # Output: False\n",
    "print(\"bool(0.0):\", bool(0.0))    # Output: False\n",
    "print(\"bool(''):\", bool(''))      # Output: False\n",
    "print(\"bool('text'):\", bool('text')) # Output: True"
   ]
  },
  {
   "cell_type": "markdown",
   "metadata": {},
   "source": [
    "### If time: Exercises\n",
    "* Calculate the total cost of buying 5 items, each priced at $0.99, and print the result.\n",
    "* Check if the result of dividing 10 by 3 is equal to 3.33 and print the boolean result.\n",
    "* Print the boolean result of whether 0.1 + 0.2 is exactly equal to 0.3.\n",
    "* Multiply the integer 7 by the floating-point number 0.5 and print the result.\n",
    "* Divide 5 by 2, store the result in a variable, and then check if it is greater than 2.5. Print the boolean result.\n",
    "    - Now add 7 to that variable. Print the variable. (Hint: The variable should now equal 17.)\n",
    "* Combine the strings \"Good\" and \"Morning\"\n",
    "* Check if strings \"python\" and \"PYTHON\" are equal to each other and print the result.\n",
    "* Check if 10 is greater than 5 *or* if 25 is less than 30. Print the boolean result."
   ]
  }
 ],
 "metadata": {
  "kernelspec": {
   "display_name": "Python 3",
   "language": "python",
   "name": "python3"
  },
  "language_info": {
   "codemirror_mode": {
    "name": "ipython",
    "version": 3
   },
   "file_extension": ".py",
   "mimetype": "text/x-python",
   "name": "python",
   "nbconvert_exporter": "python",
   "pygments_lexer": "ipython3",
   "version": "3.10.13"
  }
 },
 "nbformat": 4,
 "nbformat_minor": 2
}
