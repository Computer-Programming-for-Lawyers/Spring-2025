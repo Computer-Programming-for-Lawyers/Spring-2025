{
 "cells": [
  {
   "cell_type": "markdown",
   "metadata": {},
   "source": [
    "# Lecture 2: Conditionals (If, Else, Elif, and While)"
   ]
  },
  {
   "cell_type": "markdown",
   "metadata": {},
   "source": [
    "## In Class Activity: If Statements with Login Checker\n",
    "\n",
    "The formal Python structure for creating conditional behavior is known as an `if-statement`.\n",
    "  * First, type the keyword `if` at the beginning of a line. That signals to Python that you're starting an if-statement.\n",
    "  * Then, you type in a boolean expression (aka `sample_variable == 5` or `username == \"hummingbird\"`)\n",
    "  * At the end of the line, type in a colon.\n",
    "  * On the lines that follow, we can type in one or more lines of code that we want to happen if that boolean expression is True.\n",
    "    * How do we distinguish the conditional code from the rest of the program? Indent it!\n"
   ]
  },
  {
   "cell_type": "code",
   "execution_count": null,
   "metadata": {},
   "outputs": [],
   "source": [
    "# Filename: login_checker.ipynb\n",
    "# Description: Check whether a user-provided username and password match prescribed values. Print \"Access Granted\" if it does.\n"
   ]
  },
  {
   "cell_type": "markdown",
   "metadata": {},
   "source": [
    "### If-statement syntax"
   ]
  },
  {
   "cell_type": "code",
   "execution_count": null,
   "metadata": {},
   "outputs": [],
   "source": []
  },
  {
   "cell_type": "markdown",
   "metadata": {},
   "source": [
    "### Splitting Long Lines of Code\n",
    "\n",
    "In our style guide, we told you that no line of code should be longer than 100 characters. But what do you do if you really really need a line to be longer than that? You can break it up over multiple lines. \n",
    "\n",
    "Within parentheses, you can create new lines by splitting at operators or commas."
   ]
  },
  {
   "cell_type": "code",
   "execution_count": null,
   "metadata": {},
   "outputs": [],
   "source": []
  },
  {
   "cell_type": "markdown",
   "metadata": {},
   "source": [
    "### Nested if-statements\n",
    "\n",
    "You can have if-statements inside other if-statements. This is called *nesting*."
   ]
  },
  {
   "cell_type": "code",
   "execution_count": null,
   "metadata": {},
   "outputs": [],
   "source": [
    "# Add a warning message for logged-in users whose passwords are particularly short."
   ]
  },
  {
   "cell_type": "markdown",
   "metadata": {},
   "source": [
    "### Else\n",
    "\n",
    "How do we print `'Access Denied'` when the password is wrong?\n",
    "\n",
    "Python provides an easy way to do this: `else`\n",
    "* Once we're done with the if-statement's code block, we can type the word `else` followed by a colon.\n",
    "* This should be indented to the same level as the corresponding `if` keyword.\n",
    "* The `else` statement also gets its own code-block."
   ]
  },
  {
   "cell_type": "code",
   "execution_count": null,
   "metadata": {},
   "outputs": [],
   "source": []
  },
  {
   "cell_type": "markdown",
   "metadata": {},
   "source": [
    "# In Class Activity: If, Elif, and Else to Determine Tax Rate\n",
    "\n",
    "Based on a user's provided income, determine the tax rate for a single individual, incorporating a standard deduction of $12,400 (aka, the individual's income minus the standard deduction).\n",
    "\n",
    "**[Tax Rates (2020)](https://taxfoundation.org/data/all/federal/2020-tax-brackets/):**\n",
    "\n",
    "| Rate | For Single Individuals       |\n",
    "|------|------------------------------|\n",
    "| 10%  | Up to $9,875                |\n",
    "| 12%  | $9,876 to $40,125           |\n",
    "| 22%  | $40,126 to $85,525          |\n",
    "| 24%  | $85,526 to $163,300         |\n",
    "| 32%  | $163,301 to $207,350        |\n",
    "| 35%  | $207,351 to $518,400        |\n",
    "| 37%  | $518,401 or more            |"
   ]
  },
  {
   "cell_type": "code",
   "execution_count": null,
   "metadata": {},
   "outputs": [],
   "source": []
  },
  {
   "cell_type": "markdown",
   "metadata": {},
   "source": [
    "Now, how might you identify different rates for different filing statuses?\n",
    "\n",
    "| Rate | For Single Individuals       | For Married Individuals Filing Joint Returns | For Heads of Households     |\n",
    "|------|------------------------------|---------------------------------------------|-----------------------------|\n",
    "| 10%  | Up to $9,875                | Up to $19,750                              | Up to $14,100              |\n",
    "| 12%  | $9,876 to $40,125           | $19,751 to $80,250                         | $14,101 to $53,700         |\n",
    "| 22%  | $40,126 to $85,525          | $80,251 to $171,050                        | $53,701 to $85,500         |\n",
    "| 24%  | $85,526 to $163,300         | $171,051 to $326,600                       | $85,501 to $163,300        |\n",
    "| 32%  | $163,301 to $207,350        | $326,601 to $414,700                       | $163,301 to $207,350       |\n",
    "| 35%  | $207,351 to $518,400        | $414,701 to $622,050                       | $207,351 to $518,400       |\n",
    "| 37%  | $518,401 or more            | $622,051 or more                           | $518,401 or more           |"
   ]
  },
  {
   "cell_type": "markdown",
   "metadata": {},
   "source": [
    "## While Loops"
   ]
  },
  {
   "cell_type": "markdown",
   "metadata": {},
   "source": [
    "Explain what this code is doing:"
   ]
  },
  {
   "cell_type": "code",
   "execution_count": null,
   "metadata": {},
   "outputs": [],
   "source": [
    "# Set a counter variable to zero.\n",
    "i = 0\n",
    "\n",
    "# Print.\n",
    "if i < 5:\n",
    "    print('Hello, world! ' + str(i))\n",
    "    i = i + 1"
   ]
  },
  {
   "cell_type": "markdown",
   "metadata": {},
   "source": [
    "What happens if we replace if with while?"
   ]
  },
  {
   "cell_type": "code",
   "execution_count": null,
   "metadata": {},
   "outputs": [],
   "source": [
    "# Set a counter variable to zero.\n",
    "i = 0\n",
    "\n",
    "# Print.\n",
    "while i < 5:\n",
    "    print('Hello, world! ' + str(i))\n",
    "    i = i + 1"
   ]
  },
  {
   "cell_type": "markdown",
   "metadata": {},
   "source": [
    "While loops and if-statements have identical structure.\n",
    "* They begin with a keyword (`if` or `while`).\n",
    "* They run a boolean test that determines whether the body will execute. If the test is `True`, the body will indeed execute; if it is `False`; the body won't execute and it will move onto the code afterwards.\n",
    "\n",
    "But there's a key difference: what happens after the body has executed.\n",
    "* In an if-statement, once the body has executed, we simply keep on moving top to bottom, executing the next non-indented line of code after the if-statement.\n",
    "* In a while-loop, we return to the `while` statement, execute the boolean test again, and repeat the process. We keep repeating this process until the boolean test is `False`, at which point we exit and execute the code after the loop."
   ]
  },
  {
   "cell_type": "markdown",
   "metadata": {},
   "source": []
  },
  {
   "cell_type": "code",
   "execution_count": null,
   "metadata": {},
   "outputs": [],
   "source": []
  }
 ],
 "metadata": {
  "kernelspec": {
   "display_name": "Python 3",
   "language": "python",
   "name": "python3"
  },
  "language_info": {
   "codemirror_mode": {
    "name": "ipython",
    "version": 3
   },
   "file_extension": ".py",
   "mimetype": "text/x-python",
   "name": "python",
   "nbconvert_exporter": "python",
   "pygments_lexer": "ipython3",
   "version": "3.12.1"
  }
 },
 "nbformat": 4,
 "nbformat_minor": 2
}
