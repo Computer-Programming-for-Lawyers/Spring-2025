{
 "cells": [
  {
   "cell_type": "code",
   "execution_count": 6,
   "metadata": {},
   "outputs": [
    {
     "name": "stdout",
     "output_type": "stream",
     "text": [
      "You will need 6 buses.\n"
     ]
    }
   ],
   "source": [
    "# assume that a bus holds 12 students\n",
    "\n",
    "BUS_CAPACITY = 12\n",
    "\n",
    "# get number of children\n",
    "number_of_children = int(input(\"Number of children:\"))\n",
    "\n",
    "# \n",
    "number_of_buses_needed = number_of_children // BUS_CAPACITY\n",
    "\n",
    "number_left_over = number_of_children % BUS_CAPACITY\n",
    "\n",
    "if (number_left_over > 0):\n",
    "    number_of_buses_needed = number_of_buses_needed + 1\n",
    "\n",
    "# print(number_of_buses_needed)\n",
    "print(\"You will need\",number_of_buses_needed,\"buses.\")\n"
   ]
  }
 ],
 "metadata": {
  "kernelspec": {
   "display_name": "Python 3",
   "language": "python",
   "name": "python3"
  },
  "language_info": {
   "codemirror_mode": {
    "name": "ipython",
    "version": 3
   },
   "file_extension": ".py",
   "mimetype": "text/x-python",
   "name": "python",
   "nbconvert_exporter": "python",
   "pygments_lexer": "ipython3",
   "version": "3.10.13"
  }
 },
 "nbformat": 4,
 "nbformat_minor": 2
}
