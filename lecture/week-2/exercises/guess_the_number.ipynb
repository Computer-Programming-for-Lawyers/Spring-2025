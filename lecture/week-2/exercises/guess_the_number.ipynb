{
 "cells": [
  {
   "cell_type": "markdown",
   "metadata": {},
   "source": [
    "### In Class Code"
   ]
  },
  {
   "cell_type": "code",
   "execution_count": null,
   "metadata": {},
   "outputs": [],
   "source": [
    "correct_number = 33\n",
    "\n",
    "not_correct = True \n",
    "\n",
    "number_of_guesses = 0\n",
    "\n",
    "# while the numbers don't match\n",
    "while not_correct:\n",
    "    #ask user for a guess\n",
    "    guessed_number = int(input(\"Guess a number between 1 and 100: \"))\n",
    "\n",
    "    #add that to the tally\n",
    "    number_of_guesses += 1 # a shorter way of saying '= number_of_guesses + 1'\n",
    "\n",
    "    # check whether guess matches number\n",
    "    if guessed_number == correct_number:\n",
    "        # if guess matches correct number, then set boolean variable to \"False\" indicating that\n",
    "        # it's okay to exit the while loop\n",
    "        not_correct = False\n",
    "        print(\"you guessed it right\")\n",
    "\n",
    "    # if guessed number is not correct number, then do this    \n",
    "    else:\n",
    "        if guessed_number < correct_number:\n",
    "            print(\"You're too low\")\n",
    "        else:\n",
    "            print(\"Your guess is too high.\")\n",
    "        # print(\"you guessed it wrong\")\n",
    "\n",
    "\n",
    "print(\"How many guesses it took:\",number_of_guesses)"
   ]
  },
  {
   "cell_type": "markdown",
   "metadata": {},
   "source": [
    "### Sample Code: Using a Library to Create a Random Number"
   ]
  },
  {
   "cell_type": "code",
   "execution_count": null,
   "metadata": {},
   "outputs": [],
   "source": [
    "### Name: Jonathan Frankle\n",
    "### Filename: guess_the_number.py\n",
    "### Description: Plays the number guessing game.\n",
    "\n",
    "# V1: Basic number guesser. Reports right or wrong only.\n",
    "\n",
    "import random\n",
    "\n",
    "# Pick a random number between 1 and 100.\n",
    "answer = random.randint(1, 100)\n",
    "\n",
    "guess = int(input('Guess a number between 1 and 100: '))\n",
    "\n",
    "# A false start here would be \"if guess != answer\" which would execute just once.\n",
    "\n",
    "# Repeatedly let the user try to guess the number.\n",
    "while guess != answer:\n",
    "    print('Nope, sorry. Try again.')\n",
    "\n",
    "    guess = int(input('Guess a number between 1 and 100: '))\n",
    "\n",
    "print('You got it right!')"
   ]
  }
 ],
 "metadata": {
  "kernelspec": {
   "display_name": "Python 3",
   "language": "python",
   "name": "python3"
  },
  "language_info": {
   "codemirror_mode": {
    "name": "ipython",
    "version": 3
   },
   "file_extension": ".py",
   "mimetype": "text/x-python",
   "name": "python",
   "nbconvert_exporter": "python",
   "pygments_lexer": "ipython3",
   "version": "3.10.13"
  }
 },
 "nbformat": 4,
 "nbformat_minor": 2
}
