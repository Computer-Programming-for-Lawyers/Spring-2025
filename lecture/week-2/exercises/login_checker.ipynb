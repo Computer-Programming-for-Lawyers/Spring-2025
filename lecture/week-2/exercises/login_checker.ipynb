{
 "cells": [
  {
   "cell_type": "code",
   "execution_count": 7,
   "metadata": {},
   "outputs": [
    {
     "name": "stdout",
     "output_type": "stream",
     "text": [
      "Access denied\n"
     ]
    }
   ],
   "source": [
    "# Filename: login_checker2.ipynb\n",
    "# Description: Checks whether a (username, password) combination matches\n",
    "# one of three pre-set combinations.\n",
    "\n",
    "# Part Two: Check to see if the username/password combination for one user has been input.\n",
    "\n",
    "# Read the username and password from the user.\n",
    "username = input('Username: ')\n",
    "password = input('Password: ')\n",
    "\n",
    "# Determine whether it matches the one pre-set input.\n",
    "larry_match = (username == 'Larry') and (password == 'coding_is_fun')\n",
    "\n",
    "if larry_match:\n",
    "    print(\"Access granted\")\n",
    "\n",
    "else:\n",
    "    print(\"Access denied\")\n"
   ]
  }
 ],
 "metadata": {
  "kernelspec": {
   "display_name": "Python 3",
   "language": "python",
   "name": "python3"
  },
  "language_info": {
   "codemirror_mode": {
    "name": "ipython",
    "version": 3
   },
   "file_extension": ".py",
   "mimetype": "text/x-python",
   "name": "python",
   "nbconvert_exporter": "python",
   "pygments_lexer": "ipython3",
   "version": "3.10.13"
  }
 },
 "nbformat": 4,
 "nbformat_minor": 2
}
