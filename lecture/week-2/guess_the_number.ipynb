{
 "cells": [
  {
   "cell_type": "markdown",
   "metadata": {},
   "source": [
    "### Guess the Number Game\n",
    "\n",
    "In class activity to demonstrate if-statements and while loops.\n",
    "\n",
    "Let's start simple: Given a pre-defined answer (aka, answer = 33), take a user input and tell the user whether they guessed the number right. "
   ]
  },
  {
   "cell_type": "code",
   "execution_count": null,
   "metadata": {},
   "outputs": [],
   "source": []
  },
  {
   "cell_type": "markdown",
   "metadata": {},
   "source": [
    "### Using a Library to Create a Random Number\n",
    "\n",
    "Now, let's use a library to make the answer random, that way you really have to guess. "
   ]
  },
  {
   "cell_type": "code",
   "execution_count": null,
   "metadata": {},
   "outputs": [],
   "source": [
    "import random\n",
    "\n",
    "# Pick a random number between 1 and 100.\n",
    "answer = random.randint(1, 100)"
   ]
  },
  {
   "cell_type": "markdown",
   "metadata": {},
   "source": [
    "#### Brief Aside on Libraries\n",
    "\n",
    "Python comes with several **built-in functions** like `print()`, `input()`, and `len()`. These are included by default, but Python offers much more functionality through additional tools called **libraries**.\n",
    "\n",
    "---\n",
    "\n",
    "##### Libraries: Beyond Built-in Functions\n",
    "- Python is **extensible**, allowing us to use or create bundles of code called **libraries**.\n",
    "- Libraries (also called \"modules\" or \"packages\") let us:\n",
    "  - Avoid writing code from scratch.\n",
    "  - Use well-tested, reusable code.\n",
    "- **Abstraction**: We don’t need to understand how a library works—just how to use it.\n",
    "\n",
    "---\n",
    "\n",
    "##### Standard Libraries\n",
    "- When you install Python, it includes **standard libraries** for common tasks.\n",
    "- Standard libraries are not built-in like print() or len(), so they require the import command.\n",
    "- To use a library, you must first **import** it. Example: `import random`\n",
    "- Sometimes, you also need to **install** libraries before you can import them. You would do this in the terminal with the command: `pip install [library name]`\n",
    "---\n",
    "##### Creating your own libraries\n",
    "You can import your own Python (.py) files just like libraries, we'll learn more about this later in the semester."
   ]
  },
  {
   "cell_type": "markdown",
   "metadata": {},
   "source": [
    "### Tell the user whether they're hot or cold, and keep taking guesses until they get it right."
   ]
  },
  {
   "cell_type": "code",
   "execution_count": null,
   "metadata": {},
   "outputs": [],
   "source": []
  }
 ],
 "metadata": {
  "kernelspec": {
   "display_name": "Python 3",
   "language": "python",
   "name": "python3"
  },
  "language_info": {
   "codemirror_mode": {
    "name": "ipython",
    "version": 3
   },
   "file_extension": ".py",
   "mimetype": "text/x-python",
   "name": "python",
   "nbconvert_exporter": "python",
   "pygments_lexer": "ipython3",
   "version": "3.10.13"
  }
 },
 "nbformat": 4,
 "nbformat_minor": 2
}
