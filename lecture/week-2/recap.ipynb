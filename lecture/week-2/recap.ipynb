{
 "cells": [
  {
   "cell_type": "markdown",
   "metadata": {},
   "source": [
    "# Week 1 Recap: print, input, and booleans"
   ]
  },
  {
   "cell_type": "markdown",
   "metadata": {},
   "source": [
    "Print function refresh\n",
    "* Combining strings and printing variables\n",
    "* \"sep\""
   ]
  },
  {
   "cell_type": "code",
   "execution_count": null,
   "metadata": {},
   "outputs": [],
   "source": []
  },
  {
   "cell_type": "markdown",
   "metadata": {},
   "source": [
    "Input function refresh\n",
    "* storing inputs as variables\n",
    "* printing inputs\n",
    "* print input times 4 (str vs int)"
   ]
  },
  {
   "cell_type": "code",
   "execution_count": null,
   "metadata": {},
   "outputs": [],
   "source": []
  },
  {
   "cell_type": "markdown",
   "metadata": {},
   "source": [
    "Booleans\n",
    "* As you'll recall, boolean variables take on one of two value: True or False.\n",
    "  * We create booleans by performing comparisons on other expressions.\n",
    "  * We use the == operator to test whether two expressions are equal.\n",
    "  * We use the != to test whether they're not equal.\n",
    "  * For numbers, we can also use >, <, <=, and >= to compare whethether something is bigger or smaller.\n",
    "  * We also have compound boolean operators like `and`, `or`, and `not` that allow us to build bigger logical expressions.\n",
    "\n",
    "Activities:\n",
    "* write a simple program to tell me whether I need to wear a jacket\n",
    "* wear a jacket if it's raining or if it's below 65 degrees"
   ]
  },
  {
   "cell_type": "code",
   "execution_count": null,
   "metadata": {},
   "outputs": [],
   "source": []
  },
  {
   "cell_type": "markdown",
   "metadata": {},
   "source": [
    "Git commands refresh\n",
    "- open files\n",
    "- commiting and pushing"
   ]
  }
 ],
 "metadata": {
  "kernelspec": {
   "display_name": "Python 3",
   "language": "python",
   "name": "python3"
  },
  "language_info": {
   "codemirror_mode": {
    "name": "ipython",
    "version": 3
   },
   "file_extension": ".py",
   "mimetype": "text/x-python",
   "name": "python",
   "nbconvert_exporter": "python",
   "pygments_lexer": "ipython3",
   "version": "3.12.1"
  }
 },
 "nbformat": 4,
 "nbformat_minor": 2
}
