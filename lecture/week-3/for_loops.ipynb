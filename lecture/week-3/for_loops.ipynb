{
 "cells": [
  {
   "cell_type": "markdown",
   "metadata": {},
   "source": [
    "# For Loops\n",
    "A for-loop is a control structure that allows you to iterate over a sequence (like a list or range) and execute a block of code for each item in the sequence. It’s useful for processing collections of data efficiently, as it repeats actions without needing to manually track each step."
   ]
  },
  {
   "cell_type": "code",
   "execution_count": 3,
   "metadata": {},
   "outputs": [
    {
     "data": {
      "text/plain": [
       "True"
      ]
     },
     "execution_count": 3,
     "metadata": {},
     "output_type": "execute_result"
    }
   ],
   "source": [
    "# EXAMPLE: Imagine you want to convert a list of singular nouns to plural using while loops\n",
    "\n",
    "# Create a list of singular nouns\n",
    "nouns = [\"cat\", \"dog\", \"car\", \"tree\"]\n",
    "\n",
    "# Convert the nouns in the list to plural, printing out the results\n",
    "i = 0\n",
    "\n",
    "while i < len(nouns):\n",
    "    # print(nouns[i])\n",
    "    print (nouns[i] + \"s\")\n",
    "    i = i + 1\n",
    "\n",
    "# nouns[0].startswith(\"c\")"
   ]
  },
  {
   "cell_type": "code",
   "execution_count": 10,
   "metadata": {},
   "outputs": [
    {
     "name": "stdout",
     "output_type": "stream",
     "text": [
      "cats\n",
      "dogs\n",
      "cars\n",
      "trees\n",
      "tree\n",
      "['cat', 'dog', 'car', 'tree']\n"
     ]
    }
   ],
   "source": [
    "# How can we do that in a more concise way? For loops.\n",
    "nouns = [\"cat\", \"dog\", \"car\", \"tree\"]\n",
    "\n",
    "for noun in nouns:\n",
    "    print(noun + \"s\")\n",
    "\n",
    "print(noun)\n",
    "print(nouns)"
   ]
  },
  {
   "cell_type": "markdown",
   "metadata": {},
   "source": [
    "Naming convention: name the variable pointing to a list full of stuff with the plural noun version of the stuff (here: items); then name the variable in the for loop the singular noun version.\n",
    "* for `item` in `items`\n",
    "\n",
    "* for `row` in `rows`\n",
    "\n",
    "* for `dog` in `dogs`\n",
    "\n",
    "Basic structure: `for *variable* in *list*:` Variable does *not* pre-exist."
   ]
  },
  {
   "cell_type": "code",
   "execution_count": 6,
   "metadata": {},
   "outputs": [
    {
     "name": "stdout",
     "output_type": "stream",
     "text": [
      "0\n",
      "1\n",
      "2\n",
      "3\n",
      "4\n",
      "5\n",
      "6\n",
      "7\n",
      "8\n",
      "9\n",
      "10\n",
      "11\n",
      "12\n",
      "13\n",
      "14\n",
      "15\n",
      "16\n",
      "17\n",
      "18\n",
      "19\n",
      "20\n",
      "21\n",
      "22\n",
      "23\n",
      "24\n",
      "25\n",
      "26\n",
      "27\n",
      "28\n",
      "29\n",
      "30\n",
      "31\n",
      "32\n",
      "33\n",
      "34\n",
      "35\n",
      "36\n",
      "37\n",
      "38\n",
      "39\n",
      "40\n",
      "41\n",
      "42\n",
      "43\n",
      "44\n",
      "45\n",
      "46\n",
      "47\n",
      "48\n",
      "49\n",
      "50\n",
      "51\n",
      "52\n",
      "53\n",
      "54\n",
      "55\n",
      "56\n",
      "57\n",
      "58\n",
      "59\n",
      "60\n",
      "61\n",
      "62\n",
      "63\n",
      "64\n",
      "65\n",
      "66\n",
      "67\n",
      "68\n",
      "69\n",
      "70\n",
      "71\n",
      "72\n",
      "73\n",
      "74\n",
      "75\n",
      "76\n",
      "77\n",
      "78\n",
      "79\n",
      "80\n",
      "81\n",
      "82\n",
      "83\n",
      "84\n",
      "85\n",
      "86\n",
      "87\n",
      "88\n",
      "89\n",
      "90\n",
      "91\n",
      "92\n",
      "93\n",
      "94\n",
      "95\n",
      "96\n",
      "97\n",
      "98\n"
     ]
    }
   ],
   "source": [
    "# range example - print all numbers from 0 to 99\n",
    "\n",
    "for number in range(99):\n",
    "    print(number)\n"
   ]
  },
  {
   "cell_type": "code",
   "execution_count": null,
   "metadata": {},
   "outputs": [],
   "source": [
    "# don't need to wrap range in list() in for loop\n"
   ]
  },
  {
   "cell_type": "code",
   "execution_count": 8,
   "metadata": {},
   "outputs": [
    {
     "name": "stdout",
     "output_type": "stream",
     "text": [
      "cats\n",
      "dogs\n",
      "cars\n",
      "trees\n",
      "['cats', 'dogs', 'cars', 'trees']\n"
     ]
    }
   ],
   "source": [
    "# show how to store the range results in a list\n",
    "\n",
    "plurals = []\n",
    "nouns = [\"cat\", \"dog\", \"car\", \"tree\"]\n",
    "\n",
    "for noun in nouns:\n",
    "    plurals.append(noun + \"s\")\n",
    "    print(noun + \"s\")\n",
    "\n",
    "print(plurals)"
   ]
  },
  {
   "cell_type": "code",
   "execution_count": 12,
   "metadata": {},
   "outputs": [
    {
     "name": "stdout",
     "output_type": "stream",
     "text": [
      "[5, 10, 15]\n",
      "25\n",
      "50\n",
      "75\n"
     ]
    }
   ],
   "source": [
    "range_list = list(range(5,20,5))\n",
    "print(range_list)\n",
    "\n",
    "for number in range_list:\n",
    "    print(number*5)"
   ]
  }
 ],
 "metadata": {
  "kernelspec": {
   "display_name": "Python 3",
   "language": "python",
   "name": "python3"
  },
  "language_info": {
   "codemirror_mode": {
    "name": "ipython",
    "version": 3
   },
   "file_extension": ".py",
   "mimetype": "text/x-python",
   "name": "python",
   "nbconvert_exporter": "python",
   "pygments_lexer": "ipython3",
   "version": "3.12.1"
  }
 },
 "nbformat": 4,
 "nbformat_minor": 2
}
