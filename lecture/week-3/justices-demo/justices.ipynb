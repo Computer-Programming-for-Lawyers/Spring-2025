{
 "cells": [
  {
   "cell_type": "markdown",
   "metadata": {},
   "source": [
    "## Week 3 Lecture Activity\n",
    "#### Supreme Court Justices"
   ]
  },
  {
   "cell_type": "code",
   "execution_count": 1,
   "metadata": {},
   "outputs": [
    {
     "data": {
      "text/plain": [
       "['Jay, John ;New York ;Washington ;(a) October 19, 1789 ;June 29, 1795;Chief Justice',\n",
       " 'Rutledge, John ;South Carolina ;Washington ;August 12, 1795 ;December 15, 1795;Chief Justice',\n",
       " 'Ellsworth, Oliver ;Connecticut ;Washington ;March 8, 1796 ;December 15, 1800;Chief Justice',\n",
       " 'Marshall, John ;Virginia ;Adams, John ;February 4, 1801 ;July 6, 1835;Chief Justice',\n",
       " 'Taney, Roger Brooke ;Maryland ;Jackson ;March 28, 1836 ;October 12, 1864;Chief Justice',\n",
       " 'Chase, Salmon Portland ;Ohio ;Lincoln ;December 15, 1864 ;May 7, 1873;Chief Justice',\n",
       " 'Waite, Morrison Remick ;Ohio ;Grant ;March 4, 1874 ;March 23, 1888;Chief Justice',\n",
       " 'Fuller, Melville Weston ;Illinois ;Cleveland ;October 8, 1888 ;July 4, 1910;Chief Justice',\n",
       " 'White, Edward Douglass ;Louisiana ;Taft ;December 19, 1910 ;May 19, 1921;Chief Justice',\n",
       " 'Taft, William Howard ;Connecticut ;Harding ;July 11, 1921 ;February 3, 1930;Chief Justice',\n",
       " 'Hughes, Charles Evans ;New York ;Hoover ;February 24, 1930 ;June 30, 1941;Chief Justice',\n",
       " 'Stone, Harlan Fiske ;New York ;Roosevelt, F. ;July 3, 1941 ;April 22, 1946;Chief Justice',\n",
       " 'Vinson, Fred Moore ;Kentucky ;Truman ;June 24, 1946 ;September 8, 1953;Chief Justice',\n",
       " 'Warren, Earl ;California ;Eisenhower ;October 5, 1953 ;June 23, 1969;Chief Justice',\n",
       " 'Burger, Warren Earl ;Virginia ;Nixon ;June 23, 1969 ;September 26, 1986;Chief Justice',\n",
       " 'Rehnquist, William H. ;Virginia ;Reagan ;September 26, 1986 ;September 3, 2005;Chief Justice',\n",
       " 'Roberts, John G., Jr. ;Maryland ;Bush, G. W. ;September 29, 2005;;Chief Justice',\n",
       " 'Rutledge, John ;South Carolina ;Washington ;(a) February 15, 1790 ;March 5, 1791;Associate Justice',\n",
       " 'Cushing, William ;Massachusetts ;Washington ;(c) February 2, 1790 ;September 13, 1810;Associate Justice',\n",
       " 'Wilson, James ;Pennsylvania ;Washington ;(b) October 5, 1789 ;August 21, 1798;Associate Justice',\n",
       " 'Blair, John ;Virginia ;Washington ;(c) February 2, 1790 ;October 25, 1795;Associate Justice',\n",
       " 'Iredell, James ;North Carolina ;Washington ;(b) May 12, 1790 ;October 20, 1799;Associate Justice',\n",
       " 'Johnson, Thomas ;Maryland ;Washington ;(a) August 6, 1792 ;January 16, 1793;Associate Justice',\n",
       " 'Paterson, William ;New Jersey ;Washington ;(a) March 11, 1793 ;September 9, 1806;Associate Justice',\n",
       " 'Chase, Samuel ;Maryland ;Washington ;February 4, 1796 ;June 19, 1811;Associate Justice',\n",
       " 'Washington, Bushrod ;Virginia ;Adams, John ;November 9, 1798 ;November 26, 1829;Associate Justice',\n",
       " 'Moore, Alfred ;North Carolina ;Adams, John ;(a) April 21, 1800 ;January 26, 1804;Associate Justice',\n",
       " 'Johnson, William ;South Carolina ;Jefferson ;May 7, 1804 ;August 4, 1834;Associate Justice',\n",
       " 'Livingston, Brockholst ;New York ;Jefferson ;January 20, 1807 ;March 18, 1823;Associate Justice',\n",
       " 'Todd, Thomas ;Kentucky ;Jefferson ;(a) May 4, 1807 ;February 7, 1826;Associate Justice',\n",
       " 'Duvall, Gabriel ;Maryland ;Madison ;(a) November 23, 1811 ;January 14, 1835;Associate Justice',\n",
       " 'Story, Joseph ;Massachusetts ;Madison ;(c) February 3, 1812 ;September 10, 1845;Associate Justice',\n",
       " 'Thompson, Smith ;New York ;Monroe ;(b) September 1, 1823 ;December 18, 1843;Associate Justice',\n",
       " 'Trimble, Robert ;Kentucky ;Adams, J. Q. ;(a) June 16, 1826 ;August 25, 1828;Associate Justice',\n",
       " 'McLean, John ;Ohio ;Jackson ;(c) January 11, 1830 ;April 4, 1861;Associate Justice',\n",
       " 'Baldwin, Henry ;Pennsylvania ;Jackson ;January 18, 1830 ;April 21, 1844;Associate Justice',\n",
       " 'Wayne, James Moore ;Georgia ;Jackson ;January 14, 1835 ;July 5, 1867;Associate Justice',\n",
       " 'Barbour, Philip Pendleton ;Virginia ;Jackson ;May 12, 1836 ;February 25, 1841;Associate Justice',\n",
       " 'Catron, John ;Tennessee ;Jackson ;May 1, 1837 ;May 30, 1865;Associate Justice',\n",
       " 'McKinley, John ;Alabama ;Van Buren ;(c) January 9, 1838 ;July 19, 1852;Associate Justice',\n",
       " 'Daniel, Peter Vivian ;Virginia ;Van Buren ;(c) January 10, 1842 ;May 31, 1860;Associate Justice',\n",
       " 'Nelson, Samuel ;New York ;Tyler ;February 27, 1845 ;November 28, 1872;Associate Justice',\n",
       " 'Woodbury, Levi ;New Hampshire ;Polk ;(b) September 23, 1845 ;September 4, 1851;Associate Justice',\n",
       " 'Grier, Robert Cooper ;Pennsylvania ;Polk ;August 10, 1846 ;January 31, 1870;Associate Justice',\n",
       " 'Curtis, Benjamin Robbins ;Massachusetts ;Fillmore ;(b) October 10, 1851 ;September 30, 1857;Associate Justice',\n",
       " 'Campbell, John Archibald ;Alabama ;Pierce ;(c) April 11, 1853 ;April 30, 1861;Associate Justice',\n",
       " 'Clifford, Nathan ;Maine ;Buchanan ;January 21, 1858 ;July 25, 1881;Associate Justice',\n",
       " 'Swayne, Noah Haynes ;Ohio ;Lincoln ;January 27, 1862 ;January 24, 1881;Associate Justice',\n",
       " 'Miller, Samuel Freeman ;Iowa ;Lincoln ;July 21, 1862 ;October 13, 1890;Associate Justice',\n",
       " 'Davis, David ;Illinois ;Lincoln ;December 10, 1862 ;March 4, 1877;Associate Justice',\n",
       " 'Field, Stephen Johnson ;California ;Lincoln ;May 20, 1863 ;December 1, 1897;Associate Justice',\n",
       " 'Strong, William ;Pennsylvania ;Grant ;March 14, 1870 ;December 14, 1880;Associate Justice',\n",
       " 'Bradley, Joseph P. ;New Jersey ;Grant ;March 23, 1870 ;January 22, 1892;Associate Justice',\n",
       " 'Hunt, Ward ;New York ;Grant ;January 9, 1873 ;January 27, 1882;Associate Justice',\n",
       " 'Harlan, John Marshall ;Kentucky ;Hayes ;December 10 1877 ;October 14, 1911;Associate Justice',\n",
       " 'Woods, William Burnham ;Georgia ;Hayes ;January 5, 1881 ;May 14, 1887;Associate Justice',\n",
       " 'Matthews, Stanley ;Ohio ;Garfield ;May 17, 1881 ;March 22, 1889;Associate Justice',\n",
       " 'Gray, Horace ;Massachusetts ;Arthur ;January 9, 1882 ;September 15, 1902;Associate Justice',\n",
       " 'Blatchford, Samuel ;New York ;Arthur ;April 3, 1882 ;July 7, 1893;Associate Justice',\n",
       " 'Lamar, Lucius Quintus C. ;Mississippi ;Cleveland ;January 18, 1888 ;January 23, 1893;Associate Justice',\n",
       " 'Brewer, David Josiah ;Kansas ;Harrison ;January 6, 1890 ;March 28, 1910;Associate Justice',\n",
       " 'Brown, Henry Billings ;Michigan ;Harrison ;January 5, 1891 ;May 28, 1906;Associate Justice',\n",
       " 'Shiras, George, Jr. ;Pennsylvania ;Harrison ;October 10, 1892 ;February 23, 1903;Associate Justice',\n",
       " 'Jackson, Howell Edmunds ;Tennessee ;Harrison ;March 4, 1893 ;August 8, 1895;Associate Justice',\n",
       " 'White, Edward Douglass ;Louisiana ;Cleveland ;March 12, 1894 ;December 18, 1910*;Associate Justice',\n",
       " 'Peckham, Rufus Wheeler ;New York ;Cleveland ;January 6, 1896 ;October 24, 1909;Associate Justice',\n",
       " 'McKenna, Joseph ;California ;McKinley ;January 26, 1898 ;January 5, 1925;Associate Justice',\n",
       " 'Holmes, Oliver Wendell ;Massachusetts ;Roosevelt, T. ;December 8, 1902 ;January 12, 1932;Associate Justice',\n",
       " 'Day, William Rufus ;Ohio ;Roosevelt, T. ;March 2, 1903 ;November 13, 1922;Associate Justice',\n",
       " 'Moody, William Henry ;Massachusetts ;Roosevelt, T. ;December 17, 1906 ;November 20, 1910;Associate Justice',\n",
       " 'Lurton, Horace Harmon ;Tennessee ;Taft ;January 3, 1910 ;July 12, 1914;Associate Justice',\n",
       " 'Hughes, Charles Evans ;New York ;Taft ;October 10, 1910 ;June 10, 1916;Associate Justice',\n",
       " 'Van Devanter, Willis ;Wyoming ;Taft ;January 3, 1911 ;June 2, 1937;Associate Justice',\n",
       " 'Lamar, Joseph Rucker ;Georgia ;Taft ;January 3, 1911 ;January 2, 1916;Associate Justice',\n",
       " 'Pitney, Mahlon ;New Jersey ;Taft ;March 18, 1912 ;December 31, 1922;Associate Justice',\n",
       " 'McReynolds, James Clark ;Tennessee ;Wilson ;October 12, 1914 ;January 31, 1941;Associate Justice',\n",
       " 'Brandeis, Louis Dembitz ;Massachusetts ;Wilson ;June 5,1916 ;February 13, 1939;Associate Justice',\n",
       " 'Clarke, John Hessin ;Ohio ;Wilson ;October 9, 1916 ;September 18, 1922;Associate Justice',\n",
       " 'Sutherland, George ;Utah ;Harding ;October 2, 1922 ;January 17, 1938;Associate Justice',\n",
       " 'Butler, Pierce ;Minnesota ;Harding ;January 2, 1923 ;November 16, 1939;Associate Justice',\n",
       " 'Sanford, Edward Terry ;Tennessee ;Harding ;February 19, 1923 ;March 8, 1930;Associate Justice',\n",
       " 'Stone, Harlan Fiske ;New York ;Coolidge ;March 2, 1925 ;July 2, 1941*;Associate Justice',\n",
       " 'Roberts, Owen Josephus ;Pennsylvania ;Hoover ;June 2, 1930 ;July 31, 1945;Associate Justice',\n",
       " 'Cardozo, Benjamin Nathan ;New York ;Hoover ;March 14, 1932 ;July 9, 1938;Associate Justice',\n",
       " 'Black, Hugo Lafayette ;Alabama ;Roosevelt, F. ;August 19, 1937 ;September 17, 1971;Associate Justice',\n",
       " 'Reed, Stanley Forman ;Kentucky ;Roosevelt, F. ;January 31, 1938 ;February 25, 1957;Associate Justice',\n",
       " 'Frankfurter, Felix ;Massachusetts ;Roosevelt, F. ;January 30, 1939 ;August 28, 1962;Associate Justice',\n",
       " 'Douglas, William Orville ;Connecticut ;Roosevelt, F. ;April 17, 1939 ;November 12, 1975;Associate Justice',\n",
       " 'Murphy, Frank ;Michigan ;Roosevelt, F. ;February 5, 1940 ;July 19, 1949;Associate Justice',\n",
       " 'Byrnes, James Francis ;South Carolina ;Roosevelt, F. ;July 8, 1941 ;October 3, 1942;Associate Justice',\n",
       " 'Jackson, Robert Houghwout ;New York ;Roosevelt, F. ;July 11, 1941 ;October 9, 1954;Associate Justice',\n",
       " 'Rutledge, Wiley Blount ;Iowa ;Roosevelt, F. ;February 15, 1943 ;September 10, 1949;Associate Justice',\n",
       " 'Burton, Harold Hitz ;Ohio ;Truman ;October 1, 1945 ;October 13, 1958;Associate Justice',\n",
       " 'Clark, Tom Campbell ;Texas ;Truman ;August 24, 1949 ;June 12, 1967;Associate Justice',\n",
       " 'Minton, Sherman ;Indiana ;Truman ;October 12, 1949 ;October 15, 1956;Associate Justice',\n",
       " 'Harlan, John Marshall ;New York ;Eisenhower ;March 28, 1955 ;September 23, 1971;Associate Justice',\n",
       " 'Brennan, William J., Jr. ;New Jersey ;Eisenhower ;October 16, 1956 ;July 20, 1990;Associate Justice',\n",
       " 'Whittaker, Charles Evans ;Missouri ;Eisenhower ;March 25, 1957 ;March 31, 1962;Associate Justice',\n",
       " 'Stewart, Potter ;Ohio ;Eisenhower ;October 14, 1958 ;July 3, 1981;Associate Justice',\n",
       " 'White, Byron Raymond ;Colorado ;Kennedy ;April 16, 1962 ;June 28, 1993;Associate Justice',\n",
       " 'Goldberg, Arthur Joseph ;Illinois ;Kennedy ;October 1, 1962 ;July 25, 1965;Associate Justice',\n",
       " 'Fortas, Abe ;Tennessee ;Johnson, L. ;October 4, 1965 ;May 14, 1969;Associate Justice',\n",
       " 'Marshall, Thurgood ;New York ;Johnson, L. ;October 2, 1967 ;October 1, 1991;Associate Justice',\n",
       " 'Blackmun, Harry A. ;Minnesota ;Nixon ;June 9, 1970 ;August 3, 1994;Associate Justice',\n",
       " 'Powell, Lewis F., Jr. ;Virginia ;Nixon ;January 7, 1972 ;June 26, 1987;Associate Justice',\n",
       " 'Rehnquist, William H. ;Arizona ;Nixon ;January 7, 1972 ;September 26, 1986*;Associate Justice',\n",
       " 'Stevens, John Paul ;Illinois ;Ford ;December 19, 1975 ;June 29, 2010;Associate Justice',\n",
       " \"O'Connor, Sandra Day ;Arizona ;Reagan ;September 25, 1981 ;January 31, 2006;Associate Justice\",\n",
       " 'Scalia, Antonin ;Virginia ;Reagan ;September 26, 1986 ;February 13, 2016;Associate Justice',\n",
       " 'Kennedy, Anthony M. ;California ;Reagan ;February 18, 1988 ;July 31, 2018;Associate Justice',\n",
       " 'Souter, David H. ;New Hampshire ;Bush, G. H. W. ;October 9, 1990 ;June 29, 2009;Associate Justice',\n",
       " 'Thomas, Clarence ;Georgia ;Bush, G. H. W. ;October 23, 1991;;Associate Justice',\n",
       " 'Ginsburg, Ruth Bader ;New York ;Clinton ;August 10, 1993 ;September 18, 2020;Associate Justice',\n",
       " 'Breyer, Stephen G. ;Massachusetts ;Clinton ;August 3, 1994 ; June 30, 2022;Associate Justice',\n",
       " 'Alito, Samuel A., Jr. ;New Jersey ;Bush, G. W. ;January 31, 2006;;Associate Justice',\n",
       " 'Sotomayor, Sonia ;New York ;Obama ;August 8, 2009;;Associate Justice',\n",
       " 'Kagan, Elena ;Massachusetts ;Obama ;August 7, 2010;;Associate Justice',\n",
       " 'Gorsuch, Neil M. ;Colorado ;Trump ;April 10, 2017;;Associate Justice',\n",
       " 'Kavanaugh, Brett M. ;Maryland ;Trump ;October 6, 2018;;Associate Justice',\n",
       " 'Barrett, Amy Coney ;Indiana ;Trump ;October 27, 2020;;Associate Justice',\n",
       " 'Jackson, Ketanji Brown ;Washington, D.C. ;Biden ;June 30, 2022;;Associate Justice',\n",
       " '']"
      ]
     },
     "execution_count": 1,
     "metadata": {},
     "output_type": "execute_result"
    }
   ],
   "source": [
    "### justices.ipynb\n",
    "### Fall 2024 (Rachel Orey) update of code via in-class exercise. Original code from Fall 2023, lecture delivered by Winnona Bernsen. Planned by Will Adler.\n",
    "### Description: Processes pre-processed data on supreme court justices. \n",
    "\n",
    "rows = open('justices.csv').read().split('\\n')\n",
    "\n",
    "rows"
   ]
  },
  {
   "cell_type": "code",
   "execution_count": null,
   "metadata": {},
   "outputs": [],
   "source": [
    "# go through each row, use \"split\" method to get full name, then first and last name (v1)\n"
   ]
  },
  {
   "cell_type": "code",
   "execution_count": null,
   "metadata": {},
   "outputs": [],
   "source": [
    "# now add to prior code and get start and end date (v2)\n",
    "# calculate how long justice served / has been serving"
   ]
  },
  {
   "cell_type": "code",
   "execution_count": null,
   "metadata": {},
   "outputs": [],
   "source": [
    "# What is the average term? (v3)"
   ]
  },
  {
   "cell_type": "code",
   "execution_count": null,
   "metadata": {},
   "outputs": [],
   "source": [
    "# Who has served for more than n years? (v3)"
   ]
  },
  {
   "cell_type": "code",
   "execution_count": 2,
   "metadata": {},
   "outputs": [],
   "source": [
    "# Given a date, return the composition of the court on that date (v4)\n",
    "# Point is to show how to use boolean flags, continue, and break"
   ]
  },
  {
   "cell_type": "code",
   "execution_count": null,
   "metadata": {},
   "outputs": [],
   "source": [
    "# Small variation, try every year and print only the odd ones (v4b)"
   ]
  }
 ],
 "metadata": {
  "kernelspec": {
   "display_name": "Python 3",
   "language": "python",
   "name": "python3"
  },
  "language_info": {
   "codemirror_mode": {
    "name": "ipython",
    "version": 3
   },
   "file_extension": ".py",
   "mimetype": "text/x-python",
   "name": "python",
   "nbconvert_exporter": "python",
   "pygments_lexer": "ipython3",
   "version": "3.12.1"
  }
 },
 "nbformat": 4,
 "nbformat_minor": 2
}
