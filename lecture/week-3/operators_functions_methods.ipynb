{
 "cells": [
  {
   "cell_type": "markdown",
   "metadata": {},
   "source": [
    "# Operators, Functions, and Methods\n",
    "\n",
    "There are a number of helpful ways of manipulating lists. But those operations take a wide variety of different forms. This section of lecture will give you a little more detail about the structure of the Python language and key terminology we will be using all semester.\n",
    "\n",
    "We'll break these operations up into three categories: Operators, Functions, and Methods.\n"
   ]
  },
  {
   "cell_type": "markdown",
   "metadata": {},
   "source": [
    "### Operators\n",
    "\n",
    " Operators are symbols or phrases that perform operations on variables and values.\n",
    " \n",
    "- Arithmetic: `+`, `-`, `*`, `/`\n",
    "- Comparison: `==`, `!=`, `<`, `>`\n",
    "- Logical: `and`, `or`, `not`\n",
    "- Assignment: `=`, `+=`, `-=`"
   ]
  },
  {
   "cell_type": "code",
   "execution_count": null,
   "metadata": {},
   "outputs": [],
   "source": [
    "# in-class examples"
   ]
  },
  {
   "cell_type": "markdown",
   "metadata": {},
   "source": [
    "The important thing to remember about operators is that they don't change the expressions to the left and right."
   ]
  },
  {
   "cell_type": "code",
   "execution_count": 2,
   "metadata": {},
   "outputs": [
    {
     "data": {
      "text/plain": [
       "2"
      ]
     },
     "execution_count": 2,
     "metadata": {},
     "output_type": "execute_result"
    }
   ],
   "source": [
    "a = 2\n",
    "b = 3\n",
    "a % b # doesn't change a or b"
   ]
  },
  {
   "cell_type": "markdown",
   "metadata": {},
   "source": [
    "Operators work on lists."
   ]
  },
  {
   "cell_type": "code",
   "execution_count": 3,
   "metadata": {},
   "outputs": [
    {
     "data": {
      "text/plain": [
       "[1, 2, 3, 4, 5, 6]"
      ]
     },
     "execution_count": 3,
     "metadata": {},
     "output_type": "execute_result"
    }
   ],
   "source": [
    "# adding lists\n",
    "\n",
    "x = [1, 2, 3]\n",
    "y = [4, 5, 6]\n",
    "\n",
    "x + y"
   ]
  },
  {
   "cell_type": "code",
   "execution_count": 5,
   "metadata": {},
   "outputs": [
    {
     "data": {
      "text/plain": [
       "[1, 2, 3, 1, 2, 3, 1, 2, 3]"
      ]
     },
     "execution_count": 5,
     "metadata": {},
     "output_type": "execute_result"
    }
   ],
   "source": [
    "# applying * to lists\n",
    "\n",
    "x = [1, 2, 3]\n",
    "y = [4, 5, 6]\n",
    "\n",
    "# x * y\n",
    "x * 3"
   ]
  },
  {
   "cell_type": "markdown",
   "metadata": {},
   "source": [
    "### Functions\n",
    "A function is a block of reusable code that performs a specific task. "
   ]
  },
  {
   "cell_type": "code",
   "execution_count": null,
   "metadata": {},
   "outputs": [],
   "source": [
    "# Functions have names like `print`, `input`, or `len`.\n",
    "print(\"hello\")"
   ]
  },
  {
   "cell_type": "code",
   "execution_count": 9,
   "metadata": {},
   "outputs": [
    {
     "name": "stdout",
     "output_type": "stream",
     "text": [
      "multiple inputs\n"
     ]
    },
    {
     "data": {
      "text/plain": [
       "9"
      ]
     },
     "execution_count": 9,
     "metadata": {},
     "output_type": "execute_result"
    }
   ],
   "source": [
    "# They take zero or more inputs, which we write in \n",
    "# parentheses after the name of the function separated by commas.\n",
    "list_input = [\"list\",\"of\",\"strings\"]\n",
    "len(list_input)\n",
    "print(\"multiple\",\"inputs\")\n",
    "\n",
    "list_of_numbers = [1,8,9]\n",
    "max(list_of_numbers)"
   ]
  },
  {
   "cell_type": "markdown",
   "metadata": {},
   "source": [
    "Function Structure: \n",
    "name_of_function(*argument_of_function*)\n",
    "\n",
    "The result of the function is the \"return value.\"  Aka, the len function *returns* the length of the list or string."
   ]
  },
  {
   "cell_type": "markdown",
   "metadata": {},
   "source": [
    "### Methods\n",
    "A method is a function that belongs to an object (usually a data type like a string or list) and can manipulate its data and perform actions on it. "
   ]
  },
  {
   "cell_type": "code",
   "execution_count": 10,
   "metadata": {},
   "outputs": [
    {
     "data": {
      "text/plain": [
       "3"
      ]
     },
     "execution_count": 10,
     "metadata": {},
     "output_type": "execute_result"
    }
   ],
   "source": [
    "ls = [1, 2, 3, 1, 3, 5, 1, 4, 7]\n",
    "ls.count(1)"
   ]
  },
  {
   "cell_type": "markdown",
   "metadata": {},
   "source": [
    "#### Methods vs Functions\n",
    "\n",
    "Methods look a lot like functions. They have names, you call them by writing parentheses and providing them with one or more arguments and they return return values. \n",
    "\n",
    "The key aesthetic difference is that you put an object of the method *before* the function call, write a dot, and *then* do the function call. Whereas with functions you put the object after the function in paranthesis.\n",
    "\n",
    "Fundamentally, a method is just like a function, with the object serving as a special additional argument to the method.\n"
   ]
  },
  {
   "cell_type": "code",
   "execution_count": 31,
   "metadata": {},
   "outputs": [
    {
     "name": "stdout",
     "output_type": "stream",
     "text": [
      "3\n",
      "4\n",
      "5\n",
      "6\n",
      "7\n",
      "8\n",
      "9\n",
      "10\n",
      "Len: 11\n",
      "[31, 400, 9, 5, 5, 5, 5, 5, 5, 5, 5]\n"
     ]
    }
   ],
   "source": [
    "my_list = [31,400,9]\n",
    "\n",
    "while len(my_list) <= 10:\n",
    "    # Method call\n",
    "    my_list.append(5)  # Adds 5 to the list 'my_list'\n",
    "\n",
    "# Function call\n",
    "print(\"Len:\",len(my_list))  # Returns the length of 'my_list'\n",
    "print(my_list)"
   ]
  },
  {
   "cell_type": "markdown",
   "metadata": {},
   "source": [
    "**Key Distinction** between Methods and Functions\n",
    "* Functions will rarely change the values of their arguments.\n",
    "* Methods will rarely change the values of their arguments, but will often (but not always) change the values of their objects."
   ]
  },
  {
   "cell_type": "code",
   "execution_count": null,
   "metadata": {},
   "outputs": [],
   "source": [
    "# Method call\n",
    "my_list.append(5)  # Adds 5 to the list 'my_list'\n",
    "\n",
    "print(my_list)"
   ]
  },
  {
   "cell_type": "code",
   "execution_count": 32,
   "metadata": {},
   "outputs": [
    {
     "name": "stdout",
     "output_type": "stream",
     "text": [
      "function result: [5, 5, 5, 5, 5, 5, 5, 5, 9, 31, 400]\n",
      "my_list after function: [31, 400, 9, 5, 5, 5, 5, 5, 5, 5, 5]\n"
     ]
    }
   ],
   "source": [
    "# Sorted function doesn't change list values\n",
    "print(\"function result:\",sorted(my_list))\n",
    "print(\"my_list after function:\",my_list)"
   ]
  },
  {
   "cell_type": "code",
   "execution_count": 33,
   "metadata": {},
   "outputs": [
    {
     "name": "stdout",
     "output_type": "stream",
     "text": [
      "method result: None\n",
      "my_list after method: [5, 5, 5, 5, 5, 5, 5, 5, 9, 31, 400]\n"
     ]
    }
   ],
   "source": [
    "# Sort method does change list values\n",
    "print(\"method result:\",my_list.sort())\n",
    "print(\"my_list after method:\",my_list)"
   ]
  },
  {
   "cell_type": "code",
   "execution_count": 40,
   "metadata": {},
   "outputs": [
    {
     "data": {
      "text/plain": [
       "[5, 5, 5, 5, 5, 5, 5, 5, 9, 31, 400]"
      ]
     },
     "execution_count": 40,
     "metadata": {},
     "output_type": "execute_result"
    }
   ],
   "source": [
    "my_list = sorted(my_list)\n",
    "\n",
    "my_list.sort()\n",
    "my_list"
   ]
  },
  {
   "cell_type": "markdown",
   "metadata": {},
   "source": [
    "# Key List Functions and Methods"
   ]
  },
  {
   "cell_type": "code",
   "execution_count": 50,
   "metadata": {},
   "outputs": [
    {
     "name": "stdout",
     "output_type": "stream",
     "text": [
      "[5, 5, 5, 5, 5, 5, 5, 5, 9, 31, 400]\n"
     ]
    },
    {
     "data": {
      "text/plain": [
       "False"
      ]
     },
     "execution_count": 50,
     "metadata": {},
     "output_type": "execute_result"
    }
   ],
   "source": [
    "# in, not in\n",
    "# also demo with strings\n",
    "\n",
    "print(my_list)\n",
    "\n",
    "5 in my_list\n",
    "\"string\" not in my_list\n",
    "\"string\" != my_list\n",
    "\n",
    "\"1\" in \"string\""
   ]
  },
  {
   "cell_type": "code",
   "execution_count": 56,
   "metadata": {},
   "outputs": [
    {
     "name": "stdout",
     "output_type": "stream",
     "text": [
      "['pink']\n"
     ]
    }
   ],
   "source": [
    "# append <- IMPORTANT\n",
    "# often build lists one item at a time\n",
    "\n",
    "list_of_colors = []\n",
    "x=5\n",
    "\n",
    "list_of_colors.append(\"pink\")\n",
    "print(list_of_colors)"
   ]
  },
  {
   "cell_type": "code",
   "execution_count": 59,
   "metadata": {},
   "outputs": [],
   "source": [
    "# use a while-loop to build a list that contains the first 20 perfect squares\n",
    "\n",
    "perfect_squares = []\n",
    "i = 2\n",
    "\n",
    "while i <= 20:\n",
    "    perfect_squares.append(i**2)\n",
    "    i += 1"
   ]
  },
  {
   "cell_type": "code",
   "execution_count": 60,
   "metadata": {},
   "outputs": [
    {
     "data": {
      "text/plain": [
       "[4,\n",
       " 9,\n",
       " 16,\n",
       " 25,\n",
       " 36,\n",
       " 49,\n",
       " 64,\n",
       " 81,\n",
       " 100,\n",
       " 121,\n",
       " 144,\n",
       " 169,\n",
       " 196,\n",
       " 225,\n",
       " 256,\n",
       " 289,\n",
       " 324,\n",
       " 361,\n",
       " 400]"
      ]
     },
     "execution_count": 60,
     "metadata": {},
     "output_type": "execute_result"
    }
   ],
   "source": [
    "perfect_squares"
   ]
  },
  {
   "cell_type": "code",
   "execution_count": 63,
   "metadata": {},
   "outputs": [
    {
     "data": {
      "text/plain": [
       "4"
      ]
     },
     "execution_count": 63,
     "metadata": {},
     "output_type": "execute_result"
    }
   ],
   "source": [
    "# min and max (show method and function)\n",
    "# string and integer, string and list\n",
    "min(perfect_squares)\n",
    "# perfect_squares.min()"
   ]
  },
  {
   "cell_type": "code",
   "execution_count": 70,
   "metadata": {},
   "outputs": [
    {
     "data": {
      "text/plain": [
       "['T', 'g', 'i', 'n', 'r', 's']"
      ]
     },
     "execution_count": 70,
     "metadata": {},
     "output_type": "execute_result"
    }
   ],
   "source": [
    "# revisit sort and sorted\n",
    "# numbers and strings (capital letters > lowercase)\n",
    "\n",
    "l = list(\"sTring\") \n",
    "l.sort()\n",
    "l"
   ]
  },
  {
   "cell_type": "markdown",
   "metadata": {},
   "source": [
    "# Some Important String-Specific Operations\n",
    "\n",
    "In addition to many of the list machinery we already know, there are some special string-specific operations.\n",
    "\n",
    "Notice that these are unusual methods in that they return a new string, instead of altering the existing one. This is true for all string methods, since strings are immutable."
   ]
  },
  {
   "cell_type": "markdown",
   "metadata": {},
   "source": [
    "### Some Boolean Tests\n",
    "* There are two methods that allow us to examine the structure of strings.\n",
    "* The `s.startswith('t')` method allows you to check whether the string `s` starts with the string `t`. This produces a boolean value. It's case sensitive."
   ]
  },
  {
   "cell_type": "code",
   "execution_count": 89,
   "metadata": {},
   "outputs": [
    {
     "data": {
      "text/plain": [
       "False"
      ]
     },
     "execution_count": 89,
     "metadata": {},
     "output_type": "execute_result"
    }
   ],
   "source": [
    "# startswith, endswith\n",
    "\n",
    "color = \"pink\"\n",
    "\n",
    "color.upper() == \"PINK\"\n",
    "color.upper().endswith('k')\n"
   ]
  },
  {
   "cell_type": "markdown",
   "metadata": {},
   "source": [
    "### Find and Replace"
   ]
  },
  {
   "cell_type": "code",
   "execution_count": 91,
   "metadata": {},
   "outputs": [
    {
     "data": {
      "text/plain": [
       "'pnk'"
      ]
     },
     "execution_count": 91,
     "metadata": {},
     "output_type": "execute_result"
    }
   ],
   "source": [
    "# s.replace(find, replace)\n",
    "\n",
    "color.replace(\"i\",\"\")"
   ]
  },
  {
   "cell_type": "markdown",
   "metadata": {},
   "source": [
    "What if we want to make two `replace()` to the same string, one-at-a-time?\n",
    "\n",
    "*Hamilton reference: Start with `s = \"Thomas Jefferson's coming home\"`. Use two `.replace()` calls to switch this to `\"George Washington's going home\"`*"
   ]
  },
  {
   "cell_type": "code",
   "execution_count": 95,
   "metadata": {},
   "outputs": [
    {
     "data": {
      "text/plain": [
       "False"
      ]
     },
     "execution_count": 95,
     "metadata": {},
     "output_type": "execute_result"
    }
   ],
   "source": [
    "# demo and demo chaining\n",
    "s = \"Thomas Jefferson's coming home\"\n",
    "\n",
    "s.replace(\"T\",\"X\").startswith(\"T\")"
   ]
  },
  {
   "cell_type": "markdown",
   "metadata": {},
   "source": [
    "When chaining, you need to resolve the first call and think of it as a string. Look past the method syntax and realize that what you're looking at is a fully fledged string, including all of the methods that go with strings."
   ]
  },
  {
   "cell_type": "code",
   "execution_count": null,
   "metadata": {},
   "outputs": [],
   "source": [
    "# joining and splitting - where lists combine"
   ]
  },
  {
   "cell_type": "markdown",
   "metadata": {},
   "source": [
    "## Joining and splitting\n",
    "  * This is a place where strings and lists combine.\n",
    "  * It's pretty common for you to end up in one of two situations:\n",
    "    1. You have a list of strings that you want to combine into a single string. For example, you have a list of names and you want to insert commas between them. This uses a method called `join`\n",
    "    2. You have a single string and you want to split it along some pattern into a list of strings. This is the reverse of what we just discussed. This uses a method called `split`"
   ]
  },
  {
   "cell_type": "markdown",
   "metadata": {},
   "source": [
    "#### Join\n",
    "The `.join()` method may seem a bit backward at first. It's a method of a string, and the string itself is what you want between every single pair of items in a list.\n"
   ]
  },
  {
   "cell_type": "code",
   "execution_count": 98,
   "metadata": {},
   "outputs": [
    {
     "name": "stdout",
     "output_type": "stream",
     "text": [
      "Butcher, Baker, Candlestick maker\n",
      "hello:world\n"
     ]
    }
   ],
   "source": [
    "# Example 1: Using \", \" to join elements in a list\n",
    "print(\", \".join([\"Butcher\", \"Baker\", \"Candlestick maker\"]))\n",
    "\n",
    "print(\":\".join([\"hello\",\"world\"]))"
   ]
  },
  {
   "cell_type": "code",
   "execution_count": 99,
   "metadata": {},
   "outputs": [
    {
     "name": "stdout",
     "output_type": "stream",
     "text": [
      "eggs bread lettuce\n"
     ]
    }
   ],
   "source": [
    "# Example 2: Using a space \" \" to join elements in a list\n",
    "print(\" \".join([\"eggs\", \"bread\", \"lettuce\"]))"
   ]
  },
  {
   "cell_type": "code",
   "execution_count": 100,
   "metadata": {},
   "outputs": [
    {
     "name": "stdout",
     "output_type": "stream",
     "text": [
      "how much wood would a woodchuck chuck, if a woodchuck, could chuck \n"
     ]
    }
   ],
   "source": [
    "# Example 3: Using \"wood\" to join elements in a list\n",
    "print(\"wood\".join([\"how much \", \" would a \", \"chuck chuck, if a \", \"chuck, could chuck \"]))\n",
    "\n",
    "## Notice the final \"wood\" doesn't appear at the end, because .join() places the string only between items, not at the ends."
   ]
  },
  {
   "cell_type": "markdown",
   "metadata": {},
   "source": [
    "#### Split\n",
    "The `.split()` method is essentially the reverse of .join(). It breaks up a string based on a delimiter and returns a list of the parts.\n",
    "\n"
   ]
  },
  {
   "cell_type": "code",
   "execution_count": 101,
   "metadata": {},
   "outputs": [
    {
     "name": "stdout",
     "output_type": "stream",
     "text": [
      "['Georgetown', 'University', 'Law', 'Center']\n"
     ]
    }
   ],
   "source": [
    "# Example 1: Splitting by space\n",
    "print(\"Georgetown University Law Center\".split(\" \"))"
   ]
  },
  {
   "cell_type": "code",
   "execution_count": 102,
   "metadata": {},
   "outputs": [
    {
     "name": "stdout",
     "output_type": "stream",
     "text": [
      "['Georgetown', 'University', 'Law', 'Center']\n"
     ]
    }
   ],
   "source": [
    "# Example 2: Splitting on any whitespace without an argument\n",
    "print(\"Georgetown    University  Law  Center\".split())  # Note the extra white space"
   ]
  },
  {
   "cell_type": "code",
   "execution_count": 103,
   "metadata": {},
   "outputs": [
    {
     "name": "stdout",
     "output_type": "stream",
     "text": [
      "['Georgetown', '', '', '', 'University', '', 'Law', '', 'Center']\n"
     ]
    }
   ],
   "source": [
    "# Example 3: What happens with extra spaces when split by a single space\n",
    "print(\"Georgetown    University  Law  Center\".split(\" \"))  # Notice the empty string results"
   ]
  },
  {
   "cell_type": "code",
   "execution_count": 111,
   "metadata": {},
   "outputs": [
    {
     "name": "stdout",
     "output_type": "stream",
     "text": [
      "['G', 'org', 'town Univ', 'rsity Law C', 'nt', 'r']\n",
      "['comma', 'seperated', 'list', 'of', 'values']\n"
     ]
    },
    {
     "data": {
      "text/plain": [
       "['test', 'test']"
      ]
     },
     "execution_count": 111,
     "metadata": {},
     "output_type": "execute_result"
    }
   ],
   "source": [
    "# Example 4: Splitting by a specific character\n",
    "print(\"Georgetown University Law Center\".split(\"e\"))\n",
    "\n",
    "csv_string = \"comma,seperated,list,of,values\"\n",
    "print(csv_string.split(\",\"))\n",
    "\n",
    "line_break_string = \"\"\"test\n",
    "test\"\"\"\n",
    "\n",
    "line_break_string.split(\"\\n\")"
   ]
  },
  {
   "cell_type": "markdown",
   "metadata": {},
   "source": [
    "## F-strings\n",
    "F-strings are a powerful and convenient way to format strings in Python. Instead of concatenating strings manually or using format(), you can use f-strings."
   ]
  },
  {
   "cell_type": "code",
   "execution_count": 126,
   "metadata": {},
   "outputs": [
    {
     "name": "stdout",
     "output_type": "stream",
     "text": [
      "My name is John, I am 30 years old, and I live in New York.\n"
     ]
    }
   ],
   "source": [
    "name = \"John\"\n",
    "age = 30\n",
    "city = \"New York\"\n",
    "\n",
    "# Previously\n",
    "print(\"My name is \" + name + \", I am \" + str(age) + \" years old, and I live in \" + city + \".\")"
   ]
  },
  {
   "cell_type": "code",
   "execution_count": 113,
   "metadata": {},
   "outputs": [
    {
     "name": "stdout",
     "output_type": "stream",
     "text": [
      "My name is John, I am 30 years old, and I live in New York.\n"
     ]
    }
   ],
   "source": [
    "# with F-strings\n",
    "print(f\"My name is {name}, I am {age} years old, and I live in {city}.\")"
   ]
  },
  {
   "cell_type": "code",
   "execution_count": 125,
   "metadata": {},
   "outputs": [
    {
     "ename": "TypeError",
     "evalue": "can only concatenate str (not \"int\") to str",
     "output_type": "error",
     "traceback": [
      "\u001b[0;31m---------------------------------------------------------------------------\u001b[0m",
      "\u001b[0;31mTypeError\u001b[0m                                 Traceback (most recent call last)",
      "Cell \u001b[0;32mIn[125], line 2\u001b[0m\n\u001b[1;32m      1\u001b[0m \u001b[38;5;66;03m# Using expressions inside f-strings\u001b[39;00m\n\u001b[0;32m----> 2\u001b[0m \u001b[38;5;28mprint\u001b[39m(\u001b[38;5;124mf\u001b[39m\u001b[38;5;124m\"\u001b[39m\u001b[38;5;124mIn 10 years, \u001b[39m\u001b[38;5;132;01m{\u001b[39;00mname\u001b[38;5;132;01m}\u001b[39;00m\u001b[38;5;124m will be \u001b[39m\u001b[38;5;132;01m{\u001b[39;00m\u001b[43mage\u001b[49m\u001b[38;5;250;43m \u001b[39;49m\u001b[38;5;241;43m+\u001b[39;49m\u001b[38;5;250;43m \u001b[39;49m\u001b[38;5;241;43m10\u001b[39;49m\u001b[38;5;132;01m}\u001b[39;00m\u001b[38;5;124m years old.\u001b[39m\u001b[38;5;124m\"\u001b[39m)\n",
      "\u001b[0;31mTypeError\u001b[0m: can only concatenate str (not \"int\") to str"
     ]
    }
   ],
   "source": [
    "# Using expressions inside f-strings\n",
    "print(f\"In 10 years, {name} will be {age + 10} years old.\")"
   ]
  }
 ],
 "metadata": {
  "kernelspec": {
   "display_name": "Python 3",
   "language": "python",
   "name": "python3"
  },
  "language_info": {
   "codemirror_mode": {
    "name": "ipython",
    "version": 3
   },
   "file_extension": ".py",
   "mimetype": "text/x-python",
   "name": "python",
   "nbconvert_exporter": "python",
   "pygments_lexer": "ipython3",
   "version": "3.12.1"
  }
 },
 "nbformat": 4,
 "nbformat_minor": 2
}
