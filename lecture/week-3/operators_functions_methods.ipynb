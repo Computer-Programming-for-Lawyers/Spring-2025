{
 "cells": [
  {
   "cell_type": "markdown",
   "metadata": {},
   "source": [
    "# Operators, Functions, and Methods\n",
    "\n",
    "There are a number of helpful ways of manipulating lists. But those operations take a wide variety of different forms. This section of lecture will give you a little more detail about the structure of the Python language and key terminology we will be using all semester.\n",
    "\n",
    "We'll break these operations up into three categories: Operators, Functions, and Methods.\n"
   ]
  },
  {
   "cell_type": "markdown",
   "metadata": {},
   "source": [
    "### Operators\n",
    "\n",
    " Operators are symbols that perform operations on variables and values.\n",
    " \n",
    "- Arithmetic: `+`, `-`, `*`, `/`\n",
    "- Comparison: `==`, `!=`, `<`, `>`\n",
    "- Logical: `and`, `or`, `not`\n",
    "- Assignment: `=`, `+=`, `-=`"
   ]
  },
  {
   "cell_type": "markdown",
   "metadata": {},
   "source": [
    "Operators work on lists."
   ]
  },
  {
   "cell_type": "code",
   "execution_count": null,
   "metadata": {},
   "outputs": [],
   "source": [
    "# adding lists\n",
    "\n",
    "x = [1, 2, 3]\n",
    "y= [4, 5, 6]\n",
    "\n",
    "x + y\n"
   ]
  },
  {
   "cell_type": "code",
   "execution_count": null,
   "metadata": {},
   "outputs": [],
   "source": [
    "# applying * to lists\n",
    "\n",
    "x = [1, 2, 3]\n",
    "y = [4, 5, 6]\n",
    "\n",
    "# x * y\n",
    "# x * 3"
   ]
  },
  {
   "cell_type": "markdown",
   "metadata": {},
   "source": [
    "### Functions\n",
    "A function is a block of reusable code that performs a specific task. "
   ]
  },
  {
   "cell_type": "code",
   "execution_count": null,
   "metadata": {},
   "outputs": [],
   "source": [
    "# Functions have names like `print`, `input`, or `len`.\n",
    "print(\"hello\")"
   ]
  },
  {
   "cell_type": "code",
   "execution_count": null,
   "metadata": {},
   "outputs": [],
   "source": [
    "# They take zero or more inputs, which we write in \n",
    "# parentheses after the name of the function separated by commas.\n",
    "list_input = [\"list\",\"of\",\"strings\"]\n",
    "len(list_input)\n",
    "print(\"multiple\",\"inputs\")\n",
    "max(1,8,9)"
   ]
  },
  {
   "cell_type": "markdown",
   "metadata": {},
   "source": [
    "Function Structure: \n",
    "name_of_function(*argument_of_function*)\n",
    "\n",
    "The result of the function is the \"return value.\"  Aka, the len function *returns* the length of the list or string."
   ]
  },
  {
   "cell_type": "markdown",
   "metadata": {},
   "source": [
    "### Methods\n",
    "A method is a function that belongs to an object (usually a data type like a string or list) and can manipulate its data and perform actions on it. "
   ]
  },
  {
   "cell_type": "code",
   "execution_count": 7,
   "metadata": {},
   "outputs": [],
   "source": [
    "ls = [1, 2, 3, 1, 3, 5, 1, 4, 7]\n",
    "ls.count(1)"
   ]
  },
  {
   "cell_type": "markdown",
   "metadata": {},
   "source": [
    "#### Methods vs Functions\n",
    "\n",
    "Methods look a lot like functions. They have names, you call them by writing parentheses and providing them with one or more arguments and they return return values. \n",
    "\n",
    "The key aesthetic difference is that you put an object of the method *before* the function call, write a dot, and *then* do the function call. Whereas with functions you put the object after the function in paranthesis.\n",
    "\n",
    "Fundamentally, a method is just like a function, with the object serving as a special additional argument to the method.\n"
   ]
  },
  {
   "cell_type": "code",
   "execution_count": null,
   "metadata": {},
   "outputs": [],
   "source": [
    "my_list = [31,400,9]\n",
    "\n",
    "# Method call\n",
    "my_list.append(5)  # Adds 5 to the list 'my_list'\n",
    "\n",
    "# Function call\n",
    "len(my_list)  # Returns the length of 'my_list'\n"
   ]
  },
  {
   "cell_type": "markdown",
   "metadata": {},
   "source": [
    "**Key Distinction** between Methods and Functions\n",
    "* Functions will rarely change the values of their arguments.\n",
    "* Methods will rarely change the values of their arguments, but will often (but not always) change the values of their objects."
   ]
  },
  {
   "cell_type": "code",
   "execution_count": null,
   "metadata": {},
   "outputs": [],
   "source": [
    "# Method call\n",
    "my_list.append(5)  # Adds 5 to the list 'my_list'\n",
    "\n",
    "print(my_list)"
   ]
  },
  {
   "cell_type": "code",
   "execution_count": null,
   "metadata": {},
   "outputs": [],
   "source": [
    "# Sorted function doesn't change list values\n",
    "print(\"function result:\",sorted(my_list))\n",
    "print(\"my_list after function:\",my_list)"
   ]
  },
  {
   "cell_type": "code",
   "execution_count": null,
   "metadata": {},
   "outputs": [],
   "source": [
    "# Sort method does change list values\n",
    "print(\"method result:\",my_list.sort())\n",
    "print(\"my_list after method:\",my_list)"
   ]
  },
  {
   "cell_type": "markdown",
   "metadata": {},
   "source": [
    "# Key List Functions and Methods"
   ]
  },
  {
   "cell_type": "code",
   "execution_count": null,
   "metadata": {},
   "outputs": [],
   "source": [
    "# in, not in\n",
    "# also demo with strings"
   ]
  },
  {
   "cell_type": "code",
   "execution_count": null,
   "metadata": {},
   "outputs": [],
   "source": [
    "# append <- IMPORTANT\n",
    "# often build lists one item at a time"
   ]
  },
  {
   "cell_type": "code",
   "execution_count": 28,
   "metadata": {},
   "outputs": [],
   "source": [
    "# use a while-loop to build a list that contains the first 20 perfect squares"
   ]
  },
  {
   "cell_type": "code",
   "execution_count": null,
   "metadata": {},
   "outputs": [],
   "source": [
    "# min and max (show method and function)\n",
    "# string and integer, string and list\n"
   ]
  },
  {
   "cell_type": "code",
   "execution_count": null,
   "metadata": {},
   "outputs": [],
   "source": [
    "# revisit sort and sorted\n",
    "# numbers and strings (capital letters > lowercase)"
   ]
  },
  {
   "cell_type": "markdown",
   "metadata": {},
   "source": [
    "# Some Important String-Specific Operations\n",
    "\n",
    "In addition to many of the list machinery we already know, there are some special string-specific operations.\n",
    "\n",
    "Notice that these are unusual methods in that they return a new string, instead of altering the existing one. This is true for all string methods, since strings are immutable."
   ]
  },
  {
   "cell_type": "markdown",
   "metadata": {},
   "source": [
    "### Some Boolean Tests\n",
    "* There are two methods that allow us to examine the structure of strings.\n",
    "* The `s.startswith('t')` method allows you to check whether the string `s` starts with the string `t`. This produces a boolean value. It's case sensitive."
   ]
  },
  {
   "cell_type": "code",
   "execution_count": null,
   "metadata": {},
   "outputs": [],
   "source": [
    "# startswith, endswith"
   ]
  },
  {
   "cell_type": "markdown",
   "metadata": {},
   "source": [
    "### Find and Replace"
   ]
  },
  {
   "cell_type": "code",
   "execution_count": null,
   "metadata": {},
   "outputs": [],
   "source": [
    "# s.replace(find, replace)"
   ]
  },
  {
   "cell_type": "markdown",
   "metadata": {},
   "source": [
    "What if we want to make two `replace()` to the same string, one-at-a-time?\n",
    "\n",
    "*Hamilton reference: Start with `s = \"Thomas Jefferson's coming home\"`. Use two `.replace()` calls to switch this to `\"George Washington's going home\"`*"
   ]
  },
  {
   "cell_type": "code",
   "execution_count": null,
   "metadata": {},
   "outputs": [],
   "source": [
    "# demo and demo chaining\n",
    "# "
   ]
  },
  {
   "cell_type": "markdown",
   "metadata": {},
   "source": [
    "When chaining, you need to resolve the first call and think of it as a string. Look past the method syntax and realize that what you're looking at is a fully fledged string, including all of the methods that go with strings."
   ]
  },
  {
   "cell_type": "code",
   "execution_count": null,
   "metadata": {},
   "outputs": [],
   "source": [
    "# joining and splitting - where lists combine"
   ]
  },
  {
   "cell_type": "markdown",
   "metadata": {},
   "source": [
    "## Joining and splitting\n",
    "  * This is a place where strings and lists combine.\n",
    "  * It's pretty common for you to end up in one of two situations:\n",
    "    1. You have a list of strings that you want to combine into a single string. For example, you have a list of names and you want to insert commas between them. This uses a method called `join`\n",
    "    2. You have a single string and you want to split it along some pattern into a list of strings. This is the reverse of what we just discussed. This uses a method called `split`"
   ]
  },
  {
   "cell_type": "markdown",
   "metadata": {},
   "source": [
    "#### Join\n",
    "The `.join()` method may seem a bit backward at first. It's a method of a string, and the string itself is what you want between every single pair of items in a list.\n"
   ]
  },
  {
   "cell_type": "code",
   "execution_count": null,
   "metadata": {},
   "outputs": [],
   "source": [
    "# Example 1: Using \", \" to join elements in a list\n",
    "print(\", \".join([\"Butcher\", \"Baker\", \"Candlestick maker\"]))"
   ]
  },
  {
   "cell_type": "code",
   "execution_count": null,
   "metadata": {},
   "outputs": [],
   "source": [
    "# Example 2: Using a space \" \" to join elements in a list\n",
    "print(\" \".join([\"eggs\", \"bread\", \"lettuce\"]))"
   ]
  },
  {
   "cell_type": "code",
   "execution_count": null,
   "metadata": {},
   "outputs": [],
   "source": [
    "# Example 3: Using \"wood\" to join elements in a list\n",
    "print(\"wood\".join([\"how much \", \" would a \", \"chuck chuck, if a \", \"chuck, could chuck \"]))\n",
    "\n",
    "## Notice the final \"wood\" doesn't appear at the end, because .join() places the string only between items, not at the ends."
   ]
  },
  {
   "cell_type": "markdown",
   "metadata": {},
   "source": [
    "#### Split\n",
    "The `.split()` method is essentially the reverse of .join(). It breaks up a string based on a delimiter and returns a list of the parts.\n",
    "\n"
   ]
  },
  {
   "cell_type": "code",
   "execution_count": null,
   "metadata": {},
   "outputs": [],
   "source": [
    "# Example 1: Splitting by space\n",
    "print(\"Georgetown University Law Center\".split(\" \"))"
   ]
  },
  {
   "cell_type": "code",
   "execution_count": null,
   "metadata": {},
   "outputs": [],
   "source": [
    "# Example 2: Splitting on any whitespace without an argument\n",
    "print(\"Georgetown    University  Law  Center\".split())  # Note the extra white space"
   ]
  },
  {
   "cell_type": "code",
   "execution_count": null,
   "metadata": {},
   "outputs": [],
   "source": [
    "# Example 3: What happens with extra spaces when split by a single space\n",
    "print(\"Georgetown    University  Law  Center\".split(\" \"))  # Notice the empty string results"
   ]
  },
  {
   "cell_type": "code",
   "execution_count": null,
   "metadata": {},
   "outputs": [],
   "source": [
    "# Example 4: Splitting by a specific character\n",
    "print(\"Georgetown University Law Center\".split(\"e\"))"
   ]
  },
  {
   "cell_type": "markdown",
   "metadata": {},
   "source": [
    "## F-strings\n",
    "F-strings are a powerful and convenient way to format strings in Python. Instead of concatenating strings manually or using format(), you can use f-strings."
   ]
  },
  {
   "cell_type": "code",
   "execution_count": null,
   "metadata": {},
   "outputs": [],
   "source": [
    "name = \"John\"\n",
    "age = 30\n",
    "city = \"New York\"\n",
    "\n",
    "# Previously\n",
    "print(\"My name is \" + name + \", I am \" + str(age) + \" years old, and I live in \" + city + \".\")"
   ]
  },
  {
   "cell_type": "code",
   "execution_count": null,
   "metadata": {},
   "outputs": [],
   "source": [
    "# with F-strings\n",
    "print(f\"My name is {name}, I am {age} years old, and I live in {city}.\")"
   ]
  },
  {
   "cell_type": "code",
   "execution_count": null,
   "metadata": {},
   "outputs": [],
   "source": [
    "# Using expressions inside f-strings\n",
    "print(f\"In 10 years, {name} will be {age + 10} years old.\")"
   ]
  }
 ],
 "metadata": {
  "kernelspec": {
   "display_name": "Python 3",
   "language": "python",
   "name": "python3"
  },
  "language_info": {
   "codemirror_mode": {
    "name": "ipython",
    "version": 3
   },
   "file_extension": ".py",
   "mimetype": "text/x-python",
   "name": "python",
   "nbconvert_exporter": "python",
   "pygments_lexer": "ipython3",
   "version": "3.12.1"
  }
 },
 "nbformat": 4,
 "nbformat_minor": 2
}
