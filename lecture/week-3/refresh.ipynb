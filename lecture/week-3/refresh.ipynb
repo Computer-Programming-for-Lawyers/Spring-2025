{
 "cells": [
  {
   "cell_type": "markdown",
   "metadata": {},
   "source": [
    "input is requested when line shows up"
   ]
  },
  {
   "cell_type": "code",
   "execution_count": 1,
   "metadata": {},
   "outputs": [],
   "source": [
    "username = input(\"Username:\")\n",
    "password = input(\"Password:\")\n",
    "\n",
    "correct_username = False\n",
    "correct_password = False\n",
    "\n",
    "if username == \"hummingbird\":\n",
    "    correct_username = True\n",
    "    if len(username) < 10:\n",
    "        print(\"Your username no longer meets length criteria\")\n"
   ]
  },
  {
   "cell_type": "markdown",
   "metadata": {},
   "source": [
    "if/elif/else"
   ]
  },
  {
   "cell_type": "code",
   "execution_count": null,
   "metadata": {},
   "outputs": [],
   "source": [
    "indv_income = int(input(\"What's your income?\"))\n",
    "STD_DEDUCTION = 12400\n",
    "\n",
    "adj_income = indv_income - STD_DEDUCTION\n",
    "\n",
    "if adj_income < 9875:\n",
    "    rate = 10\n",
    "elif adj_income < 40125:\n",
    "    rate = 12\n",
    "elif adj_income < 85525:\n",
    "    rate = 22\n",
    "elif adj_income < 163300:\n",
    "    rate = 24\n",
    "elif adj_income < 207350:\n",
    "    rate = 32\n",
    "elif adj_income < 518400:\n",
    "    rate = 35\n",
    "else:\n",
    "    rate = 37"
   ]
  },
  {
   "cell_type": "code",
   "execution_count": null,
   "metadata": {},
   "outputs": [],
   "source": [
    "if adj_income < 9875:\n",
    "    rate = 10\n",
    "\n",
    "if (9875 >= adj_income) and (adj_income < 40125):\n",
    "    rate = 12"
   ]
  }
 ],
 "metadata": {
  "kernelspec": {
   "display_name": "Python 3",
   "language": "python",
   "name": "python3"
  },
  "language_info": {
   "codemirror_mode": {
    "name": "ipython",
    "version": 3
   },
   "file_extension": ".py",
   "mimetype": "text/x-python",
   "name": "python",
   "nbconvert_exporter": "python",
   "pygments_lexer": "ipython3",
   "version": "3.12.1"
  }
 },
 "nbformat": 4,
 "nbformat_minor": 2
}
