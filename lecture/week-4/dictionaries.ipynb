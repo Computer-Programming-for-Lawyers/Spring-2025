{
 "cells": [
  {
   "cell_type": "markdown",
   "metadata": {},
   "source": [
    "# Week 4 Lecture Notebook: Dictionaries\n",
    "\n",
    "We've spent the better part of two lectures talking about lists.Lists are a way of storing collections of values. But they're only one way of doing so.\n",
    "\n",
    "Lists impose some very specific constraints on how we store data.\n",
    "  * Lists keep track of data based on the order in which they are stored. All of the operations we know for modifying lists are all about order: indices to access list elements by positions, append to add items to the end of the list, insert to add items in other positions. Order is everything.\n",
    "\n",
    "But Python provides us with another way to store data. This is the datastructure we'll discuss for a little while now and a lot more time next week.\n",
    "  * This alternative is known as a *dictionary*\n",
    "  * A dictionary is actually a great name for what it does.\n",
    "    * In ordinary English, a dictionary matches each word to a definition. If you want to know what a word means, you look it up in the dictionary and you find the corresponding definition.\n",
    "    * And with an English dictionary, you can’t find a word by a definition. The dictionary is **indexed** by words, not the other way around.\n",
    "    * In python, we would call the words *keys*, and the definitions *values*.\n",
    "    * Importantly, each key can only have one value. You can't have a word with multiple definitions in a Python dictionary.\n",
    "    * Dictionaries are not ordered. It doesn't matter what order the keys and values were stored in."
   ]
  },
  {
   "cell_type": "markdown",
   "metadata": {},
   "source": [
    "## Examples: Key : Value\n",
    "  * Gradebook: student id numbers and grades\n",
    "    * key: student id numbers\n",
    "    * values: grades\n",
    "  * Different Gradebook: for a given student, names of assignments and grades\n",
    "    * key: IDs of assignment\n",
    "    * values: grades\n",
    "  * Google search engine: if user enters a given search query, return a particular list of relevant web pages\n",
    "    * key: search query\n",
    "    * values: relevant web pages"
   ]
  },
  {
   "cell_type": "markdown",
   "metadata": {},
   "source": [
    "Write a dictionary with curly brackets\n"
   ]
  },
  {
   "cell_type": "code",
   "execution_count": 2,
   "metadata": {},
   "outputs": [],
   "source": [
    "{} # empty dict\n",
    "person = {'fname': 'Paul', 'lname': 'Ohm', 'title': 'professor', 'age': 47}"
   ]
  },
  {
   "cell_type": "markdown",
   "metadata": {},
   "source": [
    "Notice that the `keys` are strings here. You can use any of the value types for this (ints, floats, booleans). But you should only ever use strings.\n",
    "\n",
    "Notice that the `values` have different types. Last week we said that lists should only store data of one type. That rule is often true for many dictionaries too. Many dictionaries store date of one type. But it's not a hard-and-fast rule for dictionaries. "
   ]
  },
  {
   "cell_type": "markdown",
   "metadata": {},
   "source": [
    "### Accessing Dictionary Values\n",
    "\n",
    "Create a dictionary with curly brackets `{}`, but access items with square brackets `[]`"
   ]
  },
  {
   "cell_type": "code",
   "execution_count": 3,
   "metadata": {},
   "outputs": [
    {
     "data": {
      "text/plain": [
       "'Paul'"
      ]
     },
     "execution_count": 3,
     "metadata": {},
     "output_type": "execute_result"
    }
   ],
   "source": [
    "person['fname'] # key has to be in quotes"
   ]
  },
  {
   "cell_type": "code",
   "execution_count": 4,
   "metadata": {},
   "outputs": [
    {
     "ename": "KeyError",
     "evalue": "'height'",
     "output_type": "error",
     "traceback": [
      "\u001b[0;31m---------------------------------------------------------------------------\u001b[0m",
      "\u001b[0;31mKeyError\u001b[0m                                  Traceback (most recent call last)",
      "Cell \u001b[0;32mIn[4], line 1\u001b[0m\n\u001b[0;32m----> 1\u001b[0m \u001b[43mperson\u001b[49m\u001b[43m[\u001b[49m\u001b[38;5;124;43m'\u001b[39;49m\u001b[38;5;124;43mheight\u001b[39;49m\u001b[38;5;124;43m'\u001b[39;49m\u001b[43m]\u001b[49m \u001b[38;5;66;03m# search for key that doesn't exist\u001b[39;00m\n",
      "\u001b[0;31mKeyError\u001b[0m: 'height'"
     ]
    }
   ],
   "source": [
    "person['height'] # search for key that doesn't exist"
   ]
  },
  {
   "cell_type": "code",
   "execution_count": 7,
   "metadata": {},
   "outputs": [
    {
     "data": {
      "text/plain": [
       "False"
      ]
     },
     "execution_count": 7,
     "metadata": {},
     "output_type": "execute_result"
    }
   ],
   "source": [
    "# check if key in dictionary\n",
    "'fname' in person\n",
    "\n",
    "#false\n",
    "'height' in person\n",
    "\n",
    "# searches by values not by keys\n",
    "'Paul' in person"
   ]
  },
  {
   "cell_type": "markdown",
   "metadata": {},
   "source": [
    "You can put the dictionary to the right of in in a for loop, and it will treat the keys (not the values) as a list."
   ]
  },
  {
   "cell_type": "code",
   "execution_count": 9,
   "metadata": {},
   "outputs": [
    {
     "name": "stdout",
     "output_type": "stream",
     "text": [
      "fname Paul\n",
      "lname Ohm\n",
      "title professor\n",
      "age 47\n"
     ]
    }
   ],
   "source": [
    "for k in person:\n",
    "\tprint(k, person[k])"
   ]
  },
  {
   "cell_type": "markdown",
   "metadata": {},
   "source": [
    "You can iterate over values using the dict.values() method."
   ]
  },
  {
   "cell_type": "code",
   "execution_count": 10,
   "metadata": {},
   "outputs": [
    {
     "name": "stdout",
     "output_type": "stream",
     "text": [
      "Paul\n",
      "Ohm\n",
      "professor\n",
      "47\n"
     ]
    }
   ],
   "source": [
    "for v in person.values():\n",
    "    print(v)"
   ]
  },
  {
   "cell_type": "code",
   "execution_count": 14,
   "metadata": {},
   "outputs": [
    {
     "name": "stdout",
     "output_type": "stream",
     "text": [
      "age 47\n",
      "fname Paul\n",
      "lname Ohm\n",
      "title professor\n"
     ]
    }
   ],
   "source": [
    "# There is a .keys method, but not necesarry\n",
    "for k in (sorted(person.keys())):\n",
    "\tprint(k, person[k])\n",
    "\t"
   ]
  },
  {
   "cell_type": "markdown",
   "metadata": {},
   "source": [
    "You can add to a dictionary by adding a new key/value pair via `dict[key]=value`"
   ]
  },
  {
   "cell_type": "code",
   "execution_count": 16,
   "metadata": {},
   "outputs": [
    {
     "name": "stdout",
     "output_type": "stream",
     "text": [
      "Original: {'fname': 'Paul', 'lname': 'Ohm', 'title': 'professor', 'age': 47, 'height': 8}\n",
      "New: {'fname': 'Paul', 'lname': 'Ohm', 'title': 'professor', 'age': 47, 'height': 10}\n"
     ]
    }
   ],
   "source": [
    "print(\"Original:\",person)\n",
    "\n",
    "## add a new key/value pair\n",
    "person[\"height\"]=8\n",
    "# can't have multiple keys of same value (overwrites height)\n",
    "person[\"height\"]=10\n",
    "\n",
    "print(\"New:\",person)"
   ]
  },
  {
   "cell_type": "markdown",
   "metadata": {},
   "source": [
    "`keys()` and `values()` methods don't return lists - just something list-like (just like range). You may have to cast it to a list in some situations."
   ]
  },
  {
   "cell_type": "code",
   "execution_count": 23,
   "metadata": {},
   "outputs": [
    {
     "data": {
      "text/plain": [
       "['Paul', 'Ohm', 'professor', 47, 10]"
      ]
     },
     "execution_count": 23,
     "metadata": {},
     "output_type": "execute_result"
    }
   ],
   "source": [
    "list(range(5))\n",
    "list(person.values())"
   ]
  },
  {
   "cell_type": "markdown",
   "metadata": {},
   "source": [
    "## Activity: Build a Contraction Expander\n",
    "\n",
    "Goals:\n",
    "* Expand contractions: can't -> cannot; don't -> do not, etc. \n",
    "* In our next problem set, you'll create a spellchecker using a words_list.txt file as the source of truth for properly spelled words. That list doesn't contain any contractions.\n",
    "* In theory, we don't want our spellchecker flagging contractions as misspellings.\n",
    "\n",
    "Let's build a contraction expander: When you identify a word with an apostrophe, implement a rule set that will expand the contraction into their words (e.g. any n't is probably not).\n",
    "\n",
    "To assist in our work, we'll use a dictionary of contractions [posted online here](https://gist.github.com/nealrs/96342d8231b75cf4bb82)."
   ]
  },
  {
   "cell_type": "code",
   "execution_count": 24,
   "metadata": {},
   "outputs": [],
   "source": [
    "contraction_dict = {\n",
    "  \"ain't\": \"am not\",\n",
    "  \"aren't\": \"are not\",\n",
    "  \"can't\": \"cannot\",\n",
    "  \"can't've\": \"cannot have\",\n",
    "  \"'cause\": \"because\",\n",
    "  \"could've\": \"could have\",\n",
    "  \"couldn't\": \"could not\",\n",
    "  \"couldn't've\": \"could not have\",\n",
    "  \"didn't\": \"did not\",\n",
    "  \"doesn't\": \"does not\",\n",
    "  \"don't\": \"do not\",\n",
    "  \"hadn't\": \"had not\",\n",
    "  \"hadn't've\": \"had not have\",\n",
    "  \"hasn't\": \"has not\",\n",
    "  \"haven't\": \"have not\",\n",
    "  \"he'd\": \"he would\",\n",
    "  \"he'd've\": \"he would have\",\n",
    "  \"he'll\": \"he will\",\n",
    "  \"he'll've\": \"he will have\",\n",
    "  \"he's\": \"he is\",\n",
    "  \"how'd\": \"how did\",\n",
    "  \"how'd'y\": \"how do you\",\n",
    "  \"how'll\": \"how will\",\n",
    "  \"how's\": \"how is\",\n",
    "  \"I'd\": \"I would\",\n",
    "  \"I'd've\": \"I would have\",\n",
    "  \"I'll\": \"I will\",\n",
    "  \"I'll've\": \"I will have\",\n",
    "  \"I'm\": \"I am\",\n",
    "  \"I've\": \"I have\",\n",
    "  \"isn't\": \"is not\",\n",
    "  \"it'd\": \"it had\",\n",
    "  \"it'd've\": \"it would have\",\n",
    "  \"it'll\": \"it will\",\n",
    "  \"it'll've\": \"it will have\",\n",
    "  \"it's\": \"it is\",\n",
    "  \"let's\": \"let us\",\n",
    "  \"ma'am\": \"madam\",\n",
    "  \"mayn't\": \"may not\",\n",
    "  \"might've\": \"might have\",\n",
    "  \"mightn't\": \"might not\",\n",
    "  \"mightn't've\": \"might not have\",\n",
    "  \"must've\": \"must have\",\n",
    "  \"mustn't\": \"must not\",\n",
    "  \"mustn't've\": \"must not have\",\n",
    "  \"needn't\": \"need not\",\n",
    "  \"needn't've\": \"need not have\",\n",
    "  \"o'clock\": \"of the clock\",\n",
    "  \"oughtn't\": \"ought not\",\n",
    "  \"oughtn't've\": \"ought not have\",\n",
    "  \"shan't\": \"shall not\",\n",
    "  \"sha'n't\": \"shall not\",\n",
    "  \"shan't've\": \"shall not have\",\n",
    "  \"she'd\": \"she would\",\n",
    "  \"she'd've\": \"she would have\",\n",
    "  \"she'll\": \"she will\",\n",
    "  \"she'll've\": \"she will have\",\n",
    "  \"she's\": \"she is\",\n",
    "  \"should've\": \"should have\",\n",
    "  \"shouldn't\": \"should not\",\n",
    "  \"shouldn't've\": \"should not have\",\n",
    "  \"so've\": \"so have\",\n",
    "  \"so's\": \"so is\",\n",
    "  \"that'd\": \"that would\",\n",
    "  \"that'd've\": \"that would have\",\n",
    "  \"that's\": \"that is\",\n",
    "  \"there'd\": \"there had\",\n",
    "  \"there'd've\": \"there would have\",\n",
    "  \"there's\": \"there is\",\n",
    "  \"they'd\": \"they would\",\n",
    "  \"they'd've\": \"they would have\",\n",
    "  \"they'll\": \"they will\",\n",
    "  \"they'll've\": \"they will have\",\n",
    "  \"they're\": \"they are\",\n",
    "  \"they've\": \"they have\",\n",
    "  \"to've\": \"to have\",\n",
    "  \"wasn't\": \"was not\",\n",
    "  \"we'd\": \"we had\",\n",
    "  \"we'd've\": \"we would have\",\n",
    "  \"we'll\": \"we will\",\n",
    "  \"we'll've\": \"we will have\",\n",
    "  \"we're\": \"we are\",\n",
    "  \"we've\": \"we have\",\n",
    "  \"weren't\": \"were not\",\n",
    "  \"what'll\": \"what will\",\n",
    "  \"what'll've\": \"what will have\",\n",
    "  \"what're\": \"what are\",\n",
    "  \"what's\": \"what is\",\n",
    "  \"what've\": \"what have\",\n",
    "  \"when's\": \"when is\",\n",
    "  \"when've\": \"when have\",\n",
    "  \"where'd\": \"where did\",\n",
    "  \"where's\": \"where is\",\n",
    "  \"where've\": \"where have\",\n",
    "  \"who'll\": \"who will\",\n",
    "  \"who'll've\": \"who will have\",\n",
    "  \"who's\": \"who is\",\n",
    "  \"who've\": \"who have\",\n",
    "  \"why's\": \"why is\",\n",
    "  \"why've\": \"why have\",\n",
    "  \"will've\": \"will have\",\n",
    "  \"won't\": \"will not\",\n",
    "  \"won't've\": \"will not have\",\n",
    "  \"would've\": \"would have\",\n",
    "  \"wouldn't\": \"would not\",\n",
    "  \"wouldn't've\": \"would not have\",\n",
    "  \"y'all\": \"you all\",\n",
    "  \"y'alls\": \"you alls\",\n",
    "  \"y'all'd\": \"you all would\",\n",
    "  \"y'all'd've\": \"you all would have\",\n",
    "  \"y'all're\": \"you all are\",\n",
    "  \"y'all've\": \"you all have\",\n",
    "  \"you'd\": \"you had\",\n",
    "  \"you'd've\": \"you would have\",\n",
    "  \"you'll\": \"you you will\",\n",
    "  \"you'll've\": \"you you will have\",\n",
    "  \"you're\": \"you are\",\n",
    "  \"you've\": \"you have\"\n",
    "}"
   ]
  },
  {
   "cell_type": "code",
   "execution_count": 25,
   "metadata": {},
   "outputs": [
    {
     "data": {
      "text/plain": [
       "'am not'"
      ]
     },
     "execution_count": 25,
     "metadata": {},
     "output_type": "execute_result"
    }
   ],
   "source": [
    "contraction_dict[\"ain't\"]"
   ]
  },
  {
   "cell_type": "code",
   "execution_count": 27,
   "metadata": {},
   "outputs": [],
   "source": [
    "# expand all contractions in alice.txt\n",
    "# print original contraction and expanded version\n",
    "# hint: check if the word is in contraction dict\n",
    "\n",
    "words = open('exercises/alice.txt').read().split() "
   ]
  },
  {
   "cell_type": "code",
   "execution_count": 33,
   "metadata": {},
   "outputs": [
    {
     "name": "stdout",
     "output_type": "stream",
     "text": [
      "it is\n",
      "does not\n",
      "do not\n",
      "is not\n",
      "was not\n",
      "was not\n",
      "did not\n",
      "they have\n",
      "was not\n",
      "would not\n",
      "should not\n",
      "does not\n",
      "of the clock\n",
      "that is\n",
      "do not\n",
      "have not\n",
      "would not\n",
      "do not\n",
      "will not\n",
      "he would\n",
      "of the clock\n",
      "you had\n",
      "should not\n",
      "you are\n",
      "I would\n",
      "will not\n",
      "of the clock\n",
      "that is\n",
      "we have\n",
      "do not\n",
      "was not\n",
      "you you will\n",
      "it is\n",
      "could not\n",
      "cannot\n",
      "cannot\n",
      "cannot\n",
      "you had\n",
      "will not\n",
      "do not\n",
      "should not\n",
      "I will\n",
      "I will\n"
     ]
    }
   ],
   "source": [
    "for word in words:\n",
    "    # if \"'\" in word: # not necesarry\n",
    "        if word in contraction_dict:\n",
    "            print(contraction_dict[word])"
   ]
  },
  {
   "cell_type": "code",
   "execution_count": null,
   "metadata": {},
   "outputs": [],
   "source": []
  }
 ],
 "metadata": {
  "kernelspec": {
   "display_name": "Python 3",
   "language": "python",
   "name": "python3"
  },
  "language_info": {
   "codemirror_mode": {
    "name": "ipython",
    "version": 3
   },
   "file_extension": ".py",
   "mimetype": "text/x-python",
   "name": "python",
   "nbconvert_exporter": "python",
   "pygments_lexer": "ipython3",
   "version": "3.12.1"
  }
 },
 "nbformat": 4,
 "nbformat_minor": 2
}
