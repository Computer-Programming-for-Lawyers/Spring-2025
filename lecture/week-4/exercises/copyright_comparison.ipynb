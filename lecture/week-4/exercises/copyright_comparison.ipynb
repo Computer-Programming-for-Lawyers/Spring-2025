{
 "cells": [
  {
   "cell_type": "code",
   "execution_count": null,
   "metadata": {},
   "outputs": [],
   "source": [
    "### Solution A ###\n",
    "\n",
    "if 2003 <= year:\n",
    "  # do something\n",
    "\n",
    "if 1990 <= year < 2003:\n",
    "  # do something\n",
    "\n",
    "if 1978 <= year < 1990:\n",
    "  # do something\n",
    "\n",
    "if 1964 <= year < 1978:\n",
    "  # do something\n",
    "\n",
    "if year < 1964:\n",
    "  # do something"
   ]
  },
  {
   "cell_type": "code",
   "execution_count": null,
   "metadata": {},
   "outputs": [],
   "source": [
    "### Solution B ###\n",
    "\n",
    "if 2003 <= year:\n",
    "  # do something\n",
    "\n",
    "elif 1990 <= year:\n",
    "  # do something\n",
    "\n",
    "elif 1978 <= year:\n",
    "  # do something\n",
    "\n",
    "elif 1964 <= year:\n",
    "  # do something\n",
    "\n",
    "else:\n",
    "  # do something"
   ]
  },
  {
   "cell_type": "code",
   "execution_count": 1,
   "metadata": {},
   "outputs": [],
   "source": [
    "### EXAMPLE A ###\n",
    "while True:\n",
    "    Year = int(input(\"In what year was the work published?\"))\n",
    "    if Year >= 1922:\n",
    "        print(\"broke out of loop\")\n",
    "        break\n",
    "    elif Year < 1922: #elif not necesarry here - why is that?\n",
    "        print(\"The year input must be a number greater than 1922.\")"
   ]
  },
  {
   "cell_type": "code",
   "execution_count": 5,
   "metadata": {},
   "outputs": [
    {
     "name": "stdout",
     "output_type": "stream",
     "text": [
      "The year input must be a number greater than 1922.\n",
      "The year input must be a number greater than 1922.\n",
      "The year input must be a number greater than 1922.\n",
      "The year input must be a number greater than 1922.\n",
      "Successful input, move on with code here.\n"
     ]
    }
   ],
   "source": [
    "### EXAMPLE B ###\n",
    "year = int(input(\"In what year was the work published?\"))\n",
    "\n",
    "while year < 1922:\n",
    "        print(\"The year input must be a number greater than 1922.\")\n",
    "        year = int(input(\"In what year was the work published?\"))\n",
    "\n",
    "print(\"Successful input, move on with code.\")"
   ]
  },
  {
   "cell_type": "code",
   "execution_count": 2,
   "metadata": {},
   "outputs": [
    {
     "name": "stdout",
     "output_type": "stream",
     "text": [
      "2000\n",
      "1900\n",
      "1922\n"
     ]
    }
   ],
   "source": [
    "### EXAMPLE B ###\n",
    "# year = int(input(\"In what year was the work published?\"))\n",
    "years = [2000,1900,1922]\n",
    "year = years[0]\n",
    "\n",
    "while year != 1922:\n",
    "    for year in years:\n",
    "        print(year)\n",
    "\n",
    "# print(\"Successful input, move on with code.\")\n",
    "# print(\"All inputs:\",years)"
   ]
  }
 ],
 "metadata": {
  "kernelspec": {
   "display_name": "Python 3",
   "language": "python",
   "name": "python3"
  },
  "language_info": {
   "codemirror_mode": {
    "name": "ipython",
    "version": 3
   },
   "file_extension": ".py",
   "mimetype": "text/x-python",
   "name": "python",
   "nbconvert_exporter": "python",
   "pygments_lexer": "ipython3",
   "version": "3.12.1"
  }
 },
 "nbformat": 4,
 "nbformat_minor": 2
}
