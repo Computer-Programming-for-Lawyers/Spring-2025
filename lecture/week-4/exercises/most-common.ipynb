{
 "cells": [
  {
   "cell_type": "markdown",
   "metadata": {},
   "source": [
    "### Activity: Given a text file full of prose, find the most common word.\n",
    "If two or more words are tied for most common, print all of them"
   ]
  },
  {
   "cell_type": "code",
   "execution_count": 8,
   "metadata": {},
   "outputs": [
    {
     "data": {
      "text/plain": [
       "['MR.',\n",
       " 'JUSTICE',\n",
       " 'BRANDEIS,',\n",
       " 'dissenting.',\n",
       " 'The',\n",
       " 'defendants',\n",
       " 'were',\n",
       " 'convicted',\n",
       " 'of',\n",
       " 'conspiring']"
      ]
     },
     "execution_count": 8,
     "metadata": {},
     "output_type": "execute_result"
    }
   ],
   "source": [
    "# print the number of times each word appears, using a list\n",
    "\n",
    "filename = 'brandeis.txt' #input(\"Enter filename: \")\n",
    "\n",
    "words = open(filename).read().split() # empty split breaks by whitespace\n",
    "\n",
    "words[:10] #first 10 list elements"
   ]
  },
  {
   "cell_type": "markdown",
   "metadata": {},
   "source": []
  },
  {
   "cell_type": "code",
   "execution_count": null,
   "metadata": {},
   "outputs": [],
   "source": []
  }
 ],
 "metadata": {
  "kernelspec": {
   "display_name": "Python 3",
   "language": "python",
   "name": "python3"
  },
  "language_info": {
   "codemirror_mode": {
    "name": "ipython",
    "version": 3
   },
   "file_extension": ".py",
   "mimetype": "text/x-python",
   "name": "python",
   "nbconvert_exporter": "python",
   "pygments_lexer": "ipython3",
   "version": "3.10.13"
  }
 },
 "nbformat": 4,
 "nbformat_minor": 2
}
