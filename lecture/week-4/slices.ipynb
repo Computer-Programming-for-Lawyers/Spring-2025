{
 "cells": [
  {
   "cell_type": "markdown",
   "metadata": {},
   "source": [
    "# Week 4 Lecture Notebook: Slices"
   ]
  },
  {
   "cell_type": "code",
   "execution_count": 1,
   "metadata": {},
   "outputs": [],
   "source": [
    "phone = '202-123-4576'\n",
    "\n",
    "\n",
    "print(\"Index | Corresponding String Value\")\n",
    "\n",
    "for i in range(len(phone)):\n",
    "    print(i,\"|\",phone[i])"
   ]
  },
  {
   "cell_type": "code",
   "execution_count": 3,
   "metadata": {},
   "outputs": [],
   "source": [
    "# print the first three numbers\n",
    "\n",
    "phone[0:3]"
   ]
  },
  {
   "cell_type": "code",
   "execution_count": 4,
   "metadata": {},
   "outputs": [],
   "source": [
    "phone[1]"
   ]
  },
  {
   "cell_type": "markdown",
   "metadata": {},
   "source": [
    "A slice looks like indexing a string or list, except that you provide two numbers with a colon between them.\n",
    "\n",
    "The first number tells you the starting index for the slice, and the second number tells you one index after the end of the slice.\n",
    "Helpful to conceive of them not as the indexes themselves, but the spaces between the indices."
   ]
  },
  {
   "cell_type": "code",
   "execution_count": null,
   "metadata": {},
   "outputs": [],
   "source": [
    "# reconstruct full string\n",
    "phone[0:3] + phone[3:5] + phone[5:12]"
   ]
  },
  {
   "cell_type": "code",
   "execution_count": 7,
   "metadata": {},
   "outputs": [],
   "source": [
    "# write a slice to get the middle three digits\n",
    "phone[4:7]"
   ]
  },
  {
   "cell_type": "markdown",
   "metadata": {},
   "source": [
    "If the first and last index of a slice are the same, then it will be empty. If the first index is bigger than the last index, the same thing will happen."
   ]
  },
  {
   "cell_type": "code",
   "execution_count": 8,
   "metadata": {},
   "outputs": [],
   "source": [
    "phone[1:1]"
   ]
  },
  {
   "cell_type": "code",
   "execution_count": 9,
   "metadata": {},
   "outputs": [],
   "source": [
    "phone[5:4]"
   ]
  },
  {
   "cell_type": "markdown",
   "metadata": {},
   "source": [
    "Slices are very forgiving. If you set the last index to a number bigger than the length of the string, Python won't care. It will just go up to the end of the string."
   ]
  },
  {
   "cell_type": "code",
   "execution_count": 10,
   "metadata": {},
   "outputs": [],
   "source": [
    "phone[5:10000]"
   ]
  },
  {
   "cell_type": "markdown",
   "metadata": {},
   "source": [
    "If you leave out the first index, Python assumes you mean 0. You still need the colon, though, to distinguish this from normal indexing."
   ]
  },
  {
   "cell_type": "code",
   "execution_count": 11,
   "metadata": {},
   "outputs": [],
   "source": [
    "# What do you think this will output?\n",
    "phone[:3]"
   ]
  },
  {
   "cell_type": "code",
   "execution_count": 12,
   "metadata": {},
   "outputs": [],
   "source": [
    "phone[3]"
   ]
  },
  {
   "cell_type": "markdown",
   "metadata": {},
   "source": [
    "You can leave out the last index and Python will assume you mean the end of the string or list."
   ]
  },
  {
   "cell_type": "code",
   "execution_count": 13,
   "metadata": {},
   "outputs": [],
   "source": [
    "phone[8:]"
   ]
  },
  {
   "cell_type": "markdown",
   "metadata": {},
   "source": [
    "You can leave out both indices to copy the string.\n"
   ]
  },
  {
   "cell_type": "code",
   "execution_count": 14,
   "metadata": {},
   "outputs": [],
   "source": [
    "phone[:]"
   ]
  },
  {
   "cell_type": "markdown",
   "metadata": {},
   "source": [
    "If you provide a negative index, Python will count from the right."
   ]
  },
  {
   "cell_type": "code",
   "execution_count": 15,
   "metadata": {},
   "outputs": [],
   "source": [
    "phone[-4:]"
   ]
  },
  {
   "cell_type": "code",
   "execution_count": null,
   "metadata": {},
   "outputs": [],
   "source": [
    "# can perform operations within slice\n",
    "phone[3-1:5]"
   ]
  },
  {
   "cell_type": "code",
   "execution_count": 20,
   "metadata": {},
   "outputs": [],
   "source": [
    "phone.find(\"-\")"
   ]
  },
  {
   "cell_type": "code",
   "execution_count": null,
   "metadata": {},
   "outputs": [],
   "source": [
    "phone[phone.find(\"-\")+1:].find(\"-\")"
   ]
  },
  {
   "cell_type": "code",
   "execution_count": 18,
   "metadata": {},
   "outputs": [],
   "source": [
    "# print everything to the left of \"-\"\n",
    "assignment[:dash_index]"
   ]
  },
  {
   "cell_type": "code",
   "execution_count": 19,
   "metadata": {},
   "outputs": [],
   "source": [
    "# print everything to the right of \"-\"\n",
    "print(assignment[dash_index:])\n",
    "\n",
    "# not including dash\n",
    "print(assignment[dash_index+1:])\n"
   ]
  },
  {
   "cell_type": "markdown",
   "metadata": {},
   "source": [
    "## Activity\n",
    "Suppose I give you a string email that contains an email address of the form username@domain.extension, where you don't know the specific content. It could be rorey@bipartisanpolicy.org or ro361@georgetown.edu.\n",
    "\n",
    "Split this up into separate strings for the username, domain, and extension.\n"
   ]
  },
  {
   "cell_type": "code",
   "execution_count": null,
   "metadata": {},
   "outputs": [],
   "source": [
    "email = \"rorey@bipartisanpolicy.org\"\n",
    "\n",
    "username = email[:email.find(\"@\")]\n",
    "print(username)\n",
    "\n",
    "domain = email[email.find(\"@\")+1:email.find(\".\")]\n",
    "print(domain)\n",
    "\n",
    "extension = email[email.find(\".\")+1:]\n",
    "print(extension)\n",
    "\n",
    "\n",
    "# #could also use this approach\n",
    "# at_sign_index = email.find(\"@\")\n",
    "# period_index = email.find(\".\")"
   ]
  },
  {
   "cell_type": "markdown",
   "metadata": {},
   "source": [
    "## Slices for Lists: Demo\n",
    "Slice notation also works for lists."
   ]
  },
  {
   "cell_type": "code",
   "execution_count": 25,
   "metadata": {},
   "outputs": [
    {
     "data": {
      "text/plain": [
       "['John Smith',\n",
       " 'Jane Doe',\n",
       " 'Michael Johnson',\n",
       " 'Emily Davis',\n",
       " 'James Brown',\n",
       " 'Patricia Taylor',\n",
       " 'Robert Anderson',\n",
       " 'Linda Thomas',\n",
       " 'David White',\n",
       " 'Barbara Harris',\n",
       " 'Richard Clark',\n",
       " 'Elizabeth Lewis',\n",
       " 'Joseph Young',\n",
       " 'Jennifer Hall',\n",
       " 'Charles Allen',\n",
       " 'Mary King',\n",
       " 'Christopher Wright',\n",
       " 'Susan Scott',\n",
       " 'Daniel Mitchell',\n",
       " 'Margaret Roberts',\n",
       " 'Matthew Green',\n",
       " 'Karen Walker',\n",
       " 'Anthony Adams',\n",
       " 'Nancy Baker',\n",
       " 'Mark Nelson',\n",
       " 'Sarah Hill',\n",
       " 'Steven Moore',\n",
       " 'Jessica Campbell',\n",
       " 'Paul Rogers',\n",
       " 'Sandra Evans',\n",
       " 'Kenneth Phillips',\n",
       " 'Ashley Turner',\n",
       " 'Joshua Parker',\n",
       " 'Donna Collins',\n",
       " 'George Stewart',\n",
       " 'Michelle Sanchez',\n",
       " 'Edward Morris',\n",
       " 'Angela Powell',\n",
       " 'Brian Peterson',\n",
       " 'Sharon Cook',\n",
       " 'Kevin Cox',\n",
       " 'Deborah Reed',\n",
       " 'Jason Ward',\n",
       " 'Laura Howard',\n",
       " 'Jeffrey Bell',\n",
       " 'Kimberly Lee',\n",
       " 'Ryan Wood',\n",
       " 'Cynthia Cooper',\n",
       " 'Jacob Morgan',\n",
       " 'Kathleen Hughes',\n",
       " 'Nicholas Foster',\n",
       " 'Diane Richardson',\n",
       " 'Eric Kelly',\n",
       " 'Rachel Barnes',\n",
       " 'Andrew Watson',\n",
       " 'Brenda Bryant',\n",
       " 'Benjamin Russell',\n",
       " 'Catherine Diaz',\n",
       " 'Patrick Griffin',\n",
       " 'Christina Fisher',\n",
       " 'Gregory Cruz',\n",
       " 'Debra Henderson',\n",
       " 'Timothy Simmons',\n",
       " 'Rebecca Perkins',\n",
       " 'Scott Russell',\n",
       " 'Katherine Coleman',\n",
       " 'Justin Brooks',\n",
       " 'Amy Jenkins',\n",
       " 'Brandon Spencer',\n",
       " 'Ann Perry',\n",
       " 'Jonathan Long',\n",
       " 'Carolyn Carter',\n",
       " 'Stephen Wright',\n",
       " 'Rebecca Murphy',\n",
       " 'Jeremy Gray',\n",
       " 'Shirley Lopez',\n",
       " 'Sean Harris',\n",
       " 'Pamela Martinez',\n",
       " 'Patrick Wilson',\n",
       " 'Samantha Rivera',\n",
       " 'Christian Torres',\n",
       " 'Megan Ramirez',\n",
       " 'Alexander Gonzales',\n",
       " 'Kelly Bailey',\n",
       " 'Samuel Jenkins',\n",
       " 'Heather Brooks',\n",
       " 'Dylan Foster',\n",
       " 'Victoria Rodriguez',\n",
       " 'Aaron Sanders',\n",
       " 'Evelyn Morales',\n",
       " 'Tyler Peterson',\n",
       " 'Lori Cruz',\n",
       " 'Kyle Richardson',\n",
       " 'Joan Bennett',\n",
       " 'Adam James',\n",
       " 'Monica Simmons',\n",
       " 'Austin Ward',\n",
       " 'Alice Powell',\n",
       " 'Austin Rivera',\n",
       " 'Brittany Cox',\n",
       " 'Jared Brooks',\n",
       " 'Kimberly Coleman',\n",
       " 'Blake Lee',\n",
       " 'Kristen Collins',\n",
       " 'Adrian Jenkins',\n",
       " 'Tracy Edwards',\n",
       " 'Taylor Patterson',\n",
       " 'Nathaniel Howard',\n",
       " 'Chloe Murphy',\n",
       " 'Gabriel Wright',\n",
       " 'Amber Nelson',\n",
       " 'Justin Adams',\n",
       " 'Kaitlyn Harris',\n",
       " 'Jordan Rivera',\n",
       " 'Sophie Bennett',\n",
       " 'Zachary Wood']"
      ]
     },
     "execution_count": 25,
     "metadata": {},
     "output_type": "execute_result"
    }
   ],
   "source": [
    "# names of people who signed a ballot intiaitive\n",
    "names = open('names_list.txt').read().split(\"\\n\")\n",
    "names"
   ]
  },
  {
   "cell_type": "code",
   "execution_count": null,
   "metadata": {},
   "outputs": [
    {
     "data": {
      "text/plain": [
       "str"
      ]
     },
     "execution_count": 28,
     "metadata": {},
     "output_type": "execute_result"
    }
   ],
   "source": [
    "# investigate names: data type? length?\n",
    "\n",
    "len(names)\n",
    "type(names)\n",
    "type(names[0])"
   ]
  },
  {
   "cell_type": "code",
   "execution_count": null,
   "metadata": {},
   "outputs": [],
   "source": [
    "# print the name and the two names that come after the name"
   ]
  },
  {
   "cell_type": "code",
   "execution_count": 32,
   "metadata": {},
   "outputs": [
    {
     "name": "stdout",
     "output_type": "stream",
     "text": [
      "John Smith\n",
      "the two names that follow this name are: ['Jane Doe', 'Michael Johnson']\n",
      "Jane Doe\n",
      "the two names that follow this name are: ['Michael Johnson', 'Emily Davis']\n",
      "Michael Johnson\n",
      "the two names that follow this name are: ['Emily Davis', 'James Brown']\n",
      "Emily Davis\n",
      "the two names that follow this name are: ['James Brown', 'Patricia Taylor']\n",
      "James Brown\n",
      "the two names that follow this name are: ['Patricia Taylor', 'Robert Anderson']\n",
      "Patricia Taylor\n",
      "the two names that follow this name are: ['Robert Anderson', 'Linda Thomas']\n",
      "Robert Anderson\n",
      "the two names that follow this name are: ['Linda Thomas', 'David White']\n",
      "Linda Thomas\n",
      "the two names that follow this name are: ['David White', 'Barbara Harris']\n",
      "David White\n",
      "the two names that follow this name are: ['Barbara Harris', 'Richard Clark']\n",
      "Barbara Harris\n",
      "the two names that follow this name are: ['Richard Clark', 'Elizabeth Lewis']\n",
      "Richard Clark\n",
      "the two names that follow this name are: ['Elizabeth Lewis', 'Joseph Young']\n",
      "Elizabeth Lewis\n",
      "the two names that follow this name are: ['Joseph Young', 'Jennifer Hall']\n",
      "Joseph Young\n",
      "the two names that follow this name are: ['Jennifer Hall', 'Charles Allen']\n",
      "Jennifer Hall\n",
      "the two names that follow this name are: ['Charles Allen', 'Mary King']\n",
      "Charles Allen\n",
      "the two names that follow this name are: ['Mary King', 'Christopher Wright']\n",
      "Mary King\n",
      "the two names that follow this name are: ['Christopher Wright', 'Susan Scott']\n",
      "Christopher Wright\n",
      "the two names that follow this name are: ['Susan Scott', 'Daniel Mitchell']\n",
      "Susan Scott\n",
      "the two names that follow this name are: ['Daniel Mitchell', 'Margaret Roberts']\n",
      "Daniel Mitchell\n",
      "the two names that follow this name are: ['Margaret Roberts', 'Matthew Green']\n",
      "Margaret Roberts\n",
      "the two names that follow this name are: ['Matthew Green', 'Karen Walker']\n",
      "Matthew Green\n",
      "the two names that follow this name are: ['Karen Walker', 'Anthony Adams']\n",
      "Karen Walker\n",
      "the two names that follow this name are: ['Anthony Adams', 'Nancy Baker']\n",
      "Anthony Adams\n",
      "the two names that follow this name are: ['Nancy Baker', 'Mark Nelson']\n",
      "Nancy Baker\n",
      "the two names that follow this name are: ['Mark Nelson', 'Sarah Hill']\n",
      "Mark Nelson\n",
      "the two names that follow this name are: ['Sarah Hill', 'Steven Moore']\n",
      "Sarah Hill\n",
      "the two names that follow this name are: ['Steven Moore', 'Jessica Campbell']\n",
      "Steven Moore\n",
      "the two names that follow this name are: ['Jessica Campbell', 'Paul Rogers']\n",
      "Jessica Campbell\n",
      "the two names that follow this name are: ['Paul Rogers', 'Sandra Evans']\n",
      "Paul Rogers\n",
      "the two names that follow this name are: ['Sandra Evans', 'Kenneth Phillips']\n",
      "Sandra Evans\n",
      "the two names that follow this name are: ['Kenneth Phillips', 'Ashley Turner']\n",
      "Kenneth Phillips\n",
      "the two names that follow this name are: ['Ashley Turner', 'Joshua Parker']\n",
      "Ashley Turner\n",
      "the two names that follow this name are: ['Joshua Parker', 'Donna Collins']\n",
      "Joshua Parker\n",
      "the two names that follow this name are: ['Donna Collins', 'George Stewart']\n",
      "Donna Collins\n",
      "the two names that follow this name are: ['George Stewart', 'Michelle Sanchez']\n",
      "George Stewart\n",
      "the two names that follow this name are: ['Michelle Sanchez', 'Edward Morris']\n",
      "Michelle Sanchez\n",
      "the two names that follow this name are: ['Edward Morris', 'Angela Powell']\n",
      "Edward Morris\n",
      "the two names that follow this name are: ['Angela Powell', 'Brian Peterson']\n",
      "Angela Powell\n",
      "the two names that follow this name are: ['Brian Peterson', 'Sharon Cook']\n",
      "Brian Peterson\n",
      "the two names that follow this name are: ['Sharon Cook', 'Kevin Cox']\n",
      "Sharon Cook\n",
      "the two names that follow this name are: ['Kevin Cox', 'Deborah Reed']\n",
      "Kevin Cox\n",
      "the two names that follow this name are: ['Deborah Reed', 'Jason Ward']\n",
      "Deborah Reed\n",
      "the two names that follow this name are: ['Jason Ward', 'Laura Howard']\n",
      "Jason Ward\n",
      "the two names that follow this name are: ['Laura Howard', 'Jeffrey Bell']\n",
      "Laura Howard\n",
      "the two names that follow this name are: ['Jeffrey Bell', 'Kimberly Lee']\n",
      "Jeffrey Bell\n",
      "the two names that follow this name are: ['Kimberly Lee', 'Ryan Wood']\n",
      "Kimberly Lee\n",
      "the two names that follow this name are: ['Ryan Wood', 'Cynthia Cooper']\n",
      "Ryan Wood\n",
      "the two names that follow this name are: ['Cynthia Cooper', 'Jacob Morgan']\n",
      "Cynthia Cooper\n",
      "the two names that follow this name are: ['Jacob Morgan', 'Kathleen Hughes']\n",
      "Jacob Morgan\n",
      "the two names that follow this name are: ['Kathleen Hughes', 'Nicholas Foster']\n",
      "Kathleen Hughes\n",
      "the two names that follow this name are: ['Nicholas Foster', 'Diane Richardson']\n",
      "Nicholas Foster\n",
      "the two names that follow this name are: ['Diane Richardson', 'Eric Kelly']\n",
      "Diane Richardson\n",
      "the two names that follow this name are: ['Eric Kelly', 'Rachel Barnes']\n",
      "Eric Kelly\n",
      "the two names that follow this name are: ['Rachel Barnes', 'Andrew Watson']\n",
      "Rachel Barnes\n",
      "the two names that follow this name are: ['Andrew Watson', 'Brenda Bryant']\n",
      "Andrew Watson\n",
      "the two names that follow this name are: ['Brenda Bryant', 'Benjamin Russell']\n",
      "Brenda Bryant\n",
      "the two names that follow this name are: ['Benjamin Russell', 'Catherine Diaz']\n",
      "Benjamin Russell\n",
      "the two names that follow this name are: ['Catherine Diaz', 'Patrick Griffin']\n",
      "Catherine Diaz\n",
      "the two names that follow this name are: ['Patrick Griffin', 'Christina Fisher']\n",
      "Patrick Griffin\n",
      "the two names that follow this name are: ['Christina Fisher', 'Gregory Cruz']\n",
      "Christina Fisher\n",
      "the two names that follow this name are: ['Gregory Cruz', 'Debra Henderson']\n",
      "Gregory Cruz\n",
      "the two names that follow this name are: ['Debra Henderson', 'Timothy Simmons']\n",
      "Debra Henderson\n",
      "the two names that follow this name are: ['Timothy Simmons', 'Rebecca Perkins']\n",
      "Timothy Simmons\n",
      "the two names that follow this name are: ['Rebecca Perkins', 'Scott Russell']\n",
      "Rebecca Perkins\n",
      "the two names that follow this name are: ['Scott Russell', 'Katherine Coleman']\n",
      "Scott Russell\n",
      "the two names that follow this name are: ['Katherine Coleman', 'Justin Brooks']\n",
      "Katherine Coleman\n",
      "the two names that follow this name are: ['Justin Brooks', 'Amy Jenkins']\n",
      "Justin Brooks\n",
      "the two names that follow this name are: ['Amy Jenkins', 'Brandon Spencer']\n",
      "Amy Jenkins\n",
      "the two names that follow this name are: ['Brandon Spencer', 'Ann Perry']\n",
      "Brandon Spencer\n",
      "the two names that follow this name are: ['Ann Perry', 'Jonathan Long']\n",
      "Ann Perry\n",
      "the two names that follow this name are: ['Jonathan Long', 'Carolyn Carter']\n",
      "Jonathan Long\n",
      "the two names that follow this name are: ['Carolyn Carter', 'Stephen Wright']\n",
      "Carolyn Carter\n",
      "the two names that follow this name are: ['Stephen Wright', 'Rebecca Murphy']\n",
      "Stephen Wright\n",
      "the two names that follow this name are: ['Rebecca Murphy', 'Jeremy Gray']\n",
      "Rebecca Murphy\n",
      "the two names that follow this name are: ['Jeremy Gray', 'Shirley Lopez']\n",
      "Jeremy Gray\n",
      "the two names that follow this name are: ['Shirley Lopez', 'Sean Harris']\n",
      "Shirley Lopez\n",
      "the two names that follow this name are: ['Sean Harris', 'Pamela Martinez']\n",
      "Sean Harris\n",
      "the two names that follow this name are: ['Pamela Martinez', 'Patrick Wilson']\n",
      "Pamela Martinez\n",
      "the two names that follow this name are: ['Patrick Wilson', 'Samantha Rivera']\n",
      "Patrick Wilson\n",
      "the two names that follow this name are: ['Samantha Rivera', 'Christian Torres']\n",
      "Samantha Rivera\n",
      "the two names that follow this name are: ['Christian Torres', 'Megan Ramirez']\n",
      "Christian Torres\n",
      "the two names that follow this name are: ['Megan Ramirez', 'Alexander Gonzales']\n",
      "Megan Ramirez\n",
      "the two names that follow this name are: ['Alexander Gonzales', 'Kelly Bailey']\n",
      "Alexander Gonzales\n",
      "the two names that follow this name are: ['Kelly Bailey', 'Samuel Jenkins']\n",
      "Kelly Bailey\n",
      "the two names that follow this name are: ['Samuel Jenkins', 'Heather Brooks']\n",
      "Samuel Jenkins\n",
      "the two names that follow this name are: ['Heather Brooks', 'Dylan Foster']\n",
      "Heather Brooks\n",
      "the two names that follow this name are: ['Dylan Foster', 'Victoria Rodriguez']\n",
      "Dylan Foster\n",
      "the two names that follow this name are: ['Victoria Rodriguez', 'Aaron Sanders']\n",
      "Victoria Rodriguez\n",
      "the two names that follow this name are: ['Aaron Sanders', 'Evelyn Morales']\n",
      "Aaron Sanders\n",
      "the two names that follow this name are: ['Evelyn Morales', 'Tyler Peterson']\n",
      "Evelyn Morales\n",
      "the two names that follow this name are: ['Tyler Peterson', 'Lori Cruz']\n",
      "Tyler Peterson\n",
      "the two names that follow this name are: ['Lori Cruz', 'Kyle Richardson']\n",
      "Lori Cruz\n",
      "the two names that follow this name are: ['Kyle Richardson', 'Joan Bennett']\n",
      "Kyle Richardson\n",
      "the two names that follow this name are: ['Joan Bennett', 'Adam James']\n",
      "Joan Bennett\n",
      "the two names that follow this name are: ['Adam James', 'Monica Simmons']\n",
      "Adam James\n",
      "the two names that follow this name are: ['Monica Simmons', 'Austin Ward']\n",
      "Monica Simmons\n",
      "the two names that follow this name are: ['Austin Ward', 'Alice Powell']\n",
      "Austin Ward\n",
      "the two names that follow this name are: ['Alice Powell', 'Austin Rivera']\n",
      "Alice Powell\n",
      "the two names that follow this name are: ['Austin Rivera', 'Brittany Cox']\n",
      "Austin Rivera\n",
      "the two names that follow this name are: ['Brittany Cox', 'Jared Brooks']\n",
      "Brittany Cox\n",
      "the two names that follow this name are: ['Jared Brooks', 'Kimberly Coleman']\n",
      "Jared Brooks\n",
      "the two names that follow this name are: ['Kimberly Coleman', 'Blake Lee']\n",
      "Kimberly Coleman\n",
      "the two names that follow this name are: ['Blake Lee', 'Kristen Collins']\n",
      "Blake Lee\n",
      "the two names that follow this name are: ['Kristen Collins', 'Adrian Jenkins']\n",
      "Kristen Collins\n",
      "the two names that follow this name are: ['Adrian Jenkins', 'Tracy Edwards']\n",
      "Adrian Jenkins\n",
      "the two names that follow this name are: ['Tracy Edwards', 'Taylor Patterson']\n",
      "Tracy Edwards\n",
      "the two names that follow this name are: ['Taylor Patterson', 'Nathaniel Howard']\n",
      "Taylor Patterson\n",
      "the two names that follow this name are: ['Nathaniel Howard', 'Chloe Murphy']\n",
      "Nathaniel Howard\n",
      "the two names that follow this name are: ['Chloe Murphy', 'Gabriel Wright']\n",
      "Chloe Murphy\n",
      "the two names that follow this name are: ['Gabriel Wright', 'Amber Nelson']\n",
      "Gabriel Wright\n",
      "the two names that follow this name are: ['Amber Nelson', 'Justin Adams']\n",
      "Amber Nelson\n",
      "the two names that follow this name are: ['Justin Adams', 'Kaitlyn Harris']\n",
      "Justin Adams\n",
      "the two names that follow this name are: ['Kaitlyn Harris', 'Jordan Rivera']\n",
      "Kaitlyn Harris\n",
      "the two names that follow this name are: ['Jordan Rivera', 'Sophie Bennett']\n",
      "Jordan Rivera\n",
      "the two names that follow this name are: ['Sophie Bennett', 'Zachary Wood']\n",
      "Sophie Bennett\n",
      "the two names that follow this name are: ['Zachary Wood']\n",
      "Zachary Wood\n",
      "the two names that follow this name are: []\n"
     ]
    }
   ],
   "source": [
    "for name_index in range(len(names)):\n",
    "    # print(name_index,names[name_index])\n",
    "    print(names[name_index])\n",
    "    print(\"the two names that follow this name are:\",names[name_index+1:name_index+3])"
   ]
  }
 ],
 "metadata": {
  "kernelspec": {
   "display_name": "Python 3",
   "language": "python",
   "name": "python3"
  },
  "language_info": {
   "codemirror_mode": {
    "name": "ipython",
    "version": 3
   },
   "file_extension": ".py",
   "mimetype": "text/x-python",
   "name": "python",
   "nbconvert_exporter": "python",
   "pygments_lexer": "ipython3",
   "version": "3.12.1"
  }
 },
 "nbformat": 4,
 "nbformat_minor": 2
}
