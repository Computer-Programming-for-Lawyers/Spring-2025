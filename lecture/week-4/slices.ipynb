{
 "cells": [
  {
   "cell_type": "markdown",
   "metadata": {},
   "source": [
    "# Week 4 Lecture Notebook: Slices"
   ]
  },
  {
   "cell_type": "code",
   "execution_count": 5,
   "metadata": {},
   "outputs": [
    {
     "name": "stdout",
     "output_type": "stream",
     "text": [
      "2\n",
      "0\n",
      "2\n",
      "-\n",
      "1\n",
      "2\n",
      "3\n",
      "-\n",
      "4\n",
      "5\n",
      "7\n",
      "6\n"
     ]
    }
   ],
   "source": [
    "phone = '202-123-4576'\n",
    "\n",
    "# how to print items in phone number\n",
    "for item in phone:\n",
    "    print(item)"
   ]
  },
  {
   "cell_type": "code",
   "execution_count": 7,
   "metadata": {},
   "outputs": [
    {
     "name": "stdout",
     "output_type": "stream",
     "text": [
      "Index | Corresponding String Value\n",
      "0 | 2\n",
      "1 | 0\n",
      "2 | 2\n",
      "3 | -\n",
      "4 | 1\n",
      "5 | 2\n",
      "6 | 3\n",
      "7 | -\n",
      "8 | 4\n",
      "9 | 5\n",
      "10 | 7\n",
      "11 | 6\n"
     ]
    }
   ],
   "source": [
    "phone = '202-123-4576'\n",
    "\n",
    "print(\"Index | Corresponding String Value\")\n",
    "for puppy in range(len(phone)):\n",
    "    print(puppy,\"|\",phone[puppy])"
   ]
  },
  {
   "cell_type": "code",
   "execution_count": 13,
   "metadata": {},
   "outputs": [
    {
     "data": {
      "text/plain": [
       "'202-123-4576'"
      ]
     },
     "execution_count": 13,
     "metadata": {},
     "output_type": "execute_result"
    }
   ],
   "source": [
    "phone = '2#02-12%3-45&76'\n",
    "punctuation = '#%&*)'\n",
    "\n",
    "\n",
    "for character in punctuation:\n",
    "    phone = phone.replace(character,'')\n",
    "\n",
    "phone\n",
    "# goal: remove punctiation from phone string\n"
   ]
  },
  {
   "cell_type": "code",
   "execution_count": 16,
   "metadata": {},
   "outputs": [
    {
     "data": {
      "text/plain": [
       "'202'"
      ]
     },
     "execution_count": 16,
     "metadata": {},
     "output_type": "execute_result"
    }
   ],
   "source": [
    "# print the first three numbers\n",
    "\n",
    "phone[:3]\n"
   ]
  },
  {
   "cell_type": "markdown",
   "metadata": {},
   "source": [
    "A slice looks like indexing a string or list, except that you provide two numbers with a colon between them.\n",
    "\n",
    "The first number tells you the starting index for the slice, and the second number tells you one index after the end of the slice.\n",
    "Helpful to conceive of them not as the indexes themselves, but the spaces between the indices."
   ]
  },
  {
   "cell_type": "code",
   "execution_count": 25,
   "metadata": {},
   "outputs": [
    {
     "data": {
      "text/plain": [
       "''"
      ]
     },
     "execution_count": 25,
     "metadata": {},
     "output_type": "execute_result"
    }
   ],
   "source": [
    "# reconstruct full string\n",
    "\n",
    "phone[:3]\n",
    "# write a slice to get the middle three digits\n",
    "phone[4:7]\n",
    "\n",
    "#same\n",
    "phone[8:12]\n",
    "phone[8:]\n",
    "\n",
    "#second can't be smaller\n",
    "phone[-1:-10]\n",
    "phone[8:2]"
   ]
  },
  {
   "cell_type": "code",
   "execution_count": 40,
   "metadata": {},
   "outputs": [
    {
     "data": {
      "text/plain": [
       "'2-12'"
      ]
     },
     "execution_count": 40,
     "metadata": {},
     "output_type": "execute_result"
    }
   ],
   "source": [
    "phone[2:len(phone)//2]"
   ]
  },
  {
   "cell_type": "code",
   "execution_count": 42,
   "metadata": {},
   "outputs": [
    {
     "name": "stdout",
     "output_type": "stream",
     "text": [
      "<class 'float'>\n",
      "<class 'int'>\n"
     ]
    }
   ],
   "source": [
    "print(type(len(phone)/2)) # float\n",
    "print(type(len(phone)//2)) # int\n"
   ]
  },
  {
   "cell_type": "code",
   "execution_count": 44,
   "metadata": {},
   "outputs": [
    {
     "name": "stdout",
     "output_type": "stream",
     "text": [
      "202 123 4576\n"
     ]
    },
    {
     "data": {
      "text/plain": [
       "'2021234576'"
      ]
     },
     "execution_count": 44,
     "metadata": {},
     "output_type": "execute_result"
    }
   ],
   "source": [
    "\n",
    "first = phone[:3]\n",
    "second = phone[4:7]\n",
    "third = phone[8:]\n",
    "\n",
    "print(first,second,third)\n",
    "\n",
    "rejoined = first+second+third\n",
    "rejoined"
   ]
  },
  {
   "cell_type": "markdown",
   "metadata": {},
   "source": [
    "If the first and last index of a slice are the same, then it will be empty. If the first index is bigger than the last index, the same thing will happen."
   ]
  },
  {
   "cell_type": "code",
   "execution_count": 45,
   "metadata": {},
   "outputs": [
    {
     "data": {
      "text/plain": [
       "''"
      ]
     },
     "execution_count": 45,
     "metadata": {},
     "output_type": "execute_result"
    }
   ],
   "source": [
    "phone[1:1]"
   ]
  },
  {
   "cell_type": "code",
   "execution_count": 46,
   "metadata": {},
   "outputs": [
    {
     "data": {
      "text/plain": [
       "''"
      ]
     },
     "execution_count": 46,
     "metadata": {},
     "output_type": "execute_result"
    }
   ],
   "source": [
    "phone[5:4]"
   ]
  },
  {
   "cell_type": "markdown",
   "metadata": {},
   "source": [
    "Slices are very forgiving. If you set the last index to a number bigger than the length of the string, Python won't care. It will just go up to the end of the string."
   ]
  },
  {
   "cell_type": "code",
   "execution_count": 48,
   "metadata": {},
   "outputs": [
    {
     "data": {
      "text/plain": [
       "'23-4576'"
      ]
     },
     "execution_count": 48,
     "metadata": {},
     "output_type": "execute_result"
    }
   ],
   "source": [
    "phone[5:10000]"
   ]
  },
  {
   "cell_type": "markdown",
   "metadata": {},
   "source": [
    "If you leave out the first index, Python assumes you mean 0. You still need the colon, though, to distinguish this from normal indexing."
   ]
  },
  {
   "cell_type": "code",
   "execution_count": 49,
   "metadata": {},
   "outputs": [
    {
     "data": {
      "text/plain": [
       "'202'"
      ]
     },
     "execution_count": 49,
     "metadata": {},
     "output_type": "execute_result"
    }
   ],
   "source": [
    "phone[:3]"
   ]
  },
  {
   "cell_type": "markdown",
   "metadata": {},
   "source": [
    "You can leave out the last index and Python will assume you mean the end of the string or list."
   ]
  },
  {
   "cell_type": "code",
   "execution_count": 10,
   "metadata": {},
   "outputs": [
    {
     "data": {
      "text/plain": [
       "'4576'"
      ]
     },
     "execution_count": 10,
     "metadata": {},
     "output_type": "execute_result"
    }
   ],
   "source": [
    "phone[8:]"
   ]
  },
  {
   "cell_type": "markdown",
   "metadata": {},
   "source": [
    "You can leave out both indices to copy the string.\n"
   ]
  },
  {
   "cell_type": "code",
   "execution_count": 50,
   "metadata": {},
   "outputs": [
    {
     "data": {
      "text/plain": [
       "'202-123-4576'"
      ]
     },
     "execution_count": 50,
     "metadata": {},
     "output_type": "execute_result"
    }
   ],
   "source": [
    "phone[:]"
   ]
  },
  {
   "cell_type": "markdown",
   "metadata": {},
   "source": [
    "If you provide a negative index, Python will count from the left."
   ]
  },
  {
   "cell_type": "code",
   "execution_count": 51,
   "metadata": {},
   "outputs": [
    {
     "data": {
      "text/plain": [
       "'4576'"
      ]
     },
     "execution_count": 51,
     "metadata": {},
     "output_type": "execute_result"
    }
   ],
   "source": [
    "phone[-4:]"
   ]
  },
  {
   "cell_type": "markdown",
   "metadata": {},
   "source": [
    "The `find` method of a string will give you the index where its argument appears."
   ]
  },
  {
   "cell_type": "code",
   "execution_count": 64,
   "metadata": {},
   "outputs": [
    {
     "name": "stdout",
     "output_type": "stream",
     "text": [
      "dash index: 3\n",
      "ps5 index: 0\n"
     ]
    },
    {
     "data": {
      "text/plain": [
       "'ps5'"
      ]
     },
     "execution_count": 64,
     "metadata": {},
     "output_type": "execute_result"
    }
   ],
   "source": [
    "# initialize string\n",
    "assignment = \"ps5-clean\"\n",
    "# get index of dash\n",
    "dash_index = assignment.find(\"-\") # can do words too, \"ps5\"\n",
    "ps5_index = assignment.find(\"ps5\") # can do words too, \"ps5\"\n",
    "\n",
    "# print index\n",
    "print(\"dash index:\", dash_index)\n",
    "\n",
    "print(\"ps5 index:\", ps5_index)\n",
    "\n",
    "assignment[:dash_index]"
   ]
  },
  {
   "cell_type": "code",
   "execution_count": 65,
   "metadata": {},
   "outputs": [
    {
     "data": {
      "text/plain": [
       "'ps5'"
      ]
     },
     "execution_count": 65,
     "metadata": {},
     "output_type": "execute_result"
    }
   ],
   "source": [
    "# print everything to the left of \"-\"\n",
    "assignment[:dash_index]"
   ]
  },
  {
   "cell_type": "code",
   "execution_count": 66,
   "metadata": {},
   "outputs": [
    {
     "name": "stdout",
     "output_type": "stream",
     "text": [
      "-clean\n",
      "clean\n",
      "-clean\n"
     ]
    }
   ],
   "source": [
    "# print everything to the right of \"-\"\n",
    "print(assignment[dash_index:])\n",
    "\n",
    "# not including dash\n",
    "print(assignment[dash_index+1:])\n",
    "\n",
    "## if getting everything to the right of searched value, need to offset \n",
    "## start by length of search query\n",
    "print(assignment[ps5_index+len(\"ps5\"):])\n"
   ]
  },
  {
   "cell_type": "markdown",
   "metadata": {},
   "source": [
    "## Activity\n",
    "Suppose I give you a string email that contains an email address of the form username@domain.extension, where you don't know the specific content. It could be rorey@bipartisanpolicy.org or ro361@georgetown.edu.\n",
    "\n",
    "Split this up into separate strings for the username, domain, and extension.\n"
   ]
  },
  {
   "cell_type": "code",
   "execution_count": 76,
   "metadata": {},
   "outputs": [
    {
     "name": "stdout",
     "output_type": "stream",
     "text": [
      "ro361\n",
      "georgetown\n",
      "edu\n"
     ]
    }
   ],
   "source": [
    "string = 'ro361@georgetown.edu'\n",
    "\n",
    "at_index = string.find(\"@\")\n",
    "username = string[:at_index]\n",
    "print(username)\n",
    "\n",
    "period_index = string.find(\".\")\n",
    "domain = string[at_index+1:period_index]\n",
    "print(domain)\n",
    "\n",
    "extension = string[period_index+1:]\n",
    "print(extension)\n"
   ]
  },
  {
   "cell_type": "markdown",
   "metadata": {},
   "source": [
    "## Slices for Lists: Demo\n",
    "Slice notation also works for lists."
   ]
  },
  {
   "cell_type": "code",
   "execution_count": 77,
   "metadata": {},
   "outputs": [
    {
     "data": {
      "text/plain": [
       "['John Smith',\n",
       " 'Jane Doe',\n",
       " 'Michael Johnson',\n",
       " 'Emily Davis',\n",
       " 'James Brown',\n",
       " 'Patricia Taylor',\n",
       " 'Robert Anderson',\n",
       " 'Linda Thomas',\n",
       " 'David White',\n",
       " 'Barbara Harris',\n",
       " 'Richard Clark',\n",
       " 'Elizabeth Lewis',\n",
       " 'Joseph Young',\n",
       " 'Jennifer Hall',\n",
       " 'Charles Allen',\n",
       " 'Mary King',\n",
       " 'Christopher Wright',\n",
       " 'Susan Scott',\n",
       " 'Daniel Mitchell',\n",
       " 'Margaret Roberts',\n",
       " 'Matthew Green',\n",
       " 'Karen Walker',\n",
       " 'Anthony Adams',\n",
       " 'Nancy Baker',\n",
       " 'Mark Nelson',\n",
       " 'Sarah Hill',\n",
       " 'Steven Moore',\n",
       " 'Jessica Campbell',\n",
       " 'Paul Rogers',\n",
       " 'Sandra Evans',\n",
       " 'Kenneth Phillips',\n",
       " 'Ashley Turner',\n",
       " 'Joshua Parker',\n",
       " 'Donna Collins',\n",
       " 'George Stewart',\n",
       " 'Michelle Sanchez',\n",
       " 'Edward Morris',\n",
       " 'Angela Powell',\n",
       " 'Brian Peterson',\n",
       " 'Sharon Cook',\n",
       " 'Kevin Cox',\n",
       " 'Deborah Reed',\n",
       " 'Jason Ward',\n",
       " 'Laura Howard',\n",
       " 'Jeffrey Bell',\n",
       " 'Kimberly Lee',\n",
       " 'Ryan Wood',\n",
       " 'Cynthia Cooper',\n",
       " 'Jacob Morgan',\n",
       " 'Kathleen Hughes',\n",
       " 'Nicholas Foster',\n",
       " 'Diane Richardson',\n",
       " 'Eric Kelly',\n",
       " 'Rachel Barnes',\n",
       " 'Andrew Watson',\n",
       " 'Brenda Bryant',\n",
       " 'Benjamin Russell',\n",
       " 'Catherine Diaz',\n",
       " 'Patrick Griffin',\n",
       " 'Christina Fisher',\n",
       " 'Gregory Cruz',\n",
       " 'Debra Henderson',\n",
       " 'Timothy Simmons',\n",
       " 'Rebecca Perkins',\n",
       " 'Scott Russell',\n",
       " 'Katherine Coleman',\n",
       " 'Justin Brooks',\n",
       " 'Amy Jenkins',\n",
       " 'Brandon Spencer',\n",
       " 'Ann Perry',\n",
       " 'Jonathan Long',\n",
       " 'Carolyn Carter',\n",
       " 'Stephen Wright',\n",
       " 'Rebecca Murphy',\n",
       " 'Jeremy Gray',\n",
       " 'Shirley Lopez',\n",
       " 'Sean Harris',\n",
       " 'Pamela Martinez',\n",
       " 'Patrick Wilson',\n",
       " 'Samantha Rivera',\n",
       " 'Christian Torres',\n",
       " 'Megan Ramirez',\n",
       " 'Alexander Gonzales',\n",
       " 'Kelly Bailey',\n",
       " 'Samuel Jenkins',\n",
       " 'Heather Brooks',\n",
       " 'Dylan Foster',\n",
       " 'Victoria Rodriguez',\n",
       " 'Aaron Sanders',\n",
       " 'Evelyn Morales',\n",
       " 'Tyler Peterson',\n",
       " 'Lori Cruz',\n",
       " 'Kyle Richardson',\n",
       " 'Joan Bennett',\n",
       " 'Adam James',\n",
       " 'Monica Simmons',\n",
       " 'Austin Ward',\n",
       " 'Alice Powell',\n",
       " 'Austin Rivera',\n",
       " 'Brittany Cox',\n",
       " 'Jared Brooks',\n",
       " 'Kimberly Coleman',\n",
       " 'Blake Lee',\n",
       " 'Kristen Collins',\n",
       " 'Adrian Jenkins',\n",
       " 'Tracy Edwards',\n",
       " 'Taylor Patterson',\n",
       " 'Nathaniel Howard',\n",
       " 'Chloe Murphy',\n",
       " 'Gabriel Wright',\n",
       " 'Amber Nelson',\n",
       " 'Justin Adams',\n",
       " 'Kaitlyn Harris',\n",
       " 'Jordan Rivera',\n",
       " 'Sophie Bennett',\n",
       " 'Zachary Wood']"
      ]
     },
     "execution_count": 77,
     "metadata": {},
     "output_type": "execute_result"
    }
   ],
   "source": [
    "# names of people who signed a ballot intiaitive\n",
    "names = open('exercises/names_list.txt').read().split(\"\\n\")\n",
    "names"
   ]
  },
  {
   "cell_type": "code",
   "execution_count": 82,
   "metadata": {},
   "outputs": [
    {
     "name": "stdout",
     "output_type": "stream",
     "text": [
      "116\n",
      "John Smith\n",
      "Jane Doe\n",
      "Michael Johnson\n",
      "Emily Davis\n",
      "James Brown\n"
     ]
    }
   ],
   "source": [
    "# investigate names: data type? length?\n",
    "print(len(names))\n",
    "\n",
    "#print first five\n",
    "for item in range(5):\n",
    "    print(names[item])"
   ]
  },
  {
   "cell_type": "markdown",
   "metadata": {},
   "source": [
    "For each name, print the two that come before and two that come after on a single line.\n",
    "\n",
    "This format: `Third: First, Second, Fourth, Fifth`"
   ]
  },
  {
   "cell_type": "code",
   "execution_count": 35,
   "metadata": {},
   "outputs": [
    {
     "name": "stdout",
     "output_type": "stream",
     "text": [
      "John Smith: Sophie Bennett, Zachary Wood, Jane Doe, Michael Johnson\n",
      "Jane Doe: Zachary Wood, John Smith, Michael Johnson, Emily Davis\n",
      "Michael Johnson: John Smith, Jane Doe, Emily Davis, James Brown\n",
      "Emily Davis: Jane Doe, Michael Johnson, James Brown, Patricia Taylor\n",
      "James Brown: Michael Johnson, Emily Davis, Patricia Taylor, Robert Anderson\n",
      "Patricia Taylor: Emily Davis, James Brown, Robert Anderson, Linda Thomas\n",
      "Robert Anderson: James Brown, Patricia Taylor, Linda Thomas, David White\n",
      "Linda Thomas: Patricia Taylor, Robert Anderson, David White, Barbara Harris\n",
      "David White: Robert Anderson, Linda Thomas, Barbara Harris, Richard Clark\n",
      "Barbara Harris: Linda Thomas, David White, Richard Clark, Elizabeth Lewis\n",
      "Richard Clark: David White, Barbara Harris, Elizabeth Lewis, Joseph Young\n",
      "Elizabeth Lewis: Barbara Harris, Richard Clark, Joseph Young, Jennifer Hall\n",
      "Joseph Young: Richard Clark, Elizabeth Lewis, Jennifer Hall, Charles Allen\n",
      "Jennifer Hall: Elizabeth Lewis, Joseph Young, Charles Allen, Mary King\n",
      "Charles Allen: Joseph Young, Jennifer Hall, Mary King, Christopher Wright\n",
      "Mary King: Jennifer Hall, Charles Allen, Christopher Wright, Susan Scott\n",
      "Christopher Wright: Charles Allen, Mary King, Susan Scott, Daniel Mitchell\n",
      "Susan Scott: Mary King, Christopher Wright, Daniel Mitchell, Margaret Roberts\n",
      "Daniel Mitchell: Christopher Wright, Susan Scott, Margaret Roberts, Matthew Green\n",
      "Margaret Roberts: Susan Scott, Daniel Mitchell, Matthew Green, Karen Walker\n",
      "Matthew Green: Daniel Mitchell, Margaret Roberts, Karen Walker, Anthony Adams\n",
      "Karen Walker: Margaret Roberts, Matthew Green, Anthony Adams, Nancy Baker\n",
      "Anthony Adams: Matthew Green, Karen Walker, Nancy Baker, Mark Nelson\n",
      "Nancy Baker: Karen Walker, Anthony Adams, Mark Nelson, Sarah Hill\n",
      "Mark Nelson: Anthony Adams, Nancy Baker, Sarah Hill, Steven Moore\n",
      "Sarah Hill: Nancy Baker, Mark Nelson, Steven Moore, Jessica Campbell\n",
      "Steven Moore: Mark Nelson, Sarah Hill, Jessica Campbell, Paul Rogers\n",
      "Jessica Campbell: Sarah Hill, Steven Moore, Paul Rogers, Sandra Evans\n",
      "Paul Rogers: Steven Moore, Jessica Campbell, Sandra Evans, Kenneth Phillips\n",
      "Sandra Evans: Jessica Campbell, Paul Rogers, Kenneth Phillips, Ashley Turner\n",
      "Kenneth Phillips: Paul Rogers, Sandra Evans, Ashley Turner, Joshua Parker\n",
      "Ashley Turner: Sandra Evans, Kenneth Phillips, Joshua Parker, Donna Collins\n",
      "Joshua Parker: Kenneth Phillips, Ashley Turner, Donna Collins, George Stewart\n",
      "Donna Collins: Ashley Turner, Joshua Parker, George Stewart, Michelle Sanchez\n",
      "George Stewart: Joshua Parker, Donna Collins, Michelle Sanchez, Edward Morris\n",
      "Michelle Sanchez: Donna Collins, George Stewart, Edward Morris, Angela Powell\n",
      "Edward Morris: George Stewart, Michelle Sanchez, Angela Powell, Brian Peterson\n",
      "Angela Powell: Michelle Sanchez, Edward Morris, Brian Peterson, Sharon Cook\n",
      "Brian Peterson: Edward Morris, Angela Powell, Sharon Cook, Kevin Cox\n",
      "Sharon Cook: Angela Powell, Brian Peterson, Kevin Cox, Deborah Reed\n",
      "Kevin Cox: Brian Peterson, Sharon Cook, Deborah Reed, Jason Ward\n",
      "Deborah Reed: Sharon Cook, Kevin Cox, Jason Ward, Laura Howard\n",
      "Jason Ward: Kevin Cox, Deborah Reed, Laura Howard, Jeffrey Bell\n",
      "Laura Howard: Deborah Reed, Jason Ward, Jeffrey Bell, Kimberly Lee\n",
      "Jeffrey Bell: Jason Ward, Laura Howard, Kimberly Lee, Ryan Wood\n",
      "Kimberly Lee: Laura Howard, Jeffrey Bell, Ryan Wood, Cynthia Cooper\n",
      "Ryan Wood: Jeffrey Bell, Kimberly Lee, Cynthia Cooper, Jacob Morgan\n",
      "Cynthia Cooper: Kimberly Lee, Ryan Wood, Jacob Morgan, Kathleen Hughes\n",
      "Jacob Morgan: Ryan Wood, Cynthia Cooper, Kathleen Hughes, Nicholas Foster\n",
      "Kathleen Hughes: Cynthia Cooper, Jacob Morgan, Nicholas Foster, Diane Richardson\n",
      "Nicholas Foster: Jacob Morgan, Kathleen Hughes, Diane Richardson, Eric Kelly\n",
      "Diane Richardson: Kathleen Hughes, Nicholas Foster, Eric Kelly, Rachel Barnes\n",
      "Eric Kelly: Nicholas Foster, Diane Richardson, Rachel Barnes, Andrew Watson\n",
      "Rachel Barnes: Diane Richardson, Eric Kelly, Andrew Watson, Brenda Bryant\n",
      "Andrew Watson: Eric Kelly, Rachel Barnes, Brenda Bryant, Benjamin Russell\n",
      "Brenda Bryant: Rachel Barnes, Andrew Watson, Benjamin Russell, Catherine Diaz\n",
      "Benjamin Russell: Andrew Watson, Brenda Bryant, Catherine Diaz, Patrick Griffin\n",
      "Catherine Diaz: Brenda Bryant, Benjamin Russell, Patrick Griffin, Christina Fisher\n",
      "Patrick Griffin: Benjamin Russell, Catherine Diaz, Christina Fisher, Gregory Cruz\n",
      "Christina Fisher: Catherine Diaz, Patrick Griffin, Gregory Cruz, Debra Henderson\n",
      "Gregory Cruz: Patrick Griffin, Christina Fisher, Debra Henderson, Timothy Simmons\n",
      "Debra Henderson: Christina Fisher, Gregory Cruz, Timothy Simmons, Rebecca Perkins\n",
      "Timothy Simmons: Gregory Cruz, Debra Henderson, Rebecca Perkins, Scott Russell\n",
      "Rebecca Perkins: Debra Henderson, Timothy Simmons, Scott Russell, Katherine Coleman\n",
      "Scott Russell: Timothy Simmons, Rebecca Perkins, Katherine Coleman, Justin Brooks\n",
      "Katherine Coleman: Rebecca Perkins, Scott Russell, Justin Brooks, Amy Jenkins\n",
      "Justin Brooks: Scott Russell, Katherine Coleman, Amy Jenkins, Brandon Spencer\n",
      "Amy Jenkins: Katherine Coleman, Justin Brooks, Brandon Spencer, Ann Perry\n",
      "Brandon Spencer: Justin Brooks, Amy Jenkins, Ann Perry, Jonathan Long\n",
      "Ann Perry: Amy Jenkins, Brandon Spencer, Jonathan Long, Carolyn Carter\n",
      "Jonathan Long: Brandon Spencer, Ann Perry, Carolyn Carter, Stephen Wright\n",
      "Carolyn Carter: Ann Perry, Jonathan Long, Stephen Wright, Rebecca Murphy\n",
      "Stephen Wright: Jonathan Long, Carolyn Carter, Rebecca Murphy, Jeremy Gray\n",
      "Rebecca Murphy: Carolyn Carter, Stephen Wright, Jeremy Gray, Shirley Lopez\n",
      "Jeremy Gray: Stephen Wright, Rebecca Murphy, Shirley Lopez, Sean Harris\n",
      "Shirley Lopez: Rebecca Murphy, Jeremy Gray, Sean Harris, Pamela Martinez\n",
      "Sean Harris: Jeremy Gray, Shirley Lopez, Pamela Martinez, Patrick Wilson\n",
      "Pamela Martinez: Shirley Lopez, Sean Harris, Patrick Wilson, Samantha Rivera\n",
      "Patrick Wilson: Sean Harris, Pamela Martinez, Samantha Rivera, Christian Torres\n",
      "Samantha Rivera: Pamela Martinez, Patrick Wilson, Christian Torres, Megan Ramirez\n",
      "Christian Torres: Patrick Wilson, Samantha Rivera, Megan Ramirez, Alexander Gonzales\n",
      "Megan Ramirez: Samantha Rivera, Christian Torres, Alexander Gonzales, Kelly Bailey\n",
      "Alexander Gonzales: Christian Torres, Megan Ramirez, Kelly Bailey, Samuel Jenkins\n",
      "Kelly Bailey: Megan Ramirez, Alexander Gonzales, Samuel Jenkins, Heather Brooks\n",
      "Samuel Jenkins: Alexander Gonzales, Kelly Bailey, Heather Brooks, Dylan Foster\n",
      "Heather Brooks: Kelly Bailey, Samuel Jenkins, Dylan Foster, Victoria Rodriguez\n",
      "Dylan Foster: Samuel Jenkins, Heather Brooks, Victoria Rodriguez, Aaron Sanders\n",
      "Victoria Rodriguez: Heather Brooks, Dylan Foster, Aaron Sanders, Evelyn Morales\n",
      "Aaron Sanders: Dylan Foster, Victoria Rodriguez, Evelyn Morales, Tyler Peterson\n",
      "Evelyn Morales: Victoria Rodriguez, Aaron Sanders, Tyler Peterson, Lori Cruz\n",
      "Tyler Peterson: Aaron Sanders, Evelyn Morales, Lori Cruz, Kyle Richardson\n",
      "Lori Cruz: Evelyn Morales, Tyler Peterson, Kyle Richardson, Joan Bennett\n",
      "Kyle Richardson: Tyler Peterson, Lori Cruz, Joan Bennett, Adam James\n",
      "Joan Bennett: Lori Cruz, Kyle Richardson, Adam James, Monica Simmons\n",
      "Adam James: Kyle Richardson, Joan Bennett, Monica Simmons, Austin Ward\n",
      "Monica Simmons: Joan Bennett, Adam James, Austin Ward, Alice Powell\n",
      "Austin Ward: Adam James, Monica Simmons, Alice Powell, Austin Rivera\n",
      "Alice Powell: Monica Simmons, Austin Ward, Austin Rivera, Brittany Cox\n",
      "Austin Rivera: Austin Ward, Alice Powell, Brittany Cox, Jared Brooks\n",
      "Brittany Cox: Alice Powell, Austin Rivera, Jared Brooks, Kimberly Coleman\n",
      "Jared Brooks: Austin Rivera, Brittany Cox, Kimberly Coleman, Blake Lee\n",
      "Kimberly Coleman: Brittany Cox, Jared Brooks, Blake Lee, Kristen Collins\n",
      "Blake Lee: Jared Brooks, Kimberly Coleman, Kristen Collins, Adrian Jenkins\n",
      "Kristen Collins: Kimberly Coleman, Blake Lee, Adrian Jenkins, Tracy Edwards\n",
      "Adrian Jenkins: Blake Lee, Kristen Collins, Tracy Edwards, Taylor Patterson\n",
      "Tracy Edwards: Kristen Collins, Adrian Jenkins, Taylor Patterson, Nathaniel Howard\n",
      "Taylor Patterson: Adrian Jenkins, Tracy Edwards, Nathaniel Howard, Chloe Murphy\n",
      "Nathaniel Howard: Tracy Edwards, Taylor Patterson, Chloe Murphy, Gabriel Wright\n",
      "Chloe Murphy: Taylor Patterson, Nathaniel Howard, Gabriel Wright, Amber Nelson\n",
      "Gabriel Wright: Nathaniel Howard, Chloe Murphy, Amber Nelson, Justin Adams\n",
      "Amber Nelson: Chloe Murphy, Gabriel Wright, Justin Adams, Kaitlyn Harris\n",
      "Justin Adams: Gabriel Wright, Amber Nelson, Kaitlyn Harris, Jordan Rivera\n",
      "Kaitlyn Harris: Amber Nelson, Justin Adams, Jordan Rivera, Sophie Bennett\n",
      "Jordan Rivera: Justin Adams, Kaitlyn Harris, Sophie Bennett, Zachary Wood\n"
     ]
    },
    {
     "ename": "IndexError",
     "evalue": "list index out of range",
     "output_type": "error",
     "traceback": [
      "\u001b[0;31m---------------------------------------------------------------------------\u001b[0m",
      "\u001b[0;31mIndexError\u001b[0m                                Traceback (most recent call last)",
      "Cell \u001b[0;32mIn[35], line 6\u001b[0m\n\u001b[1;32m      1\u001b[0m \u001b[38;5;28;01mfor\u001b[39;00m i \u001b[38;5;129;01min\u001b[39;00m \u001b[38;5;28mrange\u001b[39m(\u001b[38;5;28mlen\u001b[39m(names)):\n\u001b[1;32m      2\u001b[0m     \u001b[38;5;28mprint\u001b[39m(names[i] \u001b[38;5;241m+\u001b[39m \u001b[38;5;124m\"\u001b[39m\u001b[38;5;124m: \u001b[39m\u001b[38;5;124m\"\u001b[39m \u001b[38;5;241m+\u001b[39m \u001b[38;5;66;03m# third\u001b[39;00m\n\u001b[1;32m      3\u001b[0m           names[i\u001b[38;5;241m-\u001b[39m\u001b[38;5;241m2\u001b[39m], \u001b[38;5;66;03m# first\u001b[39;00m\n\u001b[1;32m      4\u001b[0m           names[i\u001b[38;5;241m-\u001b[39m\u001b[38;5;241m1\u001b[39m], \u001b[38;5;66;03m# second\u001b[39;00m\n\u001b[1;32m      5\u001b[0m           names[i\u001b[38;5;241m+\u001b[39m\u001b[38;5;241m1\u001b[39m], \u001b[38;5;66;03m# fourth\u001b[39;00m\n\u001b[0;32m----> 6\u001b[0m           \u001b[43mnames\u001b[49m\u001b[43m[\u001b[49m\u001b[43mi\u001b[49m\u001b[38;5;241;43m+\u001b[39;49m\u001b[38;5;241;43m2\u001b[39;49m\u001b[43m]\u001b[49m, \u001b[38;5;66;03m# fifth\u001b[39;00m\n\u001b[1;32m      7\u001b[0m           sep\u001b[38;5;241m=\u001b[39m\u001b[38;5;124m\"\u001b[39m\u001b[38;5;124m, \u001b[39m\u001b[38;5;124m\"\u001b[39m)\n",
      "\u001b[0;31mIndexError\u001b[0m: list index out of range"
     ]
    }
   ],
   "source": [
    "for i in range(len(names)): # for every number from 0 to 116 (not incl 116)\n",
    "    print(names[i] + \": \" + # third\n",
    "          names[i-2], # first\n",
    "          names[i-1], # second\n",
    "          names[i+1], # fourth\n",
    "          names[i+2], # fifth\n",
    "          sep=\", \")\n"
   ]
  },
  {
   "cell_type": "markdown",
   "metadata": {},
   "source": [
    "How do we avoid list index out of range error?"
   ]
  },
  {
   "cell_type": "code",
   "execution_count": 86,
   "metadata": {},
   "outputs": [
    {
     "ename": "IndexError",
     "evalue": "list index out of range",
     "output_type": "error",
     "traceback": [
      "\u001b[0;31m---------------------------------------------------------------------------\u001b[0m",
      "\u001b[0;31mIndexError\u001b[0m                                Traceback (most recent call last)",
      "Cell \u001b[0;32mIn[86], line 1\u001b[0m\n\u001b[0;32m----> 1\u001b[0m \u001b[43mnames\u001b[49m\u001b[43m[\u001b[49m\u001b[38;5;241;43m116\u001b[39;49m\u001b[43m]\u001b[49m\n",
      "\u001b[0;31mIndexError\u001b[0m: list index out of range"
     ]
    }
   ],
   "source": [
    "names[116]"
   ]
  },
  {
   "cell_type": "code",
   "execution_count": 87,
   "metadata": {},
   "outputs": [
    {
     "data": {
      "text/plain": [
       "116"
      ]
     },
     "execution_count": 87,
     "metadata": {},
     "output_type": "execute_result"
    }
   ],
   "source": [
    "len(names)"
   ]
  },
  {
   "cell_type": "code",
   "execution_count": 88,
   "metadata": {},
   "outputs": [
    {
     "name": "stdout",
     "output_type": "stream",
     "text": [
      "Modulus gives index as if looping back to beginning. Index: 2\n"
     ]
    }
   ],
   "source": [
    "# MODULUS OPERATOR\n",
    "\n",
    "# names list length: 116\n",
    "\n",
    "# say we want to get the name AFTER the last name on the list\n",
    "i = 117\n",
    "# names[i] # gives error\n",
    "\n",
    "print(\"Modulus gives index as if looping back to beginning. Index:\",\n",
    "      (i+1) % len(names))"
   ]
  },
  {
   "cell_type": "code",
   "execution_count": 37,
   "metadata": {},
   "outputs": [
    {
     "name": "stdout",
     "output_type": "stream",
     "text": [
      "John Smith: Sophie Bennett, Zachary Wood, Jane Doe, Michael Johnson\n",
      "Jane Doe: Zachary Wood, John Smith, Michael Johnson, Emily Davis\n",
      "Michael Johnson: John Smith, Jane Doe, Emily Davis, James Brown\n",
      "Emily Davis: Jane Doe, Michael Johnson, James Brown, Patricia Taylor\n",
      "James Brown: Michael Johnson, Emily Davis, Patricia Taylor, Robert Anderson\n",
      "Patricia Taylor: Emily Davis, James Brown, Robert Anderson, Linda Thomas\n",
      "Robert Anderson: James Brown, Patricia Taylor, Linda Thomas, David White\n",
      "Linda Thomas: Patricia Taylor, Robert Anderson, David White, Barbara Harris\n",
      "David White: Robert Anderson, Linda Thomas, Barbara Harris, Richard Clark\n",
      "Barbara Harris: Linda Thomas, David White, Richard Clark, Elizabeth Lewis\n",
      "Richard Clark: David White, Barbara Harris, Elizabeth Lewis, Joseph Young\n",
      "Elizabeth Lewis: Barbara Harris, Richard Clark, Joseph Young, Jennifer Hall\n",
      "Joseph Young: Richard Clark, Elizabeth Lewis, Jennifer Hall, Charles Allen\n",
      "Jennifer Hall: Elizabeth Lewis, Joseph Young, Charles Allen, Mary King\n",
      "Charles Allen: Joseph Young, Jennifer Hall, Mary King, Christopher Wright\n",
      "Mary King: Jennifer Hall, Charles Allen, Christopher Wright, Susan Scott\n",
      "Christopher Wright: Charles Allen, Mary King, Susan Scott, Daniel Mitchell\n",
      "Susan Scott: Mary King, Christopher Wright, Daniel Mitchell, Margaret Roberts\n",
      "Daniel Mitchell: Christopher Wright, Susan Scott, Margaret Roberts, Matthew Green\n",
      "Margaret Roberts: Susan Scott, Daniel Mitchell, Matthew Green, Karen Walker\n",
      "Matthew Green: Daniel Mitchell, Margaret Roberts, Karen Walker, Anthony Adams\n",
      "Karen Walker: Margaret Roberts, Matthew Green, Anthony Adams, Nancy Baker\n",
      "Anthony Adams: Matthew Green, Karen Walker, Nancy Baker, Mark Nelson\n",
      "Nancy Baker: Karen Walker, Anthony Adams, Mark Nelson, Sarah Hill\n",
      "Mark Nelson: Anthony Adams, Nancy Baker, Sarah Hill, Steven Moore\n",
      "Sarah Hill: Nancy Baker, Mark Nelson, Steven Moore, Jessica Campbell\n",
      "Steven Moore: Mark Nelson, Sarah Hill, Jessica Campbell, Paul Rogers\n",
      "Jessica Campbell: Sarah Hill, Steven Moore, Paul Rogers, Sandra Evans\n",
      "Paul Rogers: Steven Moore, Jessica Campbell, Sandra Evans, Kenneth Phillips\n",
      "Sandra Evans: Jessica Campbell, Paul Rogers, Kenneth Phillips, Ashley Turner\n",
      "Kenneth Phillips: Paul Rogers, Sandra Evans, Ashley Turner, Joshua Parker\n",
      "Ashley Turner: Sandra Evans, Kenneth Phillips, Joshua Parker, Donna Collins\n",
      "Joshua Parker: Kenneth Phillips, Ashley Turner, Donna Collins, George Stewart\n",
      "Donna Collins: Ashley Turner, Joshua Parker, George Stewart, Michelle Sanchez\n",
      "George Stewart: Joshua Parker, Donna Collins, Michelle Sanchez, Edward Morris\n",
      "Michelle Sanchez: Donna Collins, George Stewart, Edward Morris, Angela Powell\n",
      "Edward Morris: George Stewart, Michelle Sanchez, Angela Powell, Brian Peterson\n",
      "Angela Powell: Michelle Sanchez, Edward Morris, Brian Peterson, Sharon Cook\n",
      "Brian Peterson: Edward Morris, Angela Powell, Sharon Cook, Kevin Cox\n",
      "Sharon Cook: Angela Powell, Brian Peterson, Kevin Cox, Deborah Reed\n",
      "Kevin Cox: Brian Peterson, Sharon Cook, Deborah Reed, Jason Ward\n",
      "Deborah Reed: Sharon Cook, Kevin Cox, Jason Ward, Laura Howard\n",
      "Jason Ward: Kevin Cox, Deborah Reed, Laura Howard, Jeffrey Bell\n",
      "Laura Howard: Deborah Reed, Jason Ward, Jeffrey Bell, Kimberly Lee\n",
      "Jeffrey Bell: Jason Ward, Laura Howard, Kimberly Lee, Ryan Wood\n",
      "Kimberly Lee: Laura Howard, Jeffrey Bell, Ryan Wood, Cynthia Cooper\n",
      "Ryan Wood: Jeffrey Bell, Kimberly Lee, Cynthia Cooper, Jacob Morgan\n",
      "Cynthia Cooper: Kimberly Lee, Ryan Wood, Jacob Morgan, Kathleen Hughes\n",
      "Jacob Morgan: Ryan Wood, Cynthia Cooper, Kathleen Hughes, Nicholas Foster\n",
      "Kathleen Hughes: Cynthia Cooper, Jacob Morgan, Nicholas Foster, Diane Richardson\n",
      "Nicholas Foster: Jacob Morgan, Kathleen Hughes, Diane Richardson, Eric Kelly\n",
      "Diane Richardson: Kathleen Hughes, Nicholas Foster, Eric Kelly, Rachel Barnes\n",
      "Eric Kelly: Nicholas Foster, Diane Richardson, Rachel Barnes, Andrew Watson\n",
      "Rachel Barnes: Diane Richardson, Eric Kelly, Andrew Watson, Brenda Bryant\n",
      "Andrew Watson: Eric Kelly, Rachel Barnes, Brenda Bryant, Benjamin Russell\n",
      "Brenda Bryant: Rachel Barnes, Andrew Watson, Benjamin Russell, Catherine Diaz\n",
      "Benjamin Russell: Andrew Watson, Brenda Bryant, Catherine Diaz, Patrick Griffin\n",
      "Catherine Diaz: Brenda Bryant, Benjamin Russell, Patrick Griffin, Christina Fisher\n",
      "Patrick Griffin: Benjamin Russell, Catherine Diaz, Christina Fisher, Gregory Cruz\n",
      "Christina Fisher: Catherine Diaz, Patrick Griffin, Gregory Cruz, Debra Henderson\n",
      "Gregory Cruz: Patrick Griffin, Christina Fisher, Debra Henderson, Timothy Simmons\n",
      "Debra Henderson: Christina Fisher, Gregory Cruz, Timothy Simmons, Rebecca Perkins\n",
      "Timothy Simmons: Gregory Cruz, Debra Henderson, Rebecca Perkins, Scott Russell\n",
      "Rebecca Perkins: Debra Henderson, Timothy Simmons, Scott Russell, Katherine Coleman\n",
      "Scott Russell: Timothy Simmons, Rebecca Perkins, Katherine Coleman, Justin Brooks\n",
      "Katherine Coleman: Rebecca Perkins, Scott Russell, Justin Brooks, Amy Jenkins\n",
      "Justin Brooks: Scott Russell, Katherine Coleman, Amy Jenkins, Brandon Spencer\n",
      "Amy Jenkins: Katherine Coleman, Justin Brooks, Brandon Spencer, Ann Perry\n",
      "Brandon Spencer: Justin Brooks, Amy Jenkins, Ann Perry, Jonathan Long\n",
      "Ann Perry: Amy Jenkins, Brandon Spencer, Jonathan Long, Carolyn Carter\n",
      "Jonathan Long: Brandon Spencer, Ann Perry, Carolyn Carter, Stephen Wright\n",
      "Carolyn Carter: Ann Perry, Jonathan Long, Stephen Wright, Rebecca Murphy\n",
      "Stephen Wright: Jonathan Long, Carolyn Carter, Rebecca Murphy, Jeremy Gray\n",
      "Rebecca Murphy: Carolyn Carter, Stephen Wright, Jeremy Gray, Shirley Lopez\n",
      "Jeremy Gray: Stephen Wright, Rebecca Murphy, Shirley Lopez, Sean Harris\n",
      "Shirley Lopez: Rebecca Murphy, Jeremy Gray, Sean Harris, Pamela Martinez\n",
      "Sean Harris: Jeremy Gray, Shirley Lopez, Pamela Martinez, Patrick Wilson\n",
      "Pamela Martinez: Shirley Lopez, Sean Harris, Patrick Wilson, Samantha Rivera\n",
      "Patrick Wilson: Sean Harris, Pamela Martinez, Samantha Rivera, Christian Torres\n",
      "Samantha Rivera: Pamela Martinez, Patrick Wilson, Christian Torres, Megan Ramirez\n",
      "Christian Torres: Patrick Wilson, Samantha Rivera, Megan Ramirez, Alexander Gonzales\n",
      "Megan Ramirez: Samantha Rivera, Christian Torres, Alexander Gonzales, Kelly Bailey\n",
      "Alexander Gonzales: Christian Torres, Megan Ramirez, Kelly Bailey, Samuel Jenkins\n",
      "Kelly Bailey: Megan Ramirez, Alexander Gonzales, Samuel Jenkins, Heather Brooks\n",
      "Samuel Jenkins: Alexander Gonzales, Kelly Bailey, Heather Brooks, Dylan Foster\n",
      "Heather Brooks: Kelly Bailey, Samuel Jenkins, Dylan Foster, Victoria Rodriguez\n",
      "Dylan Foster: Samuel Jenkins, Heather Brooks, Victoria Rodriguez, Aaron Sanders\n",
      "Victoria Rodriguez: Heather Brooks, Dylan Foster, Aaron Sanders, Evelyn Morales\n",
      "Aaron Sanders: Dylan Foster, Victoria Rodriguez, Evelyn Morales, Tyler Peterson\n",
      "Evelyn Morales: Victoria Rodriguez, Aaron Sanders, Tyler Peterson, Lori Cruz\n",
      "Tyler Peterson: Aaron Sanders, Evelyn Morales, Lori Cruz, Kyle Richardson\n",
      "Lori Cruz: Evelyn Morales, Tyler Peterson, Kyle Richardson, Joan Bennett\n",
      "Kyle Richardson: Tyler Peterson, Lori Cruz, Joan Bennett, Adam James\n",
      "Joan Bennett: Lori Cruz, Kyle Richardson, Adam James, Monica Simmons\n",
      "Adam James: Kyle Richardson, Joan Bennett, Monica Simmons, Austin Ward\n",
      "Monica Simmons: Joan Bennett, Adam James, Austin Ward, Alice Powell\n",
      "Austin Ward: Adam James, Monica Simmons, Alice Powell, Austin Rivera\n",
      "Alice Powell: Monica Simmons, Austin Ward, Austin Rivera, Brittany Cox\n",
      "Austin Rivera: Austin Ward, Alice Powell, Brittany Cox, Jared Brooks\n",
      "Brittany Cox: Alice Powell, Austin Rivera, Jared Brooks, Kimberly Coleman\n",
      "Jared Brooks: Austin Rivera, Brittany Cox, Kimberly Coleman, Blake Lee\n",
      "Kimberly Coleman: Brittany Cox, Jared Brooks, Blake Lee, Kristen Collins\n",
      "Blake Lee: Jared Brooks, Kimberly Coleman, Kristen Collins, Adrian Jenkins\n",
      "Kristen Collins: Kimberly Coleman, Blake Lee, Adrian Jenkins, Tracy Edwards\n",
      "Adrian Jenkins: Blake Lee, Kristen Collins, Tracy Edwards, Taylor Patterson\n",
      "Tracy Edwards: Kristen Collins, Adrian Jenkins, Taylor Patterson, Nathaniel Howard\n",
      "Taylor Patterson: Adrian Jenkins, Tracy Edwards, Nathaniel Howard, Chloe Murphy\n",
      "Nathaniel Howard: Tracy Edwards, Taylor Patterson, Chloe Murphy, Gabriel Wright\n",
      "Chloe Murphy: Taylor Patterson, Nathaniel Howard, Gabriel Wright, Amber Nelson\n",
      "Gabriel Wright: Nathaniel Howard, Chloe Murphy, Amber Nelson, Justin Adams\n",
      "Amber Nelson: Chloe Murphy, Gabriel Wright, Justin Adams, Kaitlyn Harris\n",
      "Justin Adams: Gabriel Wright, Amber Nelson, Kaitlyn Harris, Jordan Rivera\n",
      "Kaitlyn Harris: Amber Nelson, Justin Adams, Jordan Rivera, Sophie Bennett\n",
      "Jordan Rivera: Justin Adams, Kaitlyn Harris, Sophie Bennett, Zachary Wood\n",
      "Sophie Bennett: Kaitlyn Harris, Jordan Rivera, Zachary Wood, John Smith\n",
      "Zachary Wood: Jordan Rivera, Sophie Bennett, John Smith, Jane Doe\n"
     ]
    }
   ],
   "source": [
    "## Modulus in action\n",
    "\n",
    "for i in range(len(names)):\n",
    "    # Use modulo to wrap around the list\n",
    "    print(names[i] + \": \" +\n",
    "          names[(i-2)], # because python handles negative indices,\n",
    "          names[(i-1)], # don't need modulus operator\n",
    "          names[(i+1) % len(names)],  # One after, wrap around\n",
    "          names[(i+2) % len(names)],  # Two after, wrap around\n",
    "          sep=\", \")"
   ]
  },
  {
   "cell_type": "markdown",
   "metadata": {},
   "source": [
    "## Spell Check Demo\n",
    "\n",
    "Spelling errors are commonly caused by a *stray insertion*, or an extra character that doesn't belong. Instead of spelling \"toaster\", a user might accidentally type \"toasfter.\"\n",
    "\n",
    "Our goal is to generate every possible version of the misspelled word by removing one letter at a time. In doing so, we'll generate a correctly spelled version of the word without this stray character.\n",
    "\n",
    "* delete first letter: **oasfter**\n",
    "* delete second letter: **tasfter**\n",
    "* delete third letter: **tosfter**\n",
    "* delete fourth letter: **toafter**\n",
    "* *delete fifth letter: **toaster** <- correct!*\n",
    "* delete sixth letter: **toasftr**\n",
    "* delete seventh letter: **toasfte**"
   ]
  },
  {
   "cell_type": "code",
   "execution_count": 90,
   "metadata": {},
   "outputs": [
    {
     "name": "stdout",
     "output_type": "stream",
     "text": [
      "False\n"
     ]
    }
   ],
   "source": [
    "\n",
    "correct_words = [\"microwave\",\"oven\",\"fridge\",\"toaster\"]\n",
    "misspelled_word = \"toasfter\"\n",
    "\n",
    "print(misspelled_word in correct_words)"
   ]
  },
  {
   "cell_type": "code",
   "execution_count": 92,
   "metadata": {},
   "outputs": [
    {
     "name": "stdout",
     "output_type": "stream",
     "text": [
      "oasfter\n",
      "tasfter\n",
      "tosfter\n",
      "toafter\n",
      "toaster\n",
      "toasfer\n",
      "toasftr\n",
      "toasfte\n"
     ]
    }
   ],
   "source": [
    "# can manually remove of one letter at a time\n",
    "\n",
    "for character_index in range(len(misspelled_word)):\n",
    "    \n",
    "    print(misspelled_word[:character_index] + misspelled_word[character_index+1:])"
   ]
  },
  {
   "cell_type": "code",
   "execution_count": 97,
   "metadata": {},
   "outputs": [
    {
     "name": "stdout",
     "output_type": "stream",
     "text": [
      "candidate: icrowaxve\n",
      "candidate: mcrowaxve\n",
      "candidate: mirowaxve\n",
      "candidate: micowaxve\n",
      "candidate: micrwaxve\n",
      "candidate: microaxve\n",
      "candidate: microwxve\n",
      "candidate: microwave\n",
      "correct word: microwave\n",
      "candidate: microwaxe\n",
      "candidate: microwaxv\n"
     ]
    }
   ],
   "source": [
    "# can manually remove of one letter at a time\n",
    "misspelled_word = \"microwaxve\" # toasfter\n",
    "correct_words = [\"microwave\",\"oven\",\"fridge\",\"toaster\"]\n",
    "\n",
    "for character_index in range(len(misspelled_word)):\n",
    "    # create a version of the word with the character at the given index removed\n",
    "    candidate = misspelled_word[:character_index] + misspelled_word[character_index+1:]\n",
    "    print(\"candidate:\",candidate)\n",
    "    if candidate in correct_words:\n",
    "        print(\"correct word:\",candidate)"
   ]
  }
 ],
 "metadata": {
  "kernelspec": {
   "display_name": "Python 3",
   "language": "python",
   "name": "python3"
  },
  "language_info": {
   "codemirror_mode": {
    "name": "ipython",
    "version": 3
   },
   "file_extension": ".py",
   "mimetype": "text/x-python",
   "name": "python",
   "nbconvert_exporter": "python",
   "pygments_lexer": "ipython3",
   "version": "3.12.1"
  }
 },
 "nbformat": 4,
 "nbformat_minor": 2
}
