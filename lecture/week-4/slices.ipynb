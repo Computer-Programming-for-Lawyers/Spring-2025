{
 "cells": [
  {
   "cell_type": "markdown",
   "metadata": {},
   "source": [
    "# Week 4 Lecture Notebook: Slices"
   ]
  },
  {
   "cell_type": "code",
   "execution_count": null,
   "metadata": {},
   "outputs": [],
   "source": [
    "phone = '202-123-4576'\n",
    "\n",
    "\n",
    "print(\"Index | Corresponding String Value\")\n",
    "for i in range(len(phone)):\n",
    "    print(i,\"|\",phone[i])"
   ]
  },
  {
   "cell_type": "code",
   "execution_count": null,
   "metadata": {},
   "outputs": [],
   "source": [
    "# print the first three numbers\n"
   ]
  },
  {
   "cell_type": "markdown",
   "metadata": {},
   "source": [
    "A slice looks like indexing a string or list, except that you provide two numbers with a colon between them.\n",
    "\n",
    "The first number tells you the starting index for the slice, and the second number tells you one index after the end of the slice.\n",
    "Helpful to conceive of them not as the indexes themselves, but the spaces between the indices."
   ]
  },
  {
   "cell_type": "code",
   "execution_count": null,
   "metadata": {},
   "outputs": [],
   "source": [
    "# reconstruct full string"
   ]
  },
  {
   "cell_type": "code",
   "execution_count": null,
   "metadata": {},
   "outputs": [],
   "source": [
    "# write a slice to get the middle three digits"
   ]
  },
  {
   "cell_type": "markdown",
   "metadata": {},
   "source": [
    "If the first and last index of a slice are the same, then it will be empty. If the first index is bigger than the last index, the same thing will happen."
   ]
  },
  {
   "cell_type": "code",
   "execution_count": null,
   "metadata": {},
   "outputs": [],
   "source": [
    "phone[1:1]"
   ]
  },
  {
   "cell_type": "code",
   "execution_count": null,
   "metadata": {},
   "outputs": [],
   "source": [
    "phone[5:4]"
   ]
  },
  {
   "cell_type": "markdown",
   "metadata": {},
   "source": [
    "Slices are very forgiving. If you set the last index to a number bigger than the length of the string, Python won't care. It will just go up to the end of the string."
   ]
  },
  {
   "cell_type": "code",
   "execution_count": null,
   "metadata": {},
   "outputs": [],
   "source": [
    "phone[5:10000]"
   ]
  },
  {
   "cell_type": "markdown",
   "metadata": {},
   "source": [
    "If you leave out the first index, Python assumes you mean 0. You still need the colon, though, to distinguish this from normal indexing."
   ]
  },
  {
   "cell_type": "code",
   "execution_count": null,
   "metadata": {},
   "outputs": [],
   "source": [
    "# What do you think this will output?\n",
    "phone[:3]"
   ]
  },
  {
   "cell_type": "markdown",
   "metadata": {},
   "source": [
    "You can leave out the last index and Python will assume you mean the end of the string or list."
   ]
  },
  {
   "cell_type": "code",
   "execution_count": null,
   "metadata": {},
   "outputs": [],
   "source": [
    "phone[8:]"
   ]
  },
  {
   "cell_type": "markdown",
   "metadata": {},
   "source": [
    "You can leave out both indices to copy the string.\n"
   ]
  },
  {
   "cell_type": "code",
   "execution_count": null,
   "metadata": {},
   "outputs": [],
   "source": [
    "phone[:]"
   ]
  },
  {
   "cell_type": "markdown",
   "metadata": {},
   "source": [
    "If you provide a negative index, Python will count from the right."
   ]
  },
  {
   "cell_type": "code",
   "execution_count": null,
   "metadata": {},
   "outputs": [],
   "source": [
    "phone[-4:]"
   ]
  },
  {
   "cell_type": "markdown",
   "metadata": {},
   "source": [
    "The `find` method of a string will give you the index where its argument appears."
   ]
  },
  {
   "cell_type": "code",
   "execution_count": null,
   "metadata": {},
   "outputs": [],
   "source": [
    "# initialize string\n",
    "assignment = \"ps5-clean\"\n",
    "# get index of dash\n",
    "dash_index = assignment.find(\"-\")\n",
    "# print index\n",
    "print(dash_index)"
   ]
  },
  {
   "cell_type": "code",
   "execution_count": null,
   "metadata": {},
   "outputs": [],
   "source": [
    "# print everything to the left of \"-\"\n",
    "assignment[:dash_index]"
   ]
  },
  {
   "cell_type": "code",
   "execution_count": null,
   "metadata": {},
   "outputs": [],
   "source": [
    "# print everything to the right of \"-\"\n",
    "print(assignment[dash_index:])\n",
    "\n",
    "# not including dash\n",
    "print(assignment[dash_index+1:])\n"
   ]
  },
  {
   "cell_type": "markdown",
   "metadata": {},
   "source": [
    "## Activity\n",
    "Suppose I give you a string email that contains an email address of the form username@domain.extension, where you don't know the specific content. It could be rorey@bipartisanpolicy.org or ro361@georgetown.edu.\n",
    "\n",
    "Split this up into separate strings for the username, domain, and extension.\n"
   ]
  },
  {
   "cell_type": "code",
   "execution_count": null,
   "metadata": {},
   "outputs": [],
   "source": []
  },
  {
   "cell_type": "markdown",
   "metadata": {},
   "source": [
    "## Slices for Lists: Demo\n",
    "Slice notation also works for lists."
   ]
  },
  {
   "cell_type": "code",
   "execution_count": null,
   "metadata": {},
   "outputs": [],
   "source": [
    "# names of people who signed a ballot intiaitive\n",
    "names = open('exercises/names_list.txt').read().split(\"\\n\")"
   ]
  },
  {
   "cell_type": "code",
   "execution_count": null,
   "metadata": {},
   "outputs": [],
   "source": [
    "# investigate names: data type? length?"
   ]
  },
  {
   "cell_type": "markdown",
   "metadata": {},
   "source": [
    "For each name, print the two that come before and two that come after on a single line.\n",
    "\n",
    "This format: `Third: First, Second, Fourth, Fifth`"
   ]
  },
  {
   "cell_type": "code",
   "execution_count": null,
   "metadata": {},
   "outputs": [],
   "source": [
    "for i in range(len(names)):\n",
    "    print(names[i] + \": \" + # third\n",
    "          names[i-2], # first\n",
    "          names[i-1], # second\n",
    "          names[i+1], # fourth\n",
    "          names[i+2], # fifth\n",
    "          sep=\", \")\n"
   ]
  },
  {
   "cell_type": "markdown",
   "metadata": {},
   "source": [
    "How do we avoid list index out of range error?"
   ]
  },
  {
   "cell_type": "code",
   "execution_count": null,
   "metadata": {},
   "outputs": [],
   "source": [
    "# MODULUS OPERATOR -- returns remainder\n",
    "\n",
    "# names list length: 116\n",
    "\n",
    "# say we want to get the name AFTER the last name on the list\n",
    "i = 117\n",
    "# names[i] # gives error\n",
    "\n",
    "print(\"Modulus gives index as if looping back to beginning. Index:\",\n",
    "      (i+1) % len(names))"
   ]
  },
  {
   "cell_type": "code",
   "execution_count": null,
   "metadata": {},
   "outputs": [],
   "source": [
    "## Modulus in action\n",
    "\n",
    "for i in range(len(names)):\n",
    "    # Use modulo to wrap around the list\n",
    "    print(names[i] + \": \" +\n",
    "          names[(i-2)], # because python handles negative indices,\n",
    "          names[(i-1)], # don't need modulus operator\n",
    "          names[(i+1) % len(names)],  # One after, wrap around\n",
    "          names[(i+2) % len(names)],  # Two after, wrap around\n",
    "          sep=\", \")"
   ]
  }
 ],
 "metadata": {
  "kernelspec": {
   "display_name": "Python 3",
   "language": "python",
   "name": "python3"
  },
  "language_info": {
   "codemirror_mode": {
    "name": "ipython",
    "version": 3
   },
   "file_extension": ".py",
   "mimetype": "text/x-python",
   "name": "python",
   "nbconvert_exporter": "python",
   "pygments_lexer": "ipython3",
   "version": "3.12.1"
  }
 },
 "nbformat": 4,
 "nbformat_minor": 2
}
