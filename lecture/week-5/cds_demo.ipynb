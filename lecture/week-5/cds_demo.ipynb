{
 "cells": [
  {
   "cell_type": "markdown",
   "metadata": {},
   "source": [
    "# Demo code for week 5 lecture\n",
    "Demonstrates for-loops, lists, and split, replace, and join and **pandas**.\n"
   ]
  },
  {
   "cell_type": "code",
   "execution_count": 3,
   "metadata": {},
   "outputs": [
    {
     "name": "stdout",
     "output_type": "stream",
     "text": [
      "<class 'list'>\n",
      "4977\n"
     ]
    }
   ],
   "source": [
    "\n",
    "cds_full = open('cds_2022.csv', encoding='utf-8-sig').read().split('\\n')\n",
    "\n",
    "#understand what you've just imported\n",
    "print(type(cds_full))\n",
    "print(len(cds_full))"
   ]
  },
  {
   "cell_type": "code",
   "execution_count": 4,
   "metadata": {},
   "outputs": [
    {
     "name": "stdout",
     "output_type": "stream",
     "text": [
      "Number of categories in header: 47\n",
      "category [0]\n",
      "agency [1]\n",
      "account [2]\n",
      "project [3]\n",
      "recipient [4]\n",
      "location [5]\n",
      "state [6]\n",
      "budget_request [7]\n",
      "additional_amount [8]\n",
      "amount [9]\n"
     ]
    }
   ],
   "source": [
    "# isolate header row\n",
    "cds_header = cds_full[0].split(\";\")\n",
    "\n",
    "# print number of categories in header row\n",
    "print(\"Number of categories in header:\",len(cds_header))\n",
    "\n",
    "# isolate content of the csv (select everything after first row)\n",
    "cds_content = cds_full[1:]\n",
    "\n",
    "# get index numbers corresponding with first ten headers\n",
    "for i in range(len(cds_header[:10])):\n",
    "    print(f\"{cds_header[i]} [{i}]\")\n"
   ]
  },
  {
   "cell_type": "markdown",
   "metadata": {},
   "source": [
    "### Create a dictionary totaling count in each category\n"
   ]
  },
  {
   "cell_type": "code",
   "execution_count": 5,
   "metadata": {},
   "outputs": [
    {
     "data": {
      "text/plain": [
       "{'Agriculture, Rural Development, Food and Drug Administration, and Related Agencies': 239,\n",
       " 'Commerce, Justice, Science, and Related Agencies': 496,\n",
       " 'Defense': 15,\n",
       " 'Energy and Water Development, and Related Agencies': 248,\n",
       " 'Financial Services and General Government': 145,\n",
       " 'Homeland Security': 122,\n",
       " 'Interior, Environment, and Related Agencies': 608,\n",
       " 'Labor, Health and Human Services, Education, and Related Agencies': 1538,\n",
       " 'Military Construction, Veterans Affairs, and Related Agencies': 72,\n",
       " 'Transportation, and Housing and Urban Development, and Related Agencies': 1492,\n",
       " '': 1}"
      ]
     },
     "execution_count": 5,
     "metadata": {},
     "output_type": "execute_result"
    }
   ],
   "source": [
    "dictionary = {}\n",
    "\n",
    "for row in cds_content:\n",
    "    fields = row.split(\";\")\n",
    "    field = fields[0]\n",
    "    \n",
    "    if field not in dictionary:\n",
    "        dictionary[field] = 1\n",
    "    else:\n",
    "        dictionary[field] += 1\n",
    "    \n",
    "dictionary"
   ]
  },
  {
   "cell_type": "markdown",
   "metadata": {},
   "source": [
    "### Store total amount for each category in a dictionary\n"
   ]
  },
  {
   "cell_type": "code",
   "execution_count": 16,
   "metadata": {},
   "outputs": [
    {
     "name": "stdout",
     "output_type": "stream",
     "text": [
      "— <class 'str'>\n",
      "2,959,000 <class 'str'>\n",
      " <class 'str'>\n",
      " <class 'str'>\n",
      " <class 'str'>\n"
     ]
    }
   ],
   "source": [
    "# index of amount \"column\" [9]\n",
    "# PREPROCESS THE AMOUNT COLUMN\n",
    "# remove misc. characters that might inhibit it being read as an integer\n",
    "\n",
    "\n",
    "##first, let's figure out what might cause problems\n",
    "\n",
    "#for each row in the list of contents\n",
    "for row in cds_content: \n",
    "    if row: # ignores empty rows which would process as \"False\"\n",
    "        fields = row.split(\";\") #split row by semicolon to get individual elements (aka each column)\n",
    "        if type(fields[9]) != int: #if the type of the element in the amount column for this row isn't an integer\n",
    "            try:\n",
    "                int(fields[9]) #try making it an integer\n",
    "            except: #if what we \"tried\" above fails, print the element in question in order to troubleshoot\n",
    "                print(fields[9],type(fields[9]))\n",
    "\n",
    "## based on output, we know one issue is commas and one is dash and others appear to be empty spaces\n",
    "## replace these values below"
   ]
  },
  {
   "cell_type": "code",
   "execution_count": 18,
   "metadata": {},
   "outputs": [
    {
     "data": {
      "text/plain": [
       "{'Agriculture, Rural Development, Food and Drug Administration, and Related Agencies': 346323506,\n",
       " 'Commerce, Justice, Science, and Related Agencies': 566621000,\n",
       " 'Defense': 23516666,\n",
       " 'Energy and Water Development, and Related Agencies': 1375636000,\n",
       " 'Financial Services and General Government': 173286638,\n",
       " 'Homeland Security': 203098811,\n",
       " 'Interior, Environment, and Related Agencies': 1008723095,\n",
       " 'Labor, Health and Human Services, Education, and Related Agencies': 1751637000,\n",
       " 'Military Construction, Veterans Affairs, and Related Agencies': 1265910000,\n",
       " 'Transportation, and Housing and Urban Development, and Related Agencies': 2971241432}"
      ]
     },
     "execution_count": 18,
     "metadata": {},
     "output_type": "execute_result"
    }
   ],
   "source": [
    "# index of amount [9]\n",
    "\n",
    "\n",
    "total = {}\n",
    "\n",
    "for row in cds_content: #for each row in the list of contents\n",
    "    if row: # ignores empty rows which would process as \"False\"\n",
    "\n",
    "        #split the row by semicolon\n",
    "        fields = row.split(\";\")\n",
    "        #select the \"category\" element (the first element in the newly split list)\n",
    "        category = fields[0]\n",
    "\n",
    "        #based on what we learned above, clean \"amount\" value\n",
    "        amount = fields[9].replace(\",\",\"\").replace(\" \",\"\").replace(\"—\",\"\")\n",
    "        \n",
    "        if amount: #if not empty\n",
    "            amount = int(amount) #convert to int\n",
    "            #if the category of this row isn't in the dictionary, add it and set\n",
    "            if category not in total:\n",
    "                total[category] = amount\n",
    "\n",
    "            else:\n",
    "                total[category] += amount\n",
    "                \n",
    "total"
   ]
  },
  {
   "cell_type": "markdown",
   "metadata": {},
   "source": [
    "## Demo with Pandas\n",
    "\n",
    "Pandas introduces a new data type, the data frame. All tables are data frames in pandas. The way you make a dataframe is really easy. First, you `import pandas as pd`, by convention. Then you can call the function `pd.DataFrame()`. It doesn't do anything on its own but you can pass it a table-like piece of data and it will convert it to a data frame.\n",
    "\n",
    "By convention, we assign the output of that to a variable called `[name]_df` indicating that it's a data frame."
   ]
  },
  {
   "cell_type": "code",
   "execution_count": 3,
   "metadata": {},
   "outputs": [],
   "source": [
    "import pandas as pd\n",
    "import numpy as np"
   ]
  },
  {
   "cell_type": "code",
   "execution_count": 24,
   "metadata": {},
   "outputs": [
    {
     "data": {
      "text/plain": [
       "[{'name': 'name0', 'rolls': array([1])},\n",
       " {'name': 'name1', 'rolls': array([4, 5, 5])},\n",
       " {'name': 'name2', 'rolls': array([6, 3])}]"
      ]
     },
     "execution_count": 24,
     "metadata": {},
     "output_type": "execute_result"
    }
   ],
   "source": [
    "\n",
    "players = []\n",
    "\n",
    "for i in range(3):\n",
    "  name = \"name\"+str(i)\n",
    "  n_rolls = np.random.randint(1, 4)\n",
    "  players.append({'name': name,\n",
    "                  'rolls': np.random.randint(1, 7, n_rolls)})\n",
    "  \n",
    "players"
   ]
  },
  {
   "cell_type": "code",
   "execution_count": 30,
   "metadata": {},
   "outputs": [
    {
     "data": {
      "text/html": [
       "<div>\n",
       "<style scoped>\n",
       "    .dataframe tbody tr th:only-of-type {\n",
       "        vertical-align: middle;\n",
       "    }\n",
       "\n",
       "    .dataframe tbody tr th {\n",
       "        vertical-align: top;\n",
       "    }\n",
       "\n",
       "    .dataframe thead th {\n",
       "        text-align: right;\n",
       "    }\n",
       "</style>\n",
       "<table border=\"1\" class=\"dataframe\">\n",
       "  <thead>\n",
       "    <tr style=\"text-align: right;\">\n",
       "      <th></th>\n",
       "      <th>name</th>\n",
       "      <th>rolls</th>\n",
       "    </tr>\n",
       "  </thead>\n",
       "  <tbody>\n",
       "    <tr>\n",
       "      <th>0</th>\n",
       "      <td>name0</td>\n",
       "      <td>[1]</td>\n",
       "    </tr>\n",
       "    <tr>\n",
       "      <th>1</th>\n",
       "      <td>name1</td>\n",
       "      <td>[4, 5, 5]</td>\n",
       "    </tr>\n",
       "    <tr>\n",
       "      <th>2</th>\n",
       "      <td>name2</td>\n",
       "      <td>[6, 3]</td>\n",
       "    </tr>\n",
       "  </tbody>\n",
       "</table>\n",
       "</div>"
      ],
      "text/plain": [
       "    name      rolls\n",
       "0  name0        [1]\n",
       "1  name1  [4, 5, 5]\n",
       "2  name2     [6, 3]"
      ]
     },
     "execution_count": 30,
     "metadata": {},
     "output_type": "execute_result"
    }
   ],
   "source": [
    "players_df = pd.DataFrame(players)\n",
    "players_df"
   ]
  },
  {
   "cell_type": "code",
   "execution_count": 29,
   "metadata": {},
   "outputs": [
    {
     "data": {
      "text/plain": [
       "0          [1]\n",
       "1    [4, 5, 5]\n",
       "2       [6, 3]\n",
       "Name: rolls, dtype: object"
      ]
     },
     "execution_count": 29,
     "metadata": {},
     "output_type": "execute_result"
    }
   ],
   "source": [
    "#select by column\n",
    "players_df[\"rolls\"]\n",
    "\n",
    "#then select by index\n",
    "players_df[\"rolls\"][0]"
   ]
  },
  {
   "cell_type": "markdown",
   "metadata": {},
   "source": [
    "### Back to congressionally directed spending example"
   ]
  },
  {
   "cell_type": "code",
   "execution_count": 5,
   "metadata": {},
   "outputs": [
    {
     "data": {
      "text/html": [
       "<div>\n",
       "<style scoped>\n",
       "    .dataframe tbody tr th:only-of-type {\n",
       "        vertical-align: middle;\n",
       "    }\n",
       "\n",
       "    .dataframe tbody tr th {\n",
       "        vertical-align: top;\n",
       "    }\n",
       "\n",
       "    .dataframe thead th {\n",
       "        text-align: right;\n",
       "    }\n",
       "</style>\n",
       "<table border=\"1\" class=\"dataframe\">\n",
       "  <thead>\n",
       "    <tr style=\"text-align: right;\">\n",
       "      <th></th>\n",
       "      <th>category</th>\n",
       "      <th>agency</th>\n",
       "      <th>account</th>\n",
       "      <th>project</th>\n",
       "      <th>recipient</th>\n",
       "      <th>location</th>\n",
       "      <th>state</th>\n",
       "      <th>budget_request</th>\n",
       "      <th>additional_amount</th>\n",
       "      <th>amount</th>\n",
       "      <th>...</th>\n",
       "      <th>requestor_seven_chamber</th>\n",
       "      <th>requestor_seven_party</th>\n",
       "      <th>requestor_eight_full_name</th>\n",
       "      <th>requestor_eight_bioguide_id</th>\n",
       "      <th>requestor_eight_chamber</th>\n",
       "      <th>requestor_eight_party</th>\n",
       "      <th>requestor_nine_full_name</th>\n",
       "      <th>requestor_nine_bioguide_id</th>\n",
       "      <th>requestor_nine_chamber</th>\n",
       "      <th>requestor_nine_party</th>\n",
       "    </tr>\n",
       "  </thead>\n",
       "  <tbody>\n",
       "    <tr>\n",
       "      <th>0</th>\n",
       "      <td>Agriculture, Rural Development, Food and Drug ...</td>\n",
       "      <td>Animal and Plant Health Inspection Service</td>\n",
       "      <td>APHIS S&amp;E</td>\n",
       "      <td>Statewide Pest Surveys</td>\n",
       "      <td>Alaska Division of Agriculture</td>\n",
       "      <td>NaN</td>\n",
       "      <td>AK</td>\n",
       "      <td>NaN</td>\n",
       "      <td>NaN</td>\n",
       "      <td>100000</td>\n",
       "      <td>...</td>\n",
       "      <td>NaN</td>\n",
       "      <td>NaN</td>\n",
       "      <td>NaN</td>\n",
       "      <td>NaN</td>\n",
       "      <td>NaN</td>\n",
       "      <td>NaN</td>\n",
       "      <td>NaN</td>\n",
       "      <td>NaN</td>\n",
       "      <td>NaN</td>\n",
       "      <td>NaN</td>\n",
       "    </tr>\n",
       "    <tr>\n",
       "      <th>1</th>\n",
       "      <td>Agriculture, Rural Development, Food and Drug ...</td>\n",
       "      <td>Animal and Plant Health Inspection Service</td>\n",
       "      <td>APHIS S&amp;E</td>\n",
       "      <td>Feral Swine Management</td>\n",
       "      <td>Arkansas Department of Agriculture</td>\n",
       "      <td>NaN</td>\n",
       "      <td>AR</td>\n",
       "      <td>NaN</td>\n",
       "      <td>NaN</td>\n",
       "      <td>650000</td>\n",
       "      <td>...</td>\n",
       "      <td>NaN</td>\n",
       "      <td>NaN</td>\n",
       "      <td>NaN</td>\n",
       "      <td>NaN</td>\n",
       "      <td>NaN</td>\n",
       "      <td>NaN</td>\n",
       "      <td>NaN</td>\n",
       "      <td>NaN</td>\n",
       "      <td>NaN</td>\n",
       "      <td>NaN</td>\n",
       "    </tr>\n",
       "  </tbody>\n",
       "</table>\n",
       "<p>2 rows × 47 columns</p>\n",
       "</div>"
      ],
      "text/plain": [
       "                                            category  \\\n",
       "0  Agriculture, Rural Development, Food and Drug ...   \n",
       "1  Agriculture, Rural Development, Food and Drug ...   \n",
       "\n",
       "                                       agency    account  \\\n",
       "0  Animal and Plant Health Inspection Service  APHIS S&E   \n",
       "1  Animal and Plant Health Inspection Service  APHIS S&E   \n",
       "\n",
       "                  project                           recipient location state  \\\n",
       "0  Statewide Pest Surveys      Alaska Division of Agriculture      NaN    AK   \n",
       "1  Feral Swine Management  Arkansas Department of Agriculture      NaN    AR   \n",
       "\n",
       "   budget_request additional_amount  amount  ... requestor_seven_chamber  \\\n",
       "0             NaN               NaN  100000  ...                     NaN   \n",
       "1             NaN               NaN  650000  ...                     NaN   \n",
       "\n",
       "  requestor_seven_party requestor_eight_full_name requestor_eight_bioguide_id  \\\n",
       "0                   NaN                       NaN                         NaN   \n",
       "1                   NaN                       NaN                         NaN   \n",
       "\n",
       "  requestor_eight_chamber requestor_eight_party requestor_nine_full_name  \\\n",
       "0                     NaN                   NaN                      NaN   \n",
       "1                     NaN                   NaN                      NaN   \n",
       "\n",
       "  requestor_nine_bioguide_id requestor_nine_chamber requestor_nine_party  \n",
       "0                        NaN                    NaN                  NaN  \n",
       "1                        NaN                    NaN                  NaN  \n",
       "\n",
       "[2 rows x 47 columns]"
      ]
     },
     "execution_count": 5,
     "metadata": {},
     "output_type": "execute_result"
    }
   ],
   "source": [
    "cds_df = pd.read_csv('cds_2022_clean.csv')\n",
    "cds_df.head(2)"
   ]
  },
  {
   "cell_type": "code",
   "execution_count": 9,
   "metadata": {},
   "outputs": [
    {
     "data": {
      "text/plain": [
       "category                       Agriculture, Rural Development, Food and Drug ...\n",
       "agency                                Animal and Plant Health Inspection Service\n",
       "account                                                                APHIS S&E\n",
       "project                                                   Feral Swine Management\n",
       "recipient                                     Arkansas Department of Agriculture\n",
       "location                                                                     NaN\n",
       "state                                                                         AR\n",
       "budget_request                                                               NaN\n",
       "additional_amount                                                            NaN\n",
       "amount                                                                    650000\n",
       "origination                                                                    S\n",
       "requestor_one_full_name                                             John Boozman\n",
       "requestor_one_bioguide_id                                                B001236\n",
       "requestor_one_chamber                                                        sen\n",
       "requestor_one_party                                                   Republican\n",
       "requestor_two_full_name                                                      NaN\n",
       "requestor_two_bioguide_id                                                    NaN\n",
       "requestor_two_chamber                                                        NaN\n",
       "requestor_two_party                                                          NaN\n",
       "requestor_three_full_name                                                    NaN\n",
       "requestor_three_bioguide_id                                                  NaN\n",
       "requestor_three_chamber                                                      NaN\n",
       "requestor_three_party                                                        NaN\n",
       "requestor_four_full_name                                                     NaN\n",
       "requestor_four_bioguide_id                                                   NaN\n",
       "requestor_four_chamber                                                       NaN\n",
       "requestor_four_party                                                         NaN\n",
       "requestor_five_full_name                                                     NaN\n",
       "requestor_five_bioguide_id                                                   NaN\n",
       "requestor_five_chamber                                                       NaN\n",
       "requestor_five_party                                                         NaN\n",
       "requestor_six_full_name                                                      NaN\n",
       "requestor_six_bioguide_id                                                    NaN\n",
       "requestor_six_chamber                                                        NaN\n",
       "requestor_six_party                                                          NaN\n",
       "requestor_seven_full_name                                                    NaN\n",
       "requestor_seven_bioguide_id                                                  NaN\n",
       "requestor_seven_chamber                                                      NaN\n",
       "requestor_seven_party                                                        NaN\n",
       "requestor_eight_full_name                                                    NaN\n",
       "requestor_eight_bioguide_id                                                  NaN\n",
       "requestor_eight_chamber                                                      NaN\n",
       "requestor_eight_party                                                        NaN\n",
       "requestor_nine_full_name                                                     NaN\n",
       "requestor_nine_bioguide_id                                                   NaN\n",
       "requestor_nine_chamber                                                       NaN\n",
       "requestor_nine_party                                                         NaN\n",
       "Name: 1, dtype: object"
      ]
     },
     "execution_count": 9,
     "metadata": {},
     "output_type": "execute_result"
    }
   ],
   "source": [
    "# isolate rows using iloc\n",
    "cds_df.iloc[1]"
   ]
  },
  {
   "cell_type": "code",
   "execution_count": 11,
   "metadata": {},
   "outputs": [
    {
     "name": "stderr",
     "output_type": "stream",
     "text": [
      "/tmp/ipykernel_11023/1556488285.py:2: FutureWarning: Series.__getitem__ treating keys as positions is deprecated. In a future version, integer keys will always be treated as labels (consistent with DataFrame behavior). To access a value by position, use `ser.iloc[pos]`\n",
      "  cds_df.iloc[1][0]\n"
     ]
    },
    {
     "data": {
      "text/plain": [
       "'Agriculture, Rural Development, Food and Drug Administration, and Related Agencies'"
      ]
     },
     "execution_count": 11,
     "metadata": {},
     "output_type": "execute_result"
    }
   ],
   "source": [
    "# isolate elements with additional slice\n",
    "cds_df.iloc[1][0]"
   ]
  },
  {
   "cell_type": "code",
   "execution_count": 7,
   "metadata": {},
   "outputs": [
    {
     "data": {
      "text/plain": [
       "Index(['category', 'agency', 'account', 'project', 'recipient', 'location',\n",
       "       'state', 'budget_request', 'additional_amount', 'amount', 'origination',\n",
       "       'requestor_one_full_name', 'requestor_one_bioguide_id',\n",
       "       'requestor_one_chamber', 'requestor_one_party',\n",
       "       'requestor_two_full_name', 'requestor_two_bioguide_id',\n",
       "       'requestor_two_chamber', 'requestor_two_party',\n",
       "       'requestor_three_full_name', 'requestor_three_bioguide_id',\n",
       "       'requestor_three_chamber', 'requestor_three_party',\n",
       "       'requestor_four_full_name', 'requestor_four_bioguide_id',\n",
       "       'requestor_four_chamber', 'requestor_four_party',\n",
       "       'requestor_five_full_name', 'requestor_five_bioguide_id',\n",
       "       'requestor_five_chamber', 'requestor_five_party',\n",
       "       'requestor_six_full_name', 'requestor_six_bioguide_id',\n",
       "       'requestor_six_chamber', 'requestor_six_party',\n",
       "       'requestor_seven_full_name', 'requestor_seven_bioguide_id',\n",
       "       'requestor_seven_chamber', 'requestor_seven_party',\n",
       "       'requestor_eight_full_name', 'requestor_eight_bioguide_id',\n",
       "       'requestor_eight_chamber', 'requestor_eight_party',\n",
       "       'requestor_nine_full_name', 'requestor_nine_bioguide_id',\n",
       "       'requestor_nine_chamber', 'requestor_nine_party'],\n",
       "      dtype='object')"
      ]
     },
     "execution_count": 7,
     "metadata": {},
     "output_type": "execute_result"
    }
   ],
   "source": [
    "# get columns\n",
    "cds_df.columns"
   ]
  },
  {
   "cell_type": "code",
   "execution_count": 13,
   "metadata": {},
   "outputs": [
    {
     "data": {
      "text/plain": [
       "0        100000\n",
       "1        650000\n",
       "2        600000\n",
       "3        600000\n",
       "4        250000\n",
       "         ...   \n",
       "4970    2500000\n",
       "4971    3000000\n",
       "4972    3000000\n",
       "4973    5000000\n",
       "4974     500000\n",
       "Name: amount, Length: 4975, dtype: object"
      ]
     },
     "execution_count": 13,
     "metadata": {},
     "output_type": "execute_result"
    }
   ],
   "source": [
    "#get specific column\n",
    "cds_df[\"amount\"]"
   ]
  },
  {
   "cell_type": "markdown",
   "metadata": {},
   "source": [
    "### Another example"
   ]
  },
  {
   "cell_type": "code",
   "execution_count": 15,
   "metadata": {},
   "outputs": [
    {
     "data": {
      "text/html": [
       "<div>\n",
       "<style scoped>\n",
       "    .dataframe tbody tr th:only-of-type {\n",
       "        vertical-align: middle;\n",
       "    }\n",
       "\n",
       "    .dataframe tbody tr th {\n",
       "        vertical-align: top;\n",
       "    }\n",
       "\n",
       "    .dataframe thead th {\n",
       "        text-align: right;\n",
       "    }\n",
       "</style>\n",
       "<table border=\"1\" class=\"dataframe\">\n",
       "  <thead>\n",
       "    <tr style=\"text-align: right;\">\n",
       "      <th></th>\n",
       "      <th>Category A</th>\n",
       "      <th>Category B</th>\n",
       "      <th>Category C</th>\n",
       "    </tr>\n",
       "  </thead>\n",
       "  <tbody>\n",
       "    <tr>\n",
       "      <th>0</th>\n",
       "      <td>10</td>\n",
       "      <td>15</td>\n",
       "      <td>20</td>\n",
       "    </tr>\n",
       "    <tr>\n",
       "      <th>1</th>\n",
       "      <td>20</td>\n",
       "      <td>25</td>\n",
       "      <td>30</td>\n",
       "    </tr>\n",
       "    <tr>\n",
       "      <th>2</th>\n",
       "      <td>30</td>\n",
       "      <td>35</td>\n",
       "      <td>40</td>\n",
       "    </tr>\n",
       "    <tr>\n",
       "      <th>3</th>\n",
       "      <td>40</td>\n",
       "      <td>45</td>\n",
       "      <td>50</td>\n",
       "    </tr>\n",
       "    <tr>\n",
       "      <th>4</th>\n",
       "      <td>50</td>\n",
       "      <td>55</td>\n",
       "      <td>60</td>\n",
       "    </tr>\n",
       "  </tbody>\n",
       "</table>\n",
       "</div>"
      ],
      "text/plain": [
       "   Category A  Category B  Category C\n",
       "0          10          15          20\n",
       "1          20          25          30\n",
       "2          30          35          40\n",
       "3          40          45          50\n",
       "4          50          55          60"
      ]
     },
     "execution_count": 15,
     "metadata": {},
     "output_type": "execute_result"
    }
   ],
   "source": [
    "data = {\n",
    "    'Category A': [10, 20, 30, 40, 50],\n",
    "    'Category B': [15, 25, 35, 45, 55],\n",
    "    'Category C': [20, 30, 40, 50, 60]\n",
    "}\n",
    "\n",
    "df = pd.DataFrame(data)\n",
    "df"
   ]
  },
  {
   "cell_type": "code",
   "execution_count": 16,
   "metadata": {},
   "outputs": [
    {
     "data": {
      "text/plain": [
       "Category A    30.0\n",
       "Category B    35.0\n",
       "Category C    40.0\n",
       "dtype: float64"
      ]
     },
     "execution_count": 16,
     "metadata": {},
     "output_type": "execute_result"
    }
   ],
   "source": [
    "df.mean()"
   ]
  },
  {
   "cell_type": "code",
   "execution_count": 17,
   "metadata": {},
   "outputs": [
    {
     "data": {
      "text/plain": [
       "Category A    30.0\n",
       "Category B    35.0\n",
       "Category C    40.0\n",
       "dtype: float64"
      ]
     },
     "execution_count": 17,
     "metadata": {},
     "output_type": "execute_result"
    }
   ],
   "source": [
    "df.median()"
   ]
  },
  {
   "cell_type": "code",
   "execution_count": 22,
   "metadata": {},
   "outputs": [
    {
     "name": "stdout",
     "output_type": "stream",
     "text": [
      "Boolean result:\n",
      " 0    False\n",
      "1    False\n",
      "2     True\n",
      "3     True\n",
      "4     True\n",
      "Name: Category A, dtype: bool\n"
     ]
    },
    {
     "data": {
      "text/plain": [
       "'Filtered df:'"
      ]
     },
     "metadata": {},
     "output_type": "display_data"
    },
    {
     "data": {
      "text/html": [
       "<div>\n",
       "<style scoped>\n",
       "    .dataframe tbody tr th:only-of-type {\n",
       "        vertical-align: middle;\n",
       "    }\n",
       "\n",
       "    .dataframe tbody tr th {\n",
       "        vertical-align: top;\n",
       "    }\n",
       "\n",
       "    .dataframe thead th {\n",
       "        text-align: right;\n",
       "    }\n",
       "</style>\n",
       "<table border=\"1\" class=\"dataframe\">\n",
       "  <thead>\n",
       "    <tr style=\"text-align: right;\">\n",
       "      <th></th>\n",
       "      <th>Category A</th>\n",
       "      <th>Category B</th>\n",
       "      <th>Category C</th>\n",
       "    </tr>\n",
       "  </thead>\n",
       "  <tbody>\n",
       "    <tr>\n",
       "      <th>2</th>\n",
       "      <td>30</td>\n",
       "      <td>35</td>\n",
       "      <td>40</td>\n",
       "    </tr>\n",
       "    <tr>\n",
       "      <th>3</th>\n",
       "      <td>40</td>\n",
       "      <td>45</td>\n",
       "      <td>50</td>\n",
       "    </tr>\n",
       "    <tr>\n",
       "      <th>4</th>\n",
       "      <td>50</td>\n",
       "      <td>55</td>\n",
       "      <td>60</td>\n",
       "    </tr>\n",
       "  </tbody>\n",
       "</table>\n",
       "</div>"
      ],
      "text/plain": [
       "   Category A  Category B  Category C\n",
       "2          30          35          40\n",
       "3          40          45          50\n",
       "4          50          55          60"
      ]
     },
     "metadata": {},
     "output_type": "display_data"
    }
   ],
   "source": [
    "print(\"Boolean result:\\n\",df[\"Category A\"] > 20)\n",
    "display(\"Filtered df:\",df[df[\"Category A\"] > 20])"
   ]
  },
  {
   "cell_type": "markdown",
   "metadata": {},
   "source": [
    "### Even data vis is possible with pandas!"
   ]
  },
  {
   "cell_type": "code",
   "execution_count": 23,
   "metadata": {},
   "outputs": [
    {
     "data": {
      "text/plain": [
       "<Axes: title={'center': 'Line Plot of Categories'}>"
      ]
     },
     "execution_count": 23,
     "metadata": {},
     "output_type": "execute_result"
    },
    {
     "data": {
      "image/png": "[encoded data removed]",
      "text/plain": [
       "<Figure size 640x480 with 1 Axes>"
      ]
     },
     "metadata": {},
     "output_type": "display_data"
    }
   ],
   "source": [
    "import matplotlib.pyplot as plt\n",
    "\n",
    "df.plot(kind='line', marker='o', title='Line Plot of Categories')"
   ]
  }
 ],
 "metadata": {
  "kernelspec": {
   "display_name": "Python 3",
   "language": "python",
   "name": "python3"
  },
  "language_info": {
   "codemirror_mode": {
    "name": "ipython",
    "version": 3
   },
   "file_extension": ".py",
   "mimetype": "text/x-python",
   "name": "python",
   "nbconvert_exporter": "python",
   "pygments_lexer": "ipython3",
   "version": "3.12.1"
  }
 },
 "nbformat": 4,
 "nbformat_minor": 2
}
