{
 "cells": [
  {
   "cell_type": "markdown",
   "metadata": {},
   "source": [
    " ### Addressing common issues from clean.ipynb\n",
    "\n",
    " Reviewing code from past students to identify common challenges."
   ]
  },
  {
   "cell_type": "code",
   "execution_count": null,
   "metadata": {},
   "outputs": [],
   "source": [
    "# prior student example\n",
    "\n",
    "PUNCTUATION = ',!.?;\"()-\\\\:\\'' \n",
    "\n",
    "for punc in list(PUNCTUATION):\n",
    "    text = text.replace(punc, '')"
   ]
  },
  {
   "cell_type": "code",
   "execution_count": null,
   "metadata": {},
   "outputs": [],
   "source": [
    "# prior student example\n",
    "\n",
    "CAPITAL_LETTERS = \"ABCDEFGHIJKLMNOPQRSTUVWXYZ\"\n",
    "for capitalized_letter in CAPITAL_LETTERS:\n",
    "    text = text.lower()"
   ]
  },
  {
   "cell_type": "code",
   "execution_count": null,
   "metadata": {},
   "outputs": [],
   "source": [
    "# prior student example\n",
    "words = text.replace('\\n\\n', ' ').replace('\\n', ' ').split(' ')"
   ]
  },
  {
   "cell_type": "code",
   "execution_count": null,
   "metadata": {},
   "outputs": [],
   "source": [
    "# prior student example\n",
    "for word in word_list:\n",
    "    words = word.isalpha() "
   ]
  },
  {
   "cell_type": "code",
   "execution_count": null,
   "metadata": {},
   "outputs": [],
   "source": [
    "# prior student example\n",
    "for word in text:\n",
    "    for i in PUNCTUATION:\n",
    "        word = word.replace(i,'')"
   ]
  },
  {
   "cell_type": "markdown",
   "metadata": {},
   "source": [
    "Assignment objective: Remove any words that aren't just letters from list (don't remove characters that aren't letters from the word)."
   ]
  },
  {
   "cell_type": "code",
   "execution_count": null,
   "metadata": {},
   "outputs": [],
   "source": [
    "# is alpha best solution\n",
    "\"hi$\".isalpha()"
   ]
  },
  {
   "cell_type": "markdown",
   "metadata": {},
   "source": [
    "Don’t print entire file as output. You can use slicing to test, and comment out or delete testing and unnecesarry print statements before submitting your assignment.\n"
   ]
  }
 ],
 "metadata": {
  "kernelspec": {
   "display_name": "Python 3",
   "language": "python",
   "name": "python3"
  },
  "language_info": {
   "codemirror_mode": {
    "name": "ipython",
    "version": 3
   },
   "file_extension": ".py",
   "mimetype": "text/x-python",
   "name": "python",
   "nbconvert_exporter": "python",
   "pygments_lexer": "ipython3",
   "version": "3.9.6"
  }
 },
 "nbformat": 4,
 "nbformat_minor": 2
}
