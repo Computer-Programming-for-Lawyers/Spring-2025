{
 "cells": [
  {
   "cell_type": "markdown",
   "metadata": {},
   "source": [
    " ### Addressing common issues from clean.ipynb\n",
    "\n",
    " Reviewing code from past students to identify common challenges."
   ]
  },
  {
   "cell_type": "code",
   "execution_count": null,
   "metadata": {},
   "outputs": [
    {
     "name": "stdout",
     "output_type": "stream",
     "text": [
      "hey\n"
     ]
    }
   ],
   "source": [
    "# prior student example\n",
    "text = \"hey?\"\n",
    "\n",
    "PUNCTUATION = ',!.?;\"()-\\\\:\\'' \n",
    "\n",
    "for punc in list(PUNCTUATION): #isn't necesarry to convert to a list\n",
    "    text = text.replace(punc, '')\n",
    "\n",
    "print(text)"
   ]
  },
  {
   "cell_type": "code",
   "execution_count": 5,
   "metadata": {},
   "outputs": [
    {
     "data": {
      "text/plain": [
       "'uppercase'"
      ]
     },
     "execution_count": 5,
     "metadata": {},
     "output_type": "execute_result"
    }
   ],
   "source": [
    "# prior student example\n",
    "\n",
    "text = \"UPPERCASE\"\n",
    "\n",
    "CAPITAL_LETTERS = \"ABCDEFGHIJKLMNOPQRSTUVWXYZ\"\n",
    "for capitalized_letter in CAPITAL_LETTERS:\n",
    "    text = text.lower()\n",
    "\n",
    "text"
   ]
  },
  {
   "cell_type": "code",
   "execution_count": null,
   "metadata": {},
   "outputs": [],
   "source": [
    "# prior student example\n",
    "words = text.replace('\\n\\n', ' ').replace('\\n', ' ').split(' ')\n",
    "\n",
    "# more direct way to break up by whitespace\n",
    "\n",
    "text.split() # can only split up a string"
   ]
  },
  {
   "cell_type": "code",
   "execution_count": null,
   "metadata": {},
   "outputs": [
    {
     "data": {
      "text/plain": [
       "True"
      ]
     },
     "execution_count": 7,
     "metadata": {},
     "output_type": "execute_result"
    }
   ],
   "source": [
    "# prior student example\n",
    "\n",
    "word_list = [\"test\",\"hello\"]\n",
    "for word in word_list:\n",
    "    words = word.isalpha() \n",
    "\n",
    "words"
   ]
  },
  {
   "cell_type": "code",
   "execution_count": null,
   "metadata": {},
   "outputs": [
    {
     "name": "stdout",
     "output_type": "stream",
     "text": [
      "I\n",
      "\n",
      "m\n",
      " \n",
      "a\n",
      " \n",
      "t\n",
      "e\n",
      "x\n",
      "t\n",
      " \n",
      "s\n",
      "t\n",
      "r\n",
      "i\n",
      "n\n",
      "g\n",
      "\n",
      "\n",
      "\n",
      "\n"
     ]
    }
   ],
   "source": [
    "# prior student example\n",
    "\n",
    "text = \"I'm a text string!?!?\"\n",
    "\n",
    "for word in text: # iterates over a single character\n",
    "    # print(word)\n",
    "    for i in PUNCTUATION:\n",
    "        word = word.replace(i,'') # no memory - rewriting word each time\n",
    "    print(word)"
   ]
  },
  {
   "cell_type": "code",
   "execution_count": 13,
   "metadata": {},
   "outputs": [
    {
     "data": {
      "text/plain": [
       "\"I'm a text string!?!?\""
      ]
     },
     "execution_count": 13,
     "metadata": {},
     "output_type": "execute_result"
    }
   ],
   "source": [
    "text"
   ]
  },
  {
   "cell_type": "markdown",
   "metadata": {},
   "source": [
    "Assignment objective: Remove any words that aren't just letters from list (don't remove characters that aren't letters from the word)."
   ]
  },
  {
   "cell_type": "code",
   "execution_count": null,
   "metadata": {},
   "outputs": [
    {
     "data": {
      "text/plain": [
       "True"
      ]
     },
     "execution_count": 15,
     "metadata": {},
     "output_type": "execute_result"
    }
   ],
   "source": [
    "# is alpha best solution\n",
    "\"hi$\".isalpha()"
   ]
  },
  {
   "cell_type": "markdown",
   "metadata": {},
   "source": [
    "Don’t print entire file as output. You can use slicing to test, and comment out or delete testing and unnecesarry print statements before submitting your assignment.\n"
   ]
  },
  {
   "cell_type": "code",
   "execution_count": null,
   "metadata": {},
   "outputs": [],
   "source": [
    "words[:10]"
   ]
  }
 ],
 "metadata": {
  "kernelspec": {
   "display_name": "Python 3",
   "language": "python",
   "name": "python3"
  },
  "language_info": {
   "codemirror_mode": {
    "name": "ipython",
    "version": 3
   },
   "file_extension": ".py",
   "mimetype": "text/x-python",
   "name": "python",
   "nbconvert_exporter": "python",
   "pygments_lexer": "ipython3",
   "version": "3.9.6"
  }
 },
 "nbformat": 4,
 "nbformat_minor": 2
}
