{
 "cells": [
  {
   "cell_type": "markdown",
   "metadata": {},
   "source": [
    " ### Addressing common issues from clean.ipynb"
   ]
  },
  {
   "cell_type": "code",
   "execution_count": 1,
   "metadata": {},
   "outputs": [],
   "source": [
    "### Filename: clean.ipynb\n",
    "### Author: Your name here.\n",
    "### Reads a file containing arbitrary text. Sanitizes the input text, removing\n",
    "### all punctuation and converting words to lowercase. Writes those words to\n",
    "### another text file in order with one word per line.\n",
    "\n",
    "# DO NOT MODIFY THIS LINE. Imports a library to check whether a file exists.\n",
    "import os\n",
    "\n",
    "# All of the punctuation characters that should be removed during data cleaning.\n",
    "PUNCTUATION = ',!.?;\"()-\\\\:\\'' \n",
    "\n",
    "# TODO: Request as input the names of two files: the input text and the\n",
    "# file to which the cleaned words should be written. Store the input\n",
    "# filename in the variable \"input_filename\" and the output filename in\n",
    "# the variable \"output_filename\"\n",
    "\n",
    "input_filename = input(\"input_filename\")\n",
    "output_filename = input(\"output_filename\")\n",
    "\n",
    "# DO NOT MODIFY THIS LINE. Retrieve the words from the specified file.\n",
    "text = open(input_filename).read()\n",
    "words = text.split()\n",
    "\n",
    "# TODO: The variable \"text\" contains the contents of the input file\n",
    "# as a string. Clean this text and produce a list of strings containing\n",
    "# the cleaned words from the text. Save this list of strings to the variable\n",
    "# \"words\".\n",
    "\n",
    "# DO NOT MODIFY ANYTHING BELOW THIS POINT.\n",
    "# Writes each item in \"words\" (a list of strings) to a text file whose name is\n",
    "# stored in \"output_filename\", one word per line. Print an error message if\n",
    "# the file already exists.\n",
    "if os.path.exists(output_filename):\n",
    "    print(\"ERROR: file {0} already exists. Quitting without saving.\".format(output_filename))\n",
    "else:\n",
    "    fp = open(output_filename, 'w')\n",
    "    fp.write('\\n'.join(words))\n",
    "    fp.close()\n"
   ]
  },
  {
   "cell_type": "code",
   "execution_count": 2,
   "metadata": {},
   "outputs": [
    {
     "data": {
      "text/plain": [
       "['CHAPTER',\n",
       " 'VII.',\n",
       " 'A',\n",
       " 'Mad',\n",
       " 'Tea-Party',\n",
       " 'There',\n",
       " 'was',\n",
       " 'a',\n",
       " 'table',\n",
       " 'set']"
      ]
     },
     "execution_count": 2,
     "metadata": {},
     "output_type": "execute_result"
    }
   ],
   "source": [
    "words[:10]"
   ]
  },
  {
   "cell_type": "markdown",
   "metadata": {},
   "source": [
    ".replace()"
   ]
  },
  {
   "cell_type": "markdown",
   "metadata": {},
   "source": [
    "### Reviewing snippets of code from student submissions\n",
    "Notice and address errors."
   ]
  },
  {
   "cell_type": "code",
   "execution_count": 3,
   "metadata": {},
   "outputs": [],
   "source": [
    "PUNCTUATION = ',!.?;\"()-\\\\:\\'' \n",
    "\n",
    "for punc in PUNCTUATION:\n",
    "    text = text.replace(punc, '')"
   ]
  },
  {
   "cell_type": "markdown",
   "metadata": {},
   "source": [
    ".lower()"
   ]
  },
  {
   "cell_type": "code",
   "execution_count": 4,
   "metadata": {},
   "outputs": [],
   "source": [
    "#student submission\n",
    "CAPITAL_LETTERS = \"ABCDEFGHIJKLMNOPQRSTUVWXYZ\"\n",
    "for capitalized_letter in CAPITAL_LETTERS:\n",
    "    text = text.lower()\n",
    "\n",
    "# more efficient way\n",
    "text = text.lower()"
   ]
  },
  {
   "cell_type": "markdown",
   "metadata": {},
   "source": [
    "Assignment objective: Remove any words that aren't just letters from list (don't remove characters that aren't letters from the word)."
   ]
  },
  {
   "cell_type": "code",
   "execution_count": 5,
   "metadata": {},
   "outputs": [
    {
     "name": "stdout",
     "output_type": "stream",
     "text": [
      "havi6ng\n",
      "thought5\n",
      "thd5eres\n",
      "tab6le\n"
     ]
    }
   ],
   "source": [
    "# demo isalpha\n",
    "\n",
    "words = text.split()\n",
    "\n",
    "for word in words:\n",
    "    if not word.isalpha():\n",
    "        print(word)"
   ]
  },
  {
   "cell_type": "markdown",
   "metadata": {},
   "source": [
    ".split()"
   ]
  },
  {
   "cell_type": "code",
   "execution_count": 6,
   "metadata": {},
   "outputs": [
    {
     "data": {
      "text/plain": [
       "['chapter', 'vii', 'a', 'mad', 'teaparty', 'there', 'was', 'a', 'table', 'set']"
      ]
     },
     "execution_count": 6,
     "metadata": {},
     "output_type": "execute_result"
    }
   ],
   "source": [
    "#submission\n",
    "words = text.replace('\\n\\n', ' ').replace('\\n', ' ').split(' ')\n",
    "\n",
    "# more efficient\n",
    "text.split()[:10]"
   ]
  },
  {
   "cell_type": "markdown",
   "metadata": {},
   "source": [
    "Storing items in lists (two examples) [house pattern]"
   ]
  },
  {
   "cell_type": "code",
   "execution_count": 7,
   "metadata": {},
   "outputs": [
    {
     "data": {
      "text/plain": [
       "['chapter', 'vii', 'a', 'mad', 'teaparty', 'there', 'was', 'a', 'table', 'set']"
      ]
     },
     "execution_count": 7,
     "metadata": {},
     "output_type": "execute_result"
    }
   ],
   "source": [
    "#remove words\n",
    "word_list = words\n",
    "clean_words = []\n",
    "\n",
    "for word in word_list:\n",
    "    # words = word.isalpha() \n",
    "    # print(words)\n",
    "\n",
    "    if word.isalpha():\n",
    "        clean_words.append(word)\n",
    "\n",
    "clean_words[:10]"
   ]
  },
  {
   "cell_type": "code",
   "execution_count": 10,
   "metadata": {},
   "outputs": [],
   "source": [
    "#demo incorrect use of loop for this purpose (iterating over string not list)\n",
    "for word in text:\n",
    "    # print(word)\n",
    "    for i in PUNCTUATION:\n",
    "        word = word.replace(i,'')"
   ]
  },
  {
   "cell_type": "markdown",
   "metadata": {},
   "source": [
    "Avoiding printing entire file as output. You can use slicing to test, and comment out testing before submitting your assignment.\n"
   ]
  },
  {
   "cell_type": "code",
   "execution_count": 9,
   "metadata": {},
   "outputs": [
    {
     "name": "stdout",
     "output_type": "stream",
     "text": [
      "['chapter', 'vii', 'a', 'mad', 'teaparty', 'there', 'was', 'a', 'table', 'set']\n"
     ]
    }
   ],
   "source": [
    "# demo\n",
    "print(words[:10])"
   ]
  }
 ],
 "metadata": {
  "kernelspec": {
   "display_name": "Python 3",
   "language": "python",
   "name": "python3"
  },
  "language_info": {
   "codemirror_mode": {
    "name": "ipython",
    "version": 3
   },
   "file_extension": ".py",
   "mimetype": "text/x-python",
   "name": "python",
   "nbconvert_exporter": "python",
   "pygments_lexer": "ipython3",
   "version": "3.12.1"
  }
 },
 "nbformat": 4,
 "nbformat_minor": 2
}
