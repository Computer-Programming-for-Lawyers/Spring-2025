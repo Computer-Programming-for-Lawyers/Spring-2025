{
 "cells": [
  {
   "cell_type": "markdown",
   "metadata": {},
   "source": [
    "# PS5 Spell Helper\n",
    "\n",
    "This notebook contains pointers for your next problem set."
   ]
  },
  {
   "cell_type": "markdown",
   "metadata": {},
   "source": [
    "## Spell Check Demo\n",
    "\n",
    "Spelling errors are commonly caused by a *stray insertion*, or an extra character that doesn't belong. Instead of spelling \"toaster\", a user might accidentally type \"toasfter.\"\n",
    "\n",
    "Our goal is to generate every possible version of the misspelled word by removing one letter at a time. In doing so, we'll generate a correctly spelled version of the word without this stray character.\n",
    "\n",
    "* delete first letter: **oasfter**\n",
    "* delete second letter: **tasfter**\n",
    "* delete third letter: **tosfter**\n",
    "* delete fourth letter: **toafter**\n",
    "* *delete fifth letter: **toaster** <- correct!*\n",
    "* delete sixth letter: **toasftr**\n",
    "* delete seventh letter: **toasfte**"
   ]
  },
  {
   "cell_type": "code",
   "execution_count": 7,
   "metadata": {},
   "outputs": [
    {
     "name": "stdout",
     "output_type": "stream",
     "text": [
      "Joined: oasfter\n",
      "Joined: tasfter\n",
      "Joined: tosfter\n",
      "Joined: toafter\n",
      "Joined: toaster\n",
      "Joined: toasfer\n",
      "Joined: toasftr\n",
      "Joined: toasfte\n"
     ]
    }
   ],
   "source": [
    "word = \"toasfter\"\n",
    "# for each character index in the length of the word\n",
    "for char_index in range(len(word)):\n",
    "    #get characters before index\n",
    "    before = word[:char_index]\n",
    "    #get characters after index\n",
    "    after = word[char_index+1:]\n",
    "    #print joined\n",
    "    print(\"Joined:\",before+after)"
   ]
  },
  {
   "cell_type": "code",
   "execution_count": 8,
   "metadata": {},
   "outputs": [
    {
     "name": "stdout",
     "output_type": "stream",
     "text": [
      "False\n"
     ]
    }
   ],
   "source": [
    "correct_words = [\"microwave\",\"oven\",\"fridge\",\"toaster\"]\n",
    "misspelled_word = \"toasfter\"\n",
    "\n",
    "print(misspelled_word in correct_words)"
   ]
  },
  {
   "cell_type": "markdown",
   "metadata": {},
   "source": [
    "## Working with Multiple Lists"
   ]
  },
  {
   "cell_type": "markdown",
   "metadata": {},
   "source": [
    "Revisiting copyright."
   ]
  },
  {
   "cell_type": "code",
   "execution_count": null,
   "metadata": {},
   "outputs": [],
   "source": [
    "\n",
    "# set valid default value\n",
    "go_again = \"Yes\"\n",
    "\n",
    "while go_again == \"Yes\" or go_again == \"yes\" or go_again == \"y\":\n",
    "\n",
    "    # copyright code would go here\n",
    "    # ...\n",
    "\n",
    "    # ask if they want to analyze another work\n",
    "    go_again = input(\"Do you want to analyze another work? \")"
   ]
  },
  {
   "cell_type": "code",
   "execution_count": 9,
   "metadata": {},
   "outputs": [
    {
     "name": "stdout",
     "output_type": "stream",
     "text": [
      "copyright code would go here\n",
      "copyright code would go here\n",
      "copyright code would go here\n",
      "copyright code would go here\n"
     ]
    }
   ],
   "source": [
    "# but what if you have lots of values you want to accept?\n",
    "# how do you check if items in one list are in another list?\n",
    "\n",
    "valid_answers = [\"Yes\",\"yes\",\"y\",\"yup\",\"sure\",\"Y\",\"ya\",\"yeah\"]\n",
    "\n",
    "go_again = \"ya\"\n",
    "\n",
    "while go_again in valid_answers:\n",
    "    \n",
    "    print(\"copyright code would go here\")\n",
    "\n",
    "    go_again = input(\"Would you like to analyze another work? \")"
   ]
  },
  {
   "cell_type": "markdown",
   "metadata": {},
   "source": [
    "Another activity: Figuring out who voted on Election Day."
   ]
  },
  {
   "cell_type": "code",
   "execution_count": 12,
   "metadata": {},
   "outputs": [
    {
     "name": "stdout",
     "output_type": "stream",
     "text": [
      "RV voted on ED: Maria\n",
      "RV voted on ED: Sofia\n",
      "RV voted on ED: Eleanor\n",
      "ED voter not registered before: Omar\n",
      "ED voter not registered before: Sebastian\n"
     ]
    }
   ],
   "source": [
    "registered_voters = [\"Hassan\", \"Maria\", \"Jamal\", \"Sofia\", \"Eleanor\", \"Raj\"]\n",
    "voted_today = [\"Maria\", \"Sofia\", \"Eleanor\", \"Omar\",\"Sebastian\"]\n",
    "\n",
    "# print the registered voters that cast a ballot\n",
    "for voter in registered_voters:\n",
    "    if voter in voted_today:\n",
    "        print(\"RV voted on ED:\",voter)\n",
    "\n",
    "\n",
    "# print those that used Same Day Registration (those who weren't previously registered)\n",
    "for voter in voted_today:\n",
    "    if voter not in registered_voters:\n",
    "        print(\"ED voter not registered before:\",voter)"
   ]
  }
 ],
 "metadata": {
  "kernelspec": {
   "display_name": "Python 3",
   "language": "python",
   "name": "python3"
  },
  "language_info": {
   "codemirror_mode": {
    "name": "ipython",
    "version": 3
   },
   "file_extension": ".py",
   "mimetype": "text/x-python",
   "name": "python",
   "nbconvert_exporter": "python",
   "pygments_lexer": "ipython3",
   "version": "3.9.6"
  }
 },
 "nbformat": 4,
 "nbformat_minor": 2
}
