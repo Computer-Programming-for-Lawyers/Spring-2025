{
 "cells": [
  {
   "cell_type": "markdown",
   "metadata": {},
   "source": [
    "# PS5 Spell Helper\n",
    "\n",
    "This notebook contains pointers for your next problem set."
   ]
  },
  {
   "cell_type": "markdown",
   "metadata": {},
   "source": [
    "## Spell Check Demo\n",
    "\n",
    "Spelling errors are commonly caused by a *stray insertion*, or an extra character that doesn't belong. Instead of spelling \"toaster\", a user might accidentally type \"toasfter.\"\n",
    "\n",
    "Our goal is to generate every possible version of the misspelled word by removing one letter at a time. In doing so, we'll generate a correctly spelled version of the word without this stray character.\n",
    "\n",
    "* delete first letter: **oasfter**\n",
    "* delete second letter: **tasfter**\n",
    "* delete third letter: **tosfter**\n",
    "* delete fourth letter: **toafter**\n",
    "* *delete fifth letter: **toaster** <- correct!*\n",
    "* delete sixth letter: **toasftr**\n",
    "* delete seventh letter: **toasfte**"
   ]
  },
  {
   "cell_type": "code",
   "execution_count": null,
   "metadata": {},
   "outputs": [
    {
     "name": "stdout",
     "output_type": "stream",
     "text": [
      "False\n"
     ]
    }
   ],
   "source": [
    "correct_words = [\"microwave\",\"oven\",\"fridge\",\"toaster\"]\n",
    "misspelled_word = \"toasfter\"\n",
    "\n",
    "print(misspelled_word in correct_words)"
   ]
  },
  {
   "cell_type": "code",
   "execution_count": null,
   "metadata": {},
   "outputs": [],
   "source": [
    "# apply the stray insertion hueristic\n"
   ]
  },
  {
   "cell_type": "markdown",
   "metadata": {},
   "source": [
    "## Working with Multiple Lists"
   ]
  },
  {
   "cell_type": "markdown",
   "metadata": {},
   "source": [
    "Revisiting copyright."
   ]
  },
  {
   "cell_type": "code",
   "execution_count": null,
   "metadata": {},
   "outputs": [],
   "source": [
    "\n",
    "# set valid default value\n",
    "go_again = \"Yes\"\n",
    "\n",
    "while go_again == \"Yes\" or go_again == \"yes\" or go_again == \"y\":\n",
    "\n",
    "    # copyright code would go here\n",
    "    # ...\n",
    "\n",
    "    # ask if they want to analyze another work\n",
    "    go_again = input(\"Do you want to analyze another work? \")"
   ]
  },
  {
   "cell_type": "code",
   "execution_count": null,
   "metadata": {},
   "outputs": [],
   "source": [
    "# but what if you have lots of values you want to accept?\n",
    "# how do you check if items in one list are in another list?\n",
    "\n",
    "valid_answers = [\"Yes\",\"yes\",\"y\",\"yup\",\"sure\",\"Y\",\"ya\",\"yeah\"]\n",
    "\n"
   ]
  },
  {
   "cell_type": "markdown",
   "metadata": {},
   "source": [
    "Another activity: Figuring out who voted on Election Day."
   ]
  },
  {
   "cell_type": "code",
   "execution_count": null,
   "metadata": {},
   "outputs": [],
   "source": [
    "registered_voters = [\"Hassan\", \"Maria\", \"Jamal\", \"Sofia\", \"Eleanor\", \"Raj\"]\n",
    "voted_today = [\"Maria\", \"Sofia\", \"Eleanor\", \"Omar\",\"Sebastian\"]\n",
    "\n",
    "# print the registered voters that cast a ballot\n",
    "\n",
    "# print those that used Same Day Registration (those who weren't previously registered)"
   ]
  }
 ],
 "metadata": {
  "kernelspec": {
   "display_name": "Python 3",
   "language": "python",
   "name": "python3"
  },
  "language_info": {
   "codemirror_mode": {
    "name": "ipython",
    "version": 3
   },
   "file_extension": ".py",
   "mimetype": "text/x-python",
   "name": "python",
   "nbconvert_exporter": "python",
   "pygments_lexer": "ipython3",
   "version": "3.9.6"
  }
 },
 "nbformat": 4,
 "nbformat_minor": 2
}
