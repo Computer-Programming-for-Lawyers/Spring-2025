{
 "cells": [
  {
   "cell_type": "code",
   "execution_count": 2,
   "metadata": {},
   "outputs": [],
   "source": [
    "import pandas as pd\n",
    "\n",
    "working_days = pd.read_csv(\"2022-2024_complete_clean.csv\")\n",
    "working_days.drop([\"Time Convened\",\"Time Adjourned\",\"Time in Session (minutes)\",\"Working Day? (x = working day, pf = pro forma, NS = not in session)\"],axis=1,inplace=True)\n",
    "working_days = working_days[~working_days[\"Scraped adjournment string\"].isna()]"
   ]
  },
  {
   "cell_type": "code",
   "execution_count": 3,
   "metadata": {},
   "outputs": [],
   "source": [
    "adjournment_strings = list(working_days[\"Scraped adjournment string\"])\n",
    "\n",
    "# save to text file to provide to students\n",
    "with open(\"/Users/rachelorey/Documents/vs code/course/spring-2025/week5/lecture/working-days/adjournment_strings.txt\", \"w\") as file:\n",
    "    file.write(\"\\n\".join(adjournment_strings))"
   ]
  },
  {
   "cell_type": "code",
   "execution_count": 4,
   "metadata": {},
   "outputs": [],
   "source": [
    "## GOAL CODE\n",
    "\n",
    "# provided dictionaries\n",
    "house = {\"pro forma\":0,\"not in session\":0,\"other\":0}\n",
    "senate = {\"pro forma\":0,\"not in session\":0,\"other\":0}\n",
    "\n",
    "# loop over adjournment strings \n",
    "for string in adjournment_strings:\n",
    "    if \"House\" in string:\n",
    "        if \"not in session\" in string.lower():\n",
    "            house[\"not in session\"] += 1\n",
    "        elif \"pro forma\" in string.lower():\n",
    "            house[\"pro forma\"] += 1\n",
    "        else:\n",
    "            house[\"other\"] += 1\n",
    "\n",
    "    elif \"Senate\" in string:\n",
    "        if \"not in session\" in string.lower():\n",
    "            senate[\"not in session\"] += 1\n",
    "        elif \"pro forma\" in string.lower():\n",
    "            senate[\"pro forma\"] += 1\n",
    "        else:\n",
    "            senate[\"other\"] += 1\n"
   ]
  },
  {
   "cell_type": "code",
   "execution_count": 5,
   "metadata": {},
   "outputs": [
    {
     "name": "stdout",
     "output_type": "stream",
     "text": [
      "Senate:\n",
      " {'pro forma': 157, 'not in session': 67, 'other': 237}\n",
      "House:\n",
      " {'pro forma': 0, 'not in session': 89, 'other': 514}\n"
     ]
    }
   ],
   "source": [
    "print(\"Senate:\\n\",senate)\n",
    "print(\"House:\\n\",house)"
   ]
  },
  {
   "cell_type": "code",
   "execution_count": 6,
   "metadata": {},
   "outputs": [
    {
     "data": {
      "text/plain": [
       "{'pro forma': 0, 'not in session': 89, 'other': 514}"
      ]
     },
     "execution_count": 6,
     "metadata": {},
     "output_type": "execute_result"
    }
   ],
   "source": [
    "house"
   ]
  }
 ],
 "metadata": {
  "kernelspec": {
   "display_name": "Python 3",
   "language": "python",
   "name": "python3"
  },
  "language_info": {
   "codemirror_mode": {
    "name": "ipython",
    "version": 3
   },
   "file_extension": ".py",
   "mimetype": "text/x-python",
   "name": "python",
   "nbconvert_exporter": "python",
   "pygments_lexer": "ipython3",
   "version": "3.9.6"
  }
 },
 "nbformat": 4,
 "nbformat_minor": 2
}
