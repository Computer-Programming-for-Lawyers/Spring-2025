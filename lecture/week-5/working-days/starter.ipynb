{
 "cells": [
  {
   "cell_type": "markdown",
   "metadata": {},
   "source": [
    "## Working Days In-Class Activity"
   ]
  },
  {
   "cell_type": "code",
   "execution_count": 51,
   "metadata": {},
   "outputs": [],
   "source": [
    "# load pre-processed list of adjournment strings into a list, seperated by line breaks\n",
    "adjournment_strings = open(\"adjournment_strings.txt\").read().split(\"\\n\")"
   ]
  },
  {
   "cell_type": "code",
   "execution_count": 50,
   "metadata": {},
   "outputs": [
    {
     "name": "stdout",
     "output_type": "stream",
     "text": [
      "The House was not in session today. The House is scheduled to meet in Pro Forma session at 12 p.m. on Thursday January 6 2022. \n",
      "\n",
      "The House was not in session today. The House is scheduled to meet in Pro Forma session at 12 p.m. on Thursday January 6 2022.No hearings were held.  \n",
      "\n",
      "Adjournment:  The House met at 12 p.m. and adjourned at 12:09 p.m.   \n",
      "\n",
      "The House was not in session today. The House is scheduled to meet at 6:30 p.m. on Monday January 10 2022. \n",
      "\n",
      "The House was not in session today. The House is scheduled to meet at 6:30 p.m. on Monday January 10 2022.No hearings were held. \n",
      "\n"
     ]
    }
   ],
   "source": [
    "# print first 5 adjournment strings\n",
    "for i in range(5):\n",
    "    print(adjournment_strings[i],\"\\n\")"
   ]
  },
  {
   "cell_type": "markdown",
   "metadata": {},
   "source": [
    "**Task: Count how many days fall into each category**  \n",
    "\n",
    "* Iterate through `adjournment_strings` using a **for loop**.  \n",
    "* Check if the description contains **\"House\"** or **\"Senate\"**.  \n",
    "* Use **if statements** to determine whether the session was **pro forma, not in session, or other**. Count it as pro forma if the string includes \"pro forma\", as not in session if the string includes \"not in session\", and as other for all other categories.\n",
    "* Store the counts in the dictionary provided.  "
   ]
  },
  {
   "cell_type": "code",
   "execution_count": null,
   "metadata": {},
   "outputs": [],
   "source": [
    "# starter dictionary\n",
    "house = {\"pro forma\": 0, \"not in session\": 0, \"other\": 0}\n",
    "senate = {\"pro forma\": 0, \"not in session\": 0, \"other\": 0}"
   ]
  }
 ],
 "metadata": {
  "kernelspec": {
   "display_name": "Python 3",
   "language": "python",
   "name": "python3"
  },
  "language_info": {
   "codemirror_mode": {
    "name": "ipython",
    "version": 3
   },
   "file_extension": ".py",
   "mimetype": "text/x-python",
   "name": "python",
   "nbconvert_exporter": "python",
   "pygments_lexer": "ipython3",
   "version": "3.9.6"
  }
 },
 "nbformat": 4,
 "nbformat_minor": 2
}
