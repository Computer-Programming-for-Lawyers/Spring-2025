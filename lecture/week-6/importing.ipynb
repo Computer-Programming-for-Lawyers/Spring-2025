{
 "cells": [
  {
   "cell_type": "markdown",
   "metadata": {},
   "source": [
    "# Modules and Imports\n",
    "\n",
    "A module is a collection of related functions or definitions you can use in your Python programs.\n",
    "\n",
    "Other terms you might hear: Libraries or Packages — for our purposes, these terms are interchangeable.\n",
    "\n",
    "#### Difference between .py and .ipynb files for Modules\n",
    "\n",
    "File Extension\n",
    "- Python files end in `.py` while Jupyter Notebooks end in `.ipynb`.\n",
    "\n",
    "Purpose\n",
    "- `.py` files are Python script files.\n",
    "- `.ipynb` files are Jupyter Notebook files that can contain both code and text.\n",
    "\n",
    "Execution\n",
    "- `.py` files are executed directly from the command line.\n",
    "- `.ipynb` files are run within a Jupyter Notebook environment.\n",
    "\n",
    "Modules\n",
    "- `.py` files can be imported as modules in other Python scripts.\n",
    "- `.ipynb` files can be used to import and run reproducible modules.\n"
   ]
  },
  {
   "cell_type": "code",
   "execution_count": null,
   "metadata": {},
   "outputs": [
    {
     "name": "stdout",
     "output_type": "stream",
     "text": [
      "You just ran the lec6_library file\n"
     ]
    }
   ],
   "source": [
    "# build a file for funtions we defined today and import it\n",
    "\n",
    "import lec6_library # importing a python file runs everything in the file\n"
   ]
  },
  {
   "cell_type": "code",
   "execution_count": 2,
   "metadata": {},
   "outputs": [
    {
     "ename": "NameError",
     "evalue": "name 'times_two' is not defined",
     "output_type": "error",
     "traceback": [
      "\u001b[0;31m---------------------------------------------------------------------------\u001b[0m",
      "\u001b[0;31mNameError\u001b[0m                                 Traceback (most recent call last)",
      "Cell \u001b[0;32mIn[2], line 2\u001b[0m\n\u001b[1;32m      1\u001b[0m \u001b[38;5;66;03m#call function\u001b[39;00m\n\u001b[0;32m----> 2\u001b[0m \u001b[43mtimes_two\u001b[49m(\u001b[38;5;241m6\u001b[39m)\n",
      "\u001b[0;31mNameError\u001b[0m: name 'times_two' is not defined"
     ]
    }
   ],
   "source": [
    "#call function\n",
    "times_two(6)"
   ]
  },
  {
   "cell_type": "code",
   "execution_count": null,
   "metadata": {},
   "outputs": [
    {
     "data": {
      "text/plain": [
       "(4, 8)"
      ]
     },
     "execution_count": 5,
     "metadata": {},
     "output_type": "execute_result"
    }
   ],
   "source": [
    "#have to put name of library before function call\n",
    "lec6_library.times_two(4)"
   ]
  },
  {
   "cell_type": "code",
   "execution_count": 2,
   "metadata": {},
   "outputs": [
    {
     "name": "stdout",
     "output_type": "stream",
     "text": [
      "Hello world!\n",
      "Hello world!\n",
      "Hello world!\n",
      "Hello world!\n",
      "Hello world!\n"
     ]
    }
   ],
   "source": [
    "lec6_library.hello_world_multiple(5)"
   ]
  },
  {
   "cell_type": "code",
   "execution_count": null,
   "metadata": {},
   "outputs": [],
   "source": []
  },
  {
   "cell_type": "code",
   "execution_count": null,
   "metadata": {},
   "outputs": [
    {
     "name": "stdout",
     "output_type": "stream",
     "text": [
      "You just ran the lec6_library file\n"
     ]
    },
    {
     "data": {
      "text/plain": [
       "<module 'lec6_library' from '/Users/rachelorey/Documents/vs code/Spring-2025/lecture/week-6/lecture/lec6_library.py'>"
      ]
     },
     "execution_count": 3,
     "metadata": {},
     "output_type": "execute_result"
    }
   ],
   "source": [
    "import lec6_library # importing a python file runs everything in the file\n",
    "\n",
    "# this makes sure any edits to lec6_library get reflected in your jupyter notebook\n",
    "import importlib \n",
    "importlib.reload(lec6_library)"
   ]
  }
 ],
 "metadata": {
  "kernelspec": {
   "display_name": "Python 3",
   "language": "python",
   "name": "python3"
  },
  "language_info": {
   "codemirror_mode": {
    "name": "ipython",
    "version": 3
   },
   "file_extension": ".py",
   "mimetype": "text/x-python",
   "name": "python",
   "nbconvert_exporter": "python",
   "pygments_lexer": "ipython3",
   "version": "3.9.6"
  }
 },
 "nbformat": 4,
 "nbformat_minor": 2
}
