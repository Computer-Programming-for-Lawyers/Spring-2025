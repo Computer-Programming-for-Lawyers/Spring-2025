{
 "cells": [
  {
   "cell_type": "markdown",
   "metadata": {},
   "source": [
    "# Week 6: Functions\n"
   ]
  },
  {
   "cell_type": "markdown",
   "metadata": {},
   "source": [
    "## Defining and using functions\n",
    "First, type the keyword def, then the name of the function, two parentheses, and a colon."
   ]
  },
  {
   "cell_type": "code",
   "execution_count": 75,
   "metadata": {},
   "outputs": [],
   "source": [
    "# define a function -- hello_world -- with no arguments, print \"Hello, World!\"\n",
    "\n",
    "def hello_world():\n",
    "    print(\"Hello world!\")"
   ]
  },
  {
   "cell_type": "code",
   "execution_count": 76,
   "metadata": {},
   "outputs": [
    {
     "name": "stdout",
     "output_type": "stream",
     "text": [
      "Hello world!\n"
     ]
    }
   ],
   "source": [
    "# You have to \"call\" the function for the code to execute.\n",
    "hello_world()"
   ]
  },
  {
   "cell_type": "code",
   "execution_count": 77,
   "metadata": {},
   "outputs": [],
   "source": [
    "# you can call functions from other functions\n",
    "\n",
    "def hello_world_multiple(number_of_times):\n",
    "    \"\"\"\n",
    "    print hello world the amount of times the user says\n",
    "    \"\"\"\n",
    "    for i in range(number_of_times):\n",
    "        hello_world() # call original function"
   ]
  },
  {
   "cell_type": "code",
   "execution_count": 78,
   "metadata": {},
   "outputs": [
    {
     "name": "stdout",
     "output_type": "stream",
     "text": [
      "Hello world!\n",
      "Hello world!\n",
      "Hello world!\n",
      "Hello world!\n",
      "Hello world!\n"
     ]
    }
   ],
   "source": [
    "hello_world_multiple(5)"
   ]
  },
  {
   "cell_type": "code",
   "execution_count": 79,
   "metadata": {},
   "outputs": [],
   "source": [
    "# take as input the number of times\n",
    "\n",
    "def hello_world_input():\n",
    "    number_of_times = int(input(\"How many times would you like to print Hello World?\"))\n",
    "    for i in range (number_of_times):\n",
    "        hello_world() #original function - prints hello world"
   ]
  },
  {
   "cell_type": "code",
   "execution_count": 80,
   "metadata": {},
   "outputs": [
    {
     "name": "stdout",
     "output_type": "stream",
     "text": [
      "Hello world!\n",
      "Hello world!\n",
      "Hello world!\n",
      "Hello world!\n",
      "Hello world!\n",
      "Hello world!\n",
      "Hello world!\n"
     ]
    }
   ],
   "source": [
    "hello_world_input()"
   ]
  },
  {
   "cell_type": "code",
   "execution_count": 81,
   "metadata": {},
   "outputs": [],
   "source": [
    "# define simple function print \"Today is March 17th\"\n",
    "\n",
    "def print_today():\n",
    "    today = input(\"What is today's date?\")\n",
    "    print(f\"Today is: {today}\")"
   ]
  },
  {
   "cell_type": "code",
   "execution_count": 82,
   "metadata": {},
   "outputs": [
    {
     "name": "stdout",
     "output_type": "stream",
     "text": [
      "Today is: August 9th\n"
     ]
    }
   ],
   "source": [
    "# alternative approach: take the \"input\" as a parameter in the function signature\n",
    "\n",
    "def print_today(today):\n",
    "    print(f\"Today is: {today}\")\n",
    "\n",
    "print_today(\"August 9th\")"
   ]
  },
  {
   "cell_type": "markdown",
   "metadata": {},
   "source": [
    "## Arguments"
   ]
  },
  {
   "cell_type": "markdown",
   "metadata": {},
   "source": [
    "Functions typically take inputs, perform operations on those inputs, and return the result of those operations."
   ]
  },
  {
   "cell_type": "code",
   "execution_count": null,
   "metadata": {},
   "outputs": [],
   "source": [
    "# define simple function -- times_two -- to print the parameter multiplied by two\n",
    "\n",
    "def times_two(number_parameter):\n",
    "    print(number_parameter*2)"
   ]
  },
  {
   "cell_type": "code",
   "execution_count": 84,
   "metadata": {},
   "outputs": [
    {
     "name": "stdout",
     "output_type": "stream",
     "text": [
      "18\n"
     ]
    }
   ],
   "source": [
    "# call the function\n",
    "times_two(9)"
   ]
  },
  {
   "cell_type": "markdown",
   "metadata": {},
   "source": [
    "When you call the function, you have to provide the required number of arguments. Python will yell at you if you provide any other number."
   ]
  },
  {
   "cell_type": "code",
   "execution_count": 85,
   "metadata": {},
   "outputs": [
    {
     "ename": "TypeError",
     "evalue": "times_two() missing 1 required positional argument: 'number_parameter'",
     "output_type": "error",
     "traceback": [
      "\u001b[0;31m---------------------------------------------------------------------------\u001b[0m",
      "\u001b[0;31mTypeError\u001b[0m                                 Traceback (most recent call last)",
      "Cell \u001b[0;32mIn[85], line 2\u001b[0m\n\u001b[1;32m      1\u001b[0m \u001b[38;5;66;03m# Calling a function with the wrong number of arguments will result in an error\u001b[39;00m\n\u001b[0;32m----> 2\u001b[0m \u001b[43mtimes_two\u001b[49m\u001b[43m(\u001b[49m\u001b[43m)\u001b[49m\n",
      "\u001b[0;31mTypeError\u001b[0m: times_two() missing 1 required positional argument: 'number_parameter'"
     ]
    }
   ],
   "source": [
    "# Calling a function with the wrong number of arguments will result in an error\n",
    "times_two()"
   ]
  },
  {
   "cell_type": "markdown",
   "metadata": {},
   "source": [
    "The variables you create inside functions *only* exist within the function. This is very similar to our for-loops, which also implicitly create a variable before each time that the body of the loop executes."
   ]
  },
  {
   "cell_type": "code",
   "execution_count": 89,
   "metadata": {},
   "outputs": [],
   "source": [
    "def message(year):\n",
    "    s = f\"The year is {year}\"\n",
    "    print(s)"
   ]
  },
  {
   "cell_type": "code",
   "execution_count": 90,
   "metadata": {},
   "outputs": [
    {
     "name": "stdout",
     "output_type": "stream",
     "text": [
      "The year is 2025\n"
     ]
    }
   ],
   "source": [
    "message(2025)"
   ]
  },
  {
   "cell_type": "code",
   "execution_count": 91,
   "metadata": {},
   "outputs": [
    {
     "ename": "NameError",
     "evalue": "name 'year' is not defined",
     "output_type": "error",
     "traceback": [
      "\u001b[0;31m---------------------------------------------------------------------------\u001b[0m",
      "\u001b[0;31mNameError\u001b[0m                                 Traceback (most recent call last)",
      "Cell \u001b[0;32mIn[91], line 1\u001b[0m\n\u001b[0;32m----> 1\u001b[0m \u001b[38;5;28mprint\u001b[39m(\u001b[43myear\u001b[49m)\n",
      "\u001b[0;31mNameError\u001b[0m: name 'year' is not defined"
     ]
    }
   ],
   "source": [
    "print(year)"
   ]
  },
  {
   "cell_type": "markdown",
   "metadata": {},
   "source": [
    "You can have **more than one argument** in a function.  The argument variables should have descriptive names."
   ]
  },
  {
   "cell_type": "code",
   "execution_count": 92,
   "metadata": {},
   "outputs": [],
   "source": [
    "# add day to message\n",
    "def message(year,date):\n",
    "    s = f\"The year is {year}. The date is {date}.\"\n",
    "    print(s)"
   ]
  },
  {
   "cell_type": "code",
   "execution_count": 93,
   "metadata": {},
   "outputs": [
    {
     "name": "stdout",
     "output_type": "stream",
     "text": [
      "The year is 2025. The date is March 17th.\n"
     ]
    }
   ],
   "source": [
    "message(2025,\"March 17th\") # provide the arguments in the order in which you defined the function"
   ]
  },
  {
   "cell_type": "markdown",
   "metadata": {},
   "source": [
    "The **order** of the arguments matters a lot. Provide inputs in the same order that they were defined."
   ]
  },
  {
   "cell_type": "code",
   "execution_count": 95,
   "metadata": {},
   "outputs": [
    {
     "name": "stdout",
     "output_type": "stream",
     "text": [
      "The year is March 17. The date is 2010.\n"
     ]
    }
   ],
   "source": [
    "day_input = \"March 17\"\n",
    "year_input = 2010\n",
    "\n",
    "message(day_input,year_input) # defined function as def message(year,date)"
   ]
  },
  {
   "cell_type": "markdown",
   "metadata": {},
   "source": [
    "#### Keyword Arguments\n",
    "You can also send arguments with the key = value syntax. This way the order of the arguments does not matter. But we don't recommend it, just use the correct order."
   ]
  },
  {
   "cell_type": "code",
   "execution_count": null,
   "metadata": {},
   "outputs": [],
   "source": [
    "def message(year,date):\n",
    "    s = f\"The year is {year}. The date is {date}.\"\n",
    "    print(s)"
   ]
  },
  {
   "cell_type": "code",
   "execution_count": null,
   "metadata": {},
   "outputs": [
    {
     "name": "stdout",
     "output_type": "stream",
     "text": [
      "The year is March 20. The date is 1910.\n"
     ]
    }
   ],
   "source": [
    "# here, order is wrong so the result is wrong\n",
    "message(\"March 20\",1910)"
   ]
  },
  {
   "cell_type": "code",
   "execution_count": null,
   "metadata": {},
   "outputs": [
    {
     "name": "stdout",
     "output_type": "stream",
     "text": [
      "The year is 1910. The date is March 20.\n"
     ]
    }
   ],
   "source": [
    "# with keyword argument, order doesn't matter\n",
    "message(date = \"March 20\", year = 1910)"
   ]
  },
  {
   "cell_type": "code",
   "execution_count": 96,
   "metadata": {},
   "outputs": [
    {
     "ename": "SyntaxError",
     "evalue": "positional argument follows keyword argument (203719464.py, line 2)",
     "output_type": "error",
     "traceback": [
      "\u001b[0;36m  Cell \u001b[0;32mIn[96], line 2\u001b[0;36m\u001b[0m\n\u001b[0;31m    message(day = \"March 20\", year)\u001b[0m\n\u001b[0m                                  ^\u001b[0m\n\u001b[0;31mSyntaxError\u001b[0m\u001b[0;31m:\u001b[0m positional argument follows keyword argument\n"
     ]
    }
   ],
   "source": [
    "# once you use one keyword argument, all arguments that follow have to be keyword too \n",
    "message(day = \"March 20\", year)"
   ]
  },
  {
   "cell_type": "code",
   "execution_count": 97,
   "metadata": {},
   "outputs": [
    {
     "name": "stdout",
     "output_type": "stream",
     "text": [
      "The year is 1910. The date is March 20.\n"
     ]
    }
   ],
   "source": [
    "# okay if you put non-keyword argument first (as long as order is correct) \n",
    "# then keyword argument after\n",
    "message(1910,date = \"March 20\")"
   ]
  },
  {
   "cell_type": "markdown",
   "metadata": {},
   "source": [
    "#### Default Arguments\n",
    "Far more useful! Default arguments in a function allow you to specify default values for parameters, so if the caller of the function does not provide a value for those parameters, the default value will be used. This makes the function more flexible and easier to use in different scenarios without requiring the caller to always specify every argument."
   ]
  },
  {
   "cell_type": "code",
   "execution_count": 98,
   "metadata": {},
   "outputs": [
    {
     "name": "stdout",
     "output_type": "stream",
     "text": [
      "Hello Bob\n"
     ]
    }
   ],
   "source": [
    "def greet(name, greeting=\"Hello\"): #greeting will always be hello unless another value provided\n",
    "    print(greeting, name)\n",
    "\n",
    "# calling greet with only the 'name' argument\n",
    "greet(\"Bob\")"
   ]
  },
  {
   "cell_type": "code",
   "execution_count": 100,
   "metadata": {},
   "outputs": [
    {
     "name": "stdout",
     "output_type": "stream",
     "text": [
      "Hi Alice\n"
     ]
    }
   ],
   "source": [
    "# calling greet with both arguments, overrides default\n",
    "greet(\"Alice\", \"Hi\")"
   ]
  },
  {
   "cell_type": "markdown",
   "metadata": {},
   "source": [
    "## Return values\n",
    "Functions can do much more than just print. Functions typically return a value (or collection of values) that you can use later in your code.\n",
    "\n",
    "Think about the functions we've used so far:\n",
    "* `len` evaluates to the integer length of the list.\n",
    "* `sorted` evalutes to a copy of the list placed in ascending order."
   ]
  },
  {
   "cell_type": "code",
   "execution_count": null,
   "metadata": {},
   "outputs": [
    {
     "data": {
      "text/plain": [
       "25"
      ]
     },
     "execution_count": 52,
     "metadata": {},
     "output_type": "execute_result"
    }
   ],
   "source": [
    "length_store = len(\"hello\")\n",
    "length_store*5 # \"return\" gives you a value you can use later, like with len"
   ]
  },
  {
   "cell_type": "code",
   "execution_count": null,
   "metadata": {},
   "outputs": [],
   "source": [
    "# adjust times_two function to RETURN value\n",
    "\n",
    "def times_two(number_parameter):\n",
    "    return(number_parameter*2) # have to use return if you want to refernce a value later"
   ]
  },
  {
   "cell_type": "code",
   "execution_count": null,
   "metadata": {},
   "outputs": [
    {
     "data": {
      "text/plain": [
       "'The returned value is 10'"
      ]
     },
     "execution_count": 60,
     "metadata": {},
     "output_type": "execute_result"
    }
   ],
   "source": [
    "number = times_two(5)\n",
    "f\"The returned value is {number}\""
   ]
  },
  {
   "cell_type": "markdown",
   "metadata": {},
   "source": [
    "You can have multiple return values."
   ]
  },
  {
   "cell_type": "code",
   "execution_count": null,
   "metadata": {},
   "outputs": [
    {
     "data": {
      "text/plain": [
       "(5, 10)"
      ]
     },
     "execution_count": 62,
     "metadata": {},
     "output_type": "execute_result"
    }
   ],
   "source": [
    "# return original and multiplied value\n",
    "\n",
    "def times_two(number_parameter):\n",
    "    return(number_parameter, number_parameter*2)\n",
    "\n",
    "original_number, new_number = times_two(5)"
   ]
  },
  {
   "cell_type": "markdown",
   "metadata": {},
   "source": [
    "Return is like break - nothing happens after calling return."
   ]
  },
  {
   "cell_type": "code",
   "execution_count": null,
   "metadata": {},
   "outputs": [
    {
     "data": {
      "text/plain": [
       "(5, 10)"
      ]
     },
     "execution_count": 64,
     "metadata": {},
     "output_type": "execute_result"
    }
   ],
   "source": [
    "def times_two(number_parameter):\n",
    "    return(number_parameter, number_parameter*2)\n",
    "    print(\"Operation successful!\")\n",
    "\n",
    "times_two(5)"
   ]
  },
  {
   "cell_type": "markdown",
   "metadata": {},
   "source": [
    "## Function signatures\n",
    "A function signature describes the structure of a function—its name, parameters, and the type of values it expects or returns. Here's how to understand a typical function signature: `def example_function(param1: int, param2: str = \"default\") -> bool:`\n",
    "\n",
    "* `def`: Defines a new function.\n",
    "* `example_function`: The name of the function.\n",
    "* `param1: int`: The first parameter, param1, is required and should be an integer. `: int` is optional.\n",
    "* `param2: str = \"default\"`: The second parameter is a string, with a default value of \"default\". It's optional when calling the function.\n",
    "* `-> bool`: This hints that the function will return a boolean value."
   ]
  },
  {
   "cell_type": "code",
   "execution_count": null,
   "metadata": {},
   "outputs": [],
   "source": [
    "# let's create a more detailed function signature for times_two\n",
    "\n",
    "def times_two(number_parameter: int) -> tuple:\n",
    "    return(number_parameter, number_parameter*2)"
   ]
  },
  {
   "cell_type": "markdown",
   "metadata": {},
   "source": [
    "A **docstring** is a special string used to document a function in Python. It is placed immediately after the function or class definition and explains how the code works or how to use it.\n",
    "\n",
    "Triple quotes (\"\"\") to define the docstring, which can span multiple lines.\n"
   ]
  },
  {
   "cell_type": "code",
   "execution_count": null,
   "metadata": {},
   "outputs": [],
   "source": [
    "# now let's add a docstring\n",
    "def times_two(number_parameter: int) -> tuple:\n",
    "    \"\"\"\n",
    "    Takes as a parameter a number and returns that number and itself times two.\n",
    "    \"\"\"\n",
    "    return(number_parameter, number_parameter*2)"
   ]
  }
 ],
 "metadata": {
  "kernelspec": {
   "display_name": "Python 3",
   "language": "python",
   "name": "python3"
  },
  "language_info": {
   "codemirror_mode": {
    "name": "ipython",
    "version": 3
   },
   "file_extension": ".py",
   "mimetype": "text/x-python",
   "name": "python",
   "nbconvert_exporter": "python",
   "pygments_lexer": "ipython3",
   "version": "3.9.6"
  }
 },
 "nbformat": 4,
 "nbformat_minor": 2
}
