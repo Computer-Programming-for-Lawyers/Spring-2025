{
 "cells": [
  {
   "cell_type": "markdown",
   "metadata": {},
   "source": [
    "# Problem Set 6 Pointers\n",
    "Problem set 6 seems confusing, but the task itself is quite simple: You will convert PDFs to text and redact (\"replace\") specified values from a dictionary. Once redacted, you'll save the new text as a .txt file and create a report of your findings.\n",
    "\n",
    "The goal of the problem set is to get you more comfortable with creating functions, working with directories, and importing modules. This file includes some helpful tools you may need during your problem set.\n",
    "\n",
    "**How the problem set works**:\n",
    "\n",
    "* We provide you with a series of function signatures and docstrings that tell you what the function is supposed to do. \n",
    "* You need to complete the functions and properly import the library you create in your main.ipynb file."
   ]
  },
  {
   "cell_type": "markdown",
   "metadata": {},
   "source": [
    "### Sorted Function vs Sort Method"
   ]
  },
  {
   "cell_type": "code",
   "execution_count": 1,
   "metadata": {},
   "outputs": [
    {
     "name": "stdout",
     "output_type": "stream",
     "text": [
      "Result of .sort() method: None\n",
      "Original list after .sort(): [1, 2, 5, 7, 9]\n",
      "Result of sorted() function: [1, 2, 5, 7, 9]\n",
      "Original list after sorted(): [5, 2, 9, 1, 7]\n"
     ]
    }
   ],
   "source": [
    "#original list\n",
    "my_list = [5, 2, 9, 1, 7]\n",
    "\n",
    "#using .sort() method (sorts the list in place and returns none)\n",
    "sorted_in_place = my_list.sort()\n",
    "\n",
    "#print the result of .sort() method\n",
    "print(\"Result of .sort() method:\", sorted_in_place)  #this will print none\n",
    "print(\"Original list after .sort():\", my_list)      #this will print the sorted list\n",
    "\n",
    "#reset the list for comparison\n",
    "my_list = [5, 2, 9, 1, 7]\n",
    "\n",
    "#using sorted() function (returns a new sorted list)\n",
    "sorted_new_list = sorted(my_list)\n",
    "\n",
    "#print the result of sorted() function\n",
    "print(\"Result of sorted() function:\", sorted_new_list)  #this will print the sorted list\n",
    "print(\"Original list after sorted():\", my_list)         #this will print the original unsorted list\n"
   ]
  },
  {
   "cell_type": "markdown",
   "metadata": {},
   "source": [
    "### Count method\n",
    "The `count` method returns the number of occurrences of a specified substring within a given string."
   ]
  },
  {
   "cell_type": "code",
   "execution_count": 4,
   "metadata": {},
   "outputs": [
    {
     "name": "stdout",
     "output_type": "stream",
     "text": [
      "The word 'shall' appears 2 times in the legal text.\n"
     ]
    }
   ],
   "source": [
    "#example legal text\n",
    "legal_text = \"The defendant shall remain in custody. The court shall hear the case on Monday.\"\n",
    "\n",
    "#count occurrences of the word \"shall\"\n",
    "shall_count = legal_text.count(\"shall\")\n",
    "\n",
    "#print the result\n",
    "print(f\"The word 'shall' appears {shall_count} times in the legal text.\")"
   ]
  },
  {
   "cell_type": "markdown",
   "metadata": {},
   "source": [
    "### Replacing Items Using a Dictionary\n",
    "\n",
    "There are numerous valid approaches to replacing items based on a dictionary's key-value pairs."
   ]
  },
  {
   "cell_type": "code",
   "execution_count": 5,
   "metadata": {},
   "outputs": [
    {
     "name": "stdout",
     "output_type": "stream",
     "text": [
      "The claimant claims the respondent was at fault in the accident.\n"
     ]
    }
   ],
   "source": [
    "#legal text\n",
    "legal_text = \"The plaintiff claims the defendant was negligent in the accident.\"\n",
    "\n",
    "\n",
    "#dictionary with words to replace (key: word to replace, value: replacement word)\n",
    "replacements = {\n",
    "    \"plaintiff\": \"claimant\",\n",
    "    \"defendant\": \"respondent\",\n",
    "    \"negligent\": \"at fault\"\n",
    "}"
   ]
  },
  {
   "cell_type": "code",
   "execution_count": 7,
   "metadata": {},
   "outputs": [
    {
     "name": "stdout",
     "output_type": "stream",
     "text": [
      "The claimant claims the respondent was at fault in the accident.\n"
     ]
    }
   ],
   "source": [
    "### APPROACH ONE\n",
    "\n",
    "#create copy of text\n",
    "legal_text_ex_one = legal_text\n",
    "\n",
    "#replace items in the string based on dictionary key-value pairs\n",
    "for word, replacement in replacements.items():\n",
    "    legal_text_ex_one = legal_text_ex_one.replace(word, replacement)\n",
    "\n",
    "#print the modified legal text\n",
    "print(legal_text_ex_one)"
   ]
  },
  {
   "cell_type": "code",
   "execution_count": 6,
   "metadata": {},
   "outputs": [
    {
     "name": "stdout",
     "output_type": "stream",
     "text": [
      "The claimant claims the respondent was at fault in the accident.\n"
     ]
    }
   ],
   "source": [
    "### APPROACH TWO\n",
    "\n",
    "#create copy of text\n",
    "legal_text_ex_two = legal_text\n",
    "\n",
    "#replace items in the string based on dictionary key-value pairs\n",
    "for item in replacements:\n",
    "    legal_text_ex_two = legal_text_ex_two.replace(item, replacements[item])\n",
    "\n",
    "#print the modified legal text\n",
    "print(legal_text_ex_two)"
   ]
  },
  {
   "cell_type": "markdown",
   "metadata": {},
   "source": [
    "Those are two approaches, but there are more! Anyone have ideas of how else you could use a for loop to replace items as specified in the dictionary?"
   ]
  },
  {
   "cell_type": "markdown",
   "metadata": {},
   "source": [
    "### `os` library\n",
    "The os library provides functions to interact with the operating system. It allows you to handle file and directory operations, environment variables, and process management in a platform-independent way (i.e., it works on Windows, macOS, and Linux).\n",
    "\n",
    "For **Codespaces**: The os library allows you to interact with the filesystem and environment of your running Codespace. Since Codespaces is essentially a containerized environment, the os library helps you navigate and manage files, directories, and environment variables within this virtualized space."
   ]
  },
  {
   "cell_type": "code",
   "execution_count": 10,
   "metadata": {},
   "outputs": [],
   "source": [
    "# to use the os library, import os at the top of your script\n",
    "import os"
   ]
  },
  {
   "cell_type": "markdown",
   "metadata": {},
   "source": [
    "#### Note on Directories\n",
    "The word \"directory\" may throw you off. A directory is essentially a collection of folders and files. When you open a Codespace, your default directory is the root of the project you're working on. This means that when you open a terminal in Codespaces, you're automatically placed in the directory (folder) that contains all the files for your project.\n",
    "\n",
    "If you want to access an item from within a folder, you have to specify that."
   ]
  },
  {
   "cell_type": "markdown",
   "metadata": {},
   "source": [
    "#### Helpful `os` functions"
   ]
  },
  {
   "cell_type": "markdown",
   "metadata": {},
   "source": [
    "Use `os.listdir(<path>)` to list files in a given directory."
   ]
  },
  {
   "cell_type": "code",
   "execution_count": 23,
   "metadata": {},
   "outputs": [],
   "source": [
    "#simply input the folder name to get contents of a folder in your current working directory\n"
   ]
  },
  {
   "cell_type": "code",
   "execution_count": null,
   "metadata": {},
   "outputs": [],
   "source": [
    "#use slashes / to indicate subfolders\n"
   ]
  },
  {
   "cell_type": "code",
   "execution_count": null,
   "metadata": {},
   "outputs": [],
   "source": [
    "#you can go up a level to access a folder from PARENT directory (../)\n"
   ]
  },
  {
   "cell_type": "markdown",
   "metadata": {},
   "source": [
    "Use `os.path.exists(<path>)` to check if a particular directory or file exists"
   ]
  },
  {
   "cell_type": "code",
   "execution_count": null,
   "metadata": {},
   "outputs": [],
   "source": [
    "#check if \"_modified\" path exists"
   ]
  },
  {
   "cell_type": "markdown",
   "metadata": {},
   "source": [
    "Use `os.makedirs(<path>)` to create a new directory"
   ]
  },
  {
   "cell_type": "code",
   "execution_count": null,
   "metadata": {},
   "outputs": [],
   "source": [
    "#check if \"_modified\" path exists, if it doesn't, create it"
   ]
  },
  {
   "cell_type": "markdown",
   "metadata": {},
   "source": [
    "Use `os.path.join(<path component>,<path component>)` to join one or more file path componenents into a single string"
   ]
  },
  {
   "cell_type": "code",
   "execution_count": 26,
   "metadata": {},
   "outputs": [],
   "source": [
    "# demo with accessing different weeks in lab folder\n",
    "\n",
    "#create a list of target folders\n",
    "target_folders = [\"week-1\",\"week-2\",\"week-3\",\"week-4\",\"week-5\"]"
   ]
  },
  {
   "cell_type": "markdown",
   "metadata": {},
   "source": [
    "### `pypdf` library\n",
    "The pypdf library is a Python library used to work with PDF files. It allows you to read, manipulate, and extract information from PDF documents. You can perform tasks like merging PDFs, extracting text, rotating pages, and splitting documents without needing additional tools. We've provided you with specific instructions in the problem set."
   ]
  }
 ],
 "metadata": {
  "kernelspec": {
   "display_name": "Python 3",
   "language": "python",
   "name": "python3"
  },
  "language_info": {
   "codemirror_mode": {
    "name": "ipython",
    "version": 3
   },
   "file_extension": ".py",
   "mimetype": "text/x-python",
   "name": "python",
   "nbconvert_exporter": "python",
   "pygments_lexer": "ipython3",
   "version": "3.10.13"
  }
 },
 "nbformat": 4,
 "nbformat_minor": 2
}
