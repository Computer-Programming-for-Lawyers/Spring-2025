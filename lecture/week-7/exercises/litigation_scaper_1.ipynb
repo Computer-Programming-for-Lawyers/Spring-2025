{
 "cells": [
  {
   "cell_type": "markdown",
   "metadata": {},
   "source": [
    "### First GPT response (low instruction)\n",
    "https://chatgpt.com/share/670d8342-5b18-800f-829b-5c329a636327"
   ]
  },
  {
   "cell_type": "code",
   "execution_count": 1,
   "metadata": {},
   "outputs": [
    {
     "name": "stdout",
     "output_type": "stream",
     "text": [
      "Empty DataFrame\n",
      "Columns: [, Case Name and Number, State, Date Filed, Date of Last Order, Status]\n",
      "Index: []\n"
     ]
    }
   ],
   "source": [
    "import requests\n",
    "from bs4 import BeautifulSoup\n",
    "import pandas as pd\n",
    "\n",
    "# URL to scrape\n",
    "url = \"https://healthyelections-case-tracker.stanford.edu/cases\"\n",
    "\n",
    "# Send a GET request to the webpage\n",
    "response = requests.get(url)\n",
    "\n",
    "# Parse the HTML content with BeautifulSoup\n",
    "soup = BeautifulSoup(response.content, \"html.parser\")\n",
    "\n",
    "# Find the table that contains the case information\n",
    "table = soup.find(\"table\")\n",
    "\n",
    "# Extract the headers\n",
    "headers = [header.text.strip() for header in table.find_all(\"th\")]\n",
    "\n",
    "# Extract the rows of data\n",
    "rows = []\n",
    "for row in table.find_all(\"tr\")[1:]:  # Skip the header row\n",
    "    columns = row.find_all(\"td\")\n",
    "    rows.append([col.text.strip() for col in columns])\n",
    "\n",
    "# Create a DataFrame from the scraped data\n",
    "df = pd.DataFrame(rows, columns=headers)\n",
    "\n",
    "# Display or save the DataFrame\n",
    "print(df)"
   ]
  }
 ],
 "metadata": {
  "kernelspec": {
   "display_name": "Python 3",
   "language": "python",
   "name": "python3"
  },
  "language_info": {
   "codemirror_mode": {
    "name": "ipython",
    "version": 3
   },
   "file_extension": ".py",
   "mimetype": "text/x-python",
   "name": "python",
   "nbconvert_exporter": "python",
   "pygments_lexer": "ipython3",
   "version": "3.10.13"
  }
 },
 "nbformat": 4,
 "nbformat_minor": 2
}
