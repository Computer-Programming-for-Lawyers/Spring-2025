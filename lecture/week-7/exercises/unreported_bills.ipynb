{
 "cells": [
  {
   "cell_type": "markdown",
   "metadata": {},
   "source": [
    "## Week 7 Web Scraping Demo: Unreported Bills from Congress.gov\n",
    "\n",
    "Let's use AI to scrape bills not reported by committee from congress.gov.\n",
    "\n",
    "* [congress.gov](https://www.congress.gov/)\n",
    "* [Description of action codes](https://www.congress.gov/help/field-values/action-codes)\n",
    "* command line: `actionCode:16000 NOT actionCode:14000`"
   ]
  }
 ],
 "metadata": {
  "language_info": {
   "name": "python"
  }
 },
 "nbformat": 4,
 "nbformat_minor": 2
}
