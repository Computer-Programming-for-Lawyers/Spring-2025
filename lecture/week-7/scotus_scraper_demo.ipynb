{
 "cells": [
  {
   "cell_type": "markdown",
   "metadata": {},
   "source": [
    "# In-Class AI-Assisted PDF Scraping Example\n",
    "Use an AI tool to scrape Preliminary Prints from the [SCOTUS US Reports website](https://www.supremecourt.gov/opinions/USReports.aspx).\n",
    "\n",
    "BASE_URL = 'https://www.supremecourt.gov/opinions/USReports.aspx'\n",
    "\n",
    "Link to ChatGPT transcript: https://chatgpt.com/share/67eb2a9d-82ec-800f-82dd-6868872288e9"
   ]
  },
  {
   "cell_type": "code",
   "execution_count": 1,
   "metadata": {},
   "outputs": [
    {
     "name": "stderr",
     "output_type": "stream",
     "text": [
      "/Users/rachelorey/Library/Python/3.9/lib/python/site-packages/urllib3/__init__.py:35: NotOpenSSLWarning: urllib3 v2 only supports OpenSSL 1.1.1+, currently the 'ssl' module is compiled with 'LibreSSL 2.8.3'. See: https://github.com/urllib3/urllib3/issues/3020\n",
      "  warnings.warn(\n"
     ]
    },
    {
     "name": "stdout",
     "output_type": "stream",
     "text": [
      "Downloading pdfs/587US1PP_web.pdf...\n",
      "Downloading pdfs/586US1PP_final.pdf...\n",
      "Downloading pdfs/586US2PP_final.pdf...\n",
      "Downloading pdfs/585US1PP_final.pdf...\n",
      "Downloading pdfs/585US2PP_final.pdf...\n",
      "Downloading pdfs/584US1PP_final.pdf...\n",
      "Downloading pdfs/584US2PP_final.pdf...\n",
      "Downloading pdfs/583US1PP_final.pdf...\n",
      "Downloading pdfs/583US2PP_final.pdf...\n",
      "Done downloading all PDFs.\n"
     ]
    }
   ],
   "source": [
    "import os\n",
    "import requests\n",
    "from bs4 import BeautifulSoup\n",
    "from urllib.parse import urljoin\n",
    "\n",
    "# URL to scrape\n",
    "base_url = \"https://www.supremecourt.gov/opinions/USReports.aspx\"\n",
    "pdf_base = \"https://www.supremecourt.gov/opinions/\"\n",
    "\n",
    "# Create folder to store PDFs\n",
    "os.makedirs(\"pdfs\", exist_ok=True)\n",
    "\n",
    "# Get the page content\n",
    "response = requests.get(base_url)\n",
    "soup = BeautifulSoup(response.content, \"html.parser\")\n",
    "\n",
    "# Find the Preliminary Prints section\n",
    "prelim_section = soup.find(\"div\", id=\"cellPre\")\n",
    "\n",
    "# Find all links to PDFs within that section\n",
    "pdf_links = prelim_section.find_all(\"a\", href=True)\n",
    "\n",
    "# Loop over the links and download PDFs\n",
    "for link in pdf_links:\n",
    "    href = link[\"href\"]\n",
    "    if href.endswith(\".pdf\"):\n",
    "        full_url = urljoin(pdf_base, href)\n",
    "        filename = os.path.join(\"pdfs\", os.path.basename(href))\n",
    "\n",
    "        print(f\"Downloading {filename}...\")\n",
    "        pdf_response = requests.get(full_url)\n",
    "        with open(filename, \"wb\") as f:\n",
    "            f.write(pdf_response.content)\n",
    "\n",
    "print(\"Done downloading all PDFs.\")"
   ]
  }
 ],
 "metadata": {
  "kernelspec": {
   "display_name": "Python 3",
   "language": "python",
   "name": "python3"
  },
  "language_info": {
   "codemirror_mode": {
    "name": "ipython",
    "version": 3
   },
   "file_extension": ".py",
   "mimetype": "text/x-python",
   "name": "python",
   "nbconvert_exporter": "python",
   "pygments_lexer": "ipython3",
   "version": "3.9.6"
  }
 },
 "nbformat": 4,
 "nbformat_minor": 2
}
