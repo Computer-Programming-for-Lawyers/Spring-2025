{
 "cells": [
  {
   "cell_type": "markdown",
   "metadata": {},
   "source": [
    "# In-Class AI-Assisted PDF Scraping Example\n",
    "Use an AI tool to scrape Preliminary Prints from the [SCOTUS US Reports website](https://www.supremecourt.gov/opinions/USReports.aspx).\n",
    "\n",
    "BASE_URL = 'https://www.supremecourt.gov/opinions/USReports.aspx'"
   ]
  }
 ],
 "metadata": {
  "kernelspec": {
   "display_name": "Python 3",
   "language": "python",
   "name": "python3"
  },
  "language_info": {
   "codemirror_mode": {
    "name": "ipython",
    "version": 3
   },
   "file_extension": ".py",
   "mimetype": "text/x-python",
   "name": "python",
   "nbconvert_exporter": "python",
   "pygments_lexer": "ipython3",
   "version": "3.9.6"
  }
 },
 "nbformat": 4,
 "nbformat_minor": 2
}
