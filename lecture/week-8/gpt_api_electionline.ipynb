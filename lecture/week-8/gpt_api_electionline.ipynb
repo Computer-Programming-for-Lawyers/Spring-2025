{
  "cells": [
    {
      "cell_type": "code",
      "execution_count": 43,
      "metadata": {},
      "outputs": [],
      "source": [
        "# Load some jobs into a pandas dataframe\n",
        "\n",
        "import pandas as  pd\n",
        "pd.set_option('display.max_colwidth', 300)\n",
        "pd.options.mode.chained_assignment = None\n",
        "\n",
        "\n",
        "# replace with student spreadsheet\n",
        "\n",
        "jobs = pd.read_csv('https://docs.google.com/spreadsheets/d/e/2PACX-1vRWmeWZs5NHptaUiotzWf8Qf9evBzdDToTvkMbn1v0ug5uqu32vPd4BwTU7DsogP9cU7xKov0ku8gYV/pub?output=csv')\n",
        "jobs = jobs[['year', 'date', 'description']]\n",
        "jobs.head(5)\n"
      ]
    },
    {
      "cell_type": "code",
      "execution_count": 44,
      "metadata": {},
      "outputs": [
        {
          "data": {
            "text/plain": [
              "'Administrative Specialist II (Elections Specialist-Chinese):\\xa0 The Department of Elections – is searching for energetic and resourceful professionals who like to “get stuff done”. The Administrative Specialist II position in the Voter Services Department combines an exciting, fast-paced environment with the opportunity to cultivate talents and apply a variety of skills.\\xa0 The ideal candidate will have a desire to help ensure the democratic process through public service.\\xa0 They will thrive in an innovative environment and will not hesitate to roll up both sleeves, work hard, have fun, and get the job done. Salary: $25.59 – $32.58 Hourly. Deadline: October 31.\\xa0 Application: For the complete job listing and to apply, click here.\\xa0'"
            ]
          },
          "execution_count": 44,
          "metadata": {},
          "output_type": "execute_result"
        }
      ],
      "source": [
        "# let's try to extract information from the job description\n",
        "jobs.loc[0, 'description']"
      ]
    },
    {
      "cell_type": "code",
      "execution_count": 3,
      "metadata": {},
      "outputs": [
        {
          "data": {
            "text/plain": [
              "'$25.59 – $32.58 Hourly. Deadline: October 31.\\xa0 Application: For the complete job listing and to apply, click here.\\xa0'"
            ]
          },
          "execution_count": 3,
          "metadata": {},
          "output_type": "execute_result"
        }
      ],
      "source": [
        "# let's get the salary.\n",
        "# let's get the location\n",
        "# let's get whether it's a nonprofit or a government position\n",
        "\n",
        "\n",
        "def get_title(job_description):\n",
        "    return job_description.split('–')[0]\n",
        "\n",
        "def get_salary(job_description):\n",
        "    return job_description.split('Salary: ')[1]\n",
        "\n",
        "get_salary(jobs.loc[0, 'description'])\n",
        "\n",
        "# this isn't gonna work!"
      ]
    },
    {
      "cell_type": "code",
      "execution_count": 4,
      "metadata": {},
      "outputs": [
        {
          "data": {
            "text/plain": [
              "54.72"
            ]
          },
          "execution_count": 4,
          "metadata": {},
          "output_type": "execute_result"
        }
      ],
      "source": [
        "# Weather API\n",
        "\n",
        "from pyowm import OWM\n",
        "from pyowm.utils import config\n",
        "from pyowm.utils import timestamps\n",
        "\n",
        "# ---------- FREE API KEY examples ---------------------\n",
        "\n",
        "owm = OWM('c721ef57a321d8ae12fdaa16de2870d8')\n",
        "mgr = owm.weather_manager()\n",
        "\n",
        "\n",
        "# Search for current weather in London (Great Britain) and get details\n",
        "observation = mgr.weather_at_place('London,GB')\n",
        "w = observation.weather\n",
        "\n",
        "w.detailed_status         # 'clouds'\n",
        "w.wind()                  # {'speed': 4.6, 'deg': 330}\n",
        "w.humidity                # 87\n",
        "w.temperature('celsius')  # {'temp_max': 10.5, 'temp': 9.7, 'temp_min': 9.0}\n",
        "w.rain                    # {}\n",
        "w.heat_index              # None\n",
        "w.clouds                  # 75\n",
        "\n",
        "w.temperature('fahrenheit')['temp']"
      ]
    },
    {
      "cell_type": "code",
      "execution_count": 12,
      "metadata": {},
      "outputs": [
        {
          "data": {
            "text/plain": [
              "['Jane Doe', 'John Smith', 'Alex Johnson']"
            ]
          },
          "execution_count": 12,
          "metadata": {},
          "output_type": "execute_result"
        }
      ],
      "source": [
        "# Structured Outputs API\n",
        "\n",
        "from pydantic import BaseModel\n",
        "from openai import OpenAI\n",
        "\n",
        "client = OpenAI()\n",
        "\n",
        "class ResearchPaperExtraction(BaseModel):\n",
        "    title: str\n",
        "    authors: list[str]\n",
        "    abstract: str\n",
        "    keywords: list[str]\n",
        "\n",
        "completion = client.beta.chat.completions.parse(\n",
        "    model=\"gpt-4o-2024-08-06\",\n",
        "    messages=[\n",
        "        {\"role\": \"system\", \"content\": \"You are an expert at structured data extraction. You will be given unstructured text from a research paper and should convert it into the given structure.\"},\n",
        "        {\"role\": \"user\", \"content\": \"...\"}\n",
        "    ],\n",
        "    response_format=ResearchPaperExtraction,\n",
        ")\n",
        "\n",
        "research_paper = completion.choices[0].message.parsed\n",
        "\n",
        "research_paper.authors"
      ]
    },
    {
      "cell_type": "code",
      "execution_count": 16,
      "metadata": {},
      "outputs": [
        {
          "data": {
            "text/plain": [
              "'Campaign Manager/Director, Supreme Court Reform– The Brennan Center for Justice at NYU School of Law is a nonpartisan law and policy institute that seeks to improve our systems of democracy and justice. We work to hold our political institutions and laws accountable to the twin American ideals of democracy and equal justice for all. The Brennan Center’s work ranges from voting rights to court reform, from ending mass incarceration to preserving constitutional protections in the fight against terrorism. Part think tank, part advocacy group, part cutting-edge communications hub, we start with rigorous research. We craft innovative policies. And we fight for them — in the courts, in Congress and the states, and in the court of public opinion.The Brennan Center’s Kohlberg Center on the U.S. Supreme Court was established in 2024 to advocate for reform of the Supreme Court to prevent ethical abuses, reduce partisanship and extremism, and ensure that the Court plays a more\\xa0 balanced and appropriate role in our constitutional democracy. Building on the Brennan Center’s long-standing work, including in support of Supreme Court term limits and ethics reform, the Kohlberg Center promotes research and policy development, pursues policy advocacy, and engages in broad public education. Salary: $90,000-$140,000. Application: For the complete job listing and to apply, click here.\\xa0'"
            ]
          },
          "execution_count": 16,
          "metadata": {},
          "output_type": "execute_result"
        }
      ],
      "source": [
        "# sample description string\n",
        "description = jobs.loc[1, 'description']\n",
        "description"
      ]
    },
    {
      "cell_type": "code",
      "execution_count": 62,
      "metadata": {},
      "outputs": [
        {
          "data": {
            "text/plain": [
              "JobDescriptionExtraction(job_title='Campaign Manager/Director, Supreme Court Reform', job_location='New York, NY', employer='The Brennan Center for Justice at NYU School of Law', salary_low_end=90000.0, responsible_for_administering_elections=False, nonprofit_or_government='nonprofit', explanation_for_nonprofit_or_government='The Brennan Center for Justice is a nonpartisan law and policy institute at NYU School of Law.')"
            ]
          },
          "execution_count": 62,
          "metadata": {},
          "output_type": "execute_result"
        }
      ],
      "source": [
        "# modify schema to include the fields we want to extract\n",
        "\n",
        "from pydantic import BaseModel\n",
        "from openai import OpenAI\n",
        "\n",
        "client = OpenAI()\n",
        "\n",
        "class JobDescriptionExtraction(BaseModel):\n",
        "    job_title: str\n",
        "    job_location: str\n",
        "    employer: str\n",
        "    salary_low_end: float\n",
        "    responsible_for_administering_elections: bool\n",
        "    nonprofit_or_government: str\n",
        "    # explanation_for_nonprofit_or_government: str\n",
        "\n",
        "def parse_job_description(job_description: str) -> JobDescriptionExtraction:\n",
        "    completion = client.beta.chat.completions.parse(\n",
        "        model=\"gpt-4o-2024-08-06\",\n",
        "        messages=[\n",
        "            {\"role\": \"system\", \"content\": \"You are an expert at structured data extraction. You will be given a job description and should convert it into the given structure.\"},\n",
        "            {\"role\": \"user\", \"content\": job_description}\n",
        "        ],\n",
        "        response_format=JobDescriptionExtraction,\n",
        "    )\n",
        "\n",
        "    return completion.choices[0].message.parsed\n",
        "\n",
        "parse_job_description(jobs.loc[1, 'description'])"
      ]
    },
    {
      "cell_type": "code",
      "execution_count": 48,
      "metadata": {},
      "outputs": [],
      "source": [
        "shortened = jobs.head(3)\n",
        "\n",
        "# loop through df, parsing each job description in the 'description' column, and adding the parsed data to new columns\n",
        "\n",
        "for i, row in shortened.iterrows():\n",
        "    description = row['description']\n",
        "    # print(i, description)\n",
        "    \n",
        "    parsed = parse_job_description(description)\n",
        "    \n",
        "    shortened.loc[i, 'job_title'] = parsed.job_title\n",
        "    shortened.loc[i, 'job_location'] = parsed.job_location\n",
        "    shortened.loc[i, 'employer'] = parsed.employer\n",
        "    shortened.loc[i, 'salary_low_end'] = parsed.salary_low_end\n",
        "    shortened.loc[i, 'responsible_for_administering_elections'] = parsed.responsible_for_administering_elections\n",
        "    shortened.loc[i, 'nonprofit_or_government'] = parsed.nonprofit_or_government\n",
        "\n",
        "    "
      ]
    },
    {
      "cell_type": "code",
      "execution_count": 63,
      "metadata": {
        "id": "9D0LTnhExDLL"
      },
      "outputs": [
        {
          "data": {
            "text/html": [
              "<div>\n",
              "<style scoped>\n",
              "    .dataframe tbody tr th:only-of-type {\n",
              "        vertical-align: middle;\n",
              "    }\n",
              "\n",
              "    .dataframe tbody tr th {\n",
              "        vertical-align: top;\n",
              "    }\n",
              "\n",
              "    .dataframe thead th {\n",
              "        text-align: right;\n",
              "    }\n",
              "</style>\n",
              "<table border=\"1\" class=\"dataframe\">\n",
              "  <thead>\n",
              "    <tr style=\"text-align: right;\">\n",
              "      <th></th>\n",
              "      <th>year</th>\n",
              "      <th>date</th>\n",
              "      <th>description</th>\n",
              "      <th>job_title</th>\n",
              "      <th>job_location</th>\n",
              "      <th>employer</th>\n",
              "      <th>salary_low_end</th>\n",
              "      <th>responsible_for_administering_elections</th>\n",
              "      <th>nonprofit_or_government</th>\n",
              "      <th>explanation_for_nonprofit_or_government</th>\n",
              "    </tr>\n",
              "  </thead>\n",
              "  <tbody>\n",
              "    <tr>\n",
              "      <th>0</th>\n",
              "      <td>2024</td>\n",
              "      <td>10-17</td>\n",
              "      <td>Administrative Specialist II (Elections Specialist-Chinese):  The Department of Elections – is searching for energetic and resourceful professionals who like to “get stuff done”. The Administrative Specialist II position in the Voter Services Department combines an exciting, fast-paced environme...</td>\n",
              "      <td>Administrative Specialist II (Elections Specialist-Chinese)</td>\n",
              "      <td>Department of Elections</td>\n",
              "      <td>Department of Elections</td>\n",
              "      <td>25.59</td>\n",
              "      <td>True</td>\n",
              "      <td>government</td>\n",
              "      <td>The Department of Elections is a government entity responsible for managing electoral processes.</td>\n",
              "    </tr>\n",
              "    <tr>\n",
              "      <th>1</th>\n",
              "      <td>2024</td>\n",
              "      <td>10-17</td>\n",
              "      <td>Campaign Manager/Director, Supreme Court Reform– The Brennan Center for Justice at NYU School of Law is a nonpartisan law and policy institute that seeks to improve our systems of democracy and justice. We work to hold our political institutions and laws accountable to the twin American ideals o...</td>\n",
              "      <td>Campaign Manager/Director, Supreme Court Reform</td>\n",
              "      <td>NYU School of Law, New York, NY</td>\n",
              "      <td>The Brennan Center for Justice</td>\n",
              "      <td>90000.00</td>\n",
              "      <td>False</td>\n",
              "      <td>Nonprofit</td>\n",
              "      <td>The Brennan Center for Justice is a nonpartisan law and policy institute that operates as a nonprofit organization within NYU School of Law.</td>\n",
              "    </tr>\n",
              "    <tr>\n",
              "      <th>2</th>\n",
              "      <td>2024</td>\n",
              "      <td>10-17</td>\n",
              "      <td>Deputy County Clerk, III, Boone County, Missouri– This position provides general supervision in the voter registration department, manages the recruitment, training, payroll, and assignment of election judges for polling places and early voting in Boone County, and provides election information ...</td>\n",
              "      <td>Deputy County Clerk, III</td>\n",
              "      <td>Boone County, Missouri</td>\n",
              "      <td>Boone County Government</td>\n",
              "      <td>18.04</td>\n",
              "      <td>True</td>\n",
              "      <td>government</td>\n",
              "      <td>Boone County Government is a public sector entity responsible for local governmental operations including administering elections.</td>\n",
              "    </tr>\n",
              "  </tbody>\n",
              "</table>\n",
              "</div>"
            ],
            "text/plain": [
              "   year   date  \\\n",
              "0  2024  10-17   \n",
              "1  2024  10-17   \n",
              "2  2024  10-17   \n",
              "\n",
              "                                                                                                                                                                                                                                                                                                   description  \\\n",
              "0  Administrative Specialist II (Elections Specialist-Chinese):  The Department of Elections – is searching for energetic and resourceful professionals who like to “get stuff done”. The Administrative Specialist II position in the Voter Services Department combines an exciting, fast-paced environme...   \n",
              "1  Campaign Manager/Director, Supreme Court Reform– The Brennan Center for Justice at NYU School of Law is a nonpartisan law and policy institute that seeks to improve our systems of democracy and justice. We work to hold our political institutions and laws accountable to the twin American ideals o...   \n",
              "2  Deputy County Clerk, III, Boone County, Missouri– This position provides general supervision in the voter registration department, manages the recruitment, training, payroll, and assignment of election judges for polling places and early voting in Boone County, and provides election information ...   \n",
              "\n",
              "                                                     job_title  \\\n",
              "0  Administrative Specialist II (Elections Specialist-Chinese)   \n",
              "1              Campaign Manager/Director, Supreme Court Reform   \n",
              "2                                     Deputy County Clerk, III   \n",
              "\n",
              "                      job_location                        employer  \\\n",
              "0          Department of Elections         Department of Elections   \n",
              "1  NYU School of Law, New York, NY  The Brennan Center for Justice   \n",
              "2           Boone County, Missouri         Boone County Government   \n",
              "\n",
              "   salary_low_end responsible_for_administering_elections  \\\n",
              "0           25.59                                    True   \n",
              "1        90000.00                                   False   \n",
              "2           18.04                                    True   \n",
              "\n",
              "  nonprofit_or_government  \\\n",
              "0              government   \n",
              "1               Nonprofit   \n",
              "2              government   \n",
              "\n",
              "                                                                                                        explanation_for_nonprofit_or_government  \n",
              "0                                              The Department of Elections is a government entity responsible for managing electoral processes.  \n",
              "1  The Brennan Center for Justice is a nonpartisan law and policy institute that operates as a nonprofit organization within NYU School of Law.  \n",
              "2            Boone County Government is a public sector entity responsible for local governmental operations including administering elections.  "
            ]
          },
          "execution_count": 63,
          "metadata": {},
          "output_type": "execute_result"
        }
      ],
      "source": [
        "shortened = jobs.head(3)\n",
        "\n",
        "# loop through df, parsing each job description in the 'description' column, and adding the parsed data to new columns\n",
        "\n",
        "\n",
        "for i, row in shortened.iterrows():\n",
        "    description = row['description']\n",
        "    # print(i, description)\n",
        "    \n",
        "    parsed = parse_job_description(description)\n",
        "\n",
        "    for field in parsed:\n",
        "        shortened.loc[i, field[0]] = field[1]\n",
        "    \n",
        "    # shortened.loc[i, 'job_title'] = parsed.job_title\n",
        "    # shortened.loc[i, 'job_location'] = parsed.job_location\n",
        "    # shortened.loc[i, 'employer'] = parsed.employer\n",
        "    # shortened.loc[i, 'salary_low_end'] = parsed.salary_low_end\n",
        "    # shortened.loc[i, 'responsible_for_administering_elections'] = parsed.responsible_for_administering_elections\n",
        "    # shortened.loc[i, 'nonprofit_or_government'] = parsed.nonprofit_or_government\n",
        "\n",
        "shortened"
      ]
    }
  ],
  "metadata": {
    "colab": {
      "provenance": []
    },
    "kernelspec": {
      "display_name": ".venv",
      "language": "python",
      "name": "python3"
    },
    "language_info": {
      "codemirror_mode": {
        "name": "ipython",
        "version": 3
      },
      "file_extension": ".py",
      "mimetype": "text/x-python",
      "name": "python",
      "nbconvert_exporter": "python",
      "pygments_lexer": "ipython3",
      "version": "3.11.9"
    }
  },
  "nbformat": 4,
  "nbformat_minor": 0
}
