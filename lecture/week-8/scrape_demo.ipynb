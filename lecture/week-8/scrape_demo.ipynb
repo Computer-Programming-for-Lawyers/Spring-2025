{
 "cells": [
  {
   "cell_type": "code",
   "execution_count": null,
   "metadata": {},
   "outputs": [
    {
     "ename": "AttributeError",
     "evalue": "'NoneType' object has no attribute 'find_all'",
     "output_type": "error",
     "traceback": [
      "\u001b[1;31m---------------------------------------------------------------------------\u001b[0m",
      "\u001b[1;31mAttributeError\u001b[0m                            Traceback (most recent call last)",
      "Cell \u001b[1;32mIn[2], line 28\u001b[0m\n\u001b[0;32m     25\u001b[0m job_descriptions \u001b[38;5;241m=\u001b[39m []\n\u001b[0;32m     27\u001b[0m \u001b[38;5;66;03m# Loop through all the job postings in the section\u001b[39;00m\n\u001b[1;32m---> 28\u001b[0m \u001b[38;5;28;01mfor\u001b[39;00m job \u001b[38;5;129;01min\u001b[39;00m job_postings_section\u001b[38;5;241m.\u001b[39mfind_all(\u001b[38;5;124m'\u001b[39m\u001b[38;5;124mp\u001b[39m\u001b[38;5;124m'\u001b[39m):\n\u001b[0;32m     29\u001b[0m     \u001b[38;5;66;03m# Find the job title and URL from the <a> tag\u001b[39;00m\n\u001b[0;32m     30\u001b[0m     job_link \u001b[38;5;241m=\u001b[39m job\u001b[38;5;241m.\u001b[39mfind(\u001b[38;5;124m'\u001b[39m\u001b[38;5;124ma\u001b[39m\u001b[38;5;124m'\u001b[39m)\n\u001b[0;32m     31\u001b[0m     \u001b[38;5;28;01mif\u001b[39;00m job_link:\n",
      "\u001b[1;31mAttributeError\u001b[0m: 'NoneType' object has no attribute 'find_all'"
     ]
    }
   ],
   "source": [
    "import requests\n",
    "from bs4 import BeautifulSoup\n",
    "import pandas as pd\n",
    "\n",
    "# URL of the Electionline Weekly job postings page\n",
    "url = \"https://electionline.org/electionline-weekly\"\n",
    "\n",
    "# Header to prevent 403 error\n",
    "headers = {\n",
    "    \"User-Agent\": \"Mozilla/5.0 (Windows NT 10.0; Win64; x64) AppleWebKit/537.36 (KHTML, like Gecko) Chrome/58.0.3029.110 Safari/537.3\"\n",
    "}\n",
    "\n",
    "# Send a GET request to fetch the content of the page\n",
    "response = requests.get(url, headers=headers)\n",
    "\n",
    "# Parse the page content using BeautifulSoup\n",
    "soup = BeautifulSoup(response.content, \"html.parser\")\n",
    "\n",
    "# Locate the div with the job postings based on its class\n",
    "job_postings_section = soup.find('div', class_='article-wrapper item-10 active')\n",
    "\n",
    "# Create lists to store the job titles, URLs, and descriptions\n",
    "job_titles = []\n",
    "job_urls = []\n",
    "job_descriptions = []\n",
    "\n",
    "# Loop through all the job postings in the section\n",
    "for job in job_postings_section.find_all('p'):\n",
    "    # Find the job title and URL from the <a> tag\n",
    "    job_link = job.find('a')\n",
    "    if job_link:\n",
    "        title = job_link.text.strip()\n",
    "        url = job_link['href']\n",
    "        # Get the job description text\n",
    "        description = job.text.strip()\n",
    "        \n",
    "        # Append data to the lists\n",
    "        job_titles.append(title)\n",
    "        job_urls.append(url)\n",
    "        job_descriptions.append(description)\n",
    "\n",
    "# Create a pandas DataFrame to store the results\n",
    "df = pd.DataFrame({\n",
    "    'Job Title': job_titles,\n",
    "    'Job URL': job_urls,\n",
    "    'Job Description': job_descriptions\n",
    "})\n",
    "\n",
    "# Display the DataFrame\n",
    "fidplsy(df)\n"
   ]
  }
 ],
 "metadata": {
  "kernelspec": {
   "display_name": "base",
   "language": "python",
   "name": "python3"
  },
  "language_info": {
   "codemirror_mode": {
    "name": "ipython",
    "version": 3
   },
   "file_extension": ".py",
   "mimetype": "text/x-python",
   "name": "python",
   "nbconvert_exporter": "python",
   "pygments_lexer": "ipython3",
   "version": "3.11.5"
  }
 },
 "nbformat": 4,
 "nbformat_minor": 2
}
