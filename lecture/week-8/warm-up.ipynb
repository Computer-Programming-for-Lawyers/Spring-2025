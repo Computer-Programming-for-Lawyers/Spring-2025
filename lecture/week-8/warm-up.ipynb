{
 "cells": [
  {
   "cell_type": "markdown",
   "metadata": {},
   "source": [
    "# Week 8 Warm Up: Function Signature Practice"
   ]
  },
  {
   "cell_type": "markdown",
   "metadata": {},
   "source": [
    "**Explain what this cell would ouput when run.**"
   ]
  },
  {
   "cell_type": "code",
   "execution_count": 1,
   "metadata": {},
   "outputs": [
    {
     "data": {
      "text/plain": [
       "'Prepare for trial with strong evidence.'"
      ]
     },
     "execution_count": 1,
     "metadata": {},
     "output_type": "execute_result"
    }
   ],
   "source": [
    "def evaluate_case(case_type: str, settlement_offer: float = 0.0, strong_evidence: bool = False) -> str:\n",
    "\n",
    "    if case_type == \"civil\" and strong_evidence:\n",
    "        return \"Proceed to trial with strong evidence.\"\n",
    "    \n",
    "    if case_type == \"civil\" and not strong_evidence:\n",
    "        if settlement_offer > 0:\n",
    "            return f\"Consider settling for ${settlement_offer}.\"\n",
    "        else:\n",
    "            return \"Weak case, settlement recommended if possible.\"\n",
    "    \n",
    "    if case_type == \"criminal\":\n",
    "        if strong_evidence:\n",
    "            return \"Prepare for trial with strong evidence.\"\n",
    "        else:\n",
    "            return \"Consider plea bargain.\"\n",
    "    \n",
    "    return \"Case type not recognized.\"\n",
    "\n",
    "evaluate_case(\"criminal\",1000,True)"
   ]
  },
  {
   "cell_type": "markdown",
   "metadata": {},
   "source": []
  },
  {
   "cell_type": "markdown",
   "metadata": {},
   "source": [
    "**Write the function signature for a function that converts Celsius to Fahrenheit.**\n",
    "It takes one argument (temperature in Celsius) and returns the temperature in Fahrenheit.\""
   ]
  },
  {
   "cell_type": "code",
   "execution_count": null,
   "metadata": {},
   "outputs": [],
   "source": [
    "def celsius_to_fahrenheit(celsius: float) -> float:"
   ]
  },
  {
   "cell_type": "markdown",
   "metadata": {
    "vscode": {
     "languageId": "plaintext"
    }
   },
   "source": [
    "**Write a function to calculates legal fees.**\n",
    "\n",
    "It takes as input a **list** of hours worked on different days and and an hourly rate, and returns the total fees."
   ]
  },
  {
   "cell_type": "code",
   "execution_count": 8,
   "metadata": {},
   "outputs": [],
   "source": [
    "def calculate_legal_fees(hours_worked: list[float], hourly_rate: float) -> float:\n",
    "    \n",
    "    total_fees = 0\n",
    "     \n",
    "    for hour in hours_worked:\n",
    "        total_fees += hour*hourly_rate\n",
    "\n",
    "    return total_fees\n"
   ]
  },
  {
   "cell_type": "code",
   "execution_count": 9,
   "metadata": {},
   "outputs": [
    {
     "data": {
      "text/plain": [
       "108"
      ]
     },
     "execution_count": 9,
     "metadata": {},
     "output_type": "execute_result"
    }
   ],
   "source": [
    "hours = [5,6,7]\n",
    "\n",
    "calculate_legal_fees(hours,6)"
   ]
  },
  {
   "cell_type": "code",
   "execution_count": 11,
   "metadata": {},
   "outputs": [
    {
     "data": {
      "text/plain": [
       "[5, 6, 7, 5, 6, 7, 5, 6, 7]"
      ]
     },
     "execution_count": 11,
     "metadata": {},
     "output_type": "execute_result"
    }
   ],
   "source": [
    "hours * 3"
   ]
  },
  {
   "cell_type": "code",
   "execution_count": 16,
   "metadata": {},
   "outputs": [
    {
     "data": {
      "text/plain": [
       "108"
      ]
     },
     "execution_count": 16,
     "metadata": {},
     "output_type": "execute_result"
    }
   ],
   "source": [
    "import numpy as np\n",
    "hours = np.array([5, 6, 7])\n",
    "sum(hours * 6)"
   ]
  }
 ],
 "metadata": {
  "kernelspec": {
   "display_name": "base",
   "language": "python",
   "name": "python3"
  },
  "language_info": {
   "codemirror_mode": {
    "name": "ipython",
    "version": 3
   },
   "file_extension": ".py",
   "mimetype": "text/x-python",
   "name": "python",
   "nbconvert_exporter": "python",
   "pygments_lexer": "ipython3",
   "version": "3.11.5"
  }
 },
 "nbformat": 4,
 "nbformat_minor": 2
}
