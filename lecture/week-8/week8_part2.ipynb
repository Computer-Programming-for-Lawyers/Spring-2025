{
  "cells": [
    {
      "cell_type": "code",
      "execution_count": 9,
      "metadata": {},
      "outputs": [
        {
          "data": {
            "text/html": [
              "<div>\n",
              "<style scoped>\n",
              "    .dataframe tbody tr th:only-of-type {\n",
              "        vertical-align: middle;\n",
              "    }\n",
              "\n",
              "    .dataframe tbody tr th {\n",
              "        vertical-align: top;\n",
              "    }\n",
              "\n",
              "    .dataframe thead th {\n",
              "        text-align: right;\n",
              "    }\n",
              "</style>\n",
              "<table border=\"1\" class=\"dataframe\">\n",
              "  <thead>\n",
              "    <tr style=\"text-align: right;\">\n",
              "      <th></th>\n",
              "      <th>year</th>\n",
              "      <th>date</th>\n",
              "      <th>description</th>\n",
              "    </tr>\n",
              "  </thead>\n",
              "  <tbody>\n",
              "    <tr>\n",
              "      <th>0</th>\n",
              "      <td>2025</td>\n",
              "      <td>04-03</td>\n",
              "      <td>Elections Systems Administrator, Arapahoe County, Colorado – The Election Systems Administrator performs leadership level administrative, and professional work in carrying out a comprehensive public facing service operation. This position specifically leads and supports all areas of ballot proce...</td>\n",
              "    </tr>\n",
              "    <tr>\n",
              "      <th>1</th>\n",
              "      <td>2025</td>\n",
              "      <td>03-27</td>\n",
              "      <td>Ballot Processing Supervisor, Boulder County, Colorado– The Boulder County Clerk and Recorder’s Office is currently seeking a Ballot Processing Supervisor to join our team. This vital role supports the execution of accurate and compliant elections within Boulder County. The Ballot Processing Sup...</td>\n",
              "    </tr>\n",
              "    <tr>\n",
              "      <th>2</th>\n",
              "      <td>2025</td>\n",
              "      <td>03-27</td>\n",
              "      <td>Deputy Director, Minnesota Secretary of State–The Office of the Minnesota Secretary of State (OSS) is seeking a Deputy Elections Director that supports the Elections Director in providing division-wide strategic and administrative management, along with program and staff management, of all activ...</td>\n",
              "    </tr>\n",
              "    <tr>\n",
              "      <th>3</th>\n",
              "      <td>2025</td>\n",
              "      <td>03-27</td>\n",
              "      <td>Risk &amp; Compliance Manager, Illinois State Board of Elections– Reporting to the Chief Information Security Officer (CISO) the Risk &amp; Compliance Manager is responsible for: Assessing organizational risks, ensuring the agency’s alignment to information security standards, collaborating with agency ...</td>\n",
              "    </tr>\n",
              "    <tr>\n",
              "      <th>4</th>\n",
              "      <td>2025</td>\n",
              "      <td>03-27</td>\n",
              "      <td>Technology &amp; Cybersecurity Project Manager, Boulder County, Colorado– The Boulder County Clerk and Recorders department is seeking to hire a Technology and Cybersecurity Project Manager.  The Boulder County Clerk and Recorder’s Office provides Motor Vehicle, Recording, and Election services for ...</td>\n",
              "    </tr>\n",
              "  </tbody>\n",
              "</table>\n",
              "</div>"
            ],
            "text/plain": [
              "   year   date  \\\n",
              "0  2025  04-03   \n",
              "1  2025  03-27   \n",
              "2  2025  03-27   \n",
              "3  2025  03-27   \n",
              "4  2025  03-27   \n",
              "\n",
              "                                                                                                                                                                                                                                                                                                   description  \n",
              "0  Elections Systems Administrator, Arapahoe County, Colorado – The Election Systems Administrator performs leadership level administrative, and professional work in carrying out a comprehensive public facing service operation. This position specifically leads and supports all areas of ballot proce...  \n",
              "1  Ballot Processing Supervisor, Boulder County, Colorado– The Boulder County Clerk and Recorder’s Office is currently seeking a Ballot Processing Supervisor to join our team. This vital role supports the execution of accurate and compliant elections within Boulder County. The Ballot Processing Sup...  \n",
              "2  Deputy Director, Minnesota Secretary of State–The Office of the Minnesota Secretary of State (OSS) is seeking a Deputy Elections Director that supports the Elections Director in providing division-wide strategic and administrative management, along with program and staff management, of all activ...  \n",
              "3  Risk & Compliance Manager, Illinois State Board of Elections– Reporting to the Chief Information Security Officer (CISO) the Risk & Compliance Manager is responsible for: Assessing organizational risks, ensuring the agency’s alignment to information security standards, collaborating with agency ...  \n",
              "4  Technology & Cybersecurity Project Manager, Boulder County, Colorado– The Boulder County Clerk and Recorders department is seeking to hire a Technology and Cybersecurity Project Manager.  The Boulder County Clerk and Recorder’s Office provides Motor Vehicle, Recording, and Election services for ...  "
            ]
          },
          "execution_count": 9,
          "metadata": {},
          "output_type": "execute_result"
        }
      ],
      "source": [
        "# Load some jobs into a pandas dataframe\n",
        "\n",
        "import pandas as  pd\n",
        "pd.set_option('display.max_colwidth', 300)\n",
        "pd.options.mode.chained_assignment = None\n",
        "\n",
        "\n",
        "# replace with student spreadsheet\n",
        "\n",
        "jobs = pd.read_csv('https://docs.google.com/spreadsheets/d/e/2PACX-1vRWmeWZs5NHptaUiotzWf8Qf9evBzdDToTvkMbn1v0ug5uqu32vPd4BwTU7DsogP9cU7xKov0ku8gYV/pub?output=csv')\n",
        "jobs = jobs[['year', 'date', 'description']]\n",
        "jobs.head(5)\n"
      ]
    },
    {
      "cell_type": "code",
      "execution_count": null,
      "metadata": {},
      "outputs": [
        {
          "data": {
            "text/plain": [
              "'Elections Systems Administrator, Arapahoe County, Colorado – The Election Systems Administrator performs leadership level administrative, and professional work in carrying out a comprehensive public facing service operation. This position specifically leads and supports all areas of ballot processing, ballot auditing and election technology maintenance. Salary: $64,293.06 – $96,439.98 Annually. Deadline: April 16. Application: For the complete job listing and to apply, click here.\\xa0'"
            ]
          },
          "execution_count": 2,
          "metadata": {},
          "output_type": "execute_result"
        }
      ],
      "source": [
        "# let's try to extract information from the job description\n",
        "jobs.loc[0, 'description']"
      ]
    },
    {
      "cell_type": "code",
      "execution_count": null,
      "metadata": {},
      "outputs": [
        {
          "data": {
            "text/plain": [
              "'Elections Systems Administrator, Arapahoe County, Colorado '"
            ]
          },
          "execution_count": 3,
          "metadata": {},
          "output_type": "execute_result"
        }
      ],
      "source": [
        "# let's get the salary.\n",
        "# let's get the location\n",
        "# let's get whether it's a nonprofit or a government position\n",
        "\n",
        "\n",
        "def get_title(job_description):\n",
        "    return job_description.split('–')[0]\n",
        "\n",
        "def get_salary(job_description):\n",
        "    return job_description.split('Salary: ')[1]\n",
        "\n",
        "get_title(jobs.loc[0, 'description'])\n",
        "# get_salary(jobs.loc[0, 'description'])\n",
        "\n",
        "# this isn't gonna work!"
      ]
    },
    {
      "cell_type": "code",
      "execution_count": 4,
      "metadata": {},
      "outputs": [
        {
          "data": {
            "text/plain": [
              "44.91"
            ]
          },
          "execution_count": 4,
          "metadata": {},
          "output_type": "execute_result"
        }
      ],
      "source": [
        "# Weather API\n",
        "\n",
        "from pyowm import OWM\n",
        "from pyowm.utils import config\n",
        "from pyowm.utils import timestamps\n",
        "\n",
        "# ---------- FREE API KEY examples ---------------------\n",
        "\n",
        "owm = OWM('c721ef57a321d8ae12fdaa16de2870d8')\n",
        "mgr = owm.weather_manager()\n",
        "\n",
        "\n",
        "# Search for current weather in London (Great Britain) and get details\n",
        "observation = mgr.weather_at_place('Washington,DC,USA')\n",
        "w = observation.weather\n",
        "\n",
        "w.detailed_status         # 'clouds'\n",
        "w.wind()                  # {'speed': 4.6, 'deg': 330}\n",
        "w.humidity                # 87\n",
        "w.temperature('celsius')  # {'temp_max': 10.5, 'temp': 9.7, 'temp_min': 9.0}\n",
        "w.rain                    # {}\n",
        "w.heat_index              # None\n",
        "w.clouds                  # 75\n",
        "\n",
        "w.temperature('fahrenheit')['temp']"
      ]
    },
    {
      "cell_type": "code",
      "execution_count": 6,
      "metadata": {},
      "outputs": [
        {
          "data": {
            "text/plain": [
              "{'title': 'A Comprehensive Study on Quantum Computing Paradigms',\n",
              " 'authors': ['Dr. Jane Smith', 'Dr. Alan Turing', 'Prof. Maria Curie'],\n",
              " 'abstract': 'This paper explores various paradigms of quantum computing, including quantum bits and entanglement. The study evaluates the potential impact on encryption, data processing, and computational efficiency. A comparative analysis with classical computing models highlights the unique advantages and limitations of quantum approaches.',\n",
              " 'keywords': ['Quantum Computing',\n",
              "  'Entanglement',\n",
              "  'Quantum Bits',\n",
              "  'Computational Efficiency',\n",
              "  'Encryption']}"
            ]
          },
          "execution_count": 6,
          "metadata": {},
          "output_type": "execute_result"
        }
      ],
      "source": [
        "import json\n",
        "from openai import OpenAI\n",
        "\n",
        "client = OpenAI()\n",
        "\n",
        "response = client.responses.create(\n",
        "    model=\"gpt-4o-2024-08-06\",\n",
        "    input=[\n",
        "        {\"role\": \"system\", \"content\": \"You are an expert at structured data extraction. You will be given unstructured text from a research paper and should convert it into the given structure.\"},\n",
        "        {\"role\": \"user\", \"content\": \"...\"}\n",
        "    ],\n",
        "    text={\n",
        "        \"format\": {\n",
        "              \"type\": \"json_schema\",\n",
        "              \"name\": \"research_paper_extraction\",\n",
        "              \"schema\": {\n",
        "                \"type\": \"object\",\n",
        "                \"properties\": {\n",
        "                    \"title\": { \"type\": \"string\" },\n",
        "                    \"authors\": { \n",
        "                        \"type\": \"array\",\n",
        "                        \"items\": { \"type\": \"string\" }\n",
        "                    },\n",
        "                    \"abstract\": { \"type\": \"string\" },\n",
        "                    \"keywords\": { \n",
        "                        \"type\": \"array\", \n",
        "                        \"items\": { \"type\": \"string\" }\n",
        "                    }\n",
        "                },\n",
        "                \"required\": [\"title\", \"authors\", \"abstract\", \"keywords\"],\n",
        "                \"additionalProperties\": False\n",
        "            },\n",
        "            \"strict\": True\n",
        "        },\n",
        "    },\n",
        ")\n",
        "\n",
        "research_paper = json.loads(response.output_text)\n",
        "research_paper"
      ]
    },
    {
      "cell_type": "code",
      "execution_count": 11,
      "metadata": {},
      "outputs": [
        {
          "data": {
            "text/plain": [
              "'Ballot Processing Supervisor, Boulder County, Colorado– The Boulder County Clerk and Recorder’s Office is currently seeking a Ballot Processing Supervisor to join our team. This vital role supports the execution of accurate and compliant elections within Boulder County. The Ballot Processing Supervisor is accountable for the execution of ballot processing, temporary staff scheduling and training, and public data requests for Boulder County. This position reports to the Ballot Processing Manager and works with members of the full-time elections staff as well as temporary election judges during an election. The position must comply with state laws and Secretary of State rules. This position is key to our ability to implement successful and trusted elections. The Ballot Processing Supervisor is accountable for driving bipartisanship oversight of election processes through implementing organized, efficient, and accurate elections with a well-trained temporary staff of judges and workers. Through our elections, we aim to build trust with the public and be compliant with state requirements. This position will work closely with other election team members to manage aspects of the overall process for mail-in ballots from ballot separation through tabulation and election judge training requirements. The position is also responsible for the accurate and efficient administration of the statewide voter database (SCORE) and timely responses to public data requests. The ideal candidate will be focused on executing their responsibilities in a compliant, organized, and efficient manner. They will be committed to working well with other team members to ensure a successful election. Salary: $51,408 – $74,124 Annually. Deadline: March 31. Application: For the complete job listing and to apply, click here.\\xa0'"
            ]
          },
          "execution_count": 11,
          "metadata": {},
          "output_type": "execute_result"
        }
      ],
      "source": [
        "# sample description string\n",
        "description = jobs.loc[1, 'description']\n",
        "description"
      ]
    },
    {
      "cell_type": "code",
      "execution_count": 12,
      "metadata": {},
      "outputs": [
        {
          "name": "stdout",
          "output_type": "stream",
          "text": [
            "{'job_title': 'Ballot Processing Supervisor', 'job_location': 'Boulder County, Colorado', 'employer': 'Boulder County Clerk and Recorder’s Office', 'salary_low_end': '51408', 'responsible_for_administering_elections': True, 'nonprofit_or_government': 'government'}\n"
          ]
        }
      ],
      "source": [
        "# modify schema to include the fields we want to extract\n",
        "\n",
        "import json\n",
        "from openai import OpenAI\n",
        "\n",
        "client = OpenAI()\n",
        "\n",
        "response = client.responses.create(\n",
        "    model=\"gpt-4o-2024-08-06\",\n",
        "    input=[\n",
        "        {\"role\": \"system\", \"content\": \"You are an expert at structured data extraction. You will be given a job description and should convert it into the given structure.\"},\n",
        "        {\"role\": \"user\", \"content\": description}\n",
        "    ],\n",
        "    text={\n",
        "        \"format\": {\n",
        "              \"type\": \"json_schema\",\n",
        "              \"name\": \"job_title_extraction\",\n",
        "              \"schema\": {\n",
        "                \"type\": \"object\",\n",
        "                \"properties\": {\n",
        "                    \"job_title\": { \"type\": \"string\" },\n",
        "                    \"job_location\": { \"type\": \"string\" },\n",
        "                    \"employer\": { \"type\": \"string\" },\n",
        "                    \"salary_low_end\": { \"type\": \"string\" },\n",
        "                    \"responsible_for_administering_elections\": { \"type\": \"boolean\" },\n",
        "                    \"nonprofit_or_government\": { \"type\": \"string\" }\n",
        "                },\n",
        "                \"required\": [\"job_title\", \"employer\"],\n",
        "                \"additionalProperties\": False\n",
        "            },\n",
        "            \"strict\": False\n",
        "        },\n",
        "    },\n",
        ")\n",
        "\n",
        "job = json.loads(response.output_text)\n",
        "print(job)"
      ]
    },
    {
      "cell_type": "code",
      "execution_count": 13,
      "metadata": {},
      "outputs": [],
      "source": [
        "# modify schema to include the fields we want to extract\n",
        "\n",
        "import json\n",
        "from openai import OpenAI\n",
        "\n",
        "\n",
        "def parse_job_description(job_description: str):\n",
        "\n",
        "    client = OpenAI()\n",
        "\n",
        "    response = client.responses.create(\n",
        "        model=\"gpt-4o-2024-08-06\",\n",
        "        input=[\n",
        "            {\"role\": \"system\", \"content\": \"You are an expert at structured data extraction. You will be given a job description and should convert it into the given structure.\"},\n",
        "            {\"role\": \"user\", \"content\": description}\n",
        "        ],\n",
        "        text={\n",
        "            \"format\": {\n",
        "                \"type\": \"json_schema\",\n",
        "                \"name\": \"job_title_extraction\",\n",
        "                \"schema\": {\n",
        "                    \"type\": \"object\",\n",
        "                    \"properties\": {\n",
        "                        \"job_title\": { \"type\": \"string\" },\n",
        "                        \"job_location\": { \"type\": \"string\" },\n",
        "                        \"employer\": { \"type\": \"string\" },\n",
        "                        \"salary_low_end\": { \"type\": \"string\" },\n",
        "                        \"responsible_for_administering_elections\": { \"type\": \"boolean\" },\n",
        "                        \"nonprofit_or_government\": { \"type\": \"string\" }\n",
        "                    },\n",
        "                    \"required\": [\"job_title\", \"job_location\", \"employer\",\n",
        "                                 \"salary_low_end\", \"responsible_for_administering_elections\",\n",
        "                                 \"nonprofit_or_government\"],\n",
        "                    \"additionalProperties\": False\n",
        "                },\n",
        "                \"strict\": True\n",
        "            },\n",
        "        },\n",
        "    )\n",
        "\n",
        "    return json.loads(response.output_text)\n",
        "job = parse_job_description(description)"
      ]
    },
    {
      "cell_type": "code",
      "execution_count": 14,
      "metadata": {},
      "outputs": [],
      "source": [
        "shortened = jobs.head(3)\n",
        "\n",
        "# loop through df, parsing each job description in the 'description' column, and adding the parsed data to new columns\n",
        "\n",
        "for i, row in shortened.iterrows():\n",
        "    description = row['description']\n",
        "    # print(i, description)\n",
        "    \n",
        "    parsed = parse_job_description(description)\n",
        "    \n",
        "    shortened.loc[i, 'job_title'] = parsed['job_title']\n",
        "    shortened.loc[i, 'job_location'] = parsed['job_location']\n",
        "    shortened.loc[i, 'employer'] = parsed['employer']\n",
        "    shortened.loc[i, 'salary_low_end'] = parsed['salary_low_end']\n",
        "    shortened.loc[i, 'responsible_for_administering_elections'] = parsed['responsible_for_administering_elections']\n",
        "    shortened.loc[i, 'nonprofit_or_government'] = parsed['nonprofit_or_government']\n",
        "\n",
        "    "
      ]
    },
    {
      "cell_type": "code",
      "execution_count": 60,
      "metadata": {
        "id": "9D0LTnhExDLL"
      },
      "outputs": [
        {
          "data": {
            "text/html": [
              "<div>\n",
              "<style scoped>\n",
              "    .dataframe tbody tr th:only-of-type {\n",
              "        vertical-align: middle;\n",
              "    }\n",
              "\n",
              "    .dataframe tbody tr th {\n",
              "        vertical-align: top;\n",
              "    }\n",
              "\n",
              "    .dataframe thead th {\n",
              "        text-align: right;\n",
              "    }\n",
              "</style>\n",
              "<table border=\"1\" class=\"dataframe\">\n",
              "  <thead>\n",
              "    <tr style=\"text-align: right;\">\n",
              "      <th></th>\n",
              "      <th>year</th>\n",
              "      <th>date</th>\n",
              "      <th>description</th>\n",
              "      <th>job_title</th>\n",
              "      <th>job_location</th>\n",
              "      <th>employer</th>\n",
              "      <th>salary_low_end</th>\n",
              "      <th>responsible_for_administering_elections</th>\n",
              "      <th>nonprofit_or_government</th>\n",
              "    </tr>\n",
              "  </thead>\n",
              "  <tbody>\n",
              "    <tr>\n",
              "      <th>0</th>\n",
              "      <td>2025</td>\n",
              "      <td>04-03</td>\n",
              "      <td>Elections Systems Administrator, Arapahoe County, Colorado – The Election Systems Administrator performs leadership level administrative, and professional work in carrying out a comprehensive public facing service operation. This position specifically leads and supports all areas of ballot proce...</td>\n",
              "      <td>Elections Systems Administrator</td>\n",
              "      <td>Arapahoe County, Colorado</td>\n",
              "      <td>Arapahoe County</td>\n",
              "      <td>$64,293.06</td>\n",
              "      <td>True</td>\n",
              "      <td>government</td>\n",
              "    </tr>\n",
              "    <tr>\n",
              "      <th>1</th>\n",
              "      <td>2025</td>\n",
              "      <td>03-27</td>\n",
              "      <td>Ballot Processing Supervisor, Boulder County, Colorado– The Boulder County Clerk and Recorder’s Office is currently seeking a Ballot Processing Supervisor to join our team. This vital role supports the execution of accurate and compliant elections within Boulder County. The Ballot Processing Sup...</td>\n",
              "      <td>Ballot Processing Supervisor</td>\n",
              "      <td>Boulder County, Colorado</td>\n",
              "      <td>Boulder County Clerk and Recorder’s Office</td>\n",
              "      <td>$51,408</td>\n",
              "      <td>True</td>\n",
              "      <td>Government</td>\n",
              "    </tr>\n",
              "    <tr>\n",
              "      <th>2</th>\n",
              "      <td>2025</td>\n",
              "      <td>03-27</td>\n",
              "      <td>Deputy Director, Minnesota Secretary of State–The Office of the Minnesota Secretary of State (OSS) is seeking a Deputy Elections Director that supports the Elections Director in providing division-wide strategic and administrative management, along with program and staff management, of all activ...</td>\n",
              "      <td>Deputy Elections Director</td>\n",
              "      <td>Minnesota</td>\n",
              "      <td>Office of the Minnesota Secretary of State</td>\n",
              "      <td>$78,508 annually ($37.60 hourly)</td>\n",
              "      <td>True</td>\n",
              "      <td>Government</td>\n",
              "    </tr>\n",
              "  </tbody>\n",
              "</table>\n",
              "</div>"
            ],
            "text/plain": [
              "   year   date  \\\n",
              "0  2025  04-03   \n",
              "1  2025  03-27   \n",
              "2  2025  03-27   \n",
              "\n",
              "                                                                                                                                                                                                                                                                                                   description  \\\n",
              "0  Elections Systems Administrator, Arapahoe County, Colorado – The Election Systems Administrator performs leadership level administrative, and professional work in carrying out a comprehensive public facing service operation. This position specifically leads and supports all areas of ballot proce...   \n",
              "1  Ballot Processing Supervisor, Boulder County, Colorado– The Boulder County Clerk and Recorder’s Office is currently seeking a Ballot Processing Supervisor to join our team. This vital role supports the execution of accurate and compliant elections within Boulder County. The Ballot Processing Sup...   \n",
              "2  Deputy Director, Minnesota Secretary of State–The Office of the Minnesota Secretary of State (OSS) is seeking a Deputy Elections Director that supports the Elections Director in providing division-wide strategic and administrative management, along with program and staff management, of all activ...   \n",
              "\n",
              "                         job_title               job_location  \\\n",
              "0  Elections Systems Administrator  Arapahoe County, Colorado   \n",
              "1     Ballot Processing Supervisor   Boulder County, Colorado   \n",
              "2        Deputy Elections Director                  Minnesota   \n",
              "\n",
              "                                     employer  \\\n",
              "0                             Arapahoe County   \n",
              "1  Boulder County Clerk and Recorder’s Office   \n",
              "2  Office of the Minnesota Secretary of State   \n",
              "\n",
              "                     salary_low_end responsible_for_administering_elections  \\\n",
              "0                        $64,293.06                                    True   \n",
              "1                           $51,408                                    True   \n",
              "2  $78,508 annually ($37.60 hourly)                                    True   \n",
              "\n",
              "  nonprofit_or_government  \n",
              "0              government  \n",
              "1              Government  \n",
              "2              Government  "
            ]
          },
          "execution_count": 60,
          "metadata": {},
          "output_type": "execute_result"
        }
      ],
      "source": [
        "shortened = jobs.head(3)\n",
        "\n",
        "# loop through df, parsing each job description in the 'description' column, and adding the parsed data to new columns\n",
        "\n",
        "\n",
        "for i, row in shortened.iterrows():\n",
        "    description = row['description']\n",
        "    # print(i, description)\n",
        "    \n",
        "    parsed = parse_job_description(description)\n",
        "\n",
        "    for field in parsed:\n",
        "        shortened.loc[i, field] = parsed[field]\n",
        "    \n",
        "    # shortened.loc[i, 'job_title'] = parsed.job_title\n",
        "    # shortened.loc[i, 'job_location'] = parsed.job_location\n",
        "    # shortened.loc[i, 'employer'] = parsed.employer\n",
        "    # shortened.loc[i, 'salary_low_end'] = parsed.salary_low_end\n",
        "    # shortened.loc[i, 'responsible_for_administering_elections'] = parsed.responsible_for_administering_elections\n",
        "    # shortened.loc[i, 'nonprofit_or_government'] = parsed.nonprofit_or_government\n",
        "\n",
        "shortened"
      ]
    }
  ],
  "metadata": {
    "colab": {
      "provenance": []
    },
    "kernelspec": {
      "display_name": ".venv",
      "language": "python",
      "name": "python3"
    },
    "language_info": {
      "codemirror_mode": {
        "name": "ipython",
        "version": 3
      },
      "file_extension": ".py",
      "mimetype": "text/x-python",
      "name": "python",
      "nbconvert_exporter": "python",
      "pygments_lexer": "ipython3",
      "version": "3.11.6"
    }
  },
  "nbformat": 4,
  "nbformat_minor": 0
}
