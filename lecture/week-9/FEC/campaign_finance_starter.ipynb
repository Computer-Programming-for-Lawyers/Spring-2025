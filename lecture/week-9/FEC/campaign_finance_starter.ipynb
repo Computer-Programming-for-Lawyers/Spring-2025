{
 "cells": [
  {
   "cell_type": "markdown",
   "id": "9632cbf1",
   "metadata": {},
   "source": [
    "# In-Class Activity: Working with the FEC API\n",
    "\n",
    "This notebook provides starter code for exploring federal campaign finance data using the \n",
    "[Federal Election Commission (FEC) API](https://api.open.fec.gov/developers/#/). Your goal is to analyze and visualize real-world \n",
    "contribution data for candidates running in the 2024 presidential election.\n",
    "\n",
    "### Getting started\n",
    "- You will need to register for a free FEC API key: https://api.open.fec.gov/developers/\n",
    "- Once you have your key, paste it into the API_KEY variable below.\n",
    "\n",
    "### Understanding the API\n",
    "- Get a list of 2024 presidential candidates\n",
    "- Get a list of 2024 fundraising committees\n",
    "\n",
    "### Suggested prompts (pick one, or create your own)\n",
    "\n",
    "\n",
    "You are also welcome to explore your own research question using the API!"
   ]
  },
  {
   "cell_type": "markdown",
   "id": "18d65669",
   "metadata": {},
   "source": [
    "# Starter Code"
   ]
  },
  {
   "cell_type": "code",
   "execution_count": null,
   "id": "69dae050",
   "metadata": {},
   "outputs": [
    {
     "name": "stderr",
     "output_type": "stream",
     "text": [
      "/Users/rachelorey/Library/Python/3.9/lib/python/site-packages/urllib3/__init__.py:35: NotOpenSSLWarning: urllib3 v2 only supports OpenSSL 1.1.1+, currently the 'ssl' module is compiled with 'LibreSSL 2.8.3'. See: https://github.com/urllib3/urllib3/issues/3020\n",
      "  warnings.warn(\n"
     ]
    }
   ],
   "source": [
    "# load libraries\n",
    "import requests\n",
    "import pandas as pd\n",
    "\n",
    "# set API key\n",
    "API_KEY = 'your_api_key_here' # go here to get free key: https://api.open.fec.gov/developers/"
   ]
  },
  {
   "cell_type": "markdown",
   "id": "685805de",
   "metadata": {},
   "source": [
    "## Start by getting a list of all 2024 presidential candidates and their candidate IDs"
   ]
  },
  {
   "cell_type": "code",
   "execution_count": null,
   "id": "6f0d9825",
   "metadata": {},
   "outputs": [],
   "source": []
  },
  {
   "cell_type": "markdown",
   "id": "3f82c394",
   "metadata": {},
   "source": [
    "## Then get a list of all 2024 presidential fundraising committees"
   ]
  },
  {
   "cell_type": "code",
   "execution_count": null,
   "id": "d4376094",
   "metadata": {},
   "outputs": [],
   "source": []
  },
  {
   "cell_type": "markdown",
   "id": "f3a18ae9",
   "metadata": {},
   "source": [
    "If that doesn't work, here are the top-level candidate and committee IDs:"
   ]
  },
  {
   "cell_type": "code",
   "execution_count": null,
   "id": "2b096d0a",
   "metadata": {},
   "outputs": [],
   "source": [
    "# CANDIDATE IDs\n",
    "# found by filtering `pres_2024` by name of candidate\n",
    "\n",
    "HARRIS_ID = \"P00009423\"\n",
    "BIDEN_ID = \"P80000722\"\n",
    "TRUMP_ID = \"P80001571\"\n",
    "\n",
    "# COMMITTEE IDs\n",
    "# found by looking on FEC website for relevant committee name and then filtering committees_index\n",
    "\n",
    "committee_ids = {\"Harris\":\"C00703975\", # HARRIS FOR PRESIDENT\n",
    "                 \"Trump\":\"C00828541\"}  # never surrender committee ID for trump"
   ]
  },
  {
   "cell_type": "markdown",
   "id": "bcb365e1",
   "metadata": {},
   "source": [
    "# Sample prompts:\n",
    "* Use the `schedule_a/by_state/by_candidate/` endpoint to get a quick map of total contributions by state.  \n",
    "* Filter schedule_a contributions to only include individuals by adding is_individual=true, then try to figure out what proportion of contributions are from individuals.\n",
    "* Find the top 50 contributors by employer using `contributor_employer` for a committee.\n",
    "* Sort contributions by amount using `sort=-contribution_receipt_amount` to see the largest individual donations.  "
   ]
  },
  {
   "cell_type": "code",
   "execution_count": null,
   "id": "f31e14a7",
   "metadata": {},
   "outputs": [],
   "source": []
  },
  {
   "cell_type": "markdown",
   "id": "568abf08",
   "metadata": {},
   "source": [
    "# Alternative: Data Analysis\n",
    "If you'd rather focus on working with pandas and doing data analysis, load the 'harris_contributions_nov.csv' file to analyze 170,300 contributions to Harris' committee from November 2024.\n",
    "\n",
    "## Sample Prompts:\n",
    "* Visualize the spread in contribution amounts (ie, histogram)\n",
    "* Chart when most contributions were made\n",
    "* Explore what proporition of contributions were from individuals vs PAC"
   ]
  }
 ],
 "metadata": {
  "kernelspec": {
   "display_name": "Python 3",
   "language": "python",
   "name": "python3"
  },
  "language_info": {
   "codemirror_mode": {
    "name": "ipython",
    "version": 3
   },
   "file_extension": ".py",
   "mimetype": "text/x-python",
   "name": "python",
   "nbconvert_exporter": "python",
   "pygments_lexer": "ipython3",
   "version": "3.9.6"
  }
 },
 "nbformat": 4,
 "nbformat_minor": 5
}
